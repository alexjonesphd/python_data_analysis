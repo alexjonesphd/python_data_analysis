{
 "cells": [
  {
   "cell_type": "markdown",
   "metadata": {
    "slideshow": {
     "slide_type": "slide"
    }
   },
   "source": [
    "# Data Handling with Python\n",
    "## The `NumPy` module"
   ]
  },
  {
   "cell_type": "markdown",
   "metadata": {
    "slideshow": {
     "slide_type": "subslide"
    }
   },
   "source": [
    "### `import`\n",
    "It's time to crunch some data. Before that, we need to access some new modules. Last week, we used exclusively functions and data types in what's known as 'base' Python - the bare bones installation.\n",
    "\n",
    "But there are thousands of extra functions and data types out there to help with specific tasks, just like data handling. In order to actually *use* them, we need to use `import`, a special command that activates the modules and allows you to access them. `NumPy` and `Pandas` are examples of modules that need to be imported.\n",
    "\n"
   ]
  },
  {
   "cell_type": "markdown",
   "metadata": {
    "slideshow": {
     "slide_type": "subslide"
    }
   },
   "source": [
    "### How `import` works\n",
    "When you import a module, you have access to all of its functions, data types, and submodules (collections of related functions). However, they all live under the import *alias* - a name that Python recognises the module as. You place all of your `import` statements at the top of your code or notebook. **Once imported, the functions will be available until the end of the session**. Importing NumPy works like this:"
   ]
  },
  {
   "cell_type": "code",
   "execution_count": 1,
   "metadata": {
    "slideshow": {
     "slide_type": "fragment"
    }
   },
   "outputs": [],
   "source": [
    "# Import NumPy!\n",
    "import numpy"
   ]
  },
  {
   "cell_type": "code",
   "execution_count": 2,
   "metadata": {
    "slideshow": {
     "slide_type": "fragment"
    }
   },
   "outputs": [
    {
     "name": "stdout",
     "output_type": "stream",
     "text": [
      "6.324555320336759\n"
     ]
    }
   ],
   "source": [
    "# Using the 'sqrt' function in NumPy\n",
    "square_root = numpy.sqrt(40)\n",
    "print(square_root)"
   ]
  },
  {
   "cell_type": "markdown",
   "metadata": {
    "slideshow": {
     "slide_type": "subslide"
    }
   },
   "source": [
    "### `import` alias - importing something `as`\n",
    "You can see one issue with this. Everytime you import a module like `NumPy`, to use its functions, you have to type `numpy.function_name`, which can be a hassle. Thankfully, Python has the ability to assign modules to a name of your choosing, using the `as` keyword. This can be anything, but conventions indicate `NumPy` should be imported as `np` - its *alias*. "
   ]
  },
  {
   "cell_type": "code",
   "execution_count": 3,
   "metadata": {
    "slideshow": {
     "slide_type": "fragment"
    }
   },
   "outputs": [
    {
     "name": "stdout",
     "output_type": "stream",
     "text": [
      "6.324555320336759\n"
     ]
    }
   ],
   "source": [
    "# Import NumPy with its conventional alias, and use it to calculate a square root\n",
    "import numpy as np\n",
    "print(np.sqrt(40))"
   ]
  },
  {
   "cell_type": "markdown",
   "metadata": {
    "slideshow": {
     "slide_type": "subslide"
    }
   },
   "source": [
    "### Selective imports\n",
    "Some modules are massive, and you don't need all the functions they offer. Python is flexible enough to let you take one or several functions to use from a module, without requiring the alias, using the `from` keyword."
   ]
  },
  {
   "cell_type": "code",
   "execution_count": 4,
   "metadata": {
    "slideshow": {
     "slide_type": "fragment"
    }
   },
   "outputs": [
    {
     "name": "stdout",
     "output_type": "stream",
     "text": [
      "10.0\n"
     ]
    }
   ],
   "source": [
    "# Import sqrt and square functions from NumPy\n",
    "from numpy import sqrt, square\n",
    "\n",
    "value = 10\n",
    "print(sqrt(square(value)))"
   ]
  },
  {
   "cell_type": "markdown",
   "metadata": {
    "slideshow": {
     "slide_type": "fragment"
    }
   },
   "source": [
    "You can even selectively import a function and give it a different name! Be careful with this - down this road lies madness..."
   ]
  },
  {
   "cell_type": "code",
   "execution_count": 5,
   "metadata": {
    "slideshow": {
     "slide_type": "fragment"
    }
   },
   "outputs": [
    {
     "name": "stdout",
     "output_type": "stream",
     "text": [
      "100\n"
     ]
    }
   ],
   "source": [
    "# Demonstrate selective import and aliasing\n",
    "from numpy import square as SQUAREEEE\n",
    "print(SQUAREEEE(value))"
   ]
  },
  {
   "cell_type": "markdown",
   "metadata": {
    "slideshow": {
     "slide_type": "slide"
    }
   },
   "source": [
    "# Data Handling with Python\n",
    "## The NumPy module\n",
    "While dictionaries and lists will get you places, they are not built for real data manipulation. NumPy's main feature is a special data type, called the `array`. This is a data collection built for holding data of a **single data type** (e.g. integers, floats) in multiple dimensions, and is capable of performing mathematical operations on them quickly and efficiently."
   ]
  },
  {
   "cell_type": "markdown",
   "metadata": {
    "slideshow": {
     "slide_type": "subslide"
    }
   },
   "source": [
    "### `np.array`\n",
    "To make a NumPy array, we need to pass a list of numbers to the `np.array` function - that is, the `array` function accessed in the NumPy module."
   ]
  },
  {
   "cell_type": "code",
   "execution_count": 6,
   "metadata": {
    "slideshow": {
     "slide_type": "fragment"
    }
   },
   "outputs": [
    {
     "name": "stdout",
     "output_type": "stream",
     "text": [
      "[ 3  4  8  9 10]\n",
      "<class 'numpy.ndarray'>\n"
     ]
    }
   ],
   "source": [
    "# Import\n",
    "import numpy as np\n",
    "\n",
    "# Make a small array\n",
    "arr = np.array([3, 4, 8, 9, 10])\n",
    "\n",
    "print(arr)\n",
    "print(type(arr))"
   ]
  },
  {
   "cell_type": "code",
   "execution_count": 7,
   "metadata": {
    "slideshow": {
     "slide_type": "skip"
    }
   },
   "outputs": [],
   "source": [
    "np.random.seed(42)"
   ]
  },
  {
   "cell_type": "markdown",
   "metadata": {
    "slideshow": {
     "slide_type": "subslide"
    }
   },
   "source": [
    "### Mathematical operations with NumPy\n",
    "With lists, if we wanted to multiply each element, we'd need a for loop, and a way to make sure the data was actually a number of some kind. Carrying out operations on a NumPy array is very simple - each element will be changed simply by carrying out some kind of operation. If you have two arrays with the same dimensions, each element is operated on by the corresponding position in the other array."
   ]
  },
  {
   "cell_type": "code",
   "execution_count": 8,
   "metadata": {
    "slideshow": {
     "slide_type": "fragment"
    }
   },
   "outputs": [
    {
     "name": "stdout",
     "output_type": "stream",
     "text": [
      "[ 3  4  8  9 10] [ 8  9 13 14 15] [ 9 12 24 27 30]\n"
     ]
    }
   ],
   "source": [
    "# Maths with NumPy #\n",
    "# Add 5 to each element\n",
    "arr_add5 = 5 + arr\n",
    "\n",
    "# Multiply by 3\n",
    "arr_times3 = 3 * arr\n",
    "\n",
    "print(arr, arr_add5, arr_times3)"
   ]
  },
  {
   "cell_type": "code",
   "execution_count": 9,
   "metadata": {
    "slideshow": {
     "slide_type": "fragment"
    }
   },
   "outputs": [
    {
     "name": "stdout",
     "output_type": "stream",
     "text": [
      "[ 2  6 11]\n"
     ]
    }
   ],
   "source": [
    "# It's even possible to do operations with two arrays of the same size - more on this later\n",
    "arr1 = np.array([1, 5, 10])\n",
    "arr2 = np.array([1, 1, 1])\n",
    "\n",
    "added = arr1 + arr2\n",
    "print(added)"
   ]
  },
  {
   "cell_type": "markdown",
   "metadata": {
    "slideshow": {
     "slide_type": "subslide"
    }
   },
   "source": [
    "### Array dimensions - 1D\n",
    "In NumPy, each array has an associated 'shape', which indicates its dimensions - that is, does the array live in 1, 2, or 3 dimensions? NumPy can store data in multidimensional arrays beyond what we can imagine. The power of all data handling comes from understanding these multidimensional arrays. You can find the shape of an array with the `.shape` attribute (like a method, but not a function - just returns some useful information)."
   ]
  },
  {
   "cell_type": "code",
   "execution_count": 10,
   "metadata": {
    "slideshow": {
     "slide_type": "fragment"
    }
   },
   "outputs": [
    {
     "name": "stdout",
     "output_type": "stream",
     "text": [
      "(5,)\n"
     ]
    }
   ],
   "source": [
    "# Arrays in 1 dimension\n",
    "arr_1d = np.array([1, 2, 3, 4, 5])\n",
    "\n",
    "# Print shape\n",
    "print(arr_1d.shape)"
   ]
  },
  {
   "cell_type": "markdown",
   "metadata": {
    "slideshow": {
     "slide_type": "fragment"
    }
   },
   "source": [
    "So the above array has a single number in its `shape` - and that's how you know it's only 1-dimensional. It has 5 elements in dimension **zero**. In this case, it looks a lot like a list. "
   ]
  },
  {
   "cell_type": "markdown",
   "metadata": {
    "slideshow": {
     "slide_type": "subslide"
    }
   },
   "source": [
    "### Array dimensions - 2D\n",
    "Think back to data you have analysed in something like SPSS and Excel. This data had a *two dimensional* structure - not a single row or column of data, but a set of them. Most data in psychology is stored as 2D arrays in some way, so understanding the 2D array is the building block of most data operations.\n",
    "\n",
    "2D arrays are essentially a series of 1D arrays stacked on top of each other - each 'row' must contain the same number of elements. So:"
   ]
  },
  {
   "cell_type": "code",
   "execution_count": 11,
   "metadata": {
    "slideshow": {
     "slide_type": "fragment"
    }
   },
   "outputs": [
    {
     "name": "stdout",
     "output_type": "stream",
     "text": [
      "[[1 2 3]\n",
      " [4 5 6]]\n",
      "(2, 3)\n"
     ]
    }
   ],
   "source": [
    "# Define a 2D array like this\n",
    "arr_2d = np.array([[1, 2, 3], [4, 5, 6]])\n",
    "\n",
    "print(arr_2d)\n",
    "print(arr_2d.shape)"
   ]
  },
  {
   "cell_type": "markdown",
   "metadata": {
    "slideshow": {
     "slide_type": "subslide"
    }
   },
   "source": [
    "Now, `.shape` has two numbers - two dimensions. Dimension zero has two elements - two rows, and dimension one has three elements - three columns. This row, column format is the key to understanding these data structures.\n",
    "\n",
    "We'll be sticking mostly to 2D arrays for the remainder of the course, but explore 3D and above arrays using NumPy. For example, photographs are seen by Python has a 3D array - the height is the number of rows, the width is the number of columns, and the 'depth' represents the colour channels."
   ]
  },
  {
   "cell_type": "markdown",
   "metadata": {
    "slideshow": {
     "slide_type": "subslide"
    }
   },
   "source": [
    "### Slicing and dicing NumPy arrays\n",
    "When you have data in an array, you will want to access it. You can access data in an array using a similar approach to lists, with a separate entry for each dimension."
   ]
  },
  {
   "cell_type": "code",
   "execution_count": 12,
   "metadata": {
    "slideshow": {
     "slide_type": "fragment"
    }
   },
   "outputs": [
    {
     "name": "stdout",
     "output_type": "stream",
     "text": [
      "[2 4]\n"
     ]
    }
   ],
   "source": [
    "# 1D array slicing example is easy\n",
    "arr_1d = np.array([1, 2, 3, 4, 5, 6])\n",
    "\n",
    "print(arr_1d[1:5:2])"
   ]
  },
  {
   "cell_type": "code",
   "execution_count": 13,
   "metadata": {
    "slideshow": {
     "slide_type": "fragment"
    }
   },
   "outputs": [
    {
     "name": "stdout",
     "output_type": "stream",
     "text": [
      "[[10 11 12 13]\n",
      " [14 15 16 17]\n",
      " [18 19 20 21]]\n",
      "\n",
      " 11\n"
     ]
    }
   ],
   "source": [
    "# 2D slicing examples\n",
    "arr_2d = np.array([[10, 11, 12, 13], [14, 15, 16, 17], [18, 19, 20, 21]])\n",
    "\n",
    "# Get the first element of the rows, and the second element of the columns - by passing those indices\n",
    "print(arr_2d)\n",
    "print('\\n', arr_2d[0, 1])"
   ]
  },
  {
   "cell_type": "code",
   "execution_count": 14,
   "metadata": {
    "slideshow": {
     "slide_type": "subslide"
    }
   },
   "outputs": [
    {
     "name": "stdout",
     "output_type": "stream",
     "text": [
      "[18 19 20 21] [12 16 20]\n",
      "(4,) (3,)\n"
     ]
    }
   ],
   "source": [
    "# 2D slicing examples\n",
    "# How to remove a whole row? Or a whole column?\n",
    "one_row = arr_2d[-1, :]\n",
    "one_col = arr_2d[:, 2]\n",
    "\n",
    "print(one_row, one_col)\n",
    "print(one_row.shape, one_col.shape)"
   ]
  },
  {
   "cell_type": "code",
   "execution_count": 15,
   "metadata": {
    "slideshow": {
     "slide_type": "fragment"
    }
   },
   "outputs": [
    {
     "name": "stdout",
     "output_type": "stream",
     "text": [
      "[[10 11 12 13]\n",
      " [14 15 16 17]\n",
      " [18 19 20 21]]\n"
     ]
    }
   ],
   "source": [
    "print(arr_2d)"
   ]
  },
  {
   "cell_type": "code",
   "execution_count": 16,
   "metadata": {
    "slideshow": {
     "slide_type": "fragment"
    }
   },
   "outputs": [
    {
     "name": "stdout",
     "output_type": "stream",
     "text": [
      "[11 14]\n"
     ]
    }
   ],
   "source": [
    "# 2D slicing examples\n",
    "# Select specific sets of numbers from different rows and columns\n",
    "subset = arr_2d[[0, 1], [1, 0]]\n",
    "print(subset)"
   ]
  },
  {
   "cell_type": "code",
   "execution_count": 17,
   "metadata": {
    "slideshow": {
     "slide_type": "fragment"
    }
   },
   "outputs": [
    {
     "name": "stdout",
     "output_type": "stream",
     "text": [
      "[[10 12]\n",
      " [14 16]\n",
      " [18 20]]\n"
     ]
    }
   ],
   "source": [
    "# 2D slicing examples\n",
    "# Strides are allowed\n",
    "strided = arr_2d[:, :3:2]\n",
    "print(strided)"
   ]
  },
  {
   "cell_type": "markdown",
   "metadata": {
    "slideshow": {
     "slide_type": "subslide"
    }
   },
   "source": [
    "### Merging and shaping data arrays\n",
    "Sometimes, your data doesn't come in a neat package, and you need to stitch things together - perhaps an extra participant's data was collected later, or a new column needs to be added to each data file. Arrays are not fixed, just like lists, they are *mutable* data types. There are a set of NumPy functions that allow you to merge arrays together, as long as they are the same size *on the dimension you want to join*. Remember, arrays must be square/rectangular!\n",
    "\n",
    "Other times, you will need to alter the structure or shape of your data to suit some kind of purpose. That's handled efficiently by NumPy too."
   ]
  },
  {
   "cell_type": "code",
   "execution_count": 18,
   "metadata": {
    "slideshow": {
     "slide_type": "fragment"
    }
   },
   "outputs": [
    {
     "name": "stdout",
     "output_type": "stream",
     "text": [
      "(10,) (10,)\n"
     ]
    }
   ],
   "source": [
    "# Make some 1D arrays\n",
    "arr_one = np.array(range(0,10))\n",
    "arr_two = np.array(range(11,21))\n",
    "\n",
    "print(arr_one.shape, arr_two.shape)"
   ]
  },
  {
   "cell_type": "code",
   "execution_count": 19,
   "metadata": {
    "slideshow": {
     "slide_type": "subslide"
    }
   },
   "outputs": [
    {
     "name": "stdout",
     "output_type": "stream",
     "text": [
      "[[ 0 11]\n",
      " [ 1 12]\n",
      " [ 2 13]\n",
      " [ 3 14]\n",
      " [ 4 15]\n",
      " [ 5 16]\n",
      " [ 6 17]\n",
      " [ 7 18]\n",
      " [ 8 19]\n",
      " [ 9 20]] (10, 2)\n"
     ]
    }
   ],
   "source": [
    "# Put these next to each other as-columns using 'concatenate'!\n",
    "stacked = np.column_stack((arr_one, arr_two))\n",
    "print(stacked, stacked.shape)"
   ]
  },
  {
   "cell_type": "code",
   "execution_count": 20,
   "metadata": {
    "slideshow": {
     "slide_type": "subslide"
    }
   },
   "outputs": [
    {
     "name": "stdout",
     "output_type": "stream",
     "text": [
      "[[ 0  1  2  3  4  5  6  7  8  9]\n",
      " [11 12 13 14 15 16 17 18 19 20]] (2, 10)\n"
     ]
    }
   ],
   "source": [
    "# Once they are joined by column_stack, we can put arr_one on *top* of arr_two with a transpose, using the .T method!\n",
    "transposed = stacked.T\n",
    "print(transposed, transposed.shape)"
   ]
  },
  {
   "cell_type": "code",
   "execution_count": 21,
   "metadata": {
    "slideshow": {
     "slide_type": "subslide"
    }
   },
   "outputs": [
    {
     "name": "stdout",
     "output_type": "stream",
     "text": [
      "[[ 0 11 20  9]\n",
      " [ 1 12 19  8]\n",
      " [ 2 13 18  7]\n",
      " [ 3 14 17  6]\n",
      " [ 4 15 16  5]\n",
      " [ 5 16 15  4]\n",
      " [ 6 17 14  3]\n",
      " [ 7 18 13  2]\n",
      " [ 8 19 12  1]\n",
      " [ 9 20 11  0]] (10, 4)\n"
     ]
    }
   ],
   "source": [
    "# Stacking 2D arrays is easy as long as dimensions match!\n",
    "doubled_up = np.column_stack((stacked, stacked[::-1, ::-1]))\n",
    "print(doubled_up, doubled_up.shape)"
   ]
  },
  {
   "cell_type": "markdown",
   "metadata": {
    "slideshow": {
     "slide_type": "subslide"
    }
   },
   "source": [
    "### Merging and shaping arrays\n",
    "`np.column_stack` is a powerful function for joining arrays. But there is one thing you should know about how it works behind the scenes that can really trip you up. There is a general purpose function for joining arrays called `np.concatenate` that lets you join arrays together by across any axis you desire. But, there's one caveat.\n",
    "\n",
    "`arr_one` and `arr_two` are 1-D arrays. Trying to concatenate them like with `column_stack` ends badly:"
   ]
  },
  {
   "cell_type": "code",
   "execution_count": 22,
   "metadata": {
    "slideshow": {
     "slide_type": "fragment"
    }
   },
   "outputs": [],
   "source": [
    "# Try to concat - axis argument is '1' to join on columns - this will break!\n",
    "#concat_stack = np.concatenate((arr_one, arr_two), axis=1)"
   ]
  },
  {
   "cell_type": "markdown",
   "metadata": {
    "slideshow": {
     "slide_type": "fragment"
    }
   },
   "source": [
    "An error - axis 1 *does not exist for a one dimensional array!* `np.column_stack` converted the inputs silently into two dimensional arrays, even if they only had a single element in the second dimension. How can we coerce these input arrays? Using the array method `.reshape`, which modifies the shape of an array with the arguments you give it."
   ]
  },
  {
   "cell_type": "code",
   "execution_count": 23,
   "metadata": {
    "slideshow": {
     "slide_type": "subslide"
    }
   },
   "outputs": [
    {
     "name": "stdout",
     "output_type": "stream",
     "text": [
      "[0 1 2 3 4 5 6 7 8 9] (10,)\n",
      "[[0 1 2 3 4 5 6 7 8 9]] (1, 10)\n"
     ]
    }
   ],
   "source": [
    "### Demonstrate reshape\n",
    "print(arr_one, arr_one.shape)\n",
    "\n",
    "shaped = arr_one.reshape(1, 10)\n",
    "print(shaped, shaped.shape)"
   ]
  },
  {
   "cell_type": "markdown",
   "metadata": {
    "slideshow": {
     "slide_type": "fragment"
    }
   },
   "source": [
    "So to coerce the more general purpose `np.concatenate` to work, we need to reshape our arrays. You can get far with `np.column_stack` and transposing, but if you're not aware of this caveat, you can land up very confused."
   ]
  },
  {
   "cell_type": "code",
   "execution_count": 24,
   "metadata": {
    "slideshow": {
     "slide_type": "fragment"
    }
   },
   "outputs": [
    {
     "name": "stdout",
     "output_type": "stream",
     "text": [
      "[[ 0 11]\n",
      " [ 1 12]\n",
      " [ 2 13]\n",
      " [ 3 14]\n",
      " [ 4 15]\n",
      " [ 5 16]\n",
      " [ 6 17]\n",
      " [ 7 18]\n",
      " [ 8 19]\n",
      " [ 9 20]] (10, 2)\n"
     ]
    }
   ],
   "source": [
    "# Replicate column_stack functionality\n",
    "concat_stack = np.concatenate((arr_one.reshape(10,1), arr_two.reshape(10,1)), axis=1)\n",
    "print(concat_stack, concat_stack.shape)"
   ]
  },
  {
   "cell_type": "markdown",
   "metadata": {
    "slideshow": {
     "slide_type": "slide"
    },
    "tags": []
   },
   "source": [
    "# Data Handling with Python\n",
    "### Data selection, generation, and basic statistics\n",
    "You should now be able to manipulate 2D arrays of various sizes. In this final NumPy section, we will explore how to do some serious aspects of data handling that are important for reproducible research:\n",
    "\n",
    "* Simulating data - when designing experiments, you can simulate data to plan your analysis correctly.\n",
    "* Data cleaning, and preparation - finding certain cases to extract/outliers to remove\n",
    "* Basic summary statistics - computing the mean, median, standard deviation\n",
    "\n",
    "These are all essential parts of any reproducible analysis workflow, but you may not have undertaken these steps yourself in the past depending on your research experience.\n"
   ]
  },
  {
   "cell_type": "markdown",
   "metadata": {
    "slideshow": {
     "slide_type": "subslide"
    }
   },
   "source": [
    "### Simulating data\n",
    "Why would we want to simulate data? One reason is to plan our analyses before we start. In the past, psychologists would throw statistical tests at a dataset they had collected because a particular test 'fit' the data. \n",
    "\n",
    "However, if you have some data in hand to start, you can carefully plan your analysis (perhaps as part of a pre-registration), or use it to highlight issues with your design you might not have foreseen.\n"
   ]
  },
  {
   "cell_type": "markdown",
   "metadata": {
    "slideshow": {
     "slide_type": "fragment"
    }
   },
   "source": [
    "### The `np.random` module\n",
    "NumPy has all the tools we need to generate random data, in a submodule called `random`. This module contains a huge range of possible distributions that you can randomly generate data from - such as the normal distribution, an *F* distribution, chi-square, and so on. \n",
    "\n",
    "Most psychological data is normally distributed. How can we make an array of normally distributed data? Using the function `normal` in the `random` module of NumPy - `np.random.normal()`"
   ]
  },
  {
   "cell_type": "code",
   "execution_count": 25,
   "metadata": {
    "slideshow": {
     "slide_type": "subslide"
    }
   },
   "outputs": [],
   "source": [
    "# Demonstrate use of normal - distribution has a mean of zero and SD of 1\n",
    "single_int = np.random.normal()\n",
    "\n",
    "# Pass in dimension values as arguments to create a very long row of random numbers!\n",
    "lots = np.random.normal(size=1000)"
   ]
  },
  {
   "cell_type": "code",
   "execution_count": 26,
   "metadata": {
    "slideshow": {
     "slide_type": "skip"
    }
   },
   "outputs": [
    {
     "name": "stderr",
     "output_type": "stream",
     "text": [
      "/Users/alexjones/anaconda3/envs/py39/lib/python3.9/site-packages/seaborn/distributions.py:2557: FutureWarning: `distplot` is a deprecated function and will be removed in a future version. Please adapt your code to use either `displot` (a figure-level function with similar flexibility) or `histplot` (an axes-level function for histograms).\n",
      "  warnings.warn(msg, FutureWarning)\n"
     ]
    },
    {
     "data": {
      "text/plain": [
       "<AxesSubplot:ylabel='Density'>"
      ]
     },
     "execution_count": 26,
     "metadata": {},
     "output_type": "execute_result"
    },
    {
     "data": {
      "image/png": "[encoded data removed]",
      "text/plain": [
       "<Figure size 432x288 with 1 Axes>"
      ]
     },
     "metadata": {
      "needs_background": "light"
     },
     "output_type": "display_data"
    }
   ],
   "source": [
    "import matplotlib.pyplot as plt\n",
    "import seaborn as sns\n",
    "\n",
    "show_fig, ax = plt.subplots(1,1)\n",
    "\n",
    "sns.distplot(lots, ax=ax)"
   ]
  },
  {
   "cell_type": "code",
   "execution_count": 27,
   "metadata": {
    "slideshow": {
     "slide_type": "subslide"
    }
   },
   "outputs": [
    {
     "data": {
      "image/png": "[encoded data removed]",
      "text/plain": [
       "<Figure size 432x288 with 1 Axes>"
      ]
     },
     "execution_count": 27,
     "metadata": {},
     "output_type": "execute_result"
    }
   ],
   "source": [
    "# Is it normal? \n",
    "show_fig"
   ]
  },
  {
   "cell_type": "markdown",
   "metadata": {
    "slideshow": {
     "slide_type": "subslide"
    }
   },
   "source": [
    "`np.random.normal` has keyword arguments to create distributions of different widths, centred on different means. The utility of this is obvious - you can generate samples for different variables, as if you had collected the data already."
   ]
  },
  {
   "cell_type": "code",
   "execution_count": 28,
   "metadata": {
    "slideshow": {
     "slide_type": "fragment"
    }
   },
   "outputs": [],
   "source": [
    "# Compared to original....\n",
    "# Same width, different mean\n",
    "mean2 = np.random.normal(loc=2.0, scale=1, size=1000)\n",
    "\n",
    "# Different width, same mean \n",
    "sd2 = np.random.normal(loc=0.0, scale=3, size=1000)\n",
    "\n",
    "# Different width, different mean\n",
    "diff = np.random.normal(loc=-10.0, scale=0.5, size=1000)"
   ]
  },
  {
   "cell_type": "code",
   "execution_count": 29,
   "metadata": {
    "slideshow": {
     "slide_type": "skip"
    }
   },
   "outputs": [
    {
     "data": {
      "image/png": "[encoded data removed]",
      "text/plain": [
       "<Figure size 720x360 with 1 Axes>"
      ]
     },
     "metadata": {
      "needs_background": "light"
     },
     "output_type": "display_data"
    }
   ],
   "source": [
    "show_fig, axes = plt.subplots(1,1, figsize=(10,5))\n",
    "\n",
    "sns.kdeplot(lots, label='Mean=0, SD=1', color='blue', alpha=0.2, ax=axes, fill=True)\n",
    "sns.kdeplot(mean2,label='Mean=2, SD=1', color='green', alpha=0.2, ax=axes, fill=True)\n",
    "sns.kdeplot(sd2, label='Mean=0, SD=3', color='red', alpha=0.2, ax=axes, fill=True)\n",
    "sns.kdeplot(diff, label='Mean=-10, SD=1.5', color='yellow', alpha=0.2, ax=axes, fill=True)\n",
    "axes.legend();"
   ]
  },
  {
   "cell_type": "code",
   "execution_count": 30,
   "metadata": {
    "slideshow": {
     "slide_type": "subslide"
    }
   },
   "outputs": [
    {
     "data": {
      "image/png": "[encoded data removed]",
      "text/plain": [
       "<Figure size 720x360 with 1 Axes>"
      ]
     },
     "execution_count": 30,
     "metadata": {},
     "output_type": "execute_result"
    }
   ],
   "source": [
    "# Illustrate\n",
    "show_fig"
   ]
  },
  {
   "cell_type": "markdown",
   "metadata": {
    "slideshow": {
     "slide_type": "subslide"
    }
   },
   "source": [
    "There are other useful functions for generating data - for example, `np.random.randint` can generate datasets of a specific size and shape, of numbers between a certain bound."
   ]
  },
  {
   "cell_type": "code",
   "execution_count": 31,
   "metadata": {
    "slideshow": {
     "slide_type": "fragment"
    }
   },
   "outputs": [
    {
     "name": "stdout",
     "output_type": "stream",
     "text": [
      "[[5 5 1 1 3]\n",
      " [2 4 1 4 4]\n",
      " [2 3 2 1 4]\n",
      " [2 2 2 1 3]\n",
      " [2 1 4 5 1]]\n"
     ]
    }
   ],
   "source": [
    "# Generate some fake personality data with `randint`, for 100 participants\n",
    "big5 = np.random.randint(low=1, high=6, size=(100, 5))\n",
    "\n",
    "print(big5[:5, :])"
   ]
  },
  {
   "cell_type": "markdown",
   "metadata": {
    "slideshow": {
     "slide_type": "subslide"
    }
   },
   "source": [
    "### Data cleaning and preparation\n",
    "Almost all datasets require some form of cleaning - removal of participants who didn't complete all the trials, variables with too many missing values, or scores outside acceptable ranges. You may not have had the opportunity to do this yourself at this stage, or maybe you did it manually in Excel or other data pipelines. \n",
    "\n",
    "As you might expect, Python and NumPy can find data that fits a certain critera and lets you specify exactly what you want to do to it. You've already used the basic tools of this approach before - logicals. The difference now is that these logicals are computed for every value in an array, whatever its shape, giving you wide flexibility. In fact, most operations return a *Boolean array*, sometimes known as a 'mask', where your conditional is true/false. "
   ]
  },
  {
   "cell_type": "code",
   "execution_count": 32,
   "metadata": {
    "slideshow": {
     "slide_type": "fragment"
    }
   },
   "outputs": [
    {
     "name": "stdout",
     "output_type": "stream",
     "text": [
      "[[ 4  6  1  4]\n",
      " [ 8  1  3  1]\n",
      " [ 9  2  9  4]\n",
      " [ 2  4 10  6]\n",
      " [ 7  3  3 10]\n",
      " [ 8  5  4  7]\n",
      " [ 7  9  9  5]\n",
      " [ 8 10  1  9]\n",
      " [ 8  6  3  3]\n",
      " [ 8  5 10  7]]\n"
     ]
    }
   ],
   "source": [
    "# An example of NumPy boolean logic\n",
    "toy = np.random.randint(low=1, high=11, size=(10, 4))\n",
    "print(toy)"
   ]
  },
  {
   "cell_type": "code",
   "execution_count": 33,
   "metadata": {
    "slideshow": {
     "slide_type": "subslide"
    }
   },
   "outputs": [
    {
     "name": "stdout",
     "output_type": "stream",
     "text": [
      "[[ 4  6  1  4  0  0  0  0]\n",
      " [ 8  1  3  1  1  0  0  0]\n",
      " [ 9  2  9  4  1  0  1  0]\n",
      " [ 2  4 10  6  0  0  1  0]\n",
      " [ 7  3  3 10  1  0  0  1]\n",
      " [ 8  5  4  7  1  0  0  1]\n",
      " [ 7  9  9  5  1  1  1  0]\n",
      " [ 8 10  1  9  1  1  0  1]\n",
      " [ 8  6  3  3  1  0  0  0]\n",
      " [ 8  5 10  7  1  0  1  1]]\n"
     ]
    }
   ],
   "source": [
    "# Find scores above 6\n",
    "above6 = toy > 6\n",
    "print(np.column_stack((toy, above6)))"
   ]
  },
  {
   "cell_type": "markdown",
   "metadata": {
    "slideshow": {
     "slide_type": "subslide"
    }
   },
   "source": [
    "Now that we have a Boolean array, or a masked array, we can use it to extract values in our array through array indexing. Let's say we want all the values above 5."
   ]
  },
  {
   "cell_type": "code",
   "execution_count": 34,
   "metadata": {
    "slideshow": {
     "slide_type": "fragment"
    }
   },
   "outputs": [
    {
     "name": "stdout",
     "output_type": "stream",
     "text": [
      "[ 8  9  9 10  7 10  8  7  7  9  9  8 10  9  8  8 10  7]\n"
     ]
    }
   ],
   "source": [
    "# Use the mask array\n",
    "extract = toy[above6]\n",
    "print(extract)"
   ]
  },
  {
   "cell_type": "markdown",
   "metadata": {
    "slideshow": {
     "slide_type": "fragment"
    }
   },
   "source": [
    "Since the shape of the original array could not be preserved after indexing, NumPy collapsed it into a vector.\n",
    "\n",
    "Also remember you can negate Booleans with `~`. So, we can easily get all values *not less than 6*:"
   ]
  },
  {
   "cell_type": "code",
   "execution_count": 35,
   "metadata": {
    "slideshow": {
     "slide_type": "fragment"
    }
   },
   "outputs": [
    {
     "name": "stdout",
     "output_type": "stream",
     "text": [
      "[4 6 1 4 1 3 1 2 4 2 4 6 3 3 5 4 5 1 6 3 3 5]\n"
     ]
    }
   ],
   "source": [
    "extract2 = toy[~above6]\n",
    "print(extract2)"
   ]
  },
  {
   "cell_type": "markdown",
   "metadata": {
    "slideshow": {
     "slide_type": "subslide"
    }
   },
   "source": [
    "### Building complexity with Boolean indexing - `.all()` and `.any()`\n",
    "Getting the actual numbers that fit a certain criteria is clearly simple. However, sometimes we need more complex indexing.\n",
    "\n",
    "Imagine you have data and someone has entered in some out-of-range values. This means they were likely not paying attention, and you can't trust their data on the other trials. How can we remove them, and just analyse the rest of the data?"
   ]
  },
  {
   "cell_type": "code",
   "execution_count": 36,
   "metadata": {
    "slideshow": {
     "slide_type": "subslide"
    }
   },
   "outputs": [
    {
     "name": "stdout",
     "output_type": "stream",
     "text": [
      "[[ 12  12   4   5]\n",
      " [ 10  13  15   9]\n",
      " [ 15   4   8  11]\n",
      " [  4  20  18  14]\n",
      " [  9 999  19  15]\n",
      " [ 13 999 999   8]\n",
      " [  8   4  17  19]\n",
      " [ 10   7  19   3]\n",
      " [999 999   7   9]\n",
      " [ 20   8   7  12]\n",
      " [ 17  12  18  14]\n",
      " [ 20   3  18   8]\n",
      " [  5   4   4 999]\n",
      " [ 11  18   7 999]\n",
      " [ 15  15   9  12]]\n"
     ]
    }
   ],
   "source": [
    "# First, make a simple dataset\n",
    "removals = np.random.randint(low=3, high=21, size=(15, 4))\n",
    "\n",
    "# Here, we generate a 'mask array' using random.choice which chooses elements from a list at random and generates a specific shape, and probabilites\n",
    "inds = np.random.choice([True, False], p=[0.1, 0.9], size=removals.shape)\n",
    "\n",
    "# Now place the 'mask' over 'removals' and alter the numbers by replacing with a high number\n",
    "removals[inds] = 999\n",
    "\n",
    "print(removals)"
   ]
  },
  {
   "cell_type": "code",
   "execution_count": 37,
   "metadata": {
    "slideshow": {
     "slide_type": "subslide"
    }
   },
   "outputs": [
    {
     "name": "stdout",
     "output_type": "stream",
     "text": [
      "[[False False False False]\n",
      " [False False False False]\n",
      " [False False False False]\n",
      " [False False False False]\n",
      " [False  True False False]\n",
      " [False  True  True False]\n",
      " [False False False False]\n",
      " [False False False False]\n",
      " [ True  True False False]\n",
      " [False False False False]\n",
      " [False False False False]\n",
      " [False False False False]\n",
      " [False False False  True]\n",
      " [False False False  True]\n",
      " [False False False False]]\n"
     ]
    }
   ],
   "source": [
    "# To find those erroneous participants is easy - create a new mask array\n",
    "mask = removals > 20\n",
    "\n",
    "print(mask)"
   ]
  },
  {
   "cell_type": "markdown",
   "metadata": {
    "slideshow": {
     "slide_type": "subslide"
    }
   },
   "source": [
    "Now we have our mask, how can we use it to remove the participants who have made an error and given '999' as a response? We already know that subsetting the current 'mask' array will return a single vector, but what we want to do is completely remove the rows that contain problematic entries.\n",
    "\n",
    "The solution is to use the array methods of `.any()` and `.all()`. These powerful methods allow you to identify which rows or columns match a condition."
   ]
  },
  {
   "cell_type": "code",
   "execution_count": 38,
   "metadata": {
    "slideshow": {
     "slide_type": "fragment"
    }
   },
   "outputs": [
    {
     "name": "stdout",
     "output_type": "stream",
     "text": [
      "[[12 12  4  5]\n",
      " [10 13 15  9]\n",
      " [15  4  8 11]\n",
      " [ 4 20 18 14]\n",
      " [ 8  4 17 19]\n",
      " [10  7 19  3]\n",
      " [20  8  7 12]\n",
      " [17 12 18 14]\n",
      " [20  3 18  8]\n",
      " [15 15  9 12]]\n"
     ]
    }
   ],
   "source": [
    "# Demonstrate any on mask array\n",
    "# Moving across columns (axis 1), what rows have ANY values above 20?\n",
    "remove_rows = mask.any(axis=1)\n",
    "\n",
    "# Now use remove_rows to clean the data!\n",
    "clean = removals[~remove_rows, :]\n",
    "\n",
    "print(clean)"
   ]
  },
  {
   "cell_type": "code",
   "execution_count": 39,
   "metadata": {
    "slideshow": {
     "slide_type": "subslide"
    }
   },
   "outputs": [
    {
     "name": "stdout",
     "output_type": "stream",
     "text": [
      "[]\n"
     ]
    }
   ],
   "source": [
    "# The reverse is easily done - what if we wanted to remove any column with a True?\n",
    "remove_cols = mask.any(axis=0)\n",
    "\n",
    "# Empty!!\n",
    "print(removals[:, ~remove_cols])"
   ]
  },
  {
   "cell_type": "markdown",
   "metadata": {
    "slideshow": {
     "slide_type": "fragment"
    }
   },
   "source": [
    "These removal operations are carried out in steps above, but once you are comfortable with them mentally you can do the operations in a single line of code."
   ]
  },
  {
   "cell_type": "code",
   "execution_count": 40,
   "metadata": {
    "slideshow": {
     "slide_type": "fragment"
    }
   },
   "outputs": [
    {
     "name": "stdout",
     "output_type": "stream",
     "text": [
      "[[12 12  4  5]\n",
      " [10 13 15  9]\n",
      " [15  4  8 11]\n",
      " [ 4 20 18 14]\n",
      " [ 8  4 17 19]\n",
      " [10  7 19  3]\n",
      " [20  8  7 12]\n",
      " [17 12 18 14]\n",
      " [20  3 18  8]\n",
      " [15 15  9 12]]\n"
     ]
    }
   ],
   "source": [
    "clean_quick = removals[~(removals > 20).any(axis=1), :]\n",
    "print(clean_quick)"
   ]
  },
  {
   "cell_type": "markdown",
   "metadata": {
    "slideshow": {
     "slide_type": "subslide"
    }
   },
   "source": [
    "To quickly demonstrate, `.all()` works in the exact same way:"
   ]
  },
  {
   "cell_type": "code",
   "execution_count": 41,
   "metadata": {
    "slideshow": {
     "slide_type": "fragment"
    }
   },
   "outputs": [
    {
     "name": "stdout",
     "output_type": "stream",
     "text": [
      "[[ 12  12   4   5]\n",
      " [ 10  13  15   9]\n",
      " [ 15   4   8  11]\n",
      " [  4  20  18  14]\n",
      " [  9 999  19  15]\n",
      " [999 999 999 999]\n",
      " [  8   4  17  19]\n",
      " [ 10   7  19   3]\n",
      " [999 999   7   9]\n",
      " [ 20   8   7  12]\n",
      " [ 17  12  18  14]\n",
      " [ 20   3  18   8]\n",
      " [  5   4   4 999]\n",
      " [ 11  18   7 999]\n",
      " [ 15  15   9  12]]\n"
     ]
    }
   ],
   "source": [
    "# Set a row to be all 999 in removals\n",
    "removals[5,:] = 999\n",
    "print(removals)"
   ]
  },
  {
   "cell_type": "code",
   "execution_count": 42,
   "metadata": {
    "slideshow": {
     "slide_type": "subslide"
    }
   },
   "outputs": [
    {
     "name": "stdout",
     "output_type": "stream",
     "text": [
      "[[ 12  12   4   5]\n",
      " [ 10  13  15   9]\n",
      " [ 15   4   8  11]\n",
      " [  4  20  18  14]\n",
      " [  9 999  19  15]\n",
      " [  8   4  17  19]\n",
      " [ 10   7  19   3]\n",
      " [999 999   7   9]\n",
      " [ 20   8   7  12]\n",
      " [ 17  12  18  14]\n",
      " [ 20   3  18   8]\n",
      " [  5   4   4 999]\n",
      " [ 11  18   7 999]\n",
      " [ 15  15   9  12]]\n"
     ]
    }
   ],
   "source": [
    "# This time in one line and specifying exactly to match to the number 999\n",
    "drop = removals[~(removals == 999).all(axis=1), :]\n",
    "print(drop)"
   ]
  },
  {
   "cell_type": "markdown",
   "metadata": {
    "slideshow": {
     "slide_type": "subslide"
    }
   },
   "source": [
    "### More complex Booleans \n",
    "As with lists, you are able to build more complex conditions that allow for greater flexibility in accessing your data. However, unlike with lists, you will use the **bitwise** operators - `&` and `|`. These allow for comparisons of individual elements of an array. Using these also requires a little extra skill compared to `and` and `or`."
   ]
  },
  {
   "cell_type": "code",
   "execution_count": 43,
   "metadata": {
    "slideshow": {
     "slide_type": "fragment"
    }
   },
   "outputs": [],
   "source": [
    "# Make some more data\n",
    "a = np.random.randint(low=3, high=12, size=(1, 10))\n",
    "b = np.random.randint(low=5, high=15, size=(1, 10))"
   ]
  },
  {
   "cell_type": "markdown",
   "metadata": {
    "slideshow": {
     "slide_type": "subslide"
    }
   },
   "source": [
    "How could we find the locations where `a` is greater than 5, AND `b` is less than 9? The obvious solution is:\n",
    "\n",
    "`get_vals = a > 5 and b < 9`\n",
    "\n",
    "This won't work! In fact, neither will:\n",
    "\n",
    "`get_vals = a > 5 & b < 9`\n",
    "\n",
    "This is due to something called *operator precedence* - not something you need to know for this course, but how it impacts how you query data is important.\n",
    "\n",
    "To carry out these complex conditions with arrays, use the following format (similar to how complex comparisons are performed with single integers with regular `and` and `or`):"
   ]
  },
  {
   "cell_type": "code",
   "execution_count": 44,
   "metadata": {
    "slideshow": {
     "slide_type": "subslide"
    }
   },
   "outputs": [
    {
     "name": "stdout",
     "output_type": "stream",
     "text": [
      "[[False False False False  True False False False False False]]\n"
     ]
    }
   ],
   "source": [
    "get_vals = (a > 5) & (b < 9)\n",
    "print(get_vals)"
   ]
  },
  {
   "cell_type": "markdown",
   "metadata": {
    "slideshow": {
     "slide_type": "fragment"
    }
   },
   "source": [
    "The `|` operator functions in much the same way."
   ]
  },
  {
   "cell_type": "code",
   "execution_count": 45,
   "metadata": {
    "slideshow": {
     "slide_type": "fragment"
    }
   },
   "outputs": [
    {
     "name": "stdout",
     "output_type": "stream",
     "text": [
      "[[ True False  True  True  True  True  True  True  True  True]]\n"
     ]
    }
   ],
   "source": [
    "or_vals = (a > 5) | (b < 9)\n",
    "print(or_vals)"
   ]
  },
  {
   "cell_type": "markdown",
   "metadata": {
    "slideshow": {
     "slide_type": "subslide"
    }
   },
   "source": [
    "NumPy offers flexibility in how you want to achieve your goals of Boolean comparisons. The functions `np.logical_and` and `np.logical_or` may be easier to interpret for you - use whatever works."
   ]
  },
  {
   "cell_type": "code",
   "execution_count": 46,
   "metadata": {
    "slideshow": {
     "slide_type": "fragment"
    }
   },
   "outputs": [
    {
     "name": "stdout",
     "output_type": "stream",
     "text": [
      "True\n",
      "True\n"
     ]
    }
   ],
   "source": [
    "# Demonstrate function versions of and/or\n",
    "func_and = np.logical_and(a > 5, b < 9)\n",
    "print(np.all(get_vals == func_and))\n",
    "\n",
    "func_or = np.logical_or(a > 5, b < 9)\n",
    "print(np.all(or_vals == func_or))"
   ]
  },
  {
   "cell_type": "markdown",
   "metadata": {
    "slideshow": {
     "slide_type": "subslide"
    }
   },
   "source": [
    "### The power of np.where\n",
    "One of the most powerful functions available to you is `np.where`. This function returns the indices (locations) of values that match your query - and with those, you are able to modify an array or carry out other computations. For example:"
   ]
  },
  {
   "cell_type": "code",
   "execution_count": 47,
   "metadata": {
    "slideshow": {
     "slide_type": "fragment"
    }
   },
   "outputs": [
    {
     "name": "stdout",
     "output_type": "stream",
     "text": [
      "[[10 14  2  9 13]\n",
      " [ 9 14 10 10 13]\n",
      " [ 6  4  4 13  6]\n",
      " [ 5  6  7  7  9]]\n"
     ]
    }
   ],
   "source": [
    "# Demonstrate np.where\n",
    "data = np.random.randint(low=1, high=15, size=(4,5))\n",
    "print(data)"
   ]
  },
  {
   "cell_type": "code",
   "execution_count": 48,
   "metadata": {
    "slideshow": {
     "slide_type": "fragment"
    }
   },
   "outputs": [
    {
     "name": "stdout",
     "output_type": "stream",
     "text": [
      "(array([0, 0, 0, 1, 1, 2, 2, 2]), array([1, 2, 4, 1, 4, 1, 2, 3]))\n"
     ]
    }
   ],
   "source": [
    "# Get indices with np.where of values less than 5 or above 10\n",
    "inds = np.where((data < 5) | (data > 10))\n",
    "print(inds)"
   ]
  },
  {
   "cell_type": "code",
   "execution_count": 49,
   "metadata": {
    "slideshow": {
     "slide_type": "fragment"
    }
   },
   "outputs": [
    {
     "name": "stdout",
     "output_type": "stream",
     "text": [
      "[[10 30 30  9 30]\n",
      " [ 9 30 10 10 30]\n",
      " [ 6 30 30 30  6]\n",
      " [ 5  6  7  7  9]]\n"
     ]
    }
   ],
   "source": [
    "# Use indices to alter the array\n",
    "data[inds] = 30\n",
    "print(data)"
   ]
  },
  {
   "cell_type": "markdown",
   "metadata": {
    "slideshow": {
     "slide_type": "subslide"
    }
   },
   "source": [
    "But `np.where` has additional functionality. Aside from its first argument (the conditional), it also has an additional two arguments that specify *what you want* if the conditions are met (first additional argument) and if they are not met (second additional argument)."
   ]
  },
  {
   "cell_type": "code",
   "execution_count": 50,
   "metadata": {
    "slideshow": {
     "slide_type": "fragment"
    }
   },
   "outputs": [
    {
     "name": "stdout",
     "output_type": "stream",
     "text": [
      "[[ 8 13  6 12  6]\n",
      " [14  5  1  9  9]\n",
      " [ 9 11  8 13 10]\n",
      " [13  3  1 11 12]]\n",
      "[[1111 1111 1111 1111 1111]\n",
      " [1111 9999 1111 1111 1111]\n",
      " [1111 1111 1111 1111 1111]\n",
      " [1111 1111 1111 1111 1111]]\n"
     ]
    }
   ],
   "source": [
    "# Demonstrate np.where additional args\n",
    "data = np.random.randint(low=1, high=15, size=(4,5))\n",
    "\n",
    "cool = np.where(data == 5, 9999, 1111)\n",
    "print(data)\n",
    "print(cool)"
   ]
  },
  {
   "cell_type": "code",
   "execution_count": 51,
   "metadata": {
    "slideshow": {
     "slide_type": "subslide"
    }
   },
   "outputs": [
    {
     "name": "stdout",
     "output_type": "stream",
     "text": [
      "[[12  8  7 13  5]\n",
      " [10  7 10  4  9]\n",
      " [11 10 14  2  9]\n",
      " [ 9  5 11  1  7]]\n",
      "[[12  8  7 13 -1]\n",
      " [10  7 10 -1  9]\n",
      " [11 10 14 -1  9]\n",
      " [ 9 -1 11 -1  7]]\n"
     ]
    }
   ],
   "source": [
    "data = np.random.randint(low=1, high=15, size=(4,5))\n",
    "\n",
    "cool = np.where(data > 5, data, -1)\n",
    "print(data)\n",
    "print(cool)"
   ]
  },
  {
   "cell_type": "markdown",
   "metadata": {
    "slideshow": {
     "slide_type": "subslide"
    }
   },
   "source": [
    "`np.where` breakdown:\n",
    "\n",
    "`np.where(conditional_statement, a, b)`\n",
    "\n",
    "* **conditional_statement** - this is a conditional statement that can be as simple or as complex as you like. \n",
    "* **a** - A value you would like returned *where the condition is True*. This can be an integer, or if you pass it an array, it will be the values of that array where the condition is True - shapes must fit!\n",
    "* **b** - A value you would like returned *where the condition is False*. Same rules apply as above."
   ]
  },
  {
   "cell_type": "markdown",
   "metadata": {
    "slideshow": {
     "slide_type": "subslide"
    }
   },
   "source": [
    "### NaN\n",
    "Sometimes, participants dont respond at all, never mind responding strangely. In order to fill in these gaps, there is a special data type called `NaN` - Not a Number. This is a simple placeholder for missing values in an array, and has special functions associated with finding it, such as `np.isna()`."
   ]
  },
  {
   "cell_type": "code",
   "execution_count": 52,
   "metadata": {
    "slideshow": {
     "slide_type": "fragment"
    }
   },
   "outputs": [
    {
     "name": "stdout",
     "output_type": "stream",
     "text": [
      "[[12. 12.  4.  5.]\n",
      " [10. 13. 15.  9.]\n",
      " [15.  4.  8. 11.]\n",
      " [ 4. 20. 18. 14.]\n",
      " [ 9. nan 19. 15.]\n",
      " [nan nan nan nan]\n",
      " [ 8.  4. 17. 19.]\n",
      " [10.  7. 19.  3.]\n",
      " [nan nan  7.  9.]\n",
      " [20.  8.  7. 12.]\n",
      " [17. 12. 18. 14.]\n",
      " [20.  3. 18.  8.]\n",
      " [ 5.  4.  4. nan]\n",
      " [11. 18.  7. nan]\n",
      " [15. 15.  9. 12.]]\n"
     ]
    }
   ],
   "source": [
    "# Add some NaN's to a dataset - only works with floats!\n",
    "removals = removals.astype('float')\n",
    "removals[(removals == 999)] = np.NaN\n",
    "print(removals)"
   ]
  },
  {
   "cell_type": "code",
   "execution_count": 53,
   "metadata": {
    "slideshow": {
     "slide_type": "subslide"
    }
   },
   "outputs": [
    {
     "name": "stdout",
     "output_type": "stream",
     "text": [
      "[[False False False False]\n",
      " [False False False False]\n",
      " [False False False False]\n",
      " [False False False False]\n",
      " [False  True False False]\n",
      " [ True  True  True  True]\n",
      " [False False False False]\n",
      " [False False False False]\n",
      " [ True  True False False]\n",
      " [False False False False]\n",
      " [False False False False]\n",
      " [False False False False]\n",
      " [False False False  True]\n",
      " [False False False  True]\n",
      " [False False False False]] [[False False False False]\n",
      " [False False False False]\n",
      " [False False False False]\n",
      " [False False False False]\n",
      " [False False False False]\n",
      " [False False False False]\n",
      " [False False False False]\n",
      " [False False False False]\n",
      " [False False False False]\n",
      " [False False False False]\n",
      " [False False False False]\n",
      " [False False False False]\n",
      " [False False False False]\n",
      " [False False False False]\n",
      " [False False False False]]\n"
     ]
    }
   ],
   "source": [
    "# Demonstrate isnan\n",
    "nan_mask = np.isnan(removals)\n",
    "\n",
    "# This won't be helpful!\n",
    "invalid_nan = removals == np.nan\n",
    "print(nan_mask, invalid_nan)"
   ]
  },
  {
   "cell_type": "code",
   "execution_count": 54,
   "metadata": {
    "slideshow": {
     "slide_type": "subslide"
    }
   },
   "outputs": [
    {
     "name": "stdout",
     "output_type": "stream",
     "text": [
      "[[12. 12.  4.  5.]\n",
      " [10. 13. 15.  9.]\n",
      " [15.  4.  8. 11.]\n",
      " [ 4. 20. 18. 14.]\n",
      " [ 8.  4. 17. 19.]\n",
      " [10.  7. 19.  3.]\n",
      " [20.  8.  7. 12.]\n",
      " [17. 12. 18. 14.]\n",
      " [20.  3. 18.  8.]\n",
      " [15. 15.  9. 12.]]\n"
     ]
    }
   ],
   "source": [
    "# With isnan, remove\n",
    "print(removals[~np.isnan(removals).any(axis=1), :])"
   ]
  },
  {
   "cell_type": "markdown",
   "metadata": {
    "slideshow": {
     "slide_type": "subslide"
    }
   },
   "source": [
    "### Basic summary statistics\n",
    "Once you have your data, you almost always want to compute some kind of descriptive statistics with it. For example, what is the mean score per participant across trials? What's the standard deviation for a certain variable, so we can remove participants who are above or below that? NumPy has a range of methods that can compute statistics on data. The most common used are `.mean()`, `.std()`, and `.median()`.\n",
    "\n",
    "Each method has certain inputs - the most important of which is the 'axis' argument, which indicates which axis to compute the statistic across - zero means 'across the rows', or the first dimension, and 1 means 'across the columns', or the second dimension. Higher dimensional arrays also work the same."
   ]
  },
  {
   "cell_type": "code",
   "execution_count": 55,
   "metadata": {
    "slideshow": {
     "slide_type": "subslide"
    }
   },
   "outputs": [
    {
     "name": "stdout",
     "output_type": "stream",
     "text": [
      "[[ 3.96879651  2.94138248  5.62512605  3.8303532 ]\n",
      " [ 2.85359969  0.6958383   6.99430966  5.06778158]\n",
      " [ 4.46577332  1.13285152  5.41138998  5.93414327]\n",
      " [ 5.8672242   3.01940308  6.58654993  4.94523529]\n",
      " [ 5.24323433 11.11087459  4.51445031  2.77892881]\n",
      " [ 4.70718619 -3.18260168  5.90159017  5.43539629]\n",
      " [ 4.97918544  6.37754999  6.97816776  3.50919954]\n",
      " [ 4.6377195   5.35931169  6.30174374  5.18096945]\n",
      " [ 4.44990023 -1.41482699  6.76061368  5.39975097]\n",
      " [ 4.89861784 10.33436645  4.1441574   0.81820682]\n",
      " [ 2.63163691  5.69640225  4.81865088  4.58860226]\n",
      " [ 4.1994853   0.46133348  4.85332032  2.63621616]\n",
      " [ 3.91905179 -6.29706663  5.44702049  3.27638127]\n",
      " [ 4.07890283  4.14573417  8.71716574  3.2541855 ]\n",
      " [ 3.53862779  2.77627208  5.29164249  3.17394044]\n",
      " [ 4.52048784 -2.15356466  3.71288108  6.04705062]\n",
      " [ 3.18207199 -2.21807205  7.08329138  0.26710475]\n",
      " [ 3.46614507  7.34254934  8.69328686 -0.44468671]\n",
      " [ 3.34612009 -6.77847454  3.4775763  -0.86658014]\n",
      " [ 4.86394664  4.57141378  9.94562151  5.13828853]]\n"
     ]
    }
   ],
   "source": [
    "# Demonstrate use of summary stats - this line is generating data, can you figure out how?\n",
    "data = np.column_stack([np.random.normal(*stats) for stats in [(4, 1, 20), (3, 5, 20), (6, 2, 20), (3, 2, 20)]])\n",
    "print(data)"
   ]
  },
  {
   "cell_type": "code",
   "execution_count": 56,
   "metadata": {
    "slideshow": {
     "slide_type": "subslide"
    }
   },
   "outputs": [
    {
     "name": "stdout",
     "output_type": "stream",
     "text": [
      "3.98709267204151 3.1063820767363244\n"
     ]
    }
   ],
   "source": [
    "# What is mean and standard deviation for the whole data? Call methods with NO arguments\n",
    "grand_mean, grand_std = data.mean(), data.std()\n",
    "\n",
    "print(grand_mean, grand_std)"
   ]
  },
  {
   "cell_type": "code",
   "execution_count": 57,
   "metadata": {
    "slideshow": {
     "slide_type": "fragment"
    }
   },
   "outputs": [
    {
     "name": "stdout",
     "output_type": "stream",
     "text": [
      "[4.19088567 2.19603383 6.06292779 3.49852339]\n"
     ]
    }
   ],
   "source": [
    "# Summary statistics per VARIABLE - so across rows, one score per column\n",
    "var_mean = data.mean(axis=0)\n",
    "print(var_mean)"
   ]
  },
  {
   "cell_type": "code",
   "execution_count": 58,
   "metadata": {
    "slideshow": {
     "slide_type": "fragment"
    }
   },
   "outputs": [
    {
     "name": "stdout",
     "output_type": "stream",
     "text": [
      "[ 4.09141456  3.90288231  4.23603952  5.10460313  5.91187201  3.21539274\n",
      "  5.46102568  5.36993609  3.79885947  5.04883713  4.43382308  3.03758882\n",
      "  1.58634673  5.04899706  3.6951207   3.03171372  2.07859902  4.76432364\n",
      " -0.20533957  6.12981761]\n"
     ]
    }
   ],
   "source": [
    "# Summary statistics per PARTICIPANT - across columns, one score per row\n",
    "ppt_mean = data.mean(axis=1)\n",
    "print(ppt_mean)"
   ]
  },
  {
   "cell_type": "code",
   "execution_count": 59,
   "metadata": {
    "slideshow": {
     "slide_type": "subslide"
    }
   },
   "outputs": [
    {
     "name": "stdout",
     "output_type": "stream",
     "text": [
      "[[ 4.09141456  0.96928233]\n",
      " [ 3.90288231  2.36114584]\n",
      " [ 4.23603952  1.8673215 ]\n",
      " [ 5.10460313  1.33708775]\n",
      " [ 5.91187201  3.1322845 ]\n",
      " [ 3.21539274  3.71832801]\n",
      " [ 5.46102568  1.34010561]\n",
      " [ 5.36993609  0.60004748]\n",
      " [ 3.79885947  3.12014512]\n",
      " [ 5.04883713  3.41599415]\n",
      " [ 4.43382308  1.11960151]\n",
      " [ 3.03758882  1.69152859]\n",
      " [ 1.58634673  4.61927315]\n",
      " [ 5.04899706  2.14672871]\n",
      " [ 3.6951207   0.96037538]\n",
      " [ 3.03171372  3.10885051]\n",
      " [ 2.07859902  3.46437195]\n",
      " [ 4.76432364  3.56731889]\n",
      " [-0.20533957  4.17792046]\n",
      " [ 6.12981761  2.21215625]]\n"
     ]
    }
   ],
   "source": [
    "# Combined\n",
    "descriptives = np.column_stack((data.mean(1), data.std(1)))\n",
    "print(descriptives)"
   ]
  }
 ],
 "metadata": {
  "celltoolbar": "Slideshow",
  "kernelspec": {
   "display_name": "Python 3",
   "language": "python",
   "name": "python3"
  },
  "language_info": {
   "codemirror_mode": {
    "name": "ipython",
    "version": 3
   },
   "file_extension": ".py",
   "mimetype": "text/x-python",
   "name": "python",
   "nbconvert_exporter": "python",
   "pygments_lexer": "ipython3",
   "version": "3.9.1"
  }
 },
 "nbformat": 4,
 "nbformat_minor": 4
}
