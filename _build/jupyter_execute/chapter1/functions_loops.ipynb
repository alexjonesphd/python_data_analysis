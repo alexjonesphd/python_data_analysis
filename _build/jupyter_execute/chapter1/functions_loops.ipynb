{
 "cells": [
  {
   "cell_type": "markdown",
   "id": "c3592e92-549e-4a7b-b830-ba534d3625bd",
   "metadata": {
    "slideshow": {
     "slide_type": "slide"
    },
    "tags": []
   },
   "source": [
    "## Functions\n",
    "\n",
    "Functions are nothing new to you - we have used them before!\n",
    "* `print`\n",
    "* `type`\n",
    "* `dict`\n",
    "* `list`\n",
    "\n",
    "A function is a piece of reusable code that is suited for a particular task, that can be reused. Python has thousands of functions built in, as well as across different packages we will come to in the future. \n"
   ]
  },
  {
   "cell_type": "markdown",
   "id": "561d1b47-53d7-4446-9876-22ab38bce7fd",
   "metadata": {
    "slideshow": {
     "slide_type": "subslide"
    }
   },
   "source": [
    "#### Functions example\n",
    "How do we use functions? With the following general approach:\n",
    "\n",
    "`output = function_name(work_on_this, more_arguments)`\n",
    "\n",
    "Two built in functions we can play with are `min` and `max`. "
   ]
  },
  {
   "cell_type": "code",
   "execution_count": 1,
   "id": "a67b6314-4c2a-4ae9-9a31-48beb6115d6a",
   "metadata": {
    "slideshow": {
     "slide_type": "fragment"
    }
   },
   "outputs": [
    {
     "name": "stdout",
     "output_type": "stream",
     "text": [
      "7.8\n"
     ]
    }
   ],
   "source": [
    "# Example\n",
    "scores = [2.39, 1.12, 5.21, 8.92, 1.24]\n",
    "\n",
    "# Find the range by using min and max\n",
    "lowest = min(scores)\n",
    "highest = max(scores)\n",
    "\n",
    "# Compute the span\n",
    "print(highest - lowest)"
   ]
  },
  {
   "cell_type": "markdown",
   "id": "0a0183b8-31cd-4a01-bbf9-126b642d9b0c",
   "metadata": {
    "slideshow": {
     "slide_type": "subslide"
    }
   },
   "source": [
    "#### Functions examples\n",
    "`max` and `min` are really simple functions, with a single input. Sometimes functions have more than one input, or **argument**. More than one argument is entered by separating with a `,`.\n",
    "\n",
    "A common data analysis function is `round`, which rounds numbers to a degree of precision set by you. Its first input is a value you want to round, and the second is the level of precision you want."
   ]
  },
  {
   "cell_type": "code",
   "execution_count": 2,
   "id": "74401523-dd21-4f0d-a61d-6bb80319b6e8",
   "metadata": {
    "slideshow": {
     "slide_type": "fragment"
    }
   },
   "outputs": [
    {
     "name": "stdout",
     "output_type": "stream",
     "text": [
      "3.194\n"
     ]
    }
   ],
   "source": [
    "# Multi-argument function example\n",
    "value = 3.193849291\n",
    "\n",
    "# Use round \n",
    "rounded = round(value, 3)\n",
    "\n",
    "print(rounded)"
   ]
  },
  {
   "cell_type": "markdown",
   "id": "098efef0-fa0a-4c36-8c75-5322a9920af1",
   "metadata": {
    "slideshow": {
     "slide_type": "subslide"
    }
   },
   "source": [
    "#### Functions examples\n",
    "Functions often have what are known as default arguments. What happens if we just give `round` a single argument, the number we want to round?"
   ]
  },
  {
   "cell_type": "code",
   "execution_count": 3,
   "id": "cb740c1f-abd9-4fa5-8ee9-c9aaff0779ca",
   "metadata": {
    "slideshow": {
     "slide_type": "fragment"
    }
   },
   "outputs": [
    {
     "name": "stdout",
     "output_type": "stream",
     "text": [
      "3\n"
     ]
    }
   ],
   "source": [
    "# Testing round\n",
    "print(round(value))"
   ]
  },
  {
   "cell_type": "markdown",
   "id": "fe781c26-03b4-4a7d-bb82-685a7c90554f",
   "metadata": {
    "slideshow": {
     "slide_type": "fragment"
    }
   },
   "source": [
    "Python has made a guess about what you want - rounded to a whole number. That is, the second argument has a **default** value - zero."
   ]
  },
  {
   "cell_type": "markdown",
   "id": "15d901d9-f950-4ce7-a459-44296ebbf538",
   "metadata": {
    "slideshow": {
     "slide_type": "subslide"
    }
   },
   "source": [
    "#### `help`!\n",
    "If you ever get confused about what a function does, or what arguments it requires, you can ask for help. \n",
    "`help` is a function whose job is to give you a print out of how a function works. What does it say about `round`?"
   ]
  },
  {
   "cell_type": "code",
   "execution_count": 4,
   "id": "1f476df2-6576-4149-926c-e5f97620a8db",
   "metadata": {
    "slideshow": {
     "slide_type": "fragment"
    }
   },
   "outputs": [
    {
     "name": "stdout",
     "output_type": "stream",
     "text": [
      "Help on built-in function round in module builtins:\n",
      "\n",
      "round(number, ndigits=None)\n",
      "    Round a number to a given precision in decimal digits.\n",
      "    \n",
      "    The return value is an integer if ndigits is omitted or None.  Otherwise\n",
      "    the return value has the same type as the number.  ndigits may be negative.\n",
      "\n"
     ]
    }
   ],
   "source": [
    "# Get help on round\n",
    "help(round)"
   ]
  },
  {
   "cell_type": "markdown",
   "id": "52e0d461-0d02-4b5e-8fd3-adacdec18f1c",
   "metadata": {
    "slideshow": {
     "slide_type": "subslide"
    }
   },
   "source": [
    "## Methods\n",
    "We've seen methods before - the special functions that a `list` can use to make alterations to itself. \n",
    "\n",
    "But methods are everywhere, and depend on the variable in question. You can use `help` on a specific data type to see what methods it has. \n",
    "\n",
    "`string` data has a range of useful methods that make working with text data simple.\n",
    "\n",
    "For example, we can use:\n",
    "* `.upper()`\n",
    "* `.lower()`\n",
    "* `.count()`\n",
    "* `.split()`\n",
    "* `.join()`\n",
    "\n",
    "for various exciting possibilities. "
   ]
  },
  {
   "cell_type": "code",
   "execution_count": 5,
   "id": "bc210284-505c-45b5-8b45-9b420f7710af",
   "metadata": {
    "slideshow": {
     "slide_type": "subslide"
    }
   },
   "outputs": [],
   "source": [
    "# Define a string\n",
    "basic = 'We are going to play with this!'"
   ]
  },
  {
   "cell_type": "code",
   "execution_count": 6,
   "id": "9f0ac84a-90a9-46c9-ad49-8e4f0c7b1c6f",
   "metadata": {
    "slideshow": {
     "slide_type": "fragment"
    }
   },
   "outputs": [
    {
     "name": "stdout",
     "output_type": "stream",
     "text": [
      "WE ARE GOING TO PLAY WITH THIS!\n"
     ]
    }
   ],
   "source": [
    "# How does .upper() work?\n",
    "print(basic.upper())"
   ]
  },
  {
   "cell_type": "code",
   "execution_count": 7,
   "id": "7ed14e02-f741-42a1-9856-9a42ffde28b0",
   "metadata": {
    "slideshow": {
     "slide_type": "fragment"
    }
   },
   "outputs": [
    {
     "name": "stdout",
     "output_type": "stream",
     "text": [
      "we are going to play with this!\n"
     ]
    }
   ],
   "source": [
    "# So lower should...\n",
    "print(basic.lower())"
   ]
  },
  {
   "cell_type": "code",
   "execution_count": 8,
   "id": "b7f3b05e-092a-4573-992d-2156b5a9fd4c",
   "metadata": {
    "slideshow": {
     "slide_type": "fragment"
    }
   },
   "outputs": [
    {
     "name": "stdout",
     "output_type": "stream",
     "text": [
      "2\n"
     ]
    }
   ],
   "source": [
    "# How many 'a's in this sentence?\n",
    "print(basic.count('a'))"
   ]
  },
  {
   "cell_type": "code",
   "execution_count": 9,
   "id": "a2fa61a1-da0a-41c2-b0d2-9c002481432e",
   "metadata": {
    "slideshow": {
     "slide_type": "fragment"
    }
   },
   "outputs": [
    {
     "name": "stdout",
     "output_type": "stream",
     "text": [
      "['We', 'are', 'going', 'to', 'play', 'with', 'this!']\n"
     ]
    }
   ],
   "source": [
    "# Chop this up by the number of space\n",
    "print(basic.split(' '))"
   ]
  },
  {
   "cell_type": "code",
   "execution_count": 10,
   "id": "217ad329-df72-454c-896c-51debde786dd",
   "metadata": {
    "slideshow": {
     "slide_type": "fragment"
    }
   },
   "outputs": [
    {
     "name": "stdout",
     "output_type": "stream",
     "text": [
      "We!are!going!to!play!with!this!\n"
     ]
    }
   ],
   "source": [
    "# Join is cool!\n",
    "split_list = basic.split(' ')\n",
    "print('!'.join(split_list))"
   ]
  },
  {
   "cell_type": "markdown",
   "id": "664660b0-ecc8-40f3-b833-d683d2f9f10d",
   "metadata": {
    "slideshow": {
     "slide_type": "slide"
    }
   },
   "source": [
    "## Loops\n",
    "Things are getting more advanced now. There is one programming practice that you should master to fully control your data. \n",
    "\n",
    "What we've seen so far is straightforward, defining collections like lists and dictionaries, and retrieving data from them through indexing. Sometimes, we want to do something with each element in a data collection - perhaps call a function on it, read a file, remove a piece of data, etc. How can we do this without manually accessing each element manually?\n",
    "\n",
    "The answer is the `for` loop, a special piece of syntax that allows us to *iterate* over a sequance or collection and retrieve the values inside by temporarily passing them to a new variable of whatever name we choose. \n",
    "\n",
    "The format looks like this:\n",
    "\n",
    "`for variable in sequence:`\n",
    "\n",
    "    `do something with variable`\n",
    "    \n",
    "Not the indentation on the second line - as you'll see, this is part of the code. Python uses this to differentiate code that is in the for loop with that outside of it. "
   ]
  },
  {
   "cell_type": "markdown",
   "id": "cfd5c3fb-dca5-46e2-bbc8-bb06396e5095",
   "metadata": {
    "slideshow": {
     "slide_type": "subslide"
    }
   },
   "source": [
    "For loops can be confusing, so some examples are required!"
   ]
  },
  {
   "cell_type": "code",
   "execution_count": 11,
   "id": "de28ae15-db62-4e75-a92b-b7da9572b082",
   "metadata": {
    "slideshow": {
     "slide_type": "fragment"
    }
   },
   "outputs": [
    {
     "name": "stdout",
     "output_type": "stream",
     "text": [
      "12.394\n",
      "9.0948\n",
      "1.02\n",
      "39.4023\n",
      "2.392\n",
      "50.12948912\n"
     ]
    }
   ],
   "source": [
    "# Make a list - these values all need to be rounded to two decimal places!\n",
    "data_list = [12.394, 9.0948, 1.02, 39.4023, 2.392, 50.12948912]\n",
    "\n",
    "# Write a for loop that prints each element in turn\n",
    "for score in data_list:\n",
    "    print(score)"
   ]
  },
  {
   "cell_type": "markdown",
   "id": "2b0d7df5-4869-47fe-ad4c-87a029c8ee9f",
   "metadata": {
    "slideshow": {
     "slide_type": "fragment"
    }
   },
   "source": [
    "At each iteration, the value of `score` changed to be the next element in the list. So it started with the element in the position `[0]`, then `[1]`, and then onwards until `data_list` was finished. "
   ]
  },
  {
   "cell_type": "markdown",
   "id": "55c34471-397a-4a69-9e82-3dad3bdb3ad0",
   "metadata": {
    "slideshow": {
     "slide_type": "subslide"
    }
   },
   "source": [
    "Let's say we want to modify each element of a list, by rounding the numbers. This could be achieved as follows:"
   ]
  },
  {
   "cell_type": "code",
   "execution_count": 12,
   "id": "3fb509a2-019c-4cee-8ef6-a72209ff64c0",
   "metadata": {
    "slideshow": {
     "slide_type": "fragment"
    }
   },
   "outputs": [
    {
     "name": "stdout",
     "output_type": "stream",
     "text": [
      "[12.39, 9.09, 1.02, 39.4, 2.39, 50.13]\n"
     ]
    }
   ],
   "source": [
    "# First, make an empty list to store our new data - just square brackets with no variables\n",
    "rounded_data = []\n",
    "\n",
    "# Iterate over the original list - round each element - and append to our empty list\n",
    "for value in data_list:\n",
    "    round_value = round(value, 2)\n",
    "    rounded_data.append(round_value)\n",
    "    \n",
    "print(rounded_data)"
   ]
  },
  {
   "cell_type": "markdown",
   "id": "1a2a0d3e-6269-40aa-aa9c-2214442f3ca9",
   "metadata": {
    "slideshow": {
     "slide_type": "subslide"
    }
   },
   "source": [
    "#### Building complexity with iteration\n",
    "You aren't limited to iterating just once. You can **nest** an iteration in the same way you can nest lists and dictionaries. This sometimes happens if you need to dig deeper into data structures to manipulate values."
   ]
  },
  {
   "cell_type": "code",
   "execution_count": 13,
   "id": "9efc6854-24bc-4195-87b3-e51aff9279a5",
   "metadata": {
    "slideshow": {
     "slide_type": "fragment"
    }
   },
   "outputs": [
    {
     "name": "stdout",
     "output_type": "stream",
     "text": [
      "001\n",
      "23\n",
      "female\n",
      "002\n",
      "31\n",
      "male\n",
      "003\n",
      "40\n",
      "female\n"
     ]
    }
   ],
   "source": [
    "# Define a nested list\n",
    "nest_list = [ ['001', 23, 'female'], ['002', 31, 'male'], ['003', 40, 'female'] ]\n",
    "\n",
    "# Iterate over the main list\n",
    "for participant in nest_list:\n",
    "    \n",
    "    # Iterate over the sub-list\n",
    "    for score in participant:\n",
    "        print(score)"
   ]
  },
  {
   "cell_type": "code",
   "execution_count": 14,
   "id": "dda2ddb7-823f-40b9-853c-10790abe1748",
   "metadata": {
    "slideshow": {
     "slide_type": "subslide"
    }
   },
   "outputs": [
    {
     "name": "stdout",
     "output_type": "stream",
     "text": [
      "Participant ID = 001, age = 23, sex = female\n",
      "Participant ID = 002, age = 31, sex = male\n",
      "Participant ID = 003, age = 40, sex = female\n"
     ]
    }
   ],
   "source": [
    "# Or access the sublists to do what we want!\n",
    "for participant in nest_list:\n",
    "    \n",
    "    line = 'Participant ID = ' + participant[0] + ', age = ' + str(participant[1]) + ', sex = ' + participant[2]\n",
    "    print(line)"
   ]
  },
  {
   "cell_type": "markdown",
   "id": "8a6390dd-9fdb-4056-a926-2ba713d3800d",
   "metadata": {
    "slideshow": {
     "slide_type": "subslide"
    }
   },
   "source": [
    "## Loops\n",
    "#### `enumerate` \n",
    "It should be clear from the above examples that when iterating over a list using `for`, we get back a variable that changes at each iteration. This is usually fine, but sometimes, we want to know the **actual position** of the element and do something with that. \n",
    "\n",
    "The `enumerate` function is used for dealing with this. We call `enumerate` on a sequence when we set up a `for` loop, and it returns a pair of variables - a counter, that returns the index, and a value, that returns the element, just like a normal `for` loop. \n",
    "\n",
    "The syntax looks like this!\n",
    "\n",
    "`for index, value in enumerate(sequence):`\n",
    "\n",
    "    `do stuff!`"
   ]
  },
  {
   "cell_type": "code",
   "execution_count": 15,
   "id": "d233e9a7-da2d-4440-81f6-4fc68b49d103",
   "metadata": {
    "slideshow": {
     "slide_type": "fragment"
    }
   },
   "outputs": [
    {
     "name": "stdout",
     "output_type": "stream",
     "text": [
      "Item in position 0 is 123\n",
      "Item in position 1 is 381\n",
      "Item in position 2 is content\n",
      "Item in position 3 is value\n"
     ]
    }
   ],
   "source": [
    "# Define a list\n",
    "data_list = [123, 381, 'content', 'value']\n",
    "\n",
    "for index, value in enumerate(data_list):\n",
    "    line = 'Item in position ' + str(index) + ' is ' + str(value)\n",
    "    print(line)"
   ]
  },
  {
   "cell_type": "code",
   "execution_count": 16,
   "id": "756b88cc-dc47-4db2-9007-f68616b547d2",
   "metadata": {
    "slideshow": {
     "slide_type": "fragment"
    }
   },
   "outputs": [
    {
     "name": "stdout",
     "output_type": "stream",
     "text": [
      "123\n",
      "381\n",
      "content\n",
      "value\n"
     ]
    }
   ],
   "source": [
    "# To demonstrate the use of index to actually access elements!\n",
    "for index, value in enumerate(data_list):\n",
    "    print(data_list[index])"
   ]
  },
  {
   "cell_type": "code",
   "execution_count": 17,
   "id": "57693f00-a9e9-4287-b60c-aac41888e383",
   "metadata": {
    "slideshow": {
     "slide_type": "fragment"
    }
   },
   "outputs": [
    {
     "name": "stdout",
     "output_type": "stream",
     "text": [
      "[12.394, 9.0948, 1.02, 39.4023, 2.392, 50.12948912]\n",
      "[12.39, 9.09, 1.02, 39.4, 2.39, 50.13]\n"
     ]
    }
   ],
   "source": [
    "# Or to more efficiently replace elements - the original list is now lost\n",
    "data_list = [12.394, 9.0948, 1.02, 39.4023, 2.392, 50.12948912]\n",
    "print(data_list)\n",
    "\n",
    "for index, value in enumerate(data_list):\n",
    "    \n",
    "    # Use the index to access and assign a new variable\n",
    "    data_list[index] = round(value, 2)\n",
    "\n",
    "print(data_list)"
   ]
  },
  {
   "cell_type": "markdown",
   "id": "4790c9d5-13e9-4791-a121-7bbde6112691",
   "metadata": {
    "slideshow": {
     "slide_type": "subslide"
    }
   },
   "source": [
    "## Loops\n",
    "### Iterating over dictionaries\n",
    "Dictionaries are a somewhat more complex structure compared to lists. For example, they don't 'remember' the order things were put in them, depending on the version of Python you use, so iterating over them in the same way as lists doesn't always make sense. \n",
    "\n",
    "If we remember the **methods** dictionaries had, we can iterate over those to access and play around with created dictionaries."
   ]
  },
  {
   "cell_type": "code",
   "execution_count": 18,
   "id": "80726b5a-4fbf-482d-b013-9298f064b67c",
   "metadata": {
    "slideshow": {
     "slide_type": "subslide"
    }
   },
   "outputs": [],
   "source": [
    "# Make a dictionary\n",
    "data_dict = {'Score_A': 45.2912, 'Score_B': 68.2945, 'Score_C': 88.9873}"
   ]
  },
  {
   "cell_type": "code",
   "execution_count": 19,
   "id": "ebe4b79e-2c6a-472f-84a6-5a3a5b10d45d",
   "metadata": {
    "slideshow": {
     "slide_type": "fragment"
    }
   },
   "outputs": [
    {
     "name": "stdout",
     "output_type": "stream",
     "text": [
      "Score_A\n",
      "Score_B\n",
      "Score_C\n"
     ]
    }
   ],
   "source": [
    "# Print out the keys\n",
    "for key in data_dict.keys():\n",
    "    print(key)\n",
    "    \n"
   ]
  },
  {
   "cell_type": "code",
   "execution_count": 20,
   "id": "e6cc3561-006b-4e42-9e39-08376ac19898",
   "metadata": {
    "slideshow": {
     "slide_type": "fragment"
    }
   },
   "outputs": [
    {
     "name": "stdout",
     "output_type": "stream",
     "text": [
      "45.2912\n",
      "68.2945\n",
      "88.9873\n"
     ]
    }
   ],
   "source": [
    "# Or use the keys to access the data!\n",
    "for key in data_dict.keys():\n",
    "    print(data_dict[key])"
   ]
  },
  {
   "cell_type": "code",
   "execution_count": 21,
   "id": "f20595a7-e9e0-4a6e-8877-e4dbe80d92dc",
   "metadata": {
    "slideshow": {
     "slide_type": "fragment"
    }
   },
   "outputs": [
    {
     "name": "stdout",
     "output_type": "stream",
     "text": [
      "45.2912\n",
      "68.2945\n",
      "88.9873\n"
     ]
    }
   ],
   "source": [
    "# Use this to grab the values - beware they may not be in the order you think\n",
    "for value in data_dict.values():\n",
    "    print(value)"
   ]
  },
  {
   "cell_type": "code",
   "execution_count": 22,
   "id": "f5156ceb-68d7-4835-b89f-02c038476e74",
   "metadata": {
    "slideshow": {
     "slide_type": "subslide"
    }
   },
   "outputs": [
    {
     "name": "stdout",
     "output_type": "stream",
     "text": [
      "The key Score_A returns the value: 45.2912\n",
      "The key Score_B returns the value: 68.2945\n",
      "The key Score_C returns the value: 88.9873\n"
     ]
    }
   ],
   "source": [
    "# Finally, use .items to get both key:value pairs out!\n",
    "for key, value in data_dict.items():\n",
    "    line = 'The key ' + key + ' returns the value: ' + str(value)\n",
    "    print(line)"
   ]
  },
  {
   "cell_type": "code",
   "execution_count": 23,
   "id": "f5bf8245-fca0-4d26-88e6-5cba77a6968b",
   "metadata": {
    "slideshow": {
     "slide_type": "fragment"
    }
   },
   "outputs": [
    {
     "name": "stdout",
     "output_type": "stream",
     "text": [
      "{'Score_A': 92905.51, 'Score_B': 318535.02, 'Score_C': 704667.25}\n"
     ]
    }
   ],
   "source": [
    "# Makes sense to use this to modify the original dictionary\n",
    "# Raise each value to the power of 3 to two decimal places\n",
    "for k, v in data_dict.items():\n",
    "    data_dict[k] = round(v ** 3, 2)\n",
    "    \n",
    "print(data_dict)"
   ]
  },
  {
   "cell_type": "markdown",
   "id": "3c49ae95-eadd-43cb-9a4b-02c861fc5f8f",
   "metadata": {
    "slideshow": {
     "slide_type": "slide"
    }
   },
   "source": [
    "The basics are covered! \n",
    "\n",
    "That's a lot of information to take in, but these are the fundamentals of working with data Python. Next time, we will cover the **NumPy** and **Pandas** libraries, which are built to process data efficiently and are the real workhorses of doing data analysis in Python.\n",
    "\n",
    "If you're struggling or are stuck, do not worry. The learning curve is high and it will *take time*. The only way to improve is to keep coding. Try the exercises, and use the internet to look for answers where you aren't sure."
   ]
  },
  {
   "cell_type": "code",
   "execution_count": 24,
   "id": "aaacd3fb-0a45-4814-8d5a-455c3c26ff99",
   "metadata": {
    "slideshow": {
     "slide_type": "skip"
    }
   },
   "outputs": [
    {
     "data": {
      "image/jpeg": "[encoded data removed]",
      "text/html": [
       "\n",
       "<iframe\n",
       "    width=\"400\"\n",
       "    height=\"300\"\n",
       "    src=\"https://www.youtube.com/embed/HluANRwPyNo\"\n",
       "    frameborder=\"0\"\n",
       "    allowfullscreen\n",
       "\n",
       "></iframe>\n"
      ],
      "text/plain": [
       "<IPython.lib.display.YouTubeVideo at 0x1049e3af0>"
      ]
     },
     "metadata": {
      "filenames": {
       "image/jpeg": "/Users/alexjones/Desktop/Python Course/python4psych/_build/jupyter_execute/chapter1/functions_loops_38_0.jpg"
      }
     },
     "output_type": "display_data"
    }
   ],
   "source": [
    "from IPython.display import YouTubeVideo\n",
    "display(YouTubeVideo('HluANRwPyNo'))"
   ]
  }
 ],
 "metadata": {
  "kernelspec": {
   "display_name": "Python 3 (ipykernel)",
   "language": "python",
   "name": "python3"
  },
  "language_info": {
   "codemirror_mode": {
    "name": "ipython",
    "version": 3
   },
   "file_extension": ".py",
   "mimetype": "text/x-python",
   "name": "python",
   "nbconvert_exporter": "python",
   "pygments_lexer": "ipython3",
   "version": "3.10.4"
  }
 },
 "nbformat": 4,
 "nbformat_minor": 5
}