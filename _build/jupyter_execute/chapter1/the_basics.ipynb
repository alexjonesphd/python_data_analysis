{
 "cells": [
  {
   "cell_type": "markdown",
   "metadata": {
    "slideshow": {
     "slide_type": "slide"
    }
   },
   "source": [
    "# The Basics\n",
    "## Comments, the `print` function, and Python as a calculator"
   ]
  },
  {
   "cell_type": "markdown",
   "metadata": {
    "slideshow": {
     "slide_type": "subslide"
    }
   },
   "source": [
    "### Commenting code\n",
    "When writing code, you are your own worst enemy. You might remember what something means at the time of writing, but when you return a day later, a week, or even a month later, you *will* forget. Comment code using by starting a line with `#` - anything following will be ignored by Python."
   ]
  },
  {
   "cell_type": "code",
   "execution_count": 1,
   "metadata": {
    "slideshow": {
     "slide_type": "fragment"
    }
   },
   "outputs": [],
   "source": [
    "# Any line of code you preface with a '#' symbol is a comment. Python will ignore it - its just for you to read. \n",
    "# ALWAYS COMMENT YOUR CODE! #"
   ]
  },
  {
   "cell_type": "markdown",
   "metadata": {
    "slideshow": {
     "slide_type": "subslide"
    }
   },
   "source": [
    "### The `print` function\n",
    "When you write code, you often want to see the results of it. Python will happily run code all day, but unless you ask to see the output of certain pieces of code, it will go about its business silently. Anything you put inside the `print` function will be... printed."
   ]
  },
  {
   "cell_type": "markdown",
   "metadata": {
    "slideshow": {
     "slide_type": "fragment"
    }
   },
   "source": [
    "### Python is capable of basic maths - it can be used as a calculator."
   ]
  },
  {
   "cell_type": "code",
   "execution_count": 2,
   "metadata": {
    "slideshow": {
     "slide_type": "subslide"
    }
   },
   "outputs": [
    {
     "name": "stdout",
     "output_type": "stream",
     "text": [
      "15\n",
      "5\n",
      "5.0\n",
      "1\n",
      "100\n"
     ]
    }
   ],
   "source": [
    "# Addition\n",
    "print(10 + 5)\n",
    "\n",
    "# Subtraction\n",
    "print(10 - 5)\n",
    "\n",
    "# Division\n",
    "print(10 / 2)\n",
    "\n",
    "# Modulus\n",
    "print(10 % 3)\n",
    "\n",
    "# Exponent\n",
    "print(10 ** 2)\n",
    "\n",
    "# Do the print outs below make sense?"
   ]
  },
  {
   "cell_type": "markdown",
   "metadata": {
    "slideshow": {
     "slide_type": "subslide"
    }
   },
   "source": [
    "More complex maths can be done, but follow the order of operations..."
   ]
  },
  {
   "cell_type": "code",
   "execution_count": 3,
   "metadata": {
    "slideshow": {
     "slide_type": "fragment"
    }
   },
   "outputs": [
    {
     "name": "stdout",
     "output_type": "stream",
     "text": [
      "17.0\n"
     ]
    }
   ],
   "source": [
    "# Is this answer surprising?\n",
    "print(4 * 5 / 2 + 7)"
   ]
  },
  {
   "cell_type": "code",
   "execution_count": 4,
   "metadata": {
    "slideshow": {
     "slide_type": "fragment"
    }
   },
   "outputs": [
    {
     "name": "stdout",
     "output_type": "stream",
     "text": [
      "17.0\n"
     ]
    }
   ],
   "source": [
    "# One of Python's rules is 'be explicit.' Python will now work within brackets, inside-out\n",
    "print( (4 * (5 / 2)) + 7 )"
   ]
  },
  {
   "cell_type": "code",
   "execution_count": 5,
   "metadata": {
    "slideshow": {
     "slide_type": "fragment"
    }
   },
   "outputs": [
    {
     "name": "stdout",
     "output_type": "stream",
     "text": [
      "85.0\n"
     ]
    }
   ],
   "source": [
    "# Greater complexity\n",
    "print( (10 * (4 + (10 / 2))) - 5 )"
   ]
  },
  {
   "cell_type": "markdown",
   "metadata": {
    "slideshow": {
     "slide_type": "slide"
    }
   },
   "source": [
    "### Variables and data types\n",
    "Almost always, we want to store information in some way to interact with it later. This is achieved through the use of *variables*. \n",
    "\n",
    "A variable is a kind of box that contains some data, which can be of a variety of *types*."
   ]
  },
  {
   "cell_type": "markdown",
   "metadata": {
    "slideshow": {
     "slide_type": "subslide"
    }
   },
   "source": [
    "### Assigning a variable - 'putting something in a box'\n",
    "Assigning a variable is very straightforward, and we'll be doing a lot of it. Variable assignment has rules!\n",
    "* **Must** begin with a letter (a-z, A-Z) or an underscore, _\n",
    "* Other characters may be letters, numbers or underscores\n",
    "* Variables are **case sensitive**. `my_variable` is different to `My_variable`!\n",
    "* Can be any length, but be sensible.\n",
    "* Some words you cannot use as a variable name, because Python has reserved them\n",
    "    * Examples include `and`, `or`, `for`, `return`, `del`, `def`, `in`, `yield`, `True`, `False`\n"
   ]
  },
  {
   "cell_type": "code",
   "execution_count": 6,
   "metadata": {
    "slideshow": {
     "slide_type": "fragment"
    }
   },
   "outputs": [
    {
     "name": "stdout",
     "output_type": "stream",
     "text": [
      "90\n"
     ]
    }
   ],
   "source": [
    "# An example\n",
    "weight = 90\n",
    "\n",
    "print(weight)"
   ]
  },
  {
   "cell_type": "code",
   "execution_count": 7,
   "metadata": {
    "slideshow": {
     "slide_type": "fragment"
    }
   },
   "outputs": [
    {
     "name": "stdout",
     "output_type": "stream",
     "text": [
      "1.9\n"
     ]
    }
   ],
   "source": [
    "# Another\n",
    "height = 1.90\n",
    "\n",
    "print(height)"
   ]
  },
  {
   "cell_type": "markdown",
   "metadata": {
    "slideshow": {
     "slide_type": "subslide"
    }
   },
   "source": [
    "Its now possible to work with these variables as if they are raw numbers, since they are just pointing to those numbers!"
   ]
  },
  {
   "cell_type": "code",
   "execution_count": 8,
   "metadata": {
    "slideshow": {
     "slide_type": "fragment"
    }
   },
   "outputs": [
    {
     "name": "stdout",
     "output_type": "stream",
     "text": [
      "24.930747922437675\n"
     ]
    }
   ],
   "source": [
    "BMI = weight / (height ** 2)\n",
    "print(BMI)"
   ]
  },
  {
   "cell_type": "markdown",
   "metadata": {
    "slideshow": {
     "slide_type": "subslide"
    }
   },
   "source": [
    "What if we made a mistake? Python is a forgiving language. We can simply overwrite the earlier valuable by reassigning it, or altering it in some way!"
   ]
  },
  {
   "cell_type": "code",
   "execution_count": 9,
   "metadata": {
    "slideshow": {
     "slide_type": "fragment"
    }
   },
   "outputs": [
    {
     "name": "stdout",
     "output_type": "stream",
     "text": [
      "95\n"
     ]
    }
   ],
   "source": [
    "# We've gained weight!\n",
    "weight = 95\n",
    "\n",
    "print(weight)"
   ]
  },
  {
   "cell_type": "markdown",
   "metadata": {
    "slideshow": {
     "slide_type": "subslide"
    }
   },
   "source": [
    "Since we can interact with variables as if they are numbers, the following approaches are also valid."
   ]
  },
  {
   "cell_type": "code",
   "execution_count": 10,
   "metadata": {
    "slideshow": {
     "slide_type": "fragment"
    }
   },
   "outputs": [
    {
     "name": "stdout",
     "output_type": "stream",
     "text": [
      "2.0\n",
      "1.95\n"
     ]
    }
   ],
   "source": [
    "# We need to increase the height\n",
    "height = height + 0.10\n",
    "\n",
    "print(height)\n",
    "\n",
    "# I can't seem to get this right...\n",
    "height = height - 0.10\n",
    "height = height + 0.05\n",
    "\n",
    "print(height)"
   ]
  },
  {
   "cell_type": "markdown",
   "metadata": {
    "slideshow": {
     "slide_type": "subslide"
    }
   },
   "source": [
    "### 'Syntactic sugar'\n",
    "It's pretty common to reassign a variable using the notation above. But that is a lot of typing. Python has some excellent shortcuts that can speed these operations up, which are known as 'syntactic sugar' - sweet code!"
   ]
  },
  {
   "cell_type": "code",
   "execution_count": 11,
   "metadata": {
    "slideshow": {
     "slide_type": "fragment"
    }
   },
   "outputs": [
    {
     "name": "stdout",
     "output_type": "stream",
     "text": [
      "31\n"
     ]
    }
   ],
   "source": [
    "# How to alter a variable quickly\n",
    "age = 30\n",
    "\n",
    "# My birthday is this week, so...\n",
    "age += 1\n",
    "\n",
    "print(age)"
   ]
  },
  {
   "cell_type": "markdown",
   "metadata": {
    "slideshow": {
     "slide_type": "fragment"
    }
   },
   "source": [
    "It's possible to use `+=`, `-=`, `/=`, `%=`, and `**=` to carry out the various operations on variables in place, **if** the variables refer to a single number."
   ]
  },
  {
   "cell_type": "markdown",
   "metadata": {
    "slideshow": {
     "slide_type": "subslide"
    }
   },
   "source": [
    "### Variable types\n",
    "Not all variables and data are the same, and what you can do with a variable depends on its type. Each type comes with its own abilities and uses.\n"
   ]
  },
  {
   "cell_type": "markdown",
   "metadata": {
    "slideshow": {
     "slide_type": "subslide"
    }
   },
   "source": [
    "There are several common data types that you see during analysis. \n",
    "\n",
    "* Integers, known as `int`. These are whole numbers, e.g. `1`, `45`.\n",
    "* Floating points, or `float`. These are numbers with extra precision, e.g. `3.894`, `99.100000003`\n",
    "\n",
    "\n",
    "* Booleans, or `bool`. These are special variables that are represented by `True` and `False`. These have a range of uses in **comparing** variables, or checking whether certain conditions are met.\n",
    "* Strings, or `str`. These represent text data and have a range of uses in data analysis. \n",
    "\n",
    "How do you know what type your variable is? Use the `type` function!"
   ]
  },
  {
   "cell_type": "code",
   "execution_count": 12,
   "metadata": {
    "slideshow": {
     "slide_type": "subslide"
    }
   },
   "outputs": [
    {
     "name": "stdout",
     "output_type": "stream",
     "text": [
      "<class 'int'>\n"
     ]
    }
   ],
   "source": [
    "# Make an integer\n",
    "an_integer = 1\n",
    "print(type(an_integer))"
   ]
  },
  {
   "cell_type": "code",
   "execution_count": 13,
   "metadata": {
    "slideshow": {
     "slide_type": "fragment"
    }
   },
   "outputs": [
    {
     "name": "stdout",
     "output_type": "stream",
     "text": [
      "<class 'float'>\n"
     ]
    }
   ],
   "source": [
    "# Make a float\n",
    "a_float = 5.78\n",
    "print(type(a_float))"
   ]
  },
  {
   "cell_type": "code",
   "execution_count": 14,
   "metadata": {
    "slideshow": {
     "slide_type": "fragment"
    }
   },
   "outputs": [
    {
     "name": "stdout",
     "output_type": "stream",
     "text": [
      "<class 'bool'>\n"
     ]
    }
   ],
   "source": [
    "# Booleans already exist, but we can assign them to a variable\n",
    "is_true = True\n",
    "print(type(is_true))"
   ]
  },
  {
   "cell_type": "code",
   "execution_count": 15,
   "metadata": {
    "slideshow": {
     "slide_type": "subslide"
    }
   },
   "outputs": [
    {
     "name": "stdout",
     "output_type": "stream",
     "text": [
      "<class 'str'>\n",
      "Any text tha\n",
      "t star\n",
      "ts with three quotes     \n",
      "will be formatted just like you type!\n"
     ]
    }
   ],
   "source": [
    "# Make a string\n",
    "a_string = 'Hello world'\n",
    "\n",
    "another_string = \"Hello again\"\n",
    "\n",
    "formatted_string = \"\"\"Any text tha\n",
    "t star\n",
    "ts with three quotes     \n",
    "will be formatted just like you type!\"\"\"\n",
    "\n",
    "print(type(a_string))\n",
    "\n",
    "# Just to show\n",
    "print(formatted_string)"
   ]
  },
  {
   "cell_type": "markdown",
   "metadata": {
    "slideshow": {
     "slide_type": "subslide"
    }
   },
   "source": [
    "### Converting between types\n",
    "Variables do not have to stay as the type they were assigned to. \n",
    "\n",
    "The variable types - `int`, `float`, `bool`, and `str` can be used as functions to convert between types, but only if the variables have certain values."
   ]
  },
  {
   "cell_type": "code",
   "execution_count": 16,
   "metadata": {
    "slideshow": {
     "slide_type": "subslide"
    }
   },
   "outputs": [
    {
     "name": "stdout",
     "output_type": "stream",
     "text": [
      "<class 'int'> 5\n"
     ]
    }
   ],
   "source": [
    "# Convert a float to a an integer\n",
    "to_int = int(a_float)\n",
    "\n",
    "print(type(to_int), to_int)"
   ]
  },
  {
   "cell_type": "code",
   "execution_count": 17,
   "metadata": {
    "slideshow": {
     "slide_type": "fragment"
    }
   },
   "outputs": [
    {
     "name": "stdout",
     "output_type": "stream",
     "text": [
      "<class 'float'> 1.0\n"
     ]
    }
   ],
   "source": [
    "# Convert an integer to a float\n",
    "to_float = float(an_integer)\n",
    "\n",
    "print(type(to_float), to_float)"
   ]
  },
  {
   "cell_type": "code",
   "execution_count": 18,
   "metadata": {
    "slideshow": {
     "slide_type": "fragment"
    }
   },
   "outputs": [
    {
     "name": "stdout",
     "output_type": "stream",
     "text": [
      "<class 'bool'> True\n",
      "<class 'bool'> False\n"
     ]
    }
   ],
   "source": [
    "# Convert an integer to a boolean - anything 1 or more gets converted to True, zero is False\n",
    "true_bool = bool(12)\n",
    "false_bool = bool(0)\n",
    "\n",
    "print(type(true_bool), true_bool)\n",
    "print(type(false_bool), false_bool)"
   ]
  },
  {
   "cell_type": "code",
   "execution_count": 19,
   "metadata": {
    "slideshow": {
     "slide_type": "subslide"
    }
   },
   "outputs": [
    {
     "name": "stdout",
     "output_type": "stream",
     "text": [
      "<class 'str'> 1\n"
     ]
    }
   ],
   "source": [
    "# Converting types with strings can be tricky. You can only convert numbers-as-strings to actual numbers.\n",
    "a_number = '1'\n",
    "\n",
    "print(type(a_number), a_number)"
   ]
  },
  {
   "cell_type": "code",
   "execution_count": 20,
   "metadata": {
    "slideshow": {
     "slide_type": "subslide"
    }
   },
   "outputs": [
    {
     "name": "stdout",
     "output_type": "stream",
     "text": [
      "<class 'int'> 1\n"
     ]
    }
   ],
   "source": [
    "# Convert it to an integer\n",
    "as_integer = int(a_number)\n",
    "\n",
    "print(type(as_integer), as_integer)\n",
    "\n",
    "# Notice how they look the same to us, but not to Python!"
   ]
  },
  {
   "cell_type": "code",
   "execution_count": 21,
   "metadata": {
    "slideshow": {
     "slide_type": "fragment"
    }
   },
   "outputs": [
    {
     "name": "stdout",
     "output_type": "stream",
     "text": [
      "<class 'str'> 1342\n"
     ]
    }
   ],
   "source": [
    "# Turn a number to a string\n",
    "as_string = str(1342)\n",
    "\n",
    "print(type(as_string), as_string)"
   ]
  },
  {
   "cell_type": "markdown",
   "metadata": {
    "slideshow": {
     "slide_type": "subslide"
    }
   },
   "source": [
    "### Working with different variable types\n",
    "Variables of different types can interact in certain ways, but not in others. They can also behave in unexpected ways which can catch you out, so its worth learning this early."
   ]
  },
  {
   "cell_type": "code",
   "execution_count": 22,
   "metadata": {
    "slideshow": {
     "slide_type": "fragment"
    }
   },
   "outputs": [
    {
     "name": "stdout",
     "output_type": "stream",
     "text": [
      "5.21\n"
     ]
    }
   ],
   "source": [
    "# Adding an integer and a float works!\n",
    "float_ = float(3.21)\n",
    "int_ = int(2)\n",
    "\n",
    "print(float_ + int_)"
   ]
  },
  {
   "cell_type": "code",
   "execution_count": 23,
   "metadata": {
    "slideshow": {
     "slide_type": "fragment"
    }
   },
   "outputs": [
    {
     "name": "stdout",
     "output_type": "stream",
     "text": [
      "1\n"
     ]
    }
   ],
   "source": [
    "# Adding an integer and a boolean doesn't make any sense, but since True is seen as ONE - makes sense to Python\n",
    "a_bool = True\n",
    "\n",
    "print(int_ - a_bool)"
   ]
  },
  {
   "cell_type": "code",
   "execution_count": 24,
   "metadata": {
    "slideshow": {
     "slide_type": "subslide"
    }
   },
   "outputs": [
    {
     "name": "stdout",
     "output_type": "stream",
     "text": [
      "helloworld\n",
      "Hello world\n",
      "hellohellohellohellohellohellohellohellohellohello\n"
     ]
    }
   ],
   "source": [
    "# Adding strings together is works just like a stitch, but subtraction doesn't work \n",
    "print('hello' + 'world')\n",
    "\n",
    "# Remember your whitespace!\n",
    "print('Hello' + ' ' + 'world')\n",
    "\n",
    "# What happens if I multiply? Division doesn't work!\n",
    "print('hello' * 10)"
   ]
  },
  {
   "cell_type": "code",
   "execution_count": 25,
   "metadata": {
    "slideshow": {
     "slide_type": "fragment"
    }
   },
   "outputs": [
    {
     "name": "stdout",
     "output_type": "stream",
     "text": [
      "The programming language Python is 30 years old\n"
     ]
    }
   ],
   "source": [
    "# But working with strings and other types is as simple as a correct conversion - without, it will break\n",
    "language = 'Python'\n",
    "age = 30\n",
    "\n",
    "sentence = 'The programming language ' + language + ' is ' + str(age) + ' years old'\n",
    "\n",
    "print(sentence)"
   ]
  },
  {
   "cell_type": "markdown",
   "metadata": {
    "slideshow": {
     "slide_type": "slide"
    }
   },
   "source": [
    "### Logic - comparing data and variables\n",
    "\n",
    "A lot of data handling and analysis involves comparison of some kind. How can we compare whether one score is higher than another? How do we remove participants from an analysis who are above a certain age, or have a score outside of a normal range?\n",
    "\n",
    "Computers are excellent at this kind of `logic`, and there are specific rules about how to compare values."
   ]
  },
  {
   "cell_type": "markdown",
   "metadata": {
    "slideshow": {
     "slide_type": "subslide"
    }
   },
   "source": [
    "The specific syntax for comparing variables:\n",
    "\n",
    "* Are two variables the same, `==`\n",
    "* Are two variables **not** the same, `!=`\n",
    "\n",
    "* Is one variable **greater** than another, `>`\n",
    "* Is one variable **less** than another, `<`\n",
    "\n",
    "* Is one variable **greater than or equal** to another, `>=`\n",
    "* Is one variables **less than or equal** to another, `<=`"
   ]
  },
  {
   "cell_type": "markdown",
   "metadata": {
    "slideshow": {
     "slide_type": "fragment"
    }
   },
   "source": [
    "These comparisons are known as **Boolean logic**, and the results of the comparisons will be either `True` or `False` - the special variables that are used to manage logical outcomes."
   ]
  },
  {
   "cell_type": "code",
   "execution_count": 26,
   "metadata": {
    "slideshow": {
     "slide_type": "subslide"
    }
   },
   "outputs": [],
   "source": [
    "# Variable comparison examples\n",
    "# Define some simple variables - ';' can be used to have more than one statement on a line\n",
    "a = 5; b = 3; c = 23; d = 23"
   ]
  },
  {
   "cell_type": "code",
   "execution_count": 27,
   "metadata": {
    "slideshow": {
     "slide_type": "fragment"
    }
   },
   "outputs": [
    {
     "name": "stdout",
     "output_type": "stream",
     "text": [
      "True\n"
     ]
    }
   ],
   "source": [
    "# Is a greater than b?\n",
    "print(a > b)"
   ]
  },
  {
   "cell_type": "code",
   "execution_count": 28,
   "metadata": {
    "slideshow": {
     "slide_type": "fragment"
    }
   },
   "outputs": [
    {
     "name": "stdout",
     "output_type": "stream",
     "text": [
      "True\n"
     ]
    }
   ],
   "source": [
    "# Is b less than c?\n",
    "print(b < c)"
   ]
  },
  {
   "cell_type": "code",
   "execution_count": 29,
   "metadata": {
    "slideshow": {
     "slide_type": "fragment"
    }
   },
   "outputs": [
    {
     "name": "stdout",
     "output_type": "stream",
     "text": [
      "False\n"
     ]
    }
   ],
   "source": [
    "# Is a greater than d?\n",
    "print(a > d)"
   ]
  },
  {
   "cell_type": "code",
   "execution_count": 30,
   "metadata": {
    "slideshow": {
     "slide_type": "fragment"
    }
   },
   "outputs": [
    {
     "name": "stdout",
     "output_type": "stream",
     "text": [
      "True\n",
      "True\n"
     ]
    }
   ],
   "source": [
    "# Are c and d the same?\n",
    "print(c == d)\n",
    "\n",
    "# Or is one equal to or greater than the other?\n",
    "print(c >= d)"
   ]
  },
  {
   "cell_type": "markdown",
   "metadata": {
    "slideshow": {
     "slide_type": "subslide"
    }
   },
   "source": [
    "Variable comparison is straightforward, but sometimes you may have a series of variables to compare, and this is a little more involved, and uses some extra keywords.\n",
    "\n",
    "Introducing `and`, `or`, `not`:\n",
    "\n",
    "* `and` compares a pair of booleans, and will return a `True` **only** if they are both the same. Also appears as the `&` operator!\n",
    "\n",
    "* `or` compares a pair of booleans, and will return a `True` if at least one of them is `True`. Also appears as the `|` operator.\n",
    "\n",
    "* `not` will invert a boolean value - so if its `True`, it will become `False`, and so on.\n",
    "\n",
    "Let's look at some examples."
   ]
  },
  {
   "cell_type": "code",
   "execution_count": 31,
   "metadata": {
    "slideshow": {
     "slide_type": "subslide"
    }
   },
   "outputs": [],
   "source": [
    "# Define some variables\n",
    "x = 10; y = 12; z = 15\n",
    "a = 9; b = 22; c = 30\n",
    "age = 30; sex = 'female'"
   ]
  },
  {
   "cell_type": "code",
   "execution_count": 32,
   "metadata": {
    "slideshow": {
     "slide_type": "fragment"
    }
   },
   "outputs": [
    {
     "data": {
      "text/plain": [
       "True"
      ]
     },
     "execution_count": 32,
     "metadata": {},
     "output_type": "execute_result"
    }
   ],
   "source": [
    "# Demonstrate 'and'\n",
    "age > 20 and y > 10"
   ]
  },
  {
   "cell_type": "code",
   "execution_count": 33,
   "metadata": {
    "slideshow": {
     "slide_type": "fragment"
    }
   },
   "outputs": [
    {
     "data": {
      "text/plain": [
       "True"
      ]
     },
     "execution_count": 33,
     "metadata": {},
     "output_type": "execute_result"
    }
   ],
   "source": [
    "# Demonstrate 'or' \n",
    "sex == 'female' or age < 20"
   ]
  },
  {
   "cell_type": "code",
   "execution_count": 34,
   "metadata": {
    "slideshow": {
     "slide_type": "fragment"
    }
   },
   "outputs": [
    {
     "data": {
      "text/plain": [
       "True"
      ]
     },
     "execution_count": 34,
     "metadata": {},
     "output_type": "execute_result"
    }
   ],
   "source": [
    "# Demonstrate 'not'\n",
    "not b < 20 and age >= 30"
   ]
  },
  {
   "cell_type": "markdown",
   "metadata": {
    "slideshow": {
     "slide_type": "subslide"
    }
   },
   "source": [
    "There are more complex comparisons can be carried out using `()` to group subsets of comparisons that can make up larger comparisons."
   ]
  },
  {
   "cell_type": "code",
   "execution_count": 35,
   "metadata": {
    "slideshow": {
     "slide_type": "fragment"
    }
   },
   "outputs": [
    {
     "data": {
      "text/plain": [
       "True"
      ]
     },
     "execution_count": 35,
     "metadata": {},
     "output_type": "execute_result"
    }
   ],
   "source": [
    "# More complex comparisons\n",
    "(sex == 'female' and age < 30) or (a < 9 or c == 30)"
   ]
  },
  {
   "cell_type": "code",
   "execution_count": 36,
   "metadata": {
    "slideshow": {
     "slide_type": "fragment"
    }
   },
   "outputs": [
    {
     "data": {
      "text/plain": [
       "True"
      ]
     },
     "execution_count": 36,
     "metadata": {},
     "output_type": "execute_result"
    }
   ],
   "source": [
    "# More complex \n",
    "not (sex == 'male' and age < 30) and (b < 25 or z > 16)"
   ]
  }
 ],
 "metadata": {
  "celltoolbar": "Slideshow",
  "kernelspec": {
   "display_name": "Python 3 (ipykernel)",
   "language": "python",
   "name": "python3"
  },
  "language_info": {
   "codemirror_mode": {
    "name": "ipython",
    "version": 3
   },
   "file_extension": ".py",
   "mimetype": "text/x-python",
   "name": "python",
   "nbconvert_exporter": "python",
   "pygments_lexer": "ipython3",
   "version": "3.10.4"
  },
  "toc-autonumbering": true,
  "toc-showcode": false,
  "toc-showmarkdowntxt": false,
  "toc-showtags": false
 },
 "nbformat": 4,
 "nbformat_minor": 4
}