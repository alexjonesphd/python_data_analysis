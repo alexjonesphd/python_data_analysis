{
 "cells": [
  {
   "cell_type": "markdown",
   "metadata": {
    "slideshow": {
     "slide_type": "slide"
    }
   },
   "source": [
    "# The Basics\n",
    "## Comments, the `print` function, and Python as a calculator"
   ]
  },
  {
   "cell_type": "markdown",
   "metadata": {
    "slideshow": {
     "slide_type": "subslide"
    }
   },
   "source": [
    "### Commenting code\n",
    "When writing code, you are your own worst enemy. You might remember what something means at the time of writing, but when you return a day later, a week, or even a month later, you *will* forget. Comment code using by starting a line with `#` - anything following will be ignored by Python."
   ]
  },
  {
   "cell_type": "code",
   "execution_count": 1,
   "metadata": {
    "slideshow": {
     "slide_type": "fragment"
    }
   },
   "outputs": [],
   "source": [
    "# Any line of code you preface with a '#' symbol is a comment. Python will ignore it - its just for you to read. \n",
    "# ALWAYS COMMENT YOUR CODE! #"
   ]
  },
  {
   "cell_type": "markdown",
   "metadata": {
    "slideshow": {
     "slide_type": "subslide"
    }
   },
   "source": [
    "### The `print` function\n",
    "When you write code, you often want to see the results of it. Python will happily run code all day, but unless you ask to see the output of certain pieces of code, it will go about its business silently. Anything you put inside the `print` function will be... printed."
   ]
  },
  {
   "cell_type": "markdown",
   "metadata": {
    "slideshow": {
     "slide_type": "fragment"
    }
   },
   "source": [
    "### Python is capable of basic maths - it can be used as a calculator."
   ]
  },
  {
   "cell_type": "code",
   "execution_count": 2,
   "metadata": {
    "slideshow": {
     "slide_type": "subslide"
    }
   },
   "outputs": [
    {
     "name": "stdout",
     "output_type": "stream",
     "text": [
      "15\n",
      "5\n",
      "5.0\n",
      "1\n",
      "100\n"
     ]
    }
   ],
   "source": [
    "# Addition\n",
    "print(10 + 5)\n",
    "\n",
    "# Subtraction\n",
    "print(10 - 5)\n",
    "\n",
    "# Division\n",
    "print(10 / 2)\n",
    "\n",
    "# Modulus\n",
    "print(10 % 3)\n",
    "\n",
    "# Exponent\n",
    "print(10 ** 2)\n",
    "\n",
    "# Do the print outs below make sense?"
   ]
  },
  {
   "cell_type": "markdown",
   "metadata": {
    "slideshow": {
     "slide_type": "subslide"
    }
   },
   "source": [
    "More complex maths can be done, but follow the order of operations..."
   ]
  },
  {
   "cell_type": "code",
   "execution_count": 3,
   "metadata": {
    "slideshow": {
     "slide_type": "fragment"
    }
   },
   "outputs": [
    {
     "name": "stdout",
     "output_type": "stream",
     "text": [
      "17.0\n"
     ]
    }
   ],
   "source": [
    "# Is this answer surprising?\n",
    "print(4 * 5 / 2 + 7)"
   ]
  },
  {
   "cell_type": "code",
   "execution_count": 4,
   "metadata": {
    "slideshow": {
     "slide_type": "fragment"
    }
   },
   "outputs": [
    {
     "name": "stdout",
     "output_type": "stream",
     "text": [
      "17.0\n"
     ]
    }
   ],
   "source": [
    "# One of Python's rules is 'be explicit.' Python will now work within brackets, inside-out\n",
    "print( (4 * (5 / 2)) + 7 )"
   ]
  },
  {
   "cell_type": "code",
   "execution_count": 5,
   "metadata": {
    "slideshow": {
     "slide_type": "fragment"
    }
   },
   "outputs": [
    {
     "name": "stdout",
     "output_type": "stream",
     "text": [
      "85.0\n"
     ]
    }
   ],
   "source": [
    "# Greater complexity\n",
    "print( (10 * (4 + (10 / 2))) - 5 )"
   ]
  },
  {
   "cell_type": "markdown",
   "metadata": {
    "slideshow": {
     "slide_type": "slide"
    }
   },
   "source": [
    "### Variables and data types\n",
    "Almost always, we want to store information in some way to interact with it later. This is achieved through the use of *variables*. \n",
    "\n",
    "A variable is a kind of box that contains some data, which can be of a variety of *types*."
   ]
  },
  {
   "cell_type": "markdown",
   "metadata": {
    "slideshow": {
     "slide_type": "subslide"
    }
   },
   "source": [
    "### Assigning a variable - 'putting something in a box'\n",
    "Assigning a variable is very straightforward, and we'll be doing a lot of it. Variable assignment has rules!\n",
    "* **Must** begin with a letter (a-z, A-Z) or an underscore, _\n",
    "* Other characters may be letters, numbers or underscores\n",
    "* Variables are **case sensitive**. `my_variable` is different to `My_variable`!\n",
    "* Can be any length, but be sensible.\n",
    "* Some words you cannot use as a variable name, because Python has reserved them\n",
    "    * Examples include `and`, `or`, `for`, `return`, `del`, `def`, `in`, `yield`, `True`, `False`\n"
   ]
  },
  {
   "cell_type": "code",
   "execution_count": 6,
   "metadata": {
    "slideshow": {
     "slide_type": "fragment"
    }
   },
   "outputs": [
    {
     "name": "stdout",
     "output_type": "stream",
     "text": [
      "90\n"
     ]
    }
   ],
   "source": [
    "# An example\n",
    "weight = 90\n",
    "\n",
    "print(weight)"
   ]
  },
  {
   "cell_type": "code",
   "execution_count": 7,
   "metadata": {
    "slideshow": {
     "slide_type": "fragment"
    }
   },
   "outputs": [
    {
     "name": "stdout",
     "output_type": "stream",
     "text": [
      "1.9\n"
     ]
    }
   ],
   "source": [
    "# Another\n",
    "height = 1.90\n",
    "\n",
    "print(height)"
   ]
  },
  {
   "cell_type": "markdown",
   "metadata": {
    "slideshow": {
     "slide_type": "subslide"
    }
   },
   "source": [
    "Its now possible to work with these variables as if they are raw numbers, since they are just pointing to those numbers!"
   ]
  },
  {
   "cell_type": "code",
   "execution_count": 8,
   "metadata": {
    "slideshow": {
     "slide_type": "fragment"
    }
   },
   "outputs": [
    {
     "name": "stdout",
     "output_type": "stream",
     "text": [
      "24.930747922437675\n"
     ]
    }
   ],
   "source": [
    "BMI = weight / (height ** 2)\n",
    "print(BMI)"
   ]
  },
  {
   "cell_type": "markdown",
   "metadata": {
    "slideshow": {
     "slide_type": "subslide"
    }
   },
   "source": [
    "What if we made a mistake? Python is a forgiving language. We can simply overwrite the earlier valuable by reassigning it, or altering it in some way!"
   ]
  },
  {
   "cell_type": "code",
   "execution_count": 9,
   "metadata": {
    "slideshow": {
     "slide_type": "fragment"
    }
   },
   "outputs": [
    {
     "name": "stdout",
     "output_type": "stream",
     "text": [
      "95\n"
     ]
    }
   ],
   "source": [
    "# We've gained weight!\n",
    "weight = 95\n",
    "\n",
    "print(weight)"
   ]
  },
  {
   "cell_type": "markdown",
   "metadata": {
    "slideshow": {
     "slide_type": "subslide"
    }
   },
   "source": [
    "Since we can interact with variables as if they are numbers, the following approaches are also valid."
   ]
  },
  {
   "cell_type": "code",
   "execution_count": 10,
   "metadata": {
    "slideshow": {
     "slide_type": "fragment"
    }
   },
   "outputs": [
    {
     "name": "stdout",
     "output_type": "stream",
     "text": [
      "2.0\n",
      "1.95\n"
     ]
    }
   ],
   "source": [
    "# We need to increase the height\n",
    "height = height + 0.10\n",
    "\n",
    "print(height)\n",
    "\n",
    "# I can't seem to get this right...\n",
    "height = height - 0.10\n",
    "height = height + 0.05\n",
    "\n",
    "print(height)"
   ]
  },
  {
   "cell_type": "markdown",
   "metadata": {
    "slideshow": {
     "slide_type": "subslide"
    }
   },
   "source": [
    "### 'Syntactic sugar'\n",
    "It's pretty common to reassign a variable using the notation above. But that is a lot of typing. Python has some excellent shortcuts that can speed these operations up, which are known as 'syntactic sugar' - sweet code!"
   ]
  },
  {
   "cell_type": "code",
   "execution_count": 11,
   "metadata": {
    "slideshow": {
     "slide_type": "fragment"
    }
   },
   "outputs": [
    {
     "name": "stdout",
     "output_type": "stream",
     "text": [
      "31\n"
     ]
    }
   ],
   "source": [
    "# How to alter a variable quickly\n",
    "age = 30\n",
    "\n",
    "# My birthday is this week, so...\n",
    "age += 1\n",
    "\n",
    "print(age)"
   ]
  },
  {
   "cell_type": "markdown",
   "metadata": {
    "slideshow": {
     "slide_type": "fragment"
    }
   },
   "source": [
    "It's possible to use `+=`, `-=`, `/=`, `%=`, and `**=` to carry out the various operations on variables in place, **if** the variables refer to a single number."
   ]
  },
  {
   "cell_type": "markdown",
   "metadata": {
    "slideshow": {
     "slide_type": "subslide"
    }
   },
   "source": [
    "### Variable types\n",
    "Not all variables and data are the same, and what you can do with a variable depends on its type. Each type comes with its own abilities and uses.\n"
   ]
  },
  {
   "cell_type": "markdown",
   "metadata": {
    "slideshow": {
     "slide_type": "subslide"
    }
   },
   "source": [
    "There are several common data types that you see during analysis. \n",
    "\n",
    "* Integers, known as `int`. These are whole numbers, e.g. `1`, `45`.\n",
    "* Floating points, or `float`. These are numbers with extra precision, e.g. `3.894`, `99.100000003`\n",
    "\n",
    "\n",
    "* Booleans, or `bool`. These are special variables that are represented by `True` and `False`. These have a range of uses in **comparing** variables, or checking whether certain conditions are met.\n",
    "* Strings, or `str`. These represent text data and have a range of uses in data analysis. \n",
    "\n",
    "How do you know what type your variable is? Use the `type` function!"
   ]
  },
  {
   "cell_type": "code",
   "execution_count": 12,
   "metadata": {
    "slideshow": {
     "slide_type": "subslide"
    }
   },
   "outputs": [
    {
     "name": "stdout",
     "output_type": "stream",
     "text": [
      "<class 'int'>\n"
     ]
    }
   ],
   "source": [
    "# Make an integer\n",
    "an_integer = 1\n",
    "print(type(an_integer))"
   ]
  },
  {
   "cell_type": "code",
   "execution_count": 13,
   "metadata": {
    "slideshow": {
     "slide_type": "fragment"
    }
   },
   "outputs": [
    {
     "name": "stdout",
     "output_type": "stream",
     "text": [
      "<class 'float'>\n"
     ]
    }
   ],
   "source": [
    "# Make a float\n",
    "a_float = 5.78\n",
    "print(type(a_float))"
   ]
  },
  {
   "cell_type": "code",
   "execution_count": 14,
   "metadata": {
    "slideshow": {
     "slide_type": "fragment"
    }
   },
   "outputs": [
    {
     "name": "stdout",
     "output_type": "stream",
     "text": [
      "<class 'bool'>\n"
     ]
    }
   ],
   "source": [
    "# Booleans already exist, but we can assign them to a variable\n",
    "is_true = True\n",
    "print(type(is_true))"
   ]
  },
  {
   "cell_type": "code",
   "execution_count": 15,
   "metadata": {
    "slideshow": {
     "slide_type": "subslide"
    }
   },
   "outputs": [
    {
     "name": "stdout",
     "output_type": "stream",
     "text": [
      "<class 'str'>\n",
      "Any text tha\n",
      "t star\n",
      "ts with three quotes     \n",
      "will be formatted just like you type!\n"
     ]
    }
   ],
   "source": [
    "# Make a string\n",
    "a_string = 'Hello world'\n",
    "\n",
    "another_string = \"Hello again\"\n",
    "\n",
    "formatted_string = \"\"\"Any text tha\n",
    "t star\n",
    "ts with three quotes     \n",
    "will be formatted just like you type!\"\"\"\n",
    "\n",
    "print(type(a_string))\n",
    "\n",
    "# Just to show\n",
    "print(formatted_string)"
   ]
  },
  {
   "cell_type": "markdown",
   "metadata": {
    "slideshow": {
     "slide_type": "subslide"
    }
   },
   "source": [
    "### Converting between types\n",
    "Variables do not have to stay as the type they were assigned to. \n",
    "\n",
    "The variable types - `int`, `float`, `bool`, and `str` can be used as functions to convert between types, but only if the variables have certain values."
   ]
  },
  {
   "cell_type": "code",
   "execution_count": 16,
   "metadata": {
    "slideshow": {
     "slide_type": "subslide"
    }
   },
   "outputs": [
    {
     "name": "stdout",
     "output_type": "stream",
     "text": [
      "<class 'int'> 5\n"
     ]
    }
   ],
   "source": [
    "# Convert a float to a an integer\n",
    "to_int = int(a_float)\n",
    "\n",
    "print(type(to_int), to_int)"
   ]
  },
  {
   "cell_type": "code",
   "execution_count": 17,
   "metadata": {
    "slideshow": {
     "slide_type": "fragment"
    }
   },
   "outputs": [
    {
     "name": "stdout",
     "output_type": "stream",
     "text": [
      "<class 'float'> 1.0\n"
     ]
    }
   ],
   "source": [
    "# Convert an integer to a float\n",
    "to_float = float(an_integer)\n",
    "\n",
    "print(type(to_float), to_float)"
   ]
  },
  {
   "cell_type": "code",
   "execution_count": 18,
   "metadata": {
    "slideshow": {
     "slide_type": "fragment"
    }
   },
   "outputs": [
    {
     "name": "stdout",
     "output_type": "stream",
     "text": [
      "<class 'bool'> True\n",
      "<class 'bool'> False\n"
     ]
    }
   ],
   "source": [
    "# Convert an integer to a boolean - anything 1 or more gets converted to True, zero is False\n",
    "true_bool = bool(12)\n",
    "false_bool = bool(0)\n",
    "\n",
    "print(type(true_bool), true_bool)\n",
    "print(type(false_bool), false_bool)"
   ]
  },
  {
   "cell_type": "code",
   "execution_count": 19,
   "metadata": {
    "slideshow": {
     "slide_type": "subslide"
    }
   },
   "outputs": [
    {
     "name": "stdout",
     "output_type": "stream",
     "text": [
      "<class 'str'> 1\n"
     ]
    }
   ],
   "source": [
    "# Converting types with strings can be tricky. You can only convert numbers-as-strings to actual numbers.\n",
    "a_number = '1'\n",
    "\n",
    "print(type(a_number), a_number)"
   ]
  },
  {
   "cell_type": "code",
   "execution_count": 20,
   "metadata": {
    "slideshow": {
     "slide_type": "subslide"
    }
   },
   "outputs": [
    {
     "name": "stdout",
     "output_type": "stream",
     "text": [
      "<class 'int'> 1\n"
     ]
    }
   ],
   "source": [
    "# Convert it to an integer\n",
    "as_integer = int(a_number)\n",
    "\n",
    "print(type(as_integer), as_integer)\n",
    "\n",
    "# Notice how they look the same to us, but not to Python!"
   ]
  },
  {
   "cell_type": "code",
   "execution_count": 21,
   "metadata": {
    "slideshow": {
     "slide_type": "fragment"
    }
   },
   "outputs": [
    {
     "name": "stdout",
     "output_type": "stream",
     "text": [
      "<class 'str'> 1342\n"
     ]
    }
   ],
   "source": [
    "# Turn a number to a string\n",
    "as_string = str(1342)\n",
    "\n",
    "print(type(as_string), as_string)"
   ]
  },
  {
   "cell_type": "markdown",
   "metadata": {
    "slideshow": {
     "slide_type": "subslide"
    }
   },
   "source": [
    "### Working with different variable types\n",
    "Variables of different types can interact in certain ways, but not in others. They can also behave in unexpected ways which can catch you out, so its worth learning this early."
   ]
  },
  {
   "cell_type": "code",
   "execution_count": 22,
   "metadata": {
    "slideshow": {
     "slide_type": "fragment"
    }
   },
   "outputs": [
    {
     "name": "stdout",
     "output_type": "stream",
     "text": [
      "5.21\n"
     ]
    }
   ],
   "source": [
    "# Adding an integer and a float works!\n",
    "float_ = float(3.21)\n",
    "int_ = int(2)\n",
    "\n",
    "print(float_ + int_)"
   ]
  },
  {
   "cell_type": "code",
   "execution_count": 23,
   "metadata": {
    "slideshow": {
     "slide_type": "fragment"
    }
   },
   "outputs": [
    {
     "name": "stdout",
     "output_type": "stream",
     "text": [
      "1\n"
     ]
    }
   ],
   "source": [
    "# Adding an integer and a boolean doesn't make any sense, but since True is seen as ONE - makes sense to Python\n",
    "a_bool = True\n",
    "\n",
    "print(int_ - a_bool)"
   ]
  },
  {
   "cell_type": "code",
   "execution_count": 24,
   "metadata": {
    "slideshow": {
     "slide_type": "subslide"
    }
   },
   "outputs": [
    {
     "name": "stdout",
     "output_type": "stream",
     "text": [
      "helloworld\n",
      "Hello world\n",
      "hellohellohellohellohellohellohellohellohellohello\n"
     ]
    }
   ],
   "source": [
    "# Adding strings together is works just like a stitch, but subtraction doesn't work \n",
    "print('hello' + 'world')\n",
    "\n",
    "# Remember your whitespace!\n",
    "print('Hello' + ' ' + 'world')\n",
    "\n",
    "# What happens if I multiply? Division doesn't work!\n",
    "print('hello' * 10)"
   ]
  },
  {
   "cell_type": "code",
   "execution_count": 25,
   "metadata": {
    "slideshow": {
     "slide_type": "fragment"
    }
   },
   "outputs": [
    {
     "ename": "NameError",
     "evalue": "name 'name' is not defined",
     "output_type": "error",
     "traceback": [
      "\u001b[0;31m---------------------------------------------------------------------------\u001b[0m",
      "\u001b[0;31mNameError\u001b[0m                                 Traceback (most recent call last)",
      "Input \u001b[0;32mIn [25]\u001b[0m, in \u001b[0;36m<cell line: 5>\u001b[0;34m()\u001b[0m\n\u001b[1;32m      2\u001b[0m language \u001b[38;5;241m=\u001b[39m \u001b[38;5;124m'\u001b[39m\u001b[38;5;124mPython\u001b[39m\u001b[38;5;124m'\u001b[39m\n\u001b[1;32m      3\u001b[0m age \u001b[38;5;241m=\u001b[39m \u001b[38;5;241m30\u001b[39m\n\u001b[0;32m----> 5\u001b[0m sentence \u001b[38;5;241m=\u001b[39m \u001b[38;5;124m'\u001b[39m\u001b[38;5;124mThe programming language \u001b[39m\u001b[38;5;124m'\u001b[39m \u001b[38;5;241m+\u001b[39m \u001b[43mname\u001b[49m \u001b[38;5;241m+\u001b[39m \u001b[38;5;124m'\u001b[39m\u001b[38;5;124m is \u001b[39m\u001b[38;5;124m'\u001b[39m \u001b[38;5;241m+\u001b[39m \u001b[38;5;28mstr\u001b[39m(age) \u001b[38;5;241m+\u001b[39m \u001b[38;5;124m'\u001b[39m\u001b[38;5;124m years old\u001b[39m\u001b[38;5;124m'\u001b[39m\n\u001b[1;32m      7\u001b[0m \u001b[38;5;28mprint\u001b[39m(sentence)\n",
      "\u001b[0;31mNameError\u001b[0m: name 'name' is not defined"
     ]
    }
   ],
   "source": [
    "# But working with strings and other types is as simple as a correct conversion - without, it will break\n",
    "language = 'Python'\n",
    "age = 30\n",
    "\n",
    "sentence = 'The programming language ' + language + ' is ' + str(age) + ' years old'\n",
    "\n",
    "print(sentence)"
   ]
  },
  {
   "cell_type": "markdown",
   "metadata": {
    "slideshow": {
     "slide_type": "slide"
    }
   },
   "source": [
    "### Logic - comparing data and variables\n",
    "\n",
    "A lot of data handling and analysis involves comparison of some kind. How can we compare whether one score is higher than another? How do we remove participants from an analysis who are above a certain age, or have a score outside of a normal range?\n",
    "\n",
    "Computers are excellent at this kind of `logic`, and there are specific rules about how to compare values."
   ]
  },
  {
   "cell_type": "markdown",
   "metadata": {
    "slideshow": {
     "slide_type": "subslide"
    }
   },
   "source": [
    "The specific syntax for comparing variables:\n",
    "\n",
    "* Are two variables the same, `==`\n",
    "* Are two variables **not** the same, `!=`\n",
    "\n",
    "* Is one variable **greater** than another, `>`\n",
    "* Is one variable **less** than another, `<`\n",
    "\n",
    "* Is one variable **greater than or equal** to another, `>=`\n",
    "* Is one variables **less than or equal** to another, `<=`"
   ]
  },
  {
   "cell_type": "markdown",
   "metadata": {
    "slideshow": {
     "slide_type": "fragment"
    }
   },
   "source": [
    "These comparisons are known as **Boolean logic**, and the results of the comparisons will be either `True` or `False` - the special variables that are used to manage logical outcomes."
   ]
  },
  {
   "cell_type": "code",
   "execution_count": null,
   "metadata": {
    "slideshow": {
     "slide_type": "subslide"
    }
   },
   "outputs": [],
   "source": [
    "# Variable comparison examples\n",
    "# Define some simple variables - ';' can be used to have more than one statement on a line\n",
    "a = 5; b = 3; c = 23; d = 23"
   ]
  },
  {
   "cell_type": "code",
   "execution_count": null,
   "metadata": {
    "slideshow": {
     "slide_type": "fragment"
    }
   },
   "outputs": [],
   "source": [
    "# Is a greater than b?\n",
    "print(a > b)"
   ]
  },
  {
   "cell_type": "code",
   "execution_count": null,
   "metadata": {
    "slideshow": {
     "slide_type": "fragment"
    }
   },
   "outputs": [],
   "source": [
    "# Is b less than c?\n",
    "print(b < c)"
   ]
  },
  {
   "cell_type": "code",
   "execution_count": null,
   "metadata": {
    "slideshow": {
     "slide_type": "fragment"
    }
   },
   "outputs": [],
   "source": [
    "# Is a greater than d?\n",
    "print(a > d)"
   ]
  },
  {
   "cell_type": "code",
   "execution_count": null,
   "metadata": {
    "slideshow": {
     "slide_type": "fragment"
    }
   },
   "outputs": [],
   "source": [
    "# Are c and d the same?\n",
    "print(c == d)\n",
    "\n",
    "# Or is one equal to or greater than the other?\n",
    "print(c >= d)"
   ]
  },
  {
   "cell_type": "markdown",
   "metadata": {
    "slideshow": {
     "slide_type": "subslide"
    }
   },
   "source": [
    "Variable comparison is straightforward, but sometimes you may have a series of variables to compare, and this is a little more involved, and uses some extra keywords.\n",
    "\n",
    "Introducing `and`, `or`, `not`:\n",
    "\n",
    "* `and` compares a pair of booleans, and will return a `True` **only** if they are both the same. Also appears as the `&` operator!\n",
    "\n",
    "* `or` compares a pair of booleans, and will return a `True` if at least one of them is `True`. Also appears as the `|` operator.\n",
    "\n",
    "* `not` will invert a boolean value - so if its `True`, it will become `False`, and so on.\n",
    "\n",
    "Let's look at some examples."
   ]
  },
  {
   "cell_type": "code",
   "execution_count": null,
   "metadata": {
    "slideshow": {
     "slide_type": "subslide"
    }
   },
   "outputs": [],
   "source": [
    "# Define some variables\n",
    "x = 10; y = 12; z = 15\n",
    "a = 9; b = 22; c = 30\n",
    "age = 30; sex = 'female'"
   ]
  },
  {
   "cell_type": "code",
   "execution_count": null,
   "metadata": {
    "slideshow": {
     "slide_type": "fragment"
    }
   },
   "outputs": [],
   "source": [
    "# Demonstrate 'and'\n",
    "age > 20 and y > 10"
   ]
  },
  {
   "cell_type": "code",
   "execution_count": null,
   "metadata": {
    "slideshow": {
     "slide_type": "fragment"
    }
   },
   "outputs": [],
   "source": [
    "# Demonstrate 'or' \n",
    "sex == 'female' or age < 20"
   ]
  },
  {
   "cell_type": "code",
   "execution_count": null,
   "metadata": {
    "slideshow": {
     "slide_type": "fragment"
    }
   },
   "outputs": [],
   "source": [
    "# Demonstrate 'not'\n",
    "not b < 20 and age >= 30"
   ]
  },
  {
   "cell_type": "markdown",
   "metadata": {
    "slideshow": {
     "slide_type": "subslide"
    }
   },
   "source": [
    "There are more complex comparisons can be carried out using `()` to group subsets of comparisons that can make up larger comparisons."
   ]
  },
  {
   "cell_type": "code",
   "execution_count": null,
   "metadata": {
    "slideshow": {
     "slide_type": "fragment"
    }
   },
   "outputs": [],
   "source": [
    "# More complex comparisons\n",
    "(sex == 'female' and age < 30) or (a < 9 or c == 30)"
   ]
  },
  {
   "cell_type": "code",
   "execution_count": null,
   "metadata": {
    "slideshow": {
     "slide_type": "fragment"
    }
   },
   "outputs": [],
   "source": [
    "# More complex \n",
    "not (sex == 'male' and age < 30) and (b < 25 or z > 16)"
   ]
  },
  {
   "cell_type": "markdown",
   "metadata": {
    "slideshow": {
     "slide_type": "slide"
    }
   },
   "source": [
    "### Data collections\n",
    "\n",
    "So far, we've seen data stored in single variables. But we usually want to collect data together somehow - different variables for each participants, different experimental conditions, or different data files for each participants. \n",
    "\n",
    "How can a bunch of variables be stored together? Python has a range of `collections` - special structures that can store data together. The two we'll focus on are called `lists` and `dictionaries`."
   ]
  },
  {
   "cell_type": "markdown",
   "metadata": {
    "slideshow": {
     "slide_type": "subslide"
    }
   },
   "source": [
    "## The list\n",
    "The `list` is a workhorse of data manipulation and analysis. A list is group of variables of various types, set in a particular order, that are stored together in a single variable.\n",
    "\n",
    "Consider this example from an analysis perspective - data from an experimental participant on a personality test. It would be clumsy to refer to these all the time individually, so let's use a list."
   ]
  },
  {
   "cell_type": "code",
   "execution_count": null,
   "metadata": {
    "slideshow": {
     "slide_type": "fragment"
    }
   },
   "outputs": [],
   "source": [
    "# Define some data variables\n",
    "pid = '001'; age = 29; sex = 'female'; extraversion = 5; neuroticism = 3"
   ]
  },
  {
   "cell_type": "code",
   "execution_count": null,
   "metadata": {
    "slideshow": {
     "slide_type": "fragment"
    }
   },
   "outputs": [],
   "source": [
    "# Store these in a list!\n",
    "data = [pid, age, sex, extraversion, neuroticism]\n",
    "print(data)"
   ]
  },
  {
   "cell_type": "markdown",
   "metadata": {
    "slideshow": {
     "slide_type": "fragment"
    }
   },
   "source": [
    "The data is now stored together in one collection, with varying types. Each part of a list is known as an element, and has a position. It's worth noting that each element can be any Python data type or structure - even another list!"
   ]
  },
  {
   "cell_type": "code",
   "execution_count": null,
   "metadata": {
    "slideshow": {
     "slide_type": "subslide"
    }
   },
   "outputs": [],
   "source": [
    "# Nested list\n",
    "nest = [1, 4, 5, ['inside', 'the', 'list']]\n",
    "print(nest)"
   ]
  },
  {
   "cell_type": "markdown",
   "metadata": {
    "slideshow": {
     "slide_type": "subslide"
    }
   },
   "source": [
    "### The list\n",
    "We've got our data in a list. But what if we need to interact with the elements? How can we access different elements? Using an `index`, and different `methods`. \n",
    "\n",
    "Welcome to one of Python's quirkiest parts: list indexing."
   ]
  },
  {
   "cell_type": "markdown",
   "metadata": {
    "slideshow": {
     "slide_type": "subslide"
    }
   },
   "source": [
    "#### Simple indexing\n",
    "You can access any element of a list by passing its **index value** to the list variable, using square brackets, `[]`, in this format:\n",
    "`list_name[number]`.\n",
    "List indexing **starts from zero**. That is, the first element is in the '0th' position."
   ]
  },
  {
   "cell_type": "code",
   "execution_count": null,
   "metadata": {
    "slideshow": {
     "slide_type": "fragment"
    }
   },
   "outputs": [],
   "source": [
    "# Get the participant ID from the data list\n",
    "retrieved_pid = data[0]\n",
    "print(retrieved_pid)"
   ]
  },
  {
   "cell_type": "code",
   "execution_count": null,
   "metadata": {
    "slideshow": {
     "slide_type": "fragment"
    }
   },
   "outputs": [],
   "source": [
    "# Get the extraversion score\n",
    "print(data[3])"
   ]
  },
  {
   "cell_type": "code",
   "execution_count": null,
   "metadata": {
    "slideshow": {
     "slide_type": "fragment"
    }
   },
   "outputs": [],
   "source": [
    "# Lists can also be accessed in reverse order, by using negative indexes!\n",
    "# Grab the final element of a list\n",
    "print(data[-1])"
   ]
  },
  {
   "cell_type": "code",
   "execution_count": null,
   "metadata": {
    "slideshow": {
     "slide_type": "fragment"
    }
   },
   "outputs": [],
   "source": [
    "# Or grab the FIRST element of a list using reverse indexing\n",
    "print(data[-5])"
   ]
  },
  {
   "attachments": {
    "List%20Index.png": {
     "image/png": "[encoded data removed]"
    }
   },
   "cell_type": "markdown",
   "metadata": {
    "slideshow": {
     "slide_type": "subslide"
    }
   },
   "source": [
    "A graphic for rememebring list indexing:\n",
    "![List%20Index.png](attachment:List%20Index.png)"
   ]
  },
  {
   "cell_type": "markdown",
   "metadata": {
    "slideshow": {
     "slide_type": "subslide"
    }
   },
   "source": [
    "### List slicing\n",
    "Getting things out of a list one by one would involve a lot of typing. Often, we might want to access a range of values all at once. This is achieved through specific notation using a colon, `:`, and specific index locations."
   ]
  },
  {
   "cell_type": "code",
   "execution_count": null,
   "metadata": {
    "slideshow": {
     "slide_type": "fragment"
    }
   },
   "outputs": [],
   "source": [
    "# The first few elements of `data` have demographics. Let's get those out\n",
    "print(data[0:3])"
   ]
  },
  {
   "cell_type": "code",
   "execution_count": null,
   "metadata": {
    "slideshow": {
     "slide_type": "fragment"
    }
   },
   "outputs": [],
   "source": [
    "# Or if you are starting from the very beginning, the 0 can be omitted\n",
    "print(data[:3])"
   ]
  },
  {
   "cell_type": "code",
   "execution_count": null,
   "metadata": {
    "slideshow": {
     "slide_type": "fragment"
    }
   },
   "outputs": [],
   "source": [
    "# Reverse slicing works in the same way\n",
    "print(data[-3:])"
   ]
  },
  {
   "cell_type": "code",
   "execution_count": null,
   "metadata": {
    "slideshow": {
     "slide_type": "fragment"
    }
   },
   "outputs": [],
   "source": [
    "# Nested lists can be indexed one after the other \n",
    "print(nest)\n",
    "print(nest[3][-1])"
   ]
  },
  {
   "cell_type": "markdown",
   "metadata": {
    "slideshow": {
     "slide_type": "subslide"
    }
   },
   "source": [
    "Do you notice anything interesting about the slicing? To access the first three elements, you have to pass `[0:3]`. List slicing works on the basis that:\n",
    "\n",
    "* The first value specifies the start and is ***included***.\n",
    "* The value after the colon specifics the end and is ***not*** included.\n",
    "\n",
    "A good way of remembering this is to think Python sees a slice as 'start here, and take ***up to, but not including*** this number'"
   ]
  },
  {
   "cell_type": "markdown",
   "metadata": {
    "slideshow": {
     "slide_type": "subslide"
    }
   },
   "source": [
    "### Stepped indexing \n",
    "It's possible to use different steps to jump over lists in different ways, using a set of three values and colon operators, that specify where to start, where to stop, and how many steps to take, like this:\n",
    "\n",
    "`a_list[start:stop:steps]`"
   ]
  },
  {
   "cell_type": "code",
   "execution_count": null,
   "metadata": {
    "slideshow": {
     "slide_type": "fragment"
    }
   },
   "outputs": [],
   "source": [
    "# Define a longer list\n",
    "long = ['a', 1, 'c', 45, 'd', 77, 'st', 4.321]"
   ]
  },
  {
   "cell_type": "code",
   "execution_count": null,
   "metadata": {
    "slideshow": {
     "slide_type": "fragment"
    }
   },
   "outputs": [],
   "source": [
    "# Index with steps\n",
    "print(long[1:6:2])"
   ]
  },
  {
   "cell_type": "code",
   "execution_count": null,
   "metadata": {
    "slideshow": {
     "slide_type": "fragment"
    }
   },
   "outputs": [],
   "source": [
    "# Another variation\n",
    "print(long[:5:3])"
   ]
  },
  {
   "cell_type": "code",
   "execution_count": null,
   "metadata": {
    "slideshow": {
     "slide_type": "fragment"
    }
   },
   "outputs": [],
   "source": [
    "# In reverse!\n",
    "print(long[5:1:-1])"
   ]
  },
  {
   "cell_type": "markdown",
   "metadata": {
    "slideshow": {
     "slide_type": "subslide"
    }
   },
   "source": [
    "### List `.methods` and other tricks\n",
    "Lists are pretty powerful, but there additional things that make them even cooler. Lists (along with many other data structures in Python) have **methods**. A **method** is a function that 'lives' in a variable, and can do specific things to the data in that variable. Not all data structures have methods, but the ones that do usually have great uses. A method is accessed by the `.` operator."
   ]
  },
  {
   "cell_type": "markdown",
   "metadata": {
    "slideshow": {
     "slide_type": "fragment"
    }
   },
   "source": [
    "Let's say we want to add data to a list. How can we do this? Using the `.append` method."
   ]
  },
  {
   "cell_type": "code",
   "execution_count": null,
   "metadata": {
    "slideshow": {
     "slide_type": "fragment"
    }
   },
   "outputs": [],
   "source": [
    "# Add some Agreeableness scores to the personality data\n",
    "print(data)"
   ]
  },
  {
   "cell_type": "code",
   "execution_count": null,
   "metadata": {
    "slideshow": {
     "slide_type": "fragment"
    }
   },
   "outputs": [],
   "source": [
    "# Define Agreeableness score\n",
    "agreeableness = 1\n",
    "# Append it!\n",
    "data.append(agreeableness)\n",
    "print(data)"
   ]
  },
  {
   "cell_type": "markdown",
   "metadata": {
    "slideshow": {
     "slide_type": "subslide"
    }
   },
   "source": [
    "Sometimes, you can't remember the location of a specific element in a list when you want to get to it. There is an `.index` method that takes a value that is in the list, and will return the index. "
   ]
  },
  {
   "cell_type": "code",
   "execution_count": null,
   "metadata": {
    "slideshow": {
     "slide_type": "fragment"
    }
   },
   "outputs": [],
   "source": [
    "# We need the position of the sex variable. We know they are female, so...\n",
    "ind = data.index('female')\n",
    "print(ind)\n",
    "\n",
    "# Use that index\n",
    "print(data[2])"
   ]
  },
  {
   "cell_type": "markdown",
   "metadata": {
    "slideshow": {
     "slide_type": "subslide"
    }
   },
   "source": [
    "Lists can be interacted with using the `*` and `+` operators, which result in interesting manipulations."
   ]
  },
  {
   "cell_type": "code",
   "execution_count": null,
   "metadata": {
    "slideshow": {
     "slide_type": "fragment"
    }
   },
   "outputs": [],
   "source": [
    "# Make two lists\n",
    "list_a = [3, 2, 1]; list_b = [4, 5, 6]"
   ]
  },
  {
   "cell_type": "code",
   "execution_count": null,
   "metadata": {
    "slideshow": {
     "slide_type": "fragment"
    }
   },
   "outputs": [],
   "source": [
    "# Try addition...\n",
    "print(list_a + list_b)"
   ]
  },
  {
   "cell_type": "code",
   "execution_count": null,
   "metadata": {
    "slideshow": {
     "slide_type": "fragment"
    }
   },
   "outputs": [],
   "source": [
    "# What if I multiply a list?\n",
    "print(list_a * 3)"
   ]
  },
  {
   "cell_type": "code",
   "execution_count": null,
   "metadata": {
    "slideshow": {
     "slide_type": "fragment"
    }
   },
   "outputs": [],
   "source": [
    "# Multiple operators\n",
    "print(list_a * 3 + list_b * 2)"
   ]
  },
  {
   "cell_type": "markdown",
   "metadata": {
    "slideshow": {
     "slide_type": "subslide"
    }
   },
   "source": [
    "We may sometimes want to alter lists in some way. That's easy enough to do using slicing or methods. Lists are known as a **mutable** data structure, because you can alter them once you have created them. "
   ]
  },
  {
   "cell_type": "code",
   "execution_count": null,
   "metadata": {
    "slideshow": {
     "slide_type": "fragment"
    }
   },
   "outputs": [],
   "source": [
    "# Update the data list with new participant data\n",
    "print(data)\n",
    "\n",
    "# Update the scores\n",
    "data[3:] = [5, 5, 5]\n",
    "\n",
    "print(data)"
   ]
  },
  {
   "cell_type": "markdown",
   "metadata": {
    "slideshow": {
     "slide_type": "subslide"
    }
   },
   "source": [
    "## The dictionary - look it up!\n",
    "Lists are powerful ways to store variables and data of many different types. But it can be hard to keep track of what kind of variable is in what element. For example, in the `data` list, the first few elements were demographic data. Was the age the second element, or the third? \n",
    "\n",
    "That's not easy to remember. Fortunately, another data structure, the `dictionary`, addresses these shortcomings, by providing a set of *key:value* pairs, which are defined using curly braces notation `{}`. The keys must be an **immutable** data structure - a string usually works!\n",
    "\n",
    "We can define a dictionary with some demographic data."
   ]
  },
  {
   "cell_type": "code",
   "execution_count": null,
   "metadata": {
    "slideshow": {
     "slide_type": "fragment"
    }
   },
   "outputs": [],
   "source": [
    "# Create a dictionary\n",
    "demographics = {'PID':'001', 'Age':30, 'Sex':'Female'}\n",
    "\n",
    "# Or use the `dict` function, assigning the values with keyword arguments\n",
    "demographics_1 = dict(PID='001', Age=30, Sex='Female')\n",
    "\n",
    "print(demographics)\n",
    "print(demographics_1)"
   ]
  },
  {
   "cell_type": "markdown",
   "metadata": {
    "slideshow": {
     "slide_type": "subslide"
    }
   },
   "source": [
    "#### Looking things up in the dictionary\n",
    "Getting a value from a dictionary is as easy as providing the **key**, following this format. \n",
    "\n",
    "`dictionary_name[key_name]`"
   ]
  },
  {
   "cell_type": "code",
   "execution_count": null,
   "metadata": {
    "slideshow": {
     "slide_type": "fragment"
    }
   },
   "outputs": [],
   "source": [
    "# Retrieve the participant sex\n",
    "print(demographics['Sex'])"
   ]
  },
  {
   "cell_type": "markdown",
   "metadata": {
    "slideshow": {
     "slide_type": "fragment"
    }
   },
   "source": [
    "#### Adding data to the dictionary\n",
    "Adding extra data is as simple as providing a new *key:value* pair. Entire extra dictionaries can be provided through the dictionary `.update` method."
   ]
  },
  {
   "cell_type": "code",
   "execution_count": null,
   "metadata": {
    "slideshow": {
     "slide_type": "fragment"
    }
   },
   "outputs": [],
   "source": [
    "# Add a score to the data\n",
    "demographics['Extraversion'] = 4\n",
    "print(demographics)"
   ]
  },
  {
   "cell_type": "code",
   "execution_count": null,
   "metadata": {
    "slideshow": {
     "slide_type": "subslide"
    }
   },
   "outputs": [],
   "source": [
    "# Create a new dictionary of scores to be added\n",
    "scores = dict(Agreeableness=4, Neuroticism=2, Openness=1, Conscientiousness=3)\n",
    "\n",
    "# Call the update method on the demographics dictionary\n",
    "demographics.update(scores)\n",
    "\n",
    "print(demographics)"
   ]
  },
  {
   "cell_type": "markdown",
   "metadata": {
    "slideshow": {
     "slide_type": "subslide"
    }
   },
   "source": [
    "#### Important dictionary methods\n",
    "Like lists, dictionaries have a range of methods. Some useful ones to know are the following:\n",
    "* `.keys()` : returns a list of all the keys in the dictionary, useful if you aren't sure whats inside one.\n",
    "* `.values()` : returns a list of all the values (i.e. data) in the dictionary. Allows a look directly at the data.\n",
    "* `.items()` : returns a list, where each element is a tuple (like a list, but immutable), where the first element is the key, and the second, the value."
   ]
  },
  {
   "cell_type": "code",
   "execution_count": null,
   "metadata": {
    "slideshow": {
     "slide_type": "fragment"
    }
   },
   "outputs": [],
   "source": [
    "# Look at the keys \n",
    "print(demographics.items())"
   ]
  },
  {
   "cell_type": "code",
   "execution_count": null,
   "metadata": {
    "slideshow": {
     "slide_type": "fragment"
    }
   },
   "outputs": [],
   "source": [
    "# Look at the values\n",
    "print(demographics.values())"
   ]
  },
  {
   "cell_type": "code",
   "execution_count": null,
   "metadata": {
    "slideshow": {
     "slide_type": "fragment"
    }
   },
   "outputs": [],
   "source": [
    "# Look at it all!\n",
    "print(demographics.items())"
   ]
  },
  {
   "cell_type": "markdown",
   "metadata": {
    "slideshow": {
     "slide_type": "subslide"
    }
   },
   "source": [
    "#### Advanced dictionaries\n",
    "Like lists, dictionaries can also be nested, with a key referring to another dictionary. \n",
    "\n",
    "It follows that a value can be anything - a list, dictionary, string, or any of Python's many data types."
   ]
  },
  {
   "cell_type": "code",
   "execution_count": null,
   "metadata": {
    "slideshow": {
     "slide_type": "fragment"
    }
   },
   "outputs": [],
   "source": [
    "# Demonstrate a nested dictionary\n",
    "nest_dict = {'PID': 'John', 'Age': 25, 'Personality':{'Extra': 4, 'Neuro': 1}}"
   ]
  },
  {
   "cell_type": "code",
   "execution_count": null,
   "metadata": {
    "slideshow": {
     "slide_type": "fragment"
    }
   },
   "outputs": [],
   "source": [
    "# Accessing nested attributes\n",
    "print(nest_dict['Personality'])\n",
    "print(nest_dict['Personality']['Extra'])"
   ]
  },
  {
   "cell_type": "markdown",
   "metadata": {
    "slideshow": {
     "slide_type": "subslide"
    }
   },
   "source": [
    "It should be clear by now that lists and dictionaries can be used together, to build complex data structures capable of storing a range of variables and data. Extracting data from a complex data structure is relatively straightforward, armed with what we know."
   ]
  },
  {
   "cell_type": "code",
   "execution_count": null,
   "metadata": {
    "slideshow": {
     "slide_type": "fragment"
    }
   },
   "outputs": [],
   "source": [
    "# Create a somewhat complex data structure - notice we can split long commands across lines\n",
    "participantA = {'PID': '001', 'age': 23, \n",
    "               'Anxiety_Score':{'Subscale1': 4.22, 'Subscale2': 2.34 },\n",
    "              'RTs': [321, 230, 400, 593, 600, 102, 129]}\n",
    "\n",
    "participantB = {'PID': '002', 'age': 25, \n",
    "               'Anxiety_Score':{'Subscale1': 1.20, 'Subscale2': 5.24 },\n",
    "              'RTs': [876, 450, 291, 893, 864, 456, 983]}\n",
    "\n",
    "full_data = {'ppt_A': participantA, 'ppt_B': participantB}"
   ]
  },
  {
   "cell_type": "code",
   "execution_count": null,
   "metadata": {
    "slideshow": {
     "slide_type": "fragment"
    }
   },
   "outputs": [],
   "source": [
    "# Extracting buried items - extract the last reaction time they gave\n",
    "print(full_data['ppt_A']['RTs'][-1])"
   ]
  },
  {
   "cell_type": "code",
   "execution_count": null,
   "metadata": {
    "slideshow": {
     "slide_type": "fragment"
    }
   },
   "outputs": [],
   "source": [
    "# Or anxiety scores\n",
    "print(full_data['ppt_B']['Anxiety_Score']['Subscale1'])"
   ]
  },
  {
   "cell_type": "markdown",
   "metadata": {
    "slideshow": {
     "slide_type": "slide"
    }
   },
   "source": [
    "## Functions\n",
    "\n",
    "Functions are nothing new to you - we have used them before!\n",
    "* `print`\n",
    "* `type`\n",
    "* `dict`\n",
    "* `list`\n",
    "\n",
    "A function is a piece of reusable code that is suited for a particular task, that can be reused. Python has thousands of functions built in, as well as across different packages we will come to in the future. \n"
   ]
  },
  {
   "cell_type": "markdown",
   "metadata": {
    "slideshow": {
     "slide_type": "subslide"
    }
   },
   "source": [
    "#### Functions example\n",
    "How do we use functions? With the following general approach:\n",
    "\n",
    "`output = function_name(work_on_this, more_arguments)`\n",
    "\n",
    "Two built in functions we can play with are `min` and `max`. "
   ]
  },
  {
   "cell_type": "code",
   "execution_count": null,
   "metadata": {
    "slideshow": {
     "slide_type": "fragment"
    }
   },
   "outputs": [],
   "source": [
    "# Example\n",
    "scores = [2.39, 1.12, 5.21, 8.92, 1.24]\n",
    "\n",
    "# Find the range by using min and max\n",
    "lowest = min(scores)\n",
    "highest = max(scores)\n",
    "\n",
    "# Compute the span\n",
    "print(highest - lowest)"
   ]
  },
  {
   "cell_type": "markdown",
   "metadata": {
    "slideshow": {
     "slide_type": "subslide"
    }
   },
   "source": [
    "#### Functions examples\n",
    "`max` and `min` are really simple functions, with a single input. Sometimes functions have more than one input, or **argument**. More than one argument is entered by separating with a `,`.\n",
    "\n",
    "A common data analysis function is `round`, which rounds numbers to a degree of precision set by you. Its first input is a value you want to round, and the second is the level of precision you want."
   ]
  },
  {
   "cell_type": "code",
   "execution_count": null,
   "metadata": {
    "slideshow": {
     "slide_type": "fragment"
    }
   },
   "outputs": [],
   "source": [
    "# Multi-argument function example\n",
    "value = 3.193849291\n",
    "\n",
    "# Use round \n",
    "rounded = round(value, 3)\n",
    "\n",
    "print(rounded)"
   ]
  },
  {
   "cell_type": "markdown",
   "metadata": {
    "slideshow": {
     "slide_type": "subslide"
    }
   },
   "source": [
    "#### Functions examples\n",
    "Functions often have what are known as default arguments. What happens if we just give `round` a single argument, the number we want to round?"
   ]
  },
  {
   "cell_type": "code",
   "execution_count": null,
   "metadata": {
    "slideshow": {
     "slide_type": "fragment"
    }
   },
   "outputs": [],
   "source": [
    "# Testing round\n",
    "print(round(value))"
   ]
  },
  {
   "cell_type": "markdown",
   "metadata": {
    "slideshow": {
     "slide_type": "fragment"
    }
   },
   "source": [
    "Python has made a guess about what you want - rounded to a whole number. That is, the second argument has a **default** value - zero."
   ]
  },
  {
   "cell_type": "markdown",
   "metadata": {
    "slideshow": {
     "slide_type": "subslide"
    }
   },
   "source": [
    "#### `help`!\n",
    "If you ever get confused about what a function does, or what arguments it requires, you can ask for help. \n",
    "`help` is a function whose job is to give you a print out of how a function works. What does it say about `round`?"
   ]
  },
  {
   "cell_type": "code",
   "execution_count": null,
   "metadata": {
    "slideshow": {
     "slide_type": "fragment"
    }
   },
   "outputs": [],
   "source": [
    "# Get help on round\n",
    "help(round)"
   ]
  },
  {
   "cell_type": "markdown",
   "metadata": {
    "slideshow": {
     "slide_type": "subslide"
    }
   },
   "source": [
    "## Methods\n",
    "We've seen methods before - the special functions that a `list` can use to make alterations to itself. \n",
    "\n",
    "But methods are everywhere, and depend on the variable in question. You can use `help` on a specific data type to see what methods it has. \n",
    "\n",
    "`string` data has a range of useful methods that make working with text data simple.\n",
    "\n",
    "For example, we can use:\n",
    "* `.upper()`\n",
    "* `.lower()`\n",
    "* `.count()`\n",
    "* `.split()`\n",
    "* `.join()`\n",
    "\n",
    "for various exciting possibilities. "
   ]
  },
  {
   "cell_type": "code",
   "execution_count": null,
   "metadata": {
    "slideshow": {
     "slide_type": "subslide"
    }
   },
   "outputs": [],
   "source": [
    "# Define a string\n",
    "basic = 'We are going to play with this!'"
   ]
  },
  {
   "cell_type": "code",
   "execution_count": null,
   "metadata": {
    "slideshow": {
     "slide_type": "fragment"
    }
   },
   "outputs": [],
   "source": [
    "# How does .upper() work?\n",
    "print(basic.upper())"
   ]
  },
  {
   "cell_type": "code",
   "execution_count": null,
   "metadata": {
    "slideshow": {
     "slide_type": "fragment"
    }
   },
   "outputs": [],
   "source": [
    "# So lower should...\n",
    "print(basic.lower())"
   ]
  },
  {
   "cell_type": "code",
   "execution_count": null,
   "metadata": {
    "slideshow": {
     "slide_type": "fragment"
    }
   },
   "outputs": [],
   "source": [
    "# How many 'a's in this sentence?\n",
    "print(basic.count('a'))"
   ]
  },
  {
   "cell_type": "code",
   "execution_count": null,
   "metadata": {
    "slideshow": {
     "slide_type": "fragment"
    }
   },
   "outputs": [],
   "source": [
    "# Chop this up by the number of space\n",
    "print(basic.split(' '))"
   ]
  },
  {
   "cell_type": "code",
   "execution_count": null,
   "metadata": {
    "slideshow": {
     "slide_type": "fragment"
    }
   },
   "outputs": [],
   "source": [
    "# Join is cool!\n",
    "split_list = basic.split(' ')\n",
    "print('!'.join(split_list))"
   ]
  },
  {
   "cell_type": "markdown",
   "metadata": {
    "slideshow": {
     "slide_type": "slide"
    }
   },
   "source": [
    "## Loops\n",
    "Things are getting more advanced now. There is one programming practice that you should master to fully control your data. \n",
    "\n",
    "What we've seen so far is straightforward, defining collections like lists and dictionaries, and retrieving data from them through indexing. Sometimes, we want to do something with each element in a data collection - perhaps call a function on it, read a file, remove a piece of data, etc. How can we do this without manually accessing each element manually?\n",
    "\n",
    "The answer is the `for` loop, a special piece of syntax that allows us to *iterate* over a sequance or collection and retrieve the values inside by temporarily passing them to a new variable of whatever name we choose. \n",
    "\n",
    "The format looks like this:\n",
    "\n",
    "`for variable in sequence:`\n",
    "\n",
    "    `do something with variable`\n",
    "    \n",
    "Not the indentation on the second line - as you'll see, this is part of the code. Python uses this to differentiate code that is in the for loop with that outside of it. "
   ]
  },
  {
   "cell_type": "markdown",
   "metadata": {
    "slideshow": {
     "slide_type": "subslide"
    }
   },
   "source": [
    "For loops can be confusing, so some examples are required!"
   ]
  },
  {
   "cell_type": "code",
   "execution_count": null,
   "metadata": {
    "slideshow": {
     "slide_type": "fragment"
    }
   },
   "outputs": [],
   "source": [
    "# Make a list - these values all need to be rounded to two decimal places!\n",
    "data_list = [12.394, 9.0948, 1.02, 39.4023, 2.392, 50.12948912]\n",
    "\n",
    "# Write a for loop that prints each element in turn\n",
    "for score in data_list:\n",
    "    print(score)"
   ]
  },
  {
   "cell_type": "markdown",
   "metadata": {
    "slideshow": {
     "slide_type": "fragment"
    }
   },
   "source": [
    "At each iteration, the value of `score` changed to be the next element in the list. So it started with the element in the position `[0]`, then `[1]`, and then onwards until `data_list` was finished. "
   ]
  },
  {
   "cell_type": "markdown",
   "metadata": {
    "slideshow": {
     "slide_type": "subslide"
    }
   },
   "source": [
    "Let's say we want to modify each element of a list, by rounding the numbers. This could be achieved as follows:"
   ]
  },
  {
   "cell_type": "code",
   "execution_count": null,
   "metadata": {
    "slideshow": {
     "slide_type": "fragment"
    }
   },
   "outputs": [],
   "source": [
    "# First, make an empty list to store our new data - just square brackets with no variables\n",
    "rounded_data = []\n",
    "\n",
    "# Iterate over the original list - round each element - and append to our empty list\n",
    "for value in data_list:\n",
    "    round_value = round(value, 2)\n",
    "    rounded_data.append(round_value)\n",
    "    \n",
    "print(rounded_data)"
   ]
  },
  {
   "cell_type": "markdown",
   "metadata": {
    "slideshow": {
     "slide_type": "subslide"
    }
   },
   "source": [
    "#### Building complexity with iteration\n",
    "You aren't limited to iterating just once. You can **nest** an iteration in the same way you can nest lists and dictionaries. This sometimes happens if you need to dig deeper into data structures to manipulate values."
   ]
  },
  {
   "cell_type": "code",
   "execution_count": null,
   "metadata": {
    "slideshow": {
     "slide_type": "fragment"
    }
   },
   "outputs": [],
   "source": [
    "# Define a nested list\n",
    "nest_list = [ ['001', 23, 'female'], ['002', 31, 'male'], ['003', 40, 'female'] ]\n",
    "\n",
    "# Iterate over the main list\n",
    "for participant in nest_list:\n",
    "    \n",
    "    # Iterate over the sub-list\n",
    "    for score in participant:\n",
    "        print(score)"
   ]
  },
  {
   "cell_type": "code",
   "execution_count": null,
   "metadata": {
    "slideshow": {
     "slide_type": "subslide"
    }
   },
   "outputs": [],
   "source": [
    "# Or access the sublists to do what we want!\n",
    "for participant in nest_list:\n",
    "    \n",
    "    line = 'Participant ID = ' + participant[0] + ', age = ' + str(participant[1]) + ', sex = ' + participant[2]\n",
    "    print(line)"
   ]
  },
  {
   "cell_type": "markdown",
   "metadata": {
    "slideshow": {
     "slide_type": "subslide"
    }
   },
   "source": [
    "## Loops\n",
    "#### `enumerate` \n",
    "It should be clear from the above examples that when iterating over a list using `for`, we get back a variable that changes at each iteration. This is usually fine, but sometimes, we want to know the **actual position** of the element and do something with that. \n",
    "\n",
    "The `enumerate` function is used for dealing with this. We call `enumerate` on a sequence when we set up a `for` loop, and it returns a pair of variables - a counter, that returns the index, and a value, that returns the element, just like a normal `for` loop. \n",
    "\n",
    "The syntax looks like this!\n",
    "\n",
    "`for index, value in enumerate(sequence):`\n",
    "\n",
    "    `do stuff!`"
   ]
  },
  {
   "cell_type": "code",
   "execution_count": null,
   "metadata": {
    "slideshow": {
     "slide_type": "fragment"
    }
   },
   "outputs": [],
   "source": [
    "# Define a list\n",
    "data_list = [123, 381, 'content', 'value']\n",
    "\n",
    "for index, value in enumerate(data_list):\n",
    "    line = 'Item in position ' + str(index) + ' is ' + str(value)\n",
    "    print(line)"
   ]
  },
  {
   "cell_type": "code",
   "execution_count": null,
   "metadata": {
    "slideshow": {
     "slide_type": "fragment"
    }
   },
   "outputs": [],
   "source": [
    "# To demonstrate the use of index to actually access elements!\n",
    "for index, value in enumerate(data_list):\n",
    "    print(data_list[index])"
   ]
  },
  {
   "cell_type": "code",
   "execution_count": null,
   "metadata": {
    "slideshow": {
     "slide_type": "fragment"
    }
   },
   "outputs": [],
   "source": [
    "# Or to more efficiently replace elements - the original list is now lost\n",
    "data_list = [12.394, 9.0948, 1.02, 39.4023, 2.392, 50.12948912]\n",
    "print(data_list)\n",
    "\n",
    "for index, value in enumerate(data_list):\n",
    "    \n",
    "    # Use the index to access and assign a new variable\n",
    "    data_list[index] = round(value, 2)\n",
    "\n",
    "print(data_list)"
   ]
  },
  {
   "cell_type": "markdown",
   "metadata": {
    "slideshow": {
     "slide_type": "subslide"
    }
   },
   "source": [
    "## Loops\n",
    "### Iterating over dictionaries\n",
    "Dictionaries are a somewhat more complex structure compared to lists. For example, they don't 'remember' the order things were put in them, depending on the version of Python you use, so iterating over them in the same way as lists doesn't always make sense. \n",
    "\n",
    "If we remember the **methods** dictionaries had, we can iterate over those to access and play around with created dictionaries."
   ]
  },
  {
   "cell_type": "code",
   "execution_count": null,
   "metadata": {
    "slideshow": {
     "slide_type": "subslide"
    }
   },
   "outputs": [],
   "source": [
    "# Make a dictionary\n",
    "data_dict = {'Score_A': 45.2912, 'Score_B': 68.2945, 'Score_C': 88.9873}"
   ]
  },
  {
   "cell_type": "code",
   "execution_count": null,
   "metadata": {
    "slideshow": {
     "slide_type": "fragment"
    }
   },
   "outputs": [],
   "source": [
    "# Print out the keys\n",
    "for key in data_dict.keys():\n",
    "    print(key)\n",
    "    \n"
   ]
  },
  {
   "cell_type": "code",
   "execution_count": null,
   "metadata": {
    "slideshow": {
     "slide_type": "fragment"
    }
   },
   "outputs": [],
   "source": [
    "# Or use the keys to access the data!\n",
    "for key in data_dict.keys():\n",
    "    print(data_dict[key])"
   ]
  },
  {
   "cell_type": "code",
   "execution_count": null,
   "metadata": {
    "slideshow": {
     "slide_type": "fragment"
    }
   },
   "outputs": [],
   "source": [
    "# Use this to grab the values - beware they may not be in the order you think\n",
    "for value in data_dict.values():\n",
    "    print(value)"
   ]
  },
  {
   "cell_type": "code",
   "execution_count": null,
   "metadata": {
    "slideshow": {
     "slide_type": "subslide"
    }
   },
   "outputs": [],
   "source": [
    "# Finally, use .items to get both key:value pairs out!\n",
    "for key, value in data_dict.items():\n",
    "    line = 'The key ' + key + ' returns the value: ' + str(value)\n",
    "    print(line)"
   ]
  },
  {
   "cell_type": "code",
   "execution_count": null,
   "metadata": {
    "slideshow": {
     "slide_type": "fragment"
    }
   },
   "outputs": [],
   "source": [
    "# Makes sense to use this to modify the original dictionary\n",
    "# Raise each value to the power of 3 to two decimal places\n",
    "for k, v in data_dict.items():\n",
    "    data_dict[k] = round(v ** 3, 2)\n",
    "    \n",
    "print(data_dict)"
   ]
  },
  {
   "cell_type": "markdown",
   "metadata": {
    "slideshow": {
     "slide_type": "slide"
    }
   },
   "source": [
    "The basics are covered! \n",
    "\n",
    "That's a lot of information to take in, but these are the fundamentals of working with data Python. Next time, we will cover the **NumPy** and **Pandas** libraries, which are built to process data efficiently and are the real workhorses of doing data analysis in Python.\n",
    "\n",
    "If you're struggling or are stuck, do not worry. The learning curve is high and it will *take time*. The only way to improve is to keep coding. Try the exercises, and use the internet to look for answers where you aren't sure."
   ]
  },
  {
   "cell_type": "code",
   "execution_count": null,
   "metadata": {
    "slideshow": {
     "slide_type": "skip"
    }
   },
   "outputs": [],
   "source": [
    "from IPython.display import YouTubeVideo\n",
    "display(YouTubeVideo('HluANRwPyNo'))"
   ]
  }
 ],
 "metadata": {
  "celltoolbar": "Slideshow",
  "kernelspec": {
   "display_name": "Python 3 (ipykernel)",
   "language": "python",
   "name": "python3"
  },
  "language_info": {
   "codemirror_mode": {
    "name": "ipython",
    "version": 3
   },
   "file_extension": ".py",
   "mimetype": "text/x-python",
   "name": "python",
   "nbconvert_exporter": "python",
   "pygments_lexer": "ipython3",
   "version": "3.10.4"
  },
  "toc-autonumbering": true,
  "toc-showcode": false,
  "toc-showmarkdowntxt": false,
  "toc-showtags": false
 },
 "nbformat": 4,
 "nbformat_minor": 4
}
