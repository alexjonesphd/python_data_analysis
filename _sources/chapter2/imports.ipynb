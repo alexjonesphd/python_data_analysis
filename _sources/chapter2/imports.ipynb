{
 "cells": [
  {
   "cell_type": "markdown",
   "id": "a0a2f7b5-751c-4369-afb8-7ac29d9e703f",
   "metadata": {
    "slideshow": {
     "slide_type": "slide"
    },
    "tags": []
   },
   "source": [
    "# Starting data handling in Python - NumPy"
   ]
  },
  {
   "cell_type": "markdown",
   "id": "2bc9fe4a-52e4-4e50-b581-15a1870bfaa9",
   "metadata": {
    "slideshow": {
     "slide_type": "subslide"
    }
   },
   "source": [
    "### `import`\n",
    "It's time to crunch some data. Before that, we need to access some new modules. Last week, we used exclusively functions and data types in what's known as 'base' Python - the bare bones installation.\n",
    "\n",
    "But there are thousands of extra functions and data types out there to help with specific tasks, just like data handling. In order to actually *use* them, we need to use `import`, a special command that activates the modules and allows you to access them. `NumPy` and `Pandas` are examples of modules that need to be imported.\n",
    "\n"
   ]
  },
  {
   "cell_type": "markdown",
   "id": "ea5353b4-c7ad-4e6a-b8d7-ab63e9739be1",
   "metadata": {
    "slideshow": {
     "slide_type": "subslide"
    }
   },
   "source": [
    "### How `import` works\n",
    "When you import a module, you have access to all of its functions, data types, and submodules (collections of related functions). However, they all live under the import *alias* - a name that Python recognises the module as. You place all of your `import` statements at the top of your code or notebook. **Once imported, the functions will be available until the end of the session**. Importing NumPy works like this:"
   ]
  },
  {
   "cell_type": "code",
   "execution_count": 1,
   "id": "1c649526-75e7-4684-a4e2-54d1b07bc6a9",
   "metadata": {
    "slideshow": {
     "slide_type": "fragment"
    }
   },
   "outputs": [],
   "source": [
    "# Import NumPy!\n",
    "import numpy"
   ]
  },
  {
   "cell_type": "code",
   "execution_count": 2,
   "id": "ca3a70ff-bf01-40b5-8fb8-3f49e7a0f5aa",
   "metadata": {
    "slideshow": {
     "slide_type": "fragment"
    }
   },
   "outputs": [
    {
     "name": "stdout",
     "output_type": "stream",
     "text": [
      "6.324555320336759\n"
     ]
    }
   ],
   "source": [
    "# Using the 'sqrt' function in NumPy\n",
    "square_root = numpy.sqrt(40)\n",
    "print(square_root)"
   ]
  },
  {
   "cell_type": "markdown",
   "id": "e74186db-eb4d-4a36-b317-55fcc1fcfb8a",
   "metadata": {
    "slideshow": {
     "slide_type": "subslide"
    }
   },
   "source": [
    "### `import` alias - importing something `as`\n",
    "You can see one issue with this. Everytime you import a module like `NumPy`, to use its functions, you have to type `numpy.function_name`, which can be a hassle. Thankfully, Python has the ability to assign modules to a name of your choosing, using the `as` keyword. This can be anything, but conventions indicate `NumPy` should be imported as `np` - its *alias*. "
   ]
  },
  {
   "cell_type": "code",
   "execution_count": 3,
   "id": "fe7b324f-159e-4392-9666-ca3469408c1a",
   "metadata": {
    "slideshow": {
     "slide_type": "fragment"
    }
   },
   "outputs": [
    {
     "name": "stdout",
     "output_type": "stream",
     "text": [
      "6.324555320336759\n"
     ]
    }
   ],
   "source": [
    "# Import NumPy with its conventional alias, and use it to calculate a square root\n",
    "import numpy as np\n",
    "print(np.sqrt(40))"
   ]
  },
  {
   "cell_type": "markdown",
   "id": "c58c43d1-8711-40a4-8abe-f259e854daaf",
   "metadata": {
    "slideshow": {
     "slide_type": "subslide"
    }
   },
   "source": [
    "### Selective imports\n",
    "Some modules are massive, and you don't need all the functions they offer. Python is flexible enough to let you take one or several functions to use from a module, without requiring the alias, using the `from` keyword."
   ]
  },
  {
   "cell_type": "code",
   "execution_count": 4,
   "id": "d0c8a8df-b5ad-456a-8952-97416364256f",
   "metadata": {
    "slideshow": {
     "slide_type": "fragment"
    }
   },
   "outputs": [
    {
     "name": "stdout",
     "output_type": "stream",
     "text": [
      "10.0\n"
     ]
    }
   ],
   "source": [
    "# Import sqrt and square functions from NumPy\n",
    "from numpy import sqrt, square\n",
    "\n",
    "value = 10\n",
    "print(sqrt(square(value)))"
   ]
  },
  {
   "cell_type": "markdown",
   "id": "7d93a2d8-fd8f-4ee7-8f37-a008f5ff4c43",
   "metadata": {
    "slideshow": {
     "slide_type": "fragment"
    }
   },
   "source": [
    "You can even selectively import a function and give it a different name! Be careful with this - down this road lies madness..."
   ]
  },
  {
   "cell_type": "code",
   "execution_count": 5,
   "id": "7fa00532-6137-47b1-85e9-ed60ebee9af0",
   "metadata": {
    "slideshow": {
     "slide_type": "fragment"
    }
   },
   "outputs": [
    {
     "name": "stdout",
     "output_type": "stream",
     "text": [
      "100\n"
     ]
    }
   ],
   "source": [
    "# Demonstrate selective import and aliasing\n",
    "from numpy import square as SQUAREEEE\n",
    "print(SQUAREEEE(value))"
   ]
  }
 ],
 "metadata": {
  "kernelspec": {
   "display_name": "Python 3 (ipykernel)",
   "language": "python",
   "name": "python3"
  },
  "language_info": {
   "codemirror_mode": {
    "name": "ipython",
    "version": 3
   },
   "file_extension": ".py",
   "mimetype": "text/x-python",
   "name": "python",
   "nbconvert_exporter": "python",
   "pygments_lexer": "ipython3",
   "version": "3.10.4"
  }
 },
 "nbformat": 4,
 "nbformat_minor": 5
}
