{
 "cells": [
  {
   "cell_type": "markdown",
   "id": "07b295f1-6b86-4924-b603-0e1f799eac24",
   "metadata": {
    "slideshow": {
     "slide_type": "slide"
    },
    "tags": []
   },
   "source": [
    "## The `numpy` module\n",
    "While dictionaries and lists will get you places, they are not built for serious data manipulation and number crunching. NumPy's main feature is a special data type, called the `array`. This is a data collection built for holding data of a **single data type** (e.g. integers, floats) in multiple dimensions, and is capable of performing mathematical operations on them quickly and efficiently."
   ]
  },
  {
   "cell_type": "markdown",
   "id": "70e7ef09-dc93-4ee2-ad96-59b6573b0f9b",
   "metadata": {
    "slideshow": {
     "slide_type": "subslide"
    }
   },
   "source": [
    "### `np.array`\n",
    "To make a NumPy array, we need to pass a list of numbers to the `np.array` function - that is, the `array` function accessed in the NumPy module."
   ]
  },
  {
   "cell_type": "code",
   "execution_count": 6,
   "id": "2c6eb7c0-fd33-4a87-a517-f2967f11b381",
   "metadata": {
    "slideshow": {
     "slide_type": "fragment"
    }
   },
   "outputs": [
    {
     "name": "stdout",
     "output_type": "stream",
     "text": [
      "[ 3  4  8  9 10]\n",
      "<class 'numpy.ndarray'>\n"
     ]
    }
   ],
   "source": [
    "# Import\n",
    "import numpy as np\n",
    "\n",
    "# Make a small array\n",
    "arr = np.array([3, 4, 8, 9, 10])\n",
    "\n",
    "print(arr)\n",
    "print(type(arr))"
   ]
  },
  {
   "cell_type": "code",
   "execution_count": 7,
   "id": "f266642e-8c5b-416b-9080-81891c6c7805",
   "metadata": {
    "slideshow": {
     "slide_type": "skip"
    }
   },
   "outputs": [],
   "source": [
    "np.random.seed(42)"
   ]
  },
  {
   "cell_type": "markdown",
   "id": "f6601a10-d206-4a69-a133-381b9b0dd12c",
   "metadata": {
    "slideshow": {
     "slide_type": "subslide"
    }
   },
   "source": [
    "### Mathematical operations with NumPy\n",
    "With lists, if we wanted to multiply each element, we'd need a for loop, and a way to make sure the data was actually a number of some kind. Carrying out operations on a NumPy array is very simple - each element will be changed simply by carrying out some kind of operation. If you have two arrays with the same dimensions, each element is operated on by the corresponding position in the other array."
   ]
  },
  {
   "cell_type": "code",
   "execution_count": 8,
   "id": "ceb8790f-079d-4058-bf42-e596d1296592",
   "metadata": {
    "slideshow": {
     "slide_type": "fragment"
    }
   },
   "outputs": [
    {
     "name": "stdout",
     "output_type": "stream",
     "text": [
      "[ 3  4  8  9 10] [ 8  9 13 14 15] [ 9 12 24 27 30]\n"
     ]
    }
   ],
   "source": [
    "# Maths with NumPy #\n",
    "# Add 5 to each element\n",
    "arr_add5 = 5 + arr\n",
    "\n",
    "# Multiply by 3\n",
    "arr_times3 = 3 * arr\n",
    "\n",
    "print(arr, arr_add5, arr_times3)"
   ]
  },
  {
   "cell_type": "code",
   "execution_count": 9,
   "id": "4e14842a-0dd5-4886-9ba7-ae29ad70f20e",
   "metadata": {
    "slideshow": {
     "slide_type": "fragment"
    }
   },
   "outputs": [
    {
     "name": "stdout",
     "output_type": "stream",
     "text": [
      "[ 2  6 11]\n"
     ]
    }
   ],
   "source": [
    "# It's even possible to do operations with two arrays of the same size - more on this later\n",
    "arr1 = np.array([1, 5, 10])\n",
    "arr2 = np.array([1, 1, 1])\n",
    "\n",
    "added = arr1 + arr2\n",
    "print(added)"
   ]
  },
  {
   "cell_type": "markdown",
   "id": "c3a27dc8-ec51-4640-b72c-7a48df3ce9fc",
   "metadata": {
    "slideshow": {
     "slide_type": "subslide"
    }
   },
   "source": [
    "### Array dimensions - 1D\n",
    "In NumPy, each array has an associated 'shape', which indicates its dimensions - that is, does the array live in 1, 2, or 3 dimensions? NumPy can store data in multidimensional arrays beyond what we can imagine. The power of all data handling comes from understanding these multidimensional arrays. You can find the shape of an array with the `.shape` attribute (like a method, but not a function - just returns some useful information)."
   ]
  },
  {
   "cell_type": "code",
   "execution_count": 10,
   "id": "61f659eb-5260-4a64-9501-785108a4b2df",
   "metadata": {
    "slideshow": {
     "slide_type": "fragment"
    }
   },
   "outputs": [
    {
     "name": "stdout",
     "output_type": "stream",
     "text": [
      "(5,)\n"
     ]
    }
   ],
   "source": [
    "# Arrays in 1 dimension\n",
    "arr_1d = np.array([1, 2, 3, 4, 5])\n",
    "\n",
    "# Print shape\n",
    "print(arr_1d.shape)"
   ]
  },
  {
   "cell_type": "markdown",
   "id": "06947b3c-311a-41f6-b007-491ca221bf3b",
   "metadata": {
    "slideshow": {
     "slide_type": "fragment"
    }
   },
   "source": [
    "So the above array has a single number in its `shape` - and that's how you know it's only 1-dimensional. It has 5 elements in dimension **zero**. In this case, it looks a lot like a list. "
   ]
  },
  {
   "cell_type": "markdown",
   "id": "5096fdd8-6db1-4a48-8f92-ac85e8bc79f1",
   "metadata": {
    "slideshow": {
     "slide_type": "subslide"
    }
   },
   "source": [
    "### Array dimensions - 2D\n",
    "Think back to data you have analysed in something like SPSS and Excel. This data had a *two dimensional* structure - not a single row or column of data, but a set of them. Most data in psychology is stored as 2D arrays in some way, so understanding the 2D array is the building block of most data operations.\n",
    "\n",
    "2D arrays are essentially a series of 1D arrays stacked on top of each other - each 'row' must contain the same number of elements. So:"
   ]
  },
  {
   "cell_type": "code",
   "execution_count": 11,
   "id": "7072918b-02fc-42bd-a340-e03134519f4a",
   "metadata": {
    "slideshow": {
     "slide_type": "fragment"
    }
   },
   "outputs": [
    {
     "name": "stdout",
     "output_type": "stream",
     "text": [
      "[[1 2 3]\n",
      " [4 5 6]]\n",
      "(2, 3)\n"
     ]
    }
   ],
   "source": [
    "# Define a 2D array like this\n",
    "arr_2d = np.array([[1, 2, 3], [4, 5, 6]])\n",
    "\n",
    "print(arr_2d)\n",
    "print(arr_2d.shape)"
   ]
  },
  {
   "cell_type": "markdown",
   "id": "64d0b1f0-7f20-4b35-aa10-5b6acdaecdcc",
   "metadata": {
    "slideshow": {
     "slide_type": "subslide"
    }
   },
   "source": [
    "Now, `.shape` has two numbers - two dimensions. Dimension zero has two elements - two rows, and dimension one has three elements - three columns. This row, column format is the key to understanding these data structures.\n",
    "\n",
    "We'll be sticking mostly to 2D arrays for the remainder of the course, but explore 3D and above arrays using NumPy. For example, photographs are seen by Python has a 3D array - the height is the number of rows, the width is the number of columns, and the 'depth' represents the colour channels."
   ]
  },
  {
   "cell_type": "markdown",
   "id": "d3a4136e-8353-47ce-b8c0-d0f8743b65eb",
   "metadata": {
    "slideshow": {
     "slide_type": "subslide"
    }
   },
   "source": [
    "### Slicing and dicing NumPy arrays\n",
    "When you have data in an array, you will want to access it. You can access data in an array using a similar approach to lists, with a separate entry for each dimension."
   ]
  },
  {
   "cell_type": "code",
   "execution_count": 12,
   "id": "a9d9029c-deee-4e68-91cd-46d2fccb32da",
   "metadata": {
    "slideshow": {
     "slide_type": "fragment"
    }
   },
   "outputs": [
    {
     "name": "stdout",
     "output_type": "stream",
     "text": [
      "[2 4]\n"
     ]
    }
   ],
   "source": [
    "# 1D array slicing example is easy\n",
    "arr_1d = np.array([1, 2, 3, 4, 5, 6])\n",
    "\n",
    "print(arr_1d[1:5:2])"
   ]
  },
  {
   "cell_type": "code",
   "execution_count": 13,
   "id": "6bb40fac-e0c9-4d9a-a580-6ff10d5bd12e",
   "metadata": {
    "slideshow": {
     "slide_type": "fragment"
    }
   },
   "outputs": [
    {
     "name": "stdout",
     "output_type": "stream",
     "text": [
      "[[10 11 12 13]\n",
      " [14 15 16 17]\n",
      " [18 19 20 21]]\n",
      "\n",
      " 11\n"
     ]
    }
   ],
   "source": [
    "# 2D slicing examples\n",
    "arr_2d = np.array([[10, 11, 12, 13], [14, 15, 16, 17], [18, 19, 20, 21]])\n",
    "\n",
    "# Get the first element of the rows, and the second element of the columns - by passing those indices\n",
    "print(arr_2d)\n",
    "print('\\n', arr_2d[0, 1])"
   ]
  },
  {
   "cell_type": "code",
   "execution_count": 14,
   "id": "e0603fa1-8921-4847-a090-e9efb32b7b0d",
   "metadata": {
    "slideshow": {
     "slide_type": "subslide"
    }
   },
   "outputs": [
    {
     "name": "stdout",
     "output_type": "stream",
     "text": [
      "[18 19 20 21] [12 16 20]\n",
      "(4,) (3,)\n"
     ]
    }
   ],
   "source": [
    "# 2D slicing examples\n",
    "# How to remove a whole row? Or a whole column?\n",
    "one_row = arr_2d[-1, :]\n",
    "one_col = arr_2d[:, 2]\n",
    "\n",
    "print(one_row, one_col)\n",
    "print(one_row.shape, one_col.shape)"
   ]
  },
  {
   "cell_type": "code",
   "execution_count": 15,
   "id": "09f730e6-27e0-4544-9c59-d6956333e06b",
   "metadata": {
    "slideshow": {
     "slide_type": "fragment"
    }
   },
   "outputs": [
    {
     "name": "stdout",
     "output_type": "stream",
     "text": [
      "[[10 11 12 13]\n",
      " [14 15 16 17]\n",
      " [18 19 20 21]]\n"
     ]
    }
   ],
   "source": [
    "print(arr_2d)"
   ]
  },
  {
   "cell_type": "code",
   "execution_count": 16,
   "id": "2b8bdea9-4b07-429e-99d7-051457389fb2",
   "metadata": {
    "slideshow": {
     "slide_type": "fragment"
    }
   },
   "outputs": [
    {
     "name": "stdout",
     "output_type": "stream",
     "text": [
      "[11 14]\n"
     ]
    }
   ],
   "source": [
    "# 2D slicing examples\n",
    "# Select specific sets of numbers from different rows and columns\n",
    "subset = arr_2d[[0, 1], [1, 0]]\n",
    "print(subset)"
   ]
  },
  {
   "cell_type": "code",
   "execution_count": 17,
   "id": "357eb22b-595f-4368-9e72-606d21247877",
   "metadata": {
    "slideshow": {
     "slide_type": "fragment"
    }
   },
   "outputs": [
    {
     "name": "stdout",
     "output_type": "stream",
     "text": [
      "[[10 12]\n",
      " [14 16]\n",
      " [18 20]]\n"
     ]
    }
   ],
   "source": [
    "# 2D slicing examples\n",
    "# Strides are allowed\n",
    "strided = arr_2d[:, :3:2]\n",
    "print(strided)"
   ]
  },
  {
   "cell_type": "markdown",
   "id": "b9568b65-2b1a-42d5-8bc8-400c1ecf7553",
   "metadata": {
    "slideshow": {
     "slide_type": "subslide"
    }
   },
   "source": [
    "### Merging and shaping data arrays\n",
    "Sometimes, your data doesn't come in a neat package, and you need to stitch things together - perhaps an extra participant's data was collected later, or a new column needs to be added to each data file. Arrays are not fixed, just like lists, they are *mutable* data types. There are a set of NumPy functions that allow you to merge arrays together, as long as they are the same size *on the dimension you want to join*. Remember, arrays must be square/rectangular!\n",
    "\n",
    "Other times, you will need to alter the structure or shape of your data to suit some kind of purpose. That's handled efficiently by NumPy too."
   ]
  },
  {
   "cell_type": "code",
   "execution_count": 18,
   "id": "c3d992a6-823e-4247-9985-e5d452c20751",
   "metadata": {
    "slideshow": {
     "slide_type": "fragment"
    }
   },
   "outputs": [
    {
     "name": "stdout",
     "output_type": "stream",
     "text": [
      "(10,) (10,)\n"
     ]
    }
   ],
   "source": [
    "# Make some 1D arrays\n",
    "arr_one = np.array(range(0,10))\n",
    "arr_two = np.array(range(11,21))\n",
    "\n",
    "print(arr_one.shape, arr_two.shape)"
   ]
  },
  {
   "cell_type": "code",
   "execution_count": 19,
   "id": "648f9b26-17bd-49aa-9cf6-c28f18c54ef7",
   "metadata": {
    "slideshow": {
     "slide_type": "subslide"
    }
   },
   "outputs": [
    {
     "name": "stdout",
     "output_type": "stream",
     "text": [
      "[[ 0 11]\n",
      " [ 1 12]\n",
      " [ 2 13]\n",
      " [ 3 14]\n",
      " [ 4 15]\n",
      " [ 5 16]\n",
      " [ 6 17]\n",
      " [ 7 18]\n",
      " [ 8 19]\n",
      " [ 9 20]] (10, 2)\n"
     ]
    }
   ],
   "source": [
    "# Put these next to each other as-columns using 'concatenate'!\n",
    "stacked = np.column_stack((arr_one, arr_two))\n",
    "print(stacked, stacked.shape)"
   ]
  },
  {
   "cell_type": "code",
   "execution_count": 20,
   "id": "fb45f3e0-aa40-45c3-bb61-9e5f2ba154cf",
   "metadata": {
    "slideshow": {
     "slide_type": "subslide"
    }
   },
   "outputs": [
    {
     "name": "stdout",
     "output_type": "stream",
     "text": [
      "[[ 0  1  2  3  4  5  6  7  8  9]\n",
      " [11 12 13 14 15 16 17 18 19 20]] (2, 10)\n"
     ]
    }
   ],
   "source": [
    "# Once they are joined by column_stack, we can put arr_one on *top* of arr_two with a transpose, using the .T method!\n",
    "transposed = stacked.T\n",
    "print(transposed, transposed.shape)"
   ]
  },
  {
   "cell_type": "code",
   "execution_count": 21,
   "id": "4d038b27-a88a-40aa-8358-78139e969a6b",
   "metadata": {
    "slideshow": {
     "slide_type": "subslide"
    }
   },
   "outputs": [
    {
     "name": "stdout",
     "output_type": "stream",
     "text": [
      "[[ 0 11 20  9]\n",
      " [ 1 12 19  8]\n",
      " [ 2 13 18  7]\n",
      " [ 3 14 17  6]\n",
      " [ 4 15 16  5]\n",
      " [ 5 16 15  4]\n",
      " [ 6 17 14  3]\n",
      " [ 7 18 13  2]\n",
      " [ 8 19 12  1]\n",
      " [ 9 20 11  0]] (10, 4)\n"
     ]
    }
   ],
   "source": [
    "# Stacking 2D arrays is easy as long as dimensions match!\n",
    "doubled_up = np.column_stack((stacked, stacked[::-1, ::-1]))\n",
    "print(doubled_up, doubled_up.shape)"
   ]
  },
  {
   "cell_type": "markdown",
   "id": "35089b56-8dd7-4e30-8567-2fd6b61f5be2",
   "metadata": {
    "slideshow": {
     "slide_type": "subslide"
    }
   },
   "source": [
    "### `np.column_stack`\n",
    "`np.column_stack` is a powerful function for joining arrays. But there is one thing you should know about how it works behind the scenes that can really trip you up. There is a general purpose function for joining arrays called `np.concatenate` that lets you join arrays together by across any axis you desire. But, there's one caveat.\n",
    "\n",
    "`arr_one` and `arr_two` are 1-D arrays. Trying to concatenate them like with `column_stack` ends badly:"
   ]
  },
  {
   "cell_type": "code",
   "execution_count": 22,
   "id": "4b353c4c-085c-4e03-bcd8-c6bf74e99e8e",
   "metadata": {
    "slideshow": {
     "slide_type": "fragment"
    }
   },
   "outputs": [],
   "source": [
    "# Try to concat - axis argument is '1' to join on columns - this will break!\n",
    "concat_stack = np.concatenate((arr_one, arr_two), axis=1)"
   ]
  },
  {
   "cell_type": "markdown",
   "id": "68cbabfe-4f75-433e-b28e-a49c2e31b9f2",
   "metadata": {
    "slideshow": {
     "slide_type": "fragment"
    }
   },
   "source": [
    "An error - axis 1 *does not exist for a one dimensional array!* `np.column_stack` converted the inputs silently into two dimensional arrays, even if they only had a single element in the second dimension. How can we coerce these input arrays? Using the array method `.reshape`, which modifies the shape of an array with the arguments you give it."
   ]
  },
  {
   "cell_type": "code",
   "execution_count": 23,
   "id": "3d5f1061-6f29-47a3-9290-422e66607703",
   "metadata": {
    "slideshow": {
     "slide_type": "subslide"
    }
   },
   "outputs": [
    {
     "name": "stdout",
     "output_type": "stream",
     "text": [
      "[0 1 2 3 4 5 6 7 8 9] (10,)\n",
      "[[0 1 2 3 4 5 6 7 8 9]] (1, 10)\n"
     ]
    }
   ],
   "source": [
    "### Demonstrate reshape\n",
    "print(arr_one, arr_one.shape)\n",
    "\n",
    "shaped = arr_one.reshape(1, 10)\n",
    "print(shaped, shaped.shape)"
   ]
  },
  {
   "cell_type": "markdown",
   "id": "f8a2ab24-8372-4b89-9b3a-cfdad3d00b2e",
   "metadata": {
    "slideshow": {
     "slide_type": "fragment"
    }
   },
   "source": [
    "So to coerce the more general purpose `np.concatenate` to work, we need to reshape our arrays. You can get far with `np.column_stack` and transposing, but if you're not aware of this caveat, you can land up very confused."
   ]
  },
  {
   "cell_type": "code",
   "execution_count": 24,
   "id": "a420cda2-53db-4deb-970c-253824b75b15",
   "metadata": {
    "slideshow": {
     "slide_type": "fragment"
    }
   },
   "outputs": [
    {
     "name": "stdout",
     "output_type": "stream",
     "text": [
      "[[ 0 11]\n",
      " [ 1 12]\n",
      " [ 2 13]\n",
      " [ 3 14]\n",
      " [ 4 15]\n",
      " [ 5 16]\n",
      " [ 6 17]\n",
      " [ 7 18]\n",
      " [ 8 19]\n",
      " [ 9 20]] (10, 2)\n"
     ]
    }
   ],
   "source": [
    "# Replicate column_stack functionality\n",
    "concat_stack = np.concatenate((arr_one.reshape(10,1), arr_two.reshape(10,1)), axis=1)\n",
    "print(concat_stack, concat_stack.shape)"
   ]
  }
 ],
 "metadata": {
  "kernelspec": {
   "display_name": "Python 3 (ipykernel)",
   "language": "python",
   "name": "python3"
  },
  "language_info": {
   "codemirror_mode": {
    "name": "ipython",
    "version": 3
   },
   "file_extension": ".py",
   "mimetype": "text/x-python",
   "name": "python",
   "nbconvert_exporter": "python",
   "pygments_lexer": "ipython3",
   "version": "3.10.4"
  }
 },
 "nbformat": 4,
 "nbformat_minor": 5
}
