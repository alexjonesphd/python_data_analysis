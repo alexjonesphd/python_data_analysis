{
 "cells": [
  {
   "cell_type": "markdown",
   "id": "6f668639-5513-4948-9942-40be9b4e272c",
   "metadata": {
    "slideshow": {
     "slide_type": "slide"
    }
   },
   "source": [
    "## Loops\n",
    "Things are getting more advanced now. There is one programming practice that you should master to fully control your data. \n",
    "\n",
    "What we've seen so far is straightforward, defining collections like lists and dictionaries, and retrieving data from them through indexing. Sometimes, we want to do something with each element in a data collection - perhaps call a function on it, read a file, remove a piece of data, etc. How can we do this without manually accessing each element manually?\n",
    "\n",
    "The answer is the `for` loop, a special piece of syntax that allows us to *iterate* over a sequance or collection and retrieve the values inside by temporarily passing them to a new variable of whatever name we choose. \n",
    "\n",
    "The format looks like this:\n",
    "\n",
    "```\n",
    "for variable in sequence:\n",
    "    do something\n",
    "```\n",
    "    \n",
    "Not the indentation on the second line - as you'll see, this is part of the code. Python uses this to differentiate code that is in the for loop with that outside of it. "
   ]
  },
  {
   "cell_type": "markdown",
   "id": "2b99d5ce-43b2-47f3-8a4f-717c1cef7fc2",
   "metadata": {
    "slideshow": {
     "slide_type": "subslide"
    }
   },
   "source": [
    "For loops can be confusing, so some examples are required!"
   ]
  },
  {
   "cell_type": "code",
   "execution_count": 82,
   "id": "41fc2fee-e459-4aab-b285-96b702c9976a",
   "metadata": {
    "slideshow": {
     "slide_type": "fragment"
    }
   },
   "outputs": [
    {
     "name": "stdout",
     "output_type": "stream",
     "text": [
      "12.394\n",
      "9.0948\n",
      "1.02\n",
      "39.4023\n",
      "2.392\n",
      "50.12948912\n"
     ]
    }
   ],
   "source": [
    "# Make a list - these values all need to be rounded to two decimal places!\n",
    "data_list = [12.394, 9.0948, 1.02, 39.4023, 2.392, 50.12948912]\n",
    "\n",
    "# Write a for loop that prints each element in turn\n",
    "for score in data_list:\n",
    "    print(score)"
   ]
  },
  {
   "cell_type": "markdown",
   "id": "c47ba5dd-6412-410a-b002-0872b8c060b1",
   "metadata": {
    "slideshow": {
     "slide_type": "fragment"
    }
   },
   "source": [
    "At each iteration, the value of `score` changed to be the next element in the list. So it started with the element in the position `[0]`, then `[1]`, and then onwards until `data_list` was finished. "
   ]
  },
  {
   "cell_type": "markdown",
   "id": "0eb1c7fa-fbab-4013-8990-373af769e757",
   "metadata": {
    "slideshow": {
     "slide_type": "subslide"
    }
   },
   "source": [
    "Let's say we want to modify each element of a list, by rounding the numbers. This could be achieved as follows:"
   ]
  },
  {
   "cell_type": "code",
   "execution_count": 83,
   "id": "c6fe42a9-5868-44d2-bf35-42e62d16deb7",
   "metadata": {
    "slideshow": {
     "slide_type": "fragment"
    }
   },
   "outputs": [
    {
     "name": "stdout",
     "output_type": "stream",
     "text": [
      "[12.39, 9.09, 1.02, 39.4, 2.39, 50.13]\n"
     ]
    }
   ],
   "source": [
    "# First, make an empty list to store our new data - just square brackets with no variables\n",
    "rounded_data = []\n",
    "\n",
    "# Iterate over the original list - round each element - and append to our empty list\n",
    "for value in data_list:\n",
    "    round_value = round(value, 2)\n",
    "    rounded_data.append(round_value)\n",
    "    \n",
    "print(rounded_data)"
   ]
  },
  {
   "cell_type": "markdown",
   "id": "7d875646-58e9-4b60-8172-a486dfd4030c",
   "metadata": {
    "slideshow": {
     "slide_type": "subslide"
    },
    "tags": []
   },
   "source": [
    "### Building complexity with iteration\n",
    "You aren't limited to iterating just once. You can **nest** an iteration in the same way you can nest lists and dictionaries. This sometimes happens if you need to dig deeper into data structures to manipulate values."
   ]
  },
  {
   "cell_type": "code",
   "execution_count": 84,
   "id": "fac565fb-2c7a-4241-98ca-1ce65d01e070",
   "metadata": {
    "slideshow": {
     "slide_type": "fragment"
    }
   },
   "outputs": [
    {
     "name": "stdout",
     "output_type": "stream",
     "text": [
      "001\n",
      "23\n",
      "female\n",
      "002\n",
      "31\n",
      "male\n",
      "003\n",
      "40\n",
      "female\n"
     ]
    }
   ],
   "source": [
    "# Define a nested list\n",
    "nest_list = [ ['001', 23, 'female'], ['002', 31, 'male'], ['003', 40, 'female'] ]\n",
    "\n",
    "# Iterate over the main list\n",
    "for participant in nest_list:\n",
    "    \n",
    "    # Iterate over the sub-list\n",
    "    for score in participant:\n",
    "        print(score)"
   ]
  },
  {
   "cell_type": "code",
   "execution_count": 85,
   "id": "9f02367a-2b63-41e5-9110-e209a067c402",
   "metadata": {
    "slideshow": {
     "slide_type": "subslide"
    }
   },
   "outputs": [
    {
     "name": "stdout",
     "output_type": "stream",
     "text": [
      "Participant ID = 001, age = 23, sex = female\n",
      "Participant ID = 002, age = 31, sex = male\n",
      "Participant ID = 003, age = 40, sex = female\n"
     ]
    }
   ],
   "source": [
    "# Or access the sublists to do what we want!\n",
    "for participant in nest_list:\n",
    "    \n",
    "    line = 'Participant ID = ' + participant[0] + ', age = ' + str(participant[1]) + ', sex = ' + participant[2]\n",
    "    print(line)"
   ]
  },
  {
   "cell_type": "markdown",
   "id": "b3f6226d-911e-4c94-a8fb-c206c96d9bb2",
   "metadata": {
    "slideshow": {
     "slide_type": "subslide"
    }
   },
   "source": [
    "### `enumerate` \n",
    "It should be clear from the above examples that when iterating over a list using `for`, we get back a variable that changes at each iteration. This is usually fine, but sometimes, we want to know the **actual position** of the element and do something with that. \n",
    "\n",
    "The `enumerate` function is used for dealing with this. We call `enumerate` on a sequence when we set up a `for` loop, and it returns a pair of variables - a counter, that returns the index, and a value, that returns the element, just like a normal `for` loop. \n",
    "\n",
    "The syntax looks like this!\n",
    "\n",
    "`for index, value in enumerate(sequence):`\n",
    "\n",
    "    `do stuff!`"
   ]
  },
  {
   "cell_type": "code",
   "execution_count": 86,
   "id": "97487f51-1457-4a93-8a63-3655797e2de6",
   "metadata": {
    "slideshow": {
     "slide_type": "fragment"
    }
   },
   "outputs": [
    {
     "name": "stdout",
     "output_type": "stream",
     "text": [
      "Item in position 0 is 123\n",
      "Item in position 1 is 381\n",
      "Item in position 2 is content\n",
      "Item in position 3 is value\n"
     ]
    }
   ],
   "source": [
    "# Define a list\n",
    "data_list = [123, 381, 'content', 'value']\n",
    "\n",
    "for index, value in enumerate(data_list):\n",
    "    line = 'Item in position ' + str(index) + ' is ' + str(value)\n",
    "    print(line)"
   ]
  },
  {
   "cell_type": "code",
   "execution_count": 87,
   "id": "93d6376c-ba25-44ef-a783-f2596b2f7493",
   "metadata": {
    "slideshow": {
     "slide_type": "fragment"
    }
   },
   "outputs": [
    {
     "name": "stdout",
     "output_type": "stream",
     "text": [
      "123\n",
      "381\n",
      "content\n",
      "value\n"
     ]
    }
   ],
   "source": [
    "# To demonstrate the use of index to actually access elements!\n",
    "for index, value in enumerate(data_list):\n",
    "    print(data_list[index])"
   ]
  },
  {
   "cell_type": "code",
   "execution_count": 88,
   "id": "d3cd3b2b-1053-414b-baf0-4fddfa426258",
   "metadata": {
    "slideshow": {
     "slide_type": "fragment"
    }
   },
   "outputs": [
    {
     "name": "stdout",
     "output_type": "stream",
     "text": [
      "[12.394, 9.0948, 1.02, 39.4023, 2.392, 50.12948912]\n",
      "[12.39, 9.09, 1.02, 39.4, 2.39, 50.13]\n"
     ]
    }
   ],
   "source": [
    "# Or to more efficiently replace elements - the original list is now lost\n",
    "data_list = [12.394, 9.0948, 1.02, 39.4023, 2.392, 50.12948912]\n",
    "print(data_list)\n",
    "\n",
    "for index, value in enumerate(data_list):\n",
    "    \n",
    "    # Use the index to access and assign a new variable\n",
    "    data_list[index] = round(value, 2)\n",
    "\n",
    "print(data_list)"
   ]
  },
  {
   "cell_type": "markdown",
   "id": "a8ced5ba-50ea-4941-98ff-0ce8af863a46",
   "metadata": {
    "slideshow": {
     "slide_type": "subslide"
    }
   },
   "source": [
    "### Iterating over dictionaries\n",
    "Dictionaries are a somewhat more complex structure compared to lists. For example, they don't 'remember' the order things were put in them, depending on the version of Python you use, so iterating over them in the same way as lists doesn't always make sense. \n",
    "\n",
    "If we remember the **methods** dictionaries had, we can iterate over those to access and play around with created dictionaries."
   ]
  },
  {
   "cell_type": "code",
   "execution_count": 89,
   "id": "3c77468b-a6b0-4473-a228-424a679f4487",
   "metadata": {
    "slideshow": {
     "slide_type": "subslide"
    }
   },
   "outputs": [],
   "source": [
    "# Make a dictionary\n",
    "data_dict = {'Score_A': 45.2912, 'Score_B': 68.2945, 'Score_C': 88.9873}"
   ]
  },
  {
   "cell_type": "code",
   "execution_count": 90,
   "id": "b5fba3e4-6feb-44b6-af7c-ccae4db69895",
   "metadata": {
    "slideshow": {
     "slide_type": "fragment"
    }
   },
   "outputs": [
    {
     "name": "stdout",
     "output_type": "stream",
     "text": [
      "Score_A\n",
      "Score_B\n",
      "Score_C\n"
     ]
    }
   ],
   "source": [
    "# Print out the keys\n",
    "for key in data_dict.keys():\n",
    "    print(key)\n",
    "    \n"
   ]
  },
  {
   "cell_type": "code",
   "execution_count": 91,
   "id": "d5699265-930e-4f5d-a405-a3de1b4bcbe0",
   "metadata": {
    "slideshow": {
     "slide_type": "fragment"
    }
   },
   "outputs": [
    {
     "name": "stdout",
     "output_type": "stream",
     "text": [
      "45.2912\n",
      "68.2945\n",
      "88.9873\n"
     ]
    }
   ],
   "source": [
    "# Or use the keys to access the data!\n",
    "for key in data_dict.keys():\n",
    "    print(data_dict[key])"
   ]
  },
  {
   "cell_type": "code",
   "execution_count": 92,
   "id": "14c60ded-bcdb-46c2-a2ec-2d74fc49c29b",
   "metadata": {
    "slideshow": {
     "slide_type": "fragment"
    }
   },
   "outputs": [
    {
     "name": "stdout",
     "output_type": "stream",
     "text": [
      "45.2912\n",
      "68.2945\n",
      "88.9873\n"
     ]
    }
   ],
   "source": [
    "# Use this to grab the values - beware they may not be in the order you think\n",
    "for value in data_dict.values():\n",
    "    print(value)"
   ]
  },
  {
   "cell_type": "code",
   "execution_count": 93,
   "id": "f53fe78e-9d8f-4965-9c3d-5ca29813822e",
   "metadata": {
    "slideshow": {
     "slide_type": "subslide"
    }
   },
   "outputs": [
    {
     "name": "stdout",
     "output_type": "stream",
     "text": [
      "The key Score_A returns the value: 45.2912\n",
      "The key Score_B returns the value: 68.2945\n",
      "The key Score_C returns the value: 88.9873\n"
     ]
    }
   ],
   "source": [
    "# Finally, use .items to get both key:value pairs out!\n",
    "for key, value in data_dict.items():\n",
    "    line = 'The key ' + key + ' returns the value: ' + str(value)\n",
    "    print(line)"
   ]
  },
  {
   "cell_type": "code",
   "execution_count": 94,
   "id": "ce9309d7-a6ed-46b8-9a2a-ffaebac06534",
   "metadata": {
    "slideshow": {
     "slide_type": "fragment"
    }
   },
   "outputs": [
    {
     "name": "stdout",
     "output_type": "stream",
     "text": [
      "{'Score_A': 92905.51, 'Score_B': 318535.02, 'Score_C': 704667.25}\n"
     ]
    }
   ],
   "source": [
    "# Makes sense to use this to modify the original dictionary\n",
    "# Raise each value to the power of 3 to two decimal places\n",
    "for k, v in data_dict.items():\n",
    "    data_dict[k] = round(v ** 3, 2)\n",
    "    \n",
    "print(data_dict)"
   ]
  },
  {
   "cell_type": "markdown",
   "id": "ccb83d6a-2258-4cc1-bd05-10fc3101bd19",
   "metadata": {
    "slideshow": {
     "slide_type": "slide"
    }
   },
   "source": [
    "The basics are covered! \n",
    "\n",
    "That's a lot of information to take in, but these are the fundamentals of working with data Python. Next, we will cover the **NumPy** and **Pandas** libraries, which are built to process data efficiently and are the real workhorses of doing data analysis in Python.\n",
    "\n",
    "If you're struggling or are stuck, do not worry. The learning curve is high and it will *take time*. The only way to improve is to keep coding. Try the exercises, and use the internet to look for answers where you aren't sure."
   ]
  },
  {
   "cell_type": "code",
   "execution_count": 95,
   "id": "953a24e8-98a9-4cdc-971b-0991ac2112d5",
   "metadata": {
    "slideshow": {
     "slide_type": "skip"
    }
   },
   "outputs": [
    {
     "data": {
      "image/jpeg": "[encoded data removed]",
      "text/html": [
       "\n",
       "        <iframe\n",
       "            width=\"400\"\n",
       "            height=\"300\"\n",
       "            src=\"https://www.youtube.com/embed/HluANRwPyNo\"\n",
       "            frameborder=\"0\"\n",
       "            allowfullscreen\n",
       "            \n",
       "        ></iframe>\n",
       "        "
      ],
      "text/plain": [
       "<IPython.lib.display.YouTubeVideo at 0x10c086650>"
      ]
     },
     "metadata": {},
     "output_type": "display_data"
    }
   ],
   "source": [
    "from IPython.display import YouTubeVideo\n",
    "display(YouTubeVideo('HluANRwPyNo'))"
   ]
  }
 ],
 "metadata": {
  "kernelspec": {
   "display_name": "Python 3 (ipykernel)",
   "language": "python",
   "name": "python3"
  },
  "language_info": {
   "codemirror_mode": {
    "name": "ipython",
    "version": 3
   },
   "file_extension": ".py",
   "mimetype": "text/x-python",
   "name": "python",
   "nbconvert_exporter": "python",
   "pygments_lexer": "ipython3",
   "version": "3.10.4"
  }
 },
 "nbformat": 4,
 "nbformat_minor": 5
}
