{
 "cells": [
  {
   "cell_type": "markdown",
   "id": "c3592e92-549e-4a7b-b830-ba534d3625bd",
   "metadata": {
    "slideshow": {
     "slide_type": "slide"
    },
    "tags": []
   },
   "source": [
    "## Functions\n",
    "\n",
    "Functions are nothing new to you - we have used them before!\n",
    "* `print`\n",
    "* `type`\n",
    "* `dict`\n",
    "* `list`\n",
    "\n",
    "A function is a piece of reusable code that is suited for a particular task, that can be reused. Python has thousands of functions built in, as well as across different packages we will come to in the future. \n"
   ]
  },
  {
   "cell_type": "markdown",
   "id": "561d1b47-53d7-4446-9876-22ab38bce7fd",
   "metadata": {
    "slideshow": {
     "slide_type": "subslide"
    }
   },
   "source": [
    "### Examples of functions\n",
    "How do we use functions? With the following general approach:\n",
    "\n",
    "`output = function_name(work_on_this, more_arguments)`\n",
    "\n",
    "Two built in functions we can play with are `min` and `max`. "
   ]
  },
  {
   "cell_type": "code",
   "execution_count": 72,
   "id": "a67b6314-4c2a-4ae9-9a31-48beb6115d6a",
   "metadata": {
    "slideshow": {
     "slide_type": "fragment"
    }
   },
   "outputs": [
    {
     "name": "stdout",
     "output_type": "stream",
     "text": [
      "7.8\n"
     ]
    }
   ],
   "source": [
    "# Example\n",
    "scores = [2.39, 1.12, 5.21, 8.92, 1.24]\n",
    "\n",
    "# Find the range by using min and max\n",
    "lowest = min(scores)\n",
    "highest = max(scores)\n",
    "\n",
    "# Compute the span\n",
    "print(highest - lowest)"
   ]
  },
  {
   "cell_type": "markdown",
   "id": "0a0183b8-31cd-4a01-bbf9-126b642d9b0c",
   "metadata": {
    "slideshow": {
     "slide_type": "subslide"
    }
   },
   "source": [
    "`max` and `min` are really simple functions, with a single input. Sometimes functions have more than one input, or **argument**. More than one argument is entered by separating with a `,`.\n",
    "\n",
    "A common data analysis function is `round`, which rounds numbers to a degree of precision set by you. Its first input is a value you want to round, and the second is the level of precision you want."
   ]
  },
  {
   "cell_type": "code",
   "execution_count": 73,
   "id": "74401523-dd21-4f0d-a61d-6bb80319b6e8",
   "metadata": {
    "slideshow": {
     "slide_type": "fragment"
    }
   },
   "outputs": [
    {
     "name": "stdout",
     "output_type": "stream",
     "text": [
      "3.194\n"
     ]
    }
   ],
   "source": [
    "# Multi-argument function example\n",
    "value = 3.193849291\n",
    "\n",
    "# Use round \n",
    "rounded = round(value, 3)\n",
    "\n",
    "print(rounded)"
   ]
  },
  {
   "cell_type": "markdown",
   "id": "098efef0-fa0a-4c36-8c75-5322a9920af1",
   "metadata": {
    "slideshow": {
     "slide_type": "subslide"
    }
   },
   "source": [
    "#### Default arguments\n",
    "Functions often have what are known as default arguments. What happens if we just give `round` a single argument, the number we want to round?"
   ]
  },
  {
   "cell_type": "code",
   "execution_count": 74,
   "id": "cb740c1f-abd9-4fa5-8ee9-c9aaff0779ca",
   "metadata": {
    "slideshow": {
     "slide_type": "fragment"
    }
   },
   "outputs": [
    {
     "name": "stdout",
     "output_type": "stream",
     "text": [
      "3\n"
     ]
    }
   ],
   "source": [
    "# Testing round\n",
    "print(round(value))"
   ]
  },
  {
   "cell_type": "markdown",
   "id": "fe781c26-03b4-4a7d-bb82-685a7c90554f",
   "metadata": {
    "slideshow": {
     "slide_type": "fragment"
    }
   },
   "source": [
    "Python has made a guess about what you want - rounded to a whole number. That is, the second argument has a **default** value - zero."
   ]
  },
  {
   "cell_type": "markdown",
   "id": "15d901d9-f950-4ce7-a459-44296ebbf538",
   "metadata": {
    "slideshow": {
     "slide_type": "subslide"
    }
   },
   "source": [
    "### `help`!\n",
    "If you ever get confused about what a function does, or what arguments it requires, you can ask for help. \n",
    "`help` is a function whose job is to give you a print out of how a function works. What does it say about `round`?"
   ]
  },
  {
   "cell_type": "code",
   "execution_count": 75,
   "id": "1f476df2-6576-4149-926c-e5f97620a8db",
   "metadata": {
    "slideshow": {
     "slide_type": "fragment"
    }
   },
   "outputs": [
    {
     "name": "stdout",
     "output_type": "stream",
     "text": [
      "Help on built-in function round in module builtins:\n",
      "\n",
      "round(number, ndigits=None)\n",
      "    Round a number to a given precision in decimal digits.\n",
      "    \n",
      "    The return value is an integer if ndigits is omitted or None.  Otherwise\n",
      "    the return value has the same type as the number.  ndigits may be negative.\n",
      "\n"
     ]
    }
   ],
   "source": [
    "# Get help on round\n",
    "help(round)"
   ]
  },
  {
   "cell_type": "markdown",
   "id": "52e0d461-0d02-4b5e-8fd3-adacdec18f1c",
   "metadata": {
    "slideshow": {
     "slide_type": "subslide"
    }
   },
   "source": [
    "### Methods\n",
    "We've seen methods before - the special functions that a `list` can use to make alterations to itself. \n",
    "\n",
    "But methods are everywhere, and depend on the variable in question. You can use `help` on a specific data type to see what methods it has. \n",
    "\n",
    "`string` data has a range of useful methods that make working with text data simple.\n",
    "\n",
    "For example, we can use:\n",
    "* `.upper()`\n",
    "* `.lower()`\n",
    "* `.count()`\n",
    "* `.split()`\n",
    "* `.join()`\n",
    "\n",
    "for various exciting possibilities. "
   ]
  },
  {
   "cell_type": "code",
   "execution_count": 76,
   "id": "bc210284-505c-45b5-8b45-9b420f7710af",
   "metadata": {
    "slideshow": {
     "slide_type": "subslide"
    }
   },
   "outputs": [],
   "source": [
    "# Define a string\n",
    "basic = 'We are going to play with this!'"
   ]
  },
  {
   "cell_type": "code",
   "execution_count": 77,
   "id": "9f0ac84a-90a9-46c9-ad49-8e4f0c7b1c6f",
   "metadata": {
    "slideshow": {
     "slide_type": "fragment"
    }
   },
   "outputs": [
    {
     "name": "stdout",
     "output_type": "stream",
     "text": [
      "WE ARE GOING TO PLAY WITH THIS!\n"
     ]
    }
   ],
   "source": [
    "# How does .upper() work?\n",
    "print(basic.upper())"
   ]
  },
  {
   "cell_type": "code",
   "execution_count": 78,
   "id": "7ed14e02-f741-42a1-9856-9a42ffde28b0",
   "metadata": {
    "slideshow": {
     "slide_type": "fragment"
    }
   },
   "outputs": [
    {
     "name": "stdout",
     "output_type": "stream",
     "text": [
      "we are going to play with this!\n"
     ]
    }
   ],
   "source": [
    "# So lower should...\n",
    "print(basic.lower())"
   ]
  },
  {
   "cell_type": "code",
   "execution_count": 79,
   "id": "b7f3b05e-092a-4573-992d-2156b5a9fd4c",
   "metadata": {
    "slideshow": {
     "slide_type": "fragment"
    }
   },
   "outputs": [
    {
     "name": "stdout",
     "output_type": "stream",
     "text": [
      "2\n"
     ]
    }
   ],
   "source": [
    "# How many 'a's in this sentence?\n",
    "print(basic.count('a'))"
   ]
  },
  {
   "cell_type": "code",
   "execution_count": 80,
   "id": "a2fa61a1-da0a-41c2-b0d2-9c002481432e",
   "metadata": {
    "slideshow": {
     "slide_type": "fragment"
    }
   },
   "outputs": [
    {
     "name": "stdout",
     "output_type": "stream",
     "text": [
      "['We', 'are', 'going', 'to', 'play', 'with', 'this!']\n"
     ]
    }
   ],
   "source": [
    "# Chop this up by the number of space\n",
    "print(basic.split(' '))"
   ]
  },
  {
   "cell_type": "code",
   "execution_count": 81,
   "id": "217ad329-df72-454c-896c-51debde786dd",
   "metadata": {
    "slideshow": {
     "slide_type": "fragment"
    }
   },
   "outputs": [
    {
     "name": "stdout",
     "output_type": "stream",
     "text": [
      "We!are!going!to!play!with!this!\n"
     ]
    }
   ],
   "source": [
    "# Join is cool!\n",
    "split_list = basic.split(' ')\n",
    "print('!'.join(split_list))"
   ]
  }
 ],
 "metadata": {
  "kernelspec": {
   "display_name": "Python 3 (ipykernel)",
   "language": "python",
   "name": "python3"
  },
  "language_info": {
   "codemirror_mode": {
    "name": "ipython",
    "version": 3
   },
   "file_extension": ".py",
   "mimetype": "text/x-python",
   "name": "python",
   "nbconvert_exporter": "python",
   "pygments_lexer": "ipython3",
   "version": "3.10.4"
  }
 },
 "nbformat": 4,
 "nbformat_minor": 5
}
