{
 "cells": [
  {
   "cell_type": "markdown",
   "id": "ce2e92ae-1961-41dd-8bfa-3664db275f47",
   "metadata": {
    "slideshow": {
     "slide_type": "slide"
    },
    "tags": []
   },
   "source": [
    "## Data collections\n",
    "\n",
    "So far, we've seen data stored in single variables. But we usually want to collect data together somehow - different variables for each participants, different experimental conditions, or different data files for each participants. \n",
    "\n",
    "How can a bunch of variables be stored together? Python has a range of `collections` - special structures that can store data together. The two we'll focus on are called `lists` and `dictionaries`."
   ]
  },
  {
   "cell_type": "markdown",
   "id": "4dde6b1f-b5cc-4411-b089-613a66367c91",
   "metadata": {
    "slideshow": {
     "slide_type": "subslide"
    }
   },
   "source": [
    "### The list\n",
    "The `list` is a workhorse of data manipulation and analysis. A list is group of variables of various types, set in a particular order, that are stored together in a single variable.\n",
    "\n",
    "Consider this example from an analysis perspective - data from an experimental participant on a personality test. It would be clumsy to refer to these all the time individually, so let's use a list."
   ]
  },
  {
   "cell_type": "code",
   "execution_count": 1,
   "id": "7d3567c9-2cd9-414e-af1b-c05eb435079a",
   "metadata": {
    "slideshow": {
     "slide_type": "fragment"
    }
   },
   "outputs": [],
   "source": [
    "# Define some data variables\n",
    "pid = '001'; age = 29; sex = 'female'; extraversion = 5; neuroticism = 3"
   ]
  },
  {
   "cell_type": "code",
   "execution_count": 2,
   "id": "1af7d723-bdcd-4a80-baad-0b0e323bf7d6",
   "metadata": {
    "slideshow": {
     "slide_type": "fragment"
    }
   },
   "outputs": [
    {
     "name": "stdout",
     "output_type": "stream",
     "text": [
      "['001', 29, 'female', 5, 3]\n"
     ]
    }
   ],
   "source": [
    "# Store these in a list!\n",
    "data = [pid, age, sex, extraversion, neuroticism]\n",
    "print(data)"
   ]
  },
  {
   "cell_type": "markdown",
   "id": "a2850acc-0d44-4c98-9abc-019c8f1490ec",
   "metadata": {
    "slideshow": {
     "slide_type": "fragment"
    }
   },
   "source": [
    "The data is now stored together in one collection, with varying types. Each part of a list is known as an element, and has a position. It's worth noting that each element can be any Python data type or structure - even another list!"
   ]
  },
  {
   "cell_type": "code",
   "execution_count": 3,
   "id": "d80b264e-207f-4422-8e0a-979f8e6f3e6e",
   "metadata": {
    "slideshow": {
     "slide_type": "subslide"
    }
   },
   "outputs": [
    {
     "name": "stdout",
     "output_type": "stream",
     "text": [
      "[1, 4, 5, ['inside', 'the', 'list']]\n"
     ]
    }
   ],
   "source": [
    "# Nested list\n",
    "nest = [1, 4, 5, ['inside', 'the', 'list']]\n",
    "print(nest)"
   ]
  },
  {
   "cell_type": "markdown",
   "id": "33ae5865-96ab-48a3-b53a-805ebc8ed4cf",
   "metadata": {
    "slideshow": {
     "slide_type": "subslide"
    }
   },
   "source": [
    "We've got our data in a list. But what if we need to interact with the elements? How can we access different elements? Using an `index`, and different `methods`. \n",
    "\n",
    "Welcome to one of Python's quirkiest parts: list indexing."
   ]
  },
  {
   "cell_type": "markdown",
   "id": "73757c11-8acf-4534-9c63-a4cef7c3278f",
   "metadata": {
    "slideshow": {
     "slide_type": "subslide"
    }
   },
   "source": [
    "#### Simple indexing\n",
    "You can access any element of a list by passing its **index value** to the list variable, using square brackets, `[]`, in this format:\n",
    "`list_name[number]`.\n",
    "List indexing **starts from zero**. That is, the first element is in the '0th' position."
   ]
  },
  {
   "cell_type": "code",
   "execution_count": 4,
   "id": "8f52f802-cbab-469d-b38c-b9ca1a443e17",
   "metadata": {
    "slideshow": {
     "slide_type": "fragment"
    }
   },
   "outputs": [
    {
     "name": "stdout",
     "output_type": "stream",
     "text": [
      "001\n"
     ]
    }
   ],
   "source": [
    "# Get the participant ID from the data list\n",
    "retrieved_pid = data[0]\n",
    "print(retrieved_pid)"
   ]
  },
  {
   "cell_type": "code",
   "execution_count": 5,
   "id": "a8699b85-3259-4909-8cde-dbd13e993e76",
   "metadata": {
    "slideshow": {
     "slide_type": "fragment"
    }
   },
   "outputs": [
    {
     "name": "stdout",
     "output_type": "stream",
     "text": [
      "5\n"
     ]
    }
   ],
   "source": [
    "# Get the extraversion score\n",
    "print(data[3])"
   ]
  },
  {
   "cell_type": "code",
   "execution_count": 6,
   "id": "2343bc29-88f7-4c7d-a6e8-272477c938ab",
   "metadata": {
    "slideshow": {
     "slide_type": "fragment"
    }
   },
   "outputs": [
    {
     "name": "stdout",
     "output_type": "stream",
     "text": [
      "3\n"
     ]
    }
   ],
   "source": [
    "# Lists can also be accessed in reverse order, by using negative indexes!\n",
    "# Grab the final element of a list\n",
    "print(data[-1])"
   ]
  },
  {
   "cell_type": "code",
   "execution_count": 7,
   "id": "ee1ff56a-bafd-4fb4-a086-c45fc6866dd0",
   "metadata": {
    "slideshow": {
     "slide_type": "fragment"
    }
   },
   "outputs": [
    {
     "name": "stdout",
     "output_type": "stream",
     "text": [
      "001\n"
     ]
    }
   ],
   "source": [
    "# Or grab the FIRST element of a list using reverse indexing\n",
    "print(data[-5])"
   ]
  },
  {
   "cell_type": "markdown",
   "id": "a1c4e1c0-ede4-4df8-8020-1a0d9b19aa80",
   "metadata": {
    "slideshow": {
     "slide_type": "subslide"
    }
   },
   "source": [
    "A table for remembering list indexing:\n",
    "\n",
    "| 0    | 1     | 2     | 3     | 4    |\n",
    "|------|-------|-------|-------|------|\n",
    "| 'h'  | 'e'   | 'l'   | 'l'   | 'o'  |\n",
    "| -5   | -4    | -3    | -2    | -1   |\n",
    "\n"
   ]
  },
  {
   "cell_type": "markdown",
   "id": "cb59bdcc-bd4d-44d3-9c86-8d3586fb4d90",
   "metadata": {
    "slideshow": {
     "slide_type": "subslide"
    }
   },
   "source": [
    "#### List slicing\n",
    "Getting things out of a list one by one would involve a lot of typing. Often, we might want to access a range of values all at once. This is achieved through specific notation using a colon, `:`, and specific index locations."
   ]
  },
  {
   "cell_type": "code",
   "execution_count": 8,
   "id": "671afb28-796e-4c9f-bd7a-240e2050ccf4",
   "metadata": {
    "slideshow": {
     "slide_type": "fragment"
    }
   },
   "outputs": [
    {
     "name": "stdout",
     "output_type": "stream",
     "text": [
      "['001', 29, 'female']\n"
     ]
    }
   ],
   "source": [
    "# The first few elements of `data` have demographics. Let's get those out\n",
    "print(data[0:3])"
   ]
  },
  {
   "cell_type": "code",
   "execution_count": 9,
   "id": "93085838-1aad-4a28-a564-e601988e77ab",
   "metadata": {
    "slideshow": {
     "slide_type": "fragment"
    }
   },
   "outputs": [
    {
     "name": "stdout",
     "output_type": "stream",
     "text": [
      "['001', 29, 'female']\n"
     ]
    }
   ],
   "source": [
    "# Or if you are starting from the very beginning, the 0 can be omitted\n",
    "print(data[:3])"
   ]
  },
  {
   "cell_type": "code",
   "execution_count": 10,
   "id": "2bb6045c-c63e-41e6-90d1-f21d49c5d9b8",
   "metadata": {
    "slideshow": {
     "slide_type": "fragment"
    }
   },
   "outputs": [
    {
     "name": "stdout",
     "output_type": "stream",
     "text": [
      "['female', 5, 3]\n"
     ]
    }
   ],
   "source": [
    "# Reverse slicing works in the same way\n",
    "print(data[-3:])"
   ]
  },
  {
   "cell_type": "code",
   "execution_count": 11,
   "id": "e8df8fc5-2bf7-4c7c-b43f-d0adb34ca358",
   "metadata": {
    "slideshow": {
     "slide_type": "fragment"
    }
   },
   "outputs": [
    {
     "name": "stdout",
     "output_type": "stream",
     "text": [
      "[1, 4, 5, ['inside', 'the', 'list']]\n",
      "list\n"
     ]
    }
   ],
   "source": [
    "# Nested lists can be indexed one after the other \n",
    "print(nest)\n",
    "print(nest[3][-1])"
   ]
  },
  {
   "cell_type": "markdown",
   "id": "9bc0444c-bad5-4b62-aa75-09b3367677c4",
   "metadata": {
    "slideshow": {
     "slide_type": "subslide"
    }
   },
   "source": [
    "Do you notice anything interesting about the slicing? To access the first three elements, you have to pass `[0:3]`. List slicing works on the basis that:\n",
    "\n",
    "* The first value specifies the start and is ***included***.\n",
    "* The value after the colon specifics the end and is ***not*** included.\n",
    "\n",
    "A good way of remembering this is to think Python sees a slice as 'start here, and take ***up to, but not including*** this number'"
   ]
  },
  {
   "cell_type": "markdown",
   "id": "3c118690-abf6-454c-8a30-043ce523a859",
   "metadata": {
    "slideshow": {
     "slide_type": "subslide"
    }
   },
   "source": [
    "#### Stepped indexing \n",
    "It's possible to use different steps to jump over lists in different ways, using a set of three values and colon operators, that specify where to start, where to stop, and how many steps to take, like this:\n",
    "\n",
    "`a_list[start:stop:steps]`"
   ]
  },
  {
   "cell_type": "code",
   "execution_count": 12,
   "id": "1d7dc25e-faeb-4135-9a94-ebb732579865",
   "metadata": {
    "slideshow": {
     "slide_type": "fragment"
    }
   },
   "outputs": [],
   "source": [
    "# Define a longer list\n",
    "long = ['a', 1, 'c', 45, 'd', 77, 'st', 4.321]"
   ]
  },
  {
   "cell_type": "code",
   "execution_count": 13,
   "id": "f80b9a3a-763a-47c8-91a1-223a9bc8f9bc",
   "metadata": {
    "slideshow": {
     "slide_type": "fragment"
    }
   },
   "outputs": [
    {
     "name": "stdout",
     "output_type": "stream",
     "text": [
      "[1, 45, 77]\n"
     ]
    }
   ],
   "source": [
    "# Index with steps\n",
    "print(long[1:6:2])"
   ]
  },
  {
   "cell_type": "code",
   "execution_count": 14,
   "id": "7d6f0d1f-1578-43bd-bfc5-cb9c54e823ab",
   "metadata": {
    "slideshow": {
     "slide_type": "fragment"
    }
   },
   "outputs": [
    {
     "name": "stdout",
     "output_type": "stream",
     "text": [
      "['a', 45]\n"
     ]
    }
   ],
   "source": [
    "# Another variation\n",
    "print(long[:5:3])"
   ]
  },
  {
   "cell_type": "code",
   "execution_count": 15,
   "id": "f2308e5a-4bbb-4b3b-b954-e99e75f2b76d",
   "metadata": {
    "slideshow": {
     "slide_type": "fragment"
    }
   },
   "outputs": [
    {
     "name": "stdout",
     "output_type": "stream",
     "text": [
      "[77, 'd', 45, 'c']\n"
     ]
    }
   ],
   "source": [
    "# In reverse!\n",
    "print(long[5:1:-1])"
   ]
  },
  {
   "cell_type": "markdown",
   "id": "9bc23cb3-8dc4-415a-8d71-0a4f12aa8d4e",
   "metadata": {
    "slideshow": {
     "slide_type": "subslide"
    },
    "tags": []
   },
   "source": [
    "#### List `.methods` and other tricks\n",
    "Lists are pretty powerful, but there additional things that make them even cooler. Lists (along with many other data structures in Python) have **methods**. A **method** is a function that 'lives' in a variable, and can do specific things to the data in that variable. Not all data structures have methods, but the ones that do usually have great uses. A method is accessed by the `.` operator."
   ]
  },
  {
   "cell_type": "markdown",
   "id": "f926bcbc-30e5-42bc-807a-b98e9b9e4901",
   "metadata": {
    "slideshow": {
     "slide_type": "fragment"
    }
   },
   "source": [
    "Let's say we want to add data to a list. How can we do this? Using the `.append` method."
   ]
  },
  {
   "cell_type": "code",
   "execution_count": 16,
   "id": "6f6a5d89-9c82-4369-9408-2719760144c2",
   "metadata": {
    "slideshow": {
     "slide_type": "fragment"
    }
   },
   "outputs": [
    {
     "name": "stdout",
     "output_type": "stream",
     "text": [
      "['001', 29, 'female', 5, 3]\n"
     ]
    }
   ],
   "source": [
    "# Add some Agreeableness scores to the personality data\n",
    "print(data)"
   ]
  },
  {
   "cell_type": "code",
   "execution_count": 17,
   "id": "7645ff4e-1e18-441f-bb1f-b8b1983f594c",
   "metadata": {
    "slideshow": {
     "slide_type": "fragment"
    }
   },
   "outputs": [
    {
     "name": "stdout",
     "output_type": "stream",
     "text": [
      "['001', 29, 'female', 5, 3, 1]\n"
     ]
    }
   ],
   "source": [
    "# Define Agreeableness score\n",
    "agreeableness = 1\n",
    "# Append it!\n",
    "data.append(agreeableness)\n",
    "print(data)"
   ]
  },
  {
   "cell_type": "markdown",
   "id": "7bb52c4e-f9ec-44ff-809e-baa3b1362212",
   "metadata": {
    "slideshow": {
     "slide_type": "subslide"
    }
   },
   "source": [
    "Sometimes, you can't remember the location of a specific element in a list when you want to get to it. There is an `.index` method that takes a value that is in the list, and will return the index. "
   ]
  },
  {
   "cell_type": "code",
   "execution_count": 18,
   "id": "8fae89ad-c7a2-46ea-9792-e16714b7f63f",
   "metadata": {
    "slideshow": {
     "slide_type": "fragment"
    }
   },
   "outputs": [
    {
     "name": "stdout",
     "output_type": "stream",
     "text": [
      "2\n",
      "female\n"
     ]
    }
   ],
   "source": [
    "# We need the position of the sex variable. We know they are female, so...\n",
    "ind = data.index('female')\n",
    "print(ind)\n",
    "\n",
    "# Use that index\n",
    "print(data[2])"
   ]
  },
  {
   "cell_type": "markdown",
   "id": "5b1dc597-890a-4dc6-9e64-4d54d6c287d3",
   "metadata": {
    "slideshow": {
     "slide_type": "subslide"
    }
   },
   "source": [
    "Lists can be interacted with using the `*` and `+` operators, which result in interesting manipulations."
   ]
  },
  {
   "cell_type": "code",
   "execution_count": 19,
   "id": "285bac29-c9f3-4b3c-8ccf-5777e53fa92f",
   "metadata": {
    "slideshow": {
     "slide_type": "fragment"
    }
   },
   "outputs": [],
   "source": [
    "# Make two lists\n",
    "list_a = [3, 2, 1]; list_b = [4, 5, 6]"
   ]
  },
  {
   "cell_type": "code",
   "execution_count": 20,
   "id": "661efcb7-a8e5-40a1-8122-3a375c616907",
   "metadata": {
    "slideshow": {
     "slide_type": "fragment"
    }
   },
   "outputs": [
    {
     "name": "stdout",
     "output_type": "stream",
     "text": [
      "[3, 2, 1, 4, 5, 6]\n"
     ]
    }
   ],
   "source": [
    "# Try addition...\n",
    "print(list_a + list_b)"
   ]
  },
  {
   "cell_type": "code",
   "execution_count": 21,
   "id": "d824d811-752e-4bd3-9caf-84f53b9d58df",
   "metadata": {
    "slideshow": {
     "slide_type": "fragment"
    }
   },
   "outputs": [
    {
     "name": "stdout",
     "output_type": "stream",
     "text": [
      "[3, 2, 1, 3, 2, 1, 3, 2, 1]\n"
     ]
    }
   ],
   "source": [
    "# What if I multiply a list?\n",
    "print(list_a * 3)"
   ]
  },
  {
   "cell_type": "code",
   "execution_count": 22,
   "id": "2ececb97-5850-487a-87bb-dca6824217e1",
   "metadata": {
    "slideshow": {
     "slide_type": "fragment"
    }
   },
   "outputs": [
    {
     "name": "stdout",
     "output_type": "stream",
     "text": [
      "[3, 2, 1, 3, 2, 1, 3, 2, 1, 4, 5, 6, 4, 5, 6]\n"
     ]
    }
   ],
   "source": [
    "# Multiple operators\n",
    "print(list_a * 3 + list_b * 2)"
   ]
  },
  {
   "cell_type": "markdown",
   "id": "7a7828fa-36a7-46c2-923f-b7f395eb0b65",
   "metadata": {
    "slideshow": {
     "slide_type": "subslide"
    }
   },
   "source": [
    "We may sometimes want to alter lists in some way. That's easy enough to do using slicing or methods. Lists are known as a **mutable** data structure, because you can alter them once you have created them. "
   ]
  },
  {
   "cell_type": "code",
   "execution_count": 23,
   "id": "ee4f2fa8-b303-437d-a159-a417a53ae6b9",
   "metadata": {
    "slideshow": {
     "slide_type": "fragment"
    }
   },
   "outputs": [
    {
     "name": "stdout",
     "output_type": "stream",
     "text": [
      "['001', 29, 'female', 5, 3, 1]\n",
      "['001', 29, 'female', 5, 5, 5]\n"
     ]
    }
   ],
   "source": [
    "# Update the data list with new participant data\n",
    "print(data)\n",
    "\n",
    "# Update the scores\n",
    "data[3:] = [5, 5, 5]\n",
    "\n",
    "print(data)"
   ]
  },
  {
   "cell_type": "markdown",
   "id": "58efb315-ae5d-4300-9e1e-68f224301881",
   "metadata": {
    "slideshow": {
     "slide_type": "subslide"
    }
   },
   "source": [
    "### The dictionary - look it up!\n",
    "Lists are powerful ways to store variables and data of many different types. But it can be hard to keep track of what kind of variable is in what element. For example, in the `data` list, the first few elements were demographic data. Was the age the second element, or the third? \n",
    "\n",
    "That's not easy to remember. Fortunately, another data structure, the `dictionary`, addresses these shortcomings, by providing a set of *key:value* pairs, which are defined using curly braces notation `{}`. The keys must be an **immutable** data structure - a string usually works!\n",
    "\n",
    "We can define a dictionary with some demographic data."
   ]
  },
  {
   "cell_type": "code",
   "execution_count": 24,
   "id": "8e881915-1486-42fe-8935-a3f320f329f4",
   "metadata": {
    "slideshow": {
     "slide_type": "fragment"
    }
   },
   "outputs": [
    {
     "name": "stdout",
     "output_type": "stream",
     "text": [
      "{'PID': '001', 'Age': 30, 'Sex': 'Female'}\n",
      "{'PID': '001', 'Age': 30, 'Sex': 'Female'}\n"
     ]
    }
   ],
   "source": [
    "# Create a dictionary\n",
    "demographics = {'PID':'001', 'Age':30, 'Sex':'Female'}\n",
    "\n",
    "# Or use the `dict` function, assigning the values with keyword arguments\n",
    "demographics_1 = dict(PID='001', Age=30, Sex='Female')\n",
    "\n",
    "print(demographics)\n",
    "print(demographics_1)"
   ]
  },
  {
   "cell_type": "markdown",
   "id": "d7fb9d82-e37e-45f8-8c19-b1aa2e5dc5b5",
   "metadata": {
    "slideshow": {
     "slide_type": "subslide"
    }
   },
   "source": [
    "#### Looking things up in the dictionary\n",
    "Getting a value from a dictionary is as easy as providing the **key**, following this format. \n",
    "\n",
    "`dictionary_name[key_name]`"
   ]
  },
  {
   "cell_type": "code",
   "execution_count": 25,
   "id": "08800647-bade-4540-a8c8-56c386fbf4ff",
   "metadata": {
    "slideshow": {
     "slide_type": "fragment"
    }
   },
   "outputs": [
    {
     "name": "stdout",
     "output_type": "stream",
     "text": [
      "Female\n"
     ]
    }
   ],
   "source": [
    "# Retrieve the participant sex\n",
    "print(demographics['Sex'])"
   ]
  },
  {
   "cell_type": "markdown",
   "id": "e92a109a-c9aa-4752-a0b7-bdd30c0a9081",
   "metadata": {
    "slideshow": {
     "slide_type": "fragment"
    }
   },
   "source": [
    "#### Adding data to the dictionary\n",
    "Adding extra data is as simple as providing a new *key:value* pair. Entire extra dictionaries can be provided through the dictionary `.update` method."
   ]
  },
  {
   "cell_type": "code",
   "execution_count": 26,
   "id": "f5ccb940-4604-4417-8b7e-29b798ab8062",
   "metadata": {
    "slideshow": {
     "slide_type": "fragment"
    }
   },
   "outputs": [
    {
     "name": "stdout",
     "output_type": "stream",
     "text": [
      "{'PID': '001', 'Age': 30, 'Sex': 'Female', 'Extraversion': 4}\n"
     ]
    }
   ],
   "source": [
    "# Add a score to the data\n",
    "demographics['Extraversion'] = 4\n",
    "print(demographics)"
   ]
  },
  {
   "cell_type": "code",
   "execution_count": 27,
   "id": "50817caf-7fa9-47ea-9c4e-ac32486aae66",
   "metadata": {
    "slideshow": {
     "slide_type": "subslide"
    }
   },
   "outputs": [
    {
     "name": "stdout",
     "output_type": "stream",
     "text": [
      "{'PID': '001', 'Age': 30, 'Sex': 'Female', 'Extraversion': 4, 'Agreeableness': 4, 'Neuroticism': 2, 'Openness': 1, 'Conscientiousness': 3}\n"
     ]
    }
   ],
   "source": [
    "# Create a new dictionary of scores to be added\n",
    "scores = dict(Agreeableness=4, Neuroticism=2, Openness=1, Conscientiousness=3)\n",
    "\n",
    "# Call the update method on the demographics dictionary\n",
    "demographics.update(scores)\n",
    "\n",
    "print(demographics)"
   ]
  },
  {
   "cell_type": "markdown",
   "id": "e5223d35-6d4b-4b97-a4ce-1785a24769b8",
   "metadata": {
    "slideshow": {
     "slide_type": "subslide"
    }
   },
   "source": [
    "#### Important dictionary methods\n",
    "Like lists, dictionaries have a range of methods. Some useful ones to know are the following:\n",
    "* `.keys()` : returns a list of all the keys in the dictionary, useful if you aren't sure whats inside one.\n",
    "* `.values()` : returns a list of all the values (i.e. data) in the dictionary. Allows a look directly at the data.\n",
    "* `.items()` : returns a list, where each element is a tuple (like a list, but immutable), where the first element is the key, and the second, the value."
   ]
  },
  {
   "cell_type": "code",
   "execution_count": 28,
   "id": "1dd843c9-75e5-4064-a4bf-7e807ed670ea",
   "metadata": {
    "slideshow": {
     "slide_type": "fragment"
    }
   },
   "outputs": [
    {
     "name": "stdout",
     "output_type": "stream",
     "text": [
      "dict_items([('PID', '001'), ('Age', 30), ('Sex', 'Female'), ('Extraversion', 4), ('Agreeableness', 4), ('Neuroticism', 2), ('Openness', 1), ('Conscientiousness', 3)])\n"
     ]
    }
   ],
   "source": [
    "# Look at the keys \n",
    "print(demographics.items())"
   ]
  },
  {
   "cell_type": "code",
   "execution_count": 29,
   "id": "cd4c11ca-4d83-48a1-800b-177b7e66512f",
   "metadata": {
    "slideshow": {
     "slide_type": "fragment"
    }
   },
   "outputs": [
    {
     "name": "stdout",
     "output_type": "stream",
     "text": [
      "dict_values(['001', 30, 'Female', 4, 4, 2, 1, 3])\n"
     ]
    }
   ],
   "source": [
    "# Look at the values\n",
    "print(demographics.values())"
   ]
  },
  {
   "cell_type": "code",
   "execution_count": 30,
   "id": "ebec7b83-185b-4e2c-a01a-02852287b243",
   "metadata": {
    "slideshow": {
     "slide_type": "fragment"
    }
   },
   "outputs": [
    {
     "name": "stdout",
     "output_type": "stream",
     "text": [
      "dict_items([('PID', '001'), ('Age', 30), ('Sex', 'Female'), ('Extraversion', 4), ('Agreeableness', 4), ('Neuroticism', 2), ('Openness', 1), ('Conscientiousness', 3)])\n"
     ]
    }
   ],
   "source": [
    "# Look at it all!\n",
    "print(demographics.items())"
   ]
  },
  {
   "cell_type": "markdown",
   "id": "0680fc49-a680-4e58-b73b-a4c0473cafd9",
   "metadata": {
    "slideshow": {
     "slide_type": "subslide"
    }
   },
   "source": [
    "#### Advanced dictionaries\n",
    "Like lists, dictionaries can also be nested, with a key referring to another dictionary. \n",
    "\n",
    "It follows that a value can be anything - a list, dictionary, string, or any of Python's many data types."
   ]
  },
  {
   "cell_type": "code",
   "execution_count": 31,
   "id": "8fd3651f-5a6f-410b-9fdf-f60c56d7292f",
   "metadata": {
    "slideshow": {
     "slide_type": "fragment"
    }
   },
   "outputs": [],
   "source": [
    "# Demonstrate a nested dictionary\n",
    "nest_dict = {'PID': 'John', 'Age': 25, 'Personality':{'Extra': 4, 'Neuro': 1}}"
   ]
  },
  {
   "cell_type": "code",
   "execution_count": 32,
   "id": "46afaf1f-e2d1-42ae-aa56-c0e5fc5101fa",
   "metadata": {
    "slideshow": {
     "slide_type": "fragment"
    }
   },
   "outputs": [
    {
     "name": "stdout",
     "output_type": "stream",
     "text": [
      "{'Extra': 4, 'Neuro': 1}\n",
      "4\n"
     ]
    }
   ],
   "source": [
    "# Accessing nested attributes\n",
    "print(nest_dict['Personality'])\n",
    "print(nest_dict['Personality']['Extra'])"
   ]
  },
  {
   "cell_type": "markdown",
   "id": "350c1792-e5e5-446a-ba34-f03eec909c0b",
   "metadata": {
    "slideshow": {
     "slide_type": "subslide"
    }
   },
   "source": [
    "It should be clear by now that lists and dictionaries can be used together, to build complex data structures capable of storing a range of variables and data. Extracting data from a complex data structure is relatively straightforward, armed with what we know."
   ]
  },
  {
   "cell_type": "code",
   "execution_count": 33,
   "id": "9357d37c-6ac6-4354-9ebd-3a1a36e581f4",
   "metadata": {
    "slideshow": {
     "slide_type": "fragment"
    }
   },
   "outputs": [],
   "source": [
    "# Create a somewhat complex data structure - notice we can split long commands across lines\n",
    "participantA = {'PID': '001', 'age': 23, \n",
    "               'Anxiety_Score':{'Subscale1': 4.22, 'Subscale2': 2.34 },\n",
    "              'RTs': [321, 230, 400, 593, 600, 102, 129]}\n",
    "\n",
    "participantB = {'PID': '002', 'age': 25, \n",
    "               'Anxiety_Score':{'Subscale1': 1.20, 'Subscale2': 5.24 },\n",
    "              'RTs': [876, 450, 291, 893, 864, 456, 983]}\n",
    "\n",
    "full_data = {'ppt_A': participantA, 'ppt_B': participantB}"
   ]
  },
  {
   "cell_type": "code",
   "execution_count": 34,
   "id": "7fc8a973-23b8-4406-a66a-437ebc77e9f4",
   "metadata": {
    "slideshow": {
     "slide_type": "fragment"
    }
   },
   "outputs": [
    {
     "name": "stdout",
     "output_type": "stream",
     "text": [
      "129\n"
     ]
    }
   ],
   "source": [
    "# Extracting buried items - extract the last reaction time they gave\n",
    "print(full_data['ppt_A']['RTs'][-1])"
   ]
  },
  {
   "cell_type": "code",
   "execution_count": 35,
   "id": "c743380e-9e67-4f5c-9c5a-6924e85ed8d0",
   "metadata": {
    "slideshow": {
     "slide_type": "fragment"
    }
   },
   "outputs": [
    {
     "name": "stdout",
     "output_type": "stream",
     "text": [
      "1.2\n"
     ]
    }
   ],
   "source": [
    "# Or anxiety scores\n",
    "print(full_data['ppt_B']['Anxiety_Score']['Subscale1'])"
   ]
  }
 ],
 "metadata": {
  "kernelspec": {
   "display_name": "Python 3 (ipykernel)",
   "language": "python",
   "name": "python3"
  },
  "language_info": {
   "codemirror_mode": {
    "name": "ipython",
    "version": 3
   },
   "file_extension": ".py",
   "mimetype": "text/x-python",
   "name": "python",
   "nbconvert_exporter": "python",
   "pygments_lexer": "ipython3",
   "version": "3.10.4"
  }
 },
 "nbformat": 4,
 "nbformat_minor": 5
}
