{
 "cells": [
  {
   "cell_type": "code",
   "execution_count": 1,
   "id": "3285c6aa-66af-4b17-bd92-bfe832b78668",
   "metadata": {
    "tags": [
     "remove-cell"
    ]
   },
   "outputs": [],
   "source": [
    "import numpy as np\n",
    "import pandas as pd\n",
    "\n",
    "mtcars = pd.read_csv('https://gist.githubusercontent.com/seankross/a412dfbd88b3db70b74b/raw/5f23f993cd87c283ce766e7ac6b329ee7cc2e1d1/mtcars.csv')"
   ]
  },
  {
   "cell_type": "markdown",
   "id": "a3ea6de4-4bf6-4b91-aefa-8fd60b3c3178",
   "metadata": {
    "slideshow": {
     "slide_type": "slide"
    },
    "tags": []
   },
   "source": [
    "## Custom functions\n",
    "The last few sessions have seen you use an enormous range of different functions in different modules. These pieces of reusable code achieve a specific outcome - one that is repeated enough times that its worth writing a function for. \n",
    "\n",
    "Sometimes when analysing data, you will need to write your own functions. This is easily achievable in Python, using the special keyword `def`. Defining a function is like creating a blueprint - a set of commands that can be executed time and time again. Functions can be as simple or as complex as is needed (there is no limit) and so can be used to solve specific data problems you have."
   ]
  },
  {
   "cell_type": "code",
   "execution_count": 2,
   "id": "ff0150b2-f125-4bf3-9413-997bfcd2530e",
   "metadata": {
    "slideshow": {
     "slide_type": "subslide"
    },
    "tags": []
   },
   "outputs": [],
   "source": [
    "# A very simple function example that works with strings\n",
    "def simple(input_string):\n",
    "    \n",
    "    new_string = 'HELLO ' + input_string.upper()\n",
    "    \n",
    "    return new_string"
   ]
  },
  {
   "cell_type": "markdown",
   "id": "0271e0bf-df38-45fc-a790-9eaede0feb58",
   "metadata": {
    "slideshow": {
     "slide_type": "fragment"
    },
    "tags": []
   },
   "source": [
    "#### Function definition breakdown\n",
    "* The function is defined with the `def` keyword.\n",
    "* The name of the function follows immediately after.\n",
    "* The *function inputs* are specified within parentheses, followed by the colon and indented text for the actual work the function does.\n",
    "* The `return` keyword tells Python that the variable immediately following it will be the output of the function.\n",
    "\n"
   ]
  },
  {
   "cell_type": "code",
   "execution_count": 3,
   "id": "bb244641-a4ba-444d-8ee7-09a74dbfd68e",
   "metadata": {
    "slideshow": {
     "slide_type": "fragment"
    },
    "tags": []
   },
   "outputs": [
    {
     "name": "stdout",
     "output_type": "stream",
     "text": [
      "HELLO THERE\n"
     ]
    },
    {
     "data": {
      "text/plain": [
       "False"
      ]
     },
     "execution_count": 3,
     "metadata": {},
     "output_type": "execute_result"
    }
   ],
   "source": [
    "# Use case\n",
    "out = simple('there')\n",
    "print(out)\n",
    "\n",
    "# The actual variable 'new_string' does not exist - globals is a special function returning all defined variables in your Python session,\n",
    "# we are checking if 'new_string' is in there!\n",
    "'new_string' in globals()"
   ]
  },
  {
   "cell_type": "markdown",
   "id": "b3572601-a567-4987-95a1-d01cecb8890d",
   "metadata": {
    "slideshow": {
     "slide_type": "subslide"
    }
   },
   "source": [
    "Functions can take multiple arguments, allowing for more complex operations, and return more than one output. "
   ]
  },
  {
   "cell_type": "code",
   "execution_count": 4,
   "id": "0ae79917-15fd-49c1-a274-ada901d662a8",
   "metadata": {
    "slideshow": {
     "slide_type": "fragment"
    }
   },
   "outputs": [
    {
     "name": "stdout",
     "output_type": "stream",
     "text": [
      "100 10.0\n"
     ]
    }
   ],
   "source": [
    "# Square the first argument, divide the second\n",
    "def square_divide(a, b):\n",
    "    \n",
    "    first = a**2\n",
    "    second = b/2\n",
    "    \n",
    "    return first, second\n",
    "\n",
    "# 'Unpack' the outputs like this\n",
    "i, j = square_divide(10, 20)\n",
    "\n",
    "print(i, j)"
   ]
  },
  {
   "cell_type": "markdown",
   "id": "62b2e99f-8e51-47da-9d70-2c86627d36f1",
   "metadata": {
    "slideshow": {
     "slide_type": "subslide"
    }
   },
   "source": [
    "The arguments seen so far are known as *positional*. Arguments take on the values that are inserted in the position they go in! \n",
    "\n",
    "There are also *keyword* arguments. You have already seen these in action. These are arguments that can take on a default value, or you can specify a parameter of interest:"
   ]
  },
  {
   "cell_type": "code",
   "execution_count": 5,
   "id": "f0cfc938-3e5d-4980-81fa-5ad0dcae0dd9",
   "metadata": {
    "slideshow": {
     "slide_type": "fragment"
    }
   },
   "outputs": [
    {
     "name": "stdout",
     "output_type": "stream",
     "text": [
      "4 5.0\n",
      "32 2.0\n"
     ]
    }
   ],
   "source": [
    "# Add a keyword argument to the square_divide function to specify the factor\n",
    "def square_divide(a, b, factor=2):\n",
    "    \n",
    "    first = a**factor\n",
    "    second = b/factor\n",
    "    \n",
    "    return first, second\n",
    "\n",
    "# Default usage - what happens if you don't unpack\n",
    "x = square_divide(2, 10)\n",
    "print(x[0], x[1])\n",
    "\n",
    "# Run with a new scaling factor, specifying with a keyword argument\n",
    "x, y = square_divide(2, 10, factor=5)\n",
    "print(x, y)"
   ]
  },
  {
   "cell_type": "markdown",
   "id": "b6adba89-67b7-43bd-ba5d-97facff8cbb1",
   "metadata": {
    "slideshow": {
     "slide_type": "subslide"
    }
   },
   "source": [
    "### Lambda functions\n",
    "Lambda functions are a special kind of function definition used in Python. They are used to define *simple* functions that you may not need to re-use, but are nonetheless required for specific instances. These are quite abstract tools but are very powerful, especially with DataFrames. Lambda functions can be defined with the `lambda` keyword, followed by the arguments and actual function work. An example should make things clearer:"
   ]
  },
  {
   "cell_type": "code",
   "execution_count": 6,
   "id": "f3f44c4c-1e7d-4180-9913-56f456ffe6b1",
   "metadata": {
    "slideshow": {
     "slide_type": "fragment"
    }
   },
   "outputs": [
    {
     "name": "stdout",
     "output_type": "stream",
     "text": [
      "15\n"
     ]
    }
   ],
   "source": [
    "# Show use of lambda function - adds 5 to input\n",
    "lamb = lambda x: x + 5\n",
    "\n",
    "print(lamb(10))"
   ]
  },
  {
   "cell_type": "markdown",
   "id": "10ed99e4-28ff-4b2c-9721-671e2fffb29d",
   "metadata": {
    "slideshow": {
     "slide_type": "fragment"
    }
   },
   "source": [
    "Notice the different convention - everything is done on one line, and it returns only a single output. At this point, it does seem kind of useless..."
   ]
  },
  {
   "cell_type": "markdown",
   "id": "e3e77d19-2aba-4428-b8d9-e0c3011ed52a",
   "metadata": {
    "slideshow": {
     "slide_type": "subslide"
    }
   },
   "source": [
    "But consider the example below. The function `sorted` takes a list, and will sort it from low to high. This behaviour is its default. However, `sorted` also takes a `key` argument, that allows for a specific sorting key to be defined. How could we sort a nested list?"
   ]
  },
  {
   "cell_type": "code",
   "execution_count": 7,
   "id": "c1c8dc6a-f922-423a-b2be-a9aacaf53c63",
   "metadata": {
    "slideshow": {
     "slide_type": "fragment"
    }
   },
   "outputs": [
    {
     "name": "stdout",
     "output_type": "stream",
     "text": [
      "[[2, 87, '001'], [4, 81, '003'], [111, 2, '002']]\n"
     ]
    }
   ],
   "source": [
    "# Define messy list - ID's and scores are messed up\n",
    "data_list = [[4, 81, '003'], [111, 2, '002'], [2, 87, '001']]\n",
    "\n",
    "# Run sorted with default\n",
    "default_sort = sorted(data_list)\n",
    "\n",
    "print(default_sort)"
   ]
  },
  {
   "cell_type": "code",
   "execution_count": 8,
   "id": "bfb6fce1-0681-4792-9c6b-08d7ea7ef3ae",
   "metadata": {
    "slideshow": {
     "slide_type": "fragment"
    }
   },
   "outputs": [
    {
     "name": "stdout",
     "output_type": "stream",
     "text": [
      "[[2, 87, '001'], [111, 2, '002'], [4, 81, '003']]\n"
     ]
    }
   ],
   "source": [
    "# Now use a lambda function to specify a special key and sort by the string!\n",
    "lambda_sort = sorted(data_list, key=lambda x:x[-1])\n",
    "\n",
    "print(lambda_sort)"
   ]
  },
  {
   "cell_type": "markdown",
   "id": "f3c927c1-d2d2-4d7d-b7f0-b68912d70fc0",
   "metadata": {
    "slideshow": {
     "slide_type": "subslide"
    }
   },
   "source": [
    "It may be easier to understand what's going on by writing out the full function definition and using that as the sort key."
   ]
  },
  {
   "cell_type": "code",
   "execution_count": 9,
   "id": "14f8e222-f862-44d4-bcb0-7783c2aa06fe",
   "metadata": {
    "slideshow": {
     "slide_type": "fragment"
    }
   },
   "outputs": [
    {
     "name": "stdout",
     "output_type": "stream",
     "text": [
      "[[2, 87, '001'], [111, 2, '002'], [4, 81, '003']]\n"
     ]
    }
   ],
   "source": [
    "# Write out the function definition in full - clunky, but hopefully clarifies\n",
    "def sort_key(element):\n",
    "    \n",
    "    return element[-1]\n",
    "\n",
    "# Apply \n",
    "func_sort = sorted(data_list, key=sort_key)\n",
    "\n",
    "print(func_sort)"
   ]
  },
  {
   "cell_type": "markdown",
   "id": "77127c7f-9fd4-41fb-b241-608942589537",
   "metadata": {
    "slideshow": {
     "slide_type": "fragment"
    }
   },
   "source": [
    "Each element of the original list is a nested list. The key function is applied to each of these nested lists, and these become `x` - the final element of `x` is extracted, and that is what the `sorted` function then uses to sort!"
   ]
  },
  {
   "cell_type": "markdown",
   "id": "c61da9e7-c9cd-4e51-b5f8-70ad206e3309",
   "metadata": {
    "slideshow": {
     "slide_type": "subslide"
    }
   },
   "source": [
    "Lambda and normal functions can also be used with DataFrames for powerful effects. Let's *z-score* some data in a DataFrame using some functions."
   ]
  },
  {
   "cell_type": "code",
   "execution_count": 10,
   "id": "6a81a6b1-95df-4ccd-9e1e-d9c6835d7642",
   "metadata": {
    "slideshow": {
     "slide_type": "fragment"
    }
   },
   "outputs": [
    {
     "data": {
      "text/html": [
       "<div>\n",
       "<style scoped>\n",
       "    .dataframe tbody tr th:only-of-type {\n",
       "        vertical-align: middle;\n",
       "    }\n",
       "\n",
       "    .dataframe tbody tr th {\n",
       "        vertical-align: top;\n",
       "    }\n",
       "\n",
       "    .dataframe thead th {\n",
       "        text-align: right;\n",
       "    }\n",
       "</style>\n",
       "<table border=\"1\" class=\"dataframe\">\n",
       "  <thead>\n",
       "    <tr style=\"text-align: right;\">\n",
       "      <th></th>\n",
       "      <th>gender</th>\n",
       "      <th>age</th>\n",
       "      <th>RT</th>\n",
       "    </tr>\n",
       "  </thead>\n",
       "  <tbody>\n",
       "    <tr>\n",
       "      <th>0</th>\n",
       "      <td>Female</td>\n",
       "      <td>26.428073</td>\n",
       "      <td>1486</td>\n",
       "    </tr>\n",
       "    <tr>\n",
       "      <th>1</th>\n",
       "      <td>Male</td>\n",
       "      <td>15.009831</td>\n",
       "      <td>498</td>\n",
       "    </tr>\n",
       "    <tr>\n",
       "      <th>2</th>\n",
       "      <td>Female</td>\n",
       "      <td>22.242158</td>\n",
       "      <td>1152</td>\n",
       "    </tr>\n",
       "    <tr>\n",
       "      <th>3</th>\n",
       "      <td>Male</td>\n",
       "      <td>19.509220</td>\n",
       "      <td>1428</td>\n",
       "    </tr>\n",
       "    <tr>\n",
       "      <th>4</th>\n",
       "      <td>Male</td>\n",
       "      <td>7.979723</td>\n",
       "      <td>356</td>\n",
       "    </tr>\n",
       "  </tbody>\n",
       "</table>\n",
       "</div>"
      ],
      "text/plain": [
       "   gender        age    RT\n",
       "0  Female  26.428073  1486\n",
       "1    Male  15.009831   498\n",
       "2  Female  22.242158  1152\n",
       "3    Male  19.509220  1428\n",
       "4    Male   7.979723   356"
      ]
     },
     "metadata": {},
     "output_type": "display_data"
    }
   ],
   "source": [
    "df = pd.DataFrame({'gender':np.random.choice(['Female', 'Male'], size=15),\n",
    "                   'age': np.random.normal(30, 10, 15), \n",
    "                   'RT': np.random.randint(300, 1500, size=(15,))\n",
    "                  })\n",
    "display(df.head())"
   ]
  },
  {
   "cell_type": "code",
   "execution_count": 11,
   "id": "1ce7265b-ef8c-4ea6-ba84-5fd8cb280768",
   "metadata": {
    "slideshow": {
     "slide_type": "subslide"
    }
   },
   "outputs": [],
   "source": [
    "# Define a function that will take a column and z-score it - value minus mean, divided by SD\n",
    "def zscorer(df_column):\n",
    "    \n",
    "    # Compute average and SD - because we will be passing a DataFrame column, can use its methods!\n",
    "    avg = df_column.mean(); sd = df_column.std()\n",
    "    \n",
    "    # Subtract mean from each element\n",
    "    centred = df_column - avg\n",
    "    \n",
    "    # Divide each element by sd\n",
    "    zscored = centred/sd\n",
    "    \n",
    "    # Return\n",
    "    return zscored"
   ]
  },
  {
   "cell_type": "markdown",
   "id": "753d9d9c-e81d-4a62-a418-e767a9413346",
   "metadata": {
    "slideshow": {
     "slide_type": "subslide"
    }
   },
   "source": [
    "Our function can now be applied to the columns using the `.transform()` method. However, we **have** to stick to the columns with numeric data, or it will break - 'male' and 'female' cannot be operated on with the function."
   ]
  },
  {
   "cell_type": "code",
   "execution_count": 12,
   "id": "ce1d2cbe-a13b-4489-b179-f3bc6cab8b67",
   "metadata": {
    "slideshow": {
     "slide_type": "fragment"
    }
   },
   "outputs": [
    {
     "data": {
      "text/html": [
       "<div>\n",
       "<style scoped>\n",
       "    .dataframe tbody tr th:only-of-type {\n",
       "        vertical-align: middle;\n",
       "    }\n",
       "\n",
       "    .dataframe tbody tr th {\n",
       "        vertical-align: top;\n",
       "    }\n",
       "\n",
       "    .dataframe thead th {\n",
       "        text-align: right;\n",
       "    }\n",
       "</style>\n",
       "<table border=\"1\" class=\"dataframe\">\n",
       "  <thead>\n",
       "    <tr style=\"text-align: right;\">\n",
       "      <th></th>\n",
       "      <th>age</th>\n",
       "      <th>RT</th>\n",
       "    </tr>\n",
       "  </thead>\n",
       "  <tbody>\n",
       "    <tr>\n",
       "      <th>0</th>\n",
       "      <td>-0.240697</td>\n",
       "      <td>1.833131</td>\n",
       "    </tr>\n",
       "    <tr>\n",
       "      <th>1</th>\n",
       "      <td>-1.045537</td>\n",
       "      <td>-0.803418</td>\n",
       "    </tr>\n",
       "    <tr>\n",
       "      <th>2</th>\n",
       "      <td>-0.535751</td>\n",
       "      <td>0.941828</td>\n",
       "    </tr>\n",
       "    <tr>\n",
       "      <th>3</th>\n",
       "      <td>-0.728388</td>\n",
       "      <td>1.678354</td>\n",
       "    </tr>\n",
       "    <tr>\n",
       "      <th>4</th>\n",
       "      <td>-1.541070</td>\n",
       "      <td>-1.182356</td>\n",
       "    </tr>\n",
       "    <tr>\n",
       "      <th>5</th>\n",
       "      <td>0.916329</td>\n",
       "      <td>-0.710018</td>\n",
       "    </tr>\n",
       "    <tr>\n",
       "      <th>6</th>\n",
       "      <td>0.201089</td>\n",
       "      <td>0.055862</td>\n",
       "    </tr>\n",
       "    <tr>\n",
       "      <th>7</th>\n",
       "      <td>1.627531</td>\n",
       "      <td>0.079879</td>\n",
       "    </tr>\n",
       "    <tr>\n",
       "      <th>8</th>\n",
       "      <td>-1.782199</td>\n",
       "      <td>-0.096247</td>\n",
       "    </tr>\n",
       "    <tr>\n",
       "      <th>9</th>\n",
       "      <td>0.275954</td>\n",
       "      <td>-0.686001</td>\n",
       "    </tr>\n",
       "    <tr>\n",
       "      <th>10</th>\n",
       "      <td>1.002983</td>\n",
       "      <td>-1.321121</td>\n",
       "    </tr>\n",
       "    <tr>\n",
       "      <th>11</th>\n",
       "      <td>0.026938</td>\n",
       "      <td>0.725674</td>\n",
       "    </tr>\n",
       "    <tr>\n",
       "      <th>12</th>\n",
       "      <td>0.776344</td>\n",
       "      <td>-0.702012</td>\n",
       "    </tr>\n",
       "    <tr>\n",
       "      <th>13</th>\n",
       "      <td>1.122460</td>\n",
       "      <td>0.840422</td>\n",
       "    </tr>\n",
       "    <tr>\n",
       "      <th>14</th>\n",
       "      <td>-0.075986</td>\n",
       "      <td>-0.653978</td>\n",
       "    </tr>\n",
       "  </tbody>\n",
       "</table>\n",
       "</div>"
      ],
      "text/plain": [
       "         age        RT\n",
       "0  -0.240697  1.833131\n",
       "1  -1.045537 -0.803418\n",
       "2  -0.535751  0.941828\n",
       "3  -0.728388  1.678354\n",
       "4  -1.541070 -1.182356\n",
       "5   0.916329 -0.710018\n",
       "6   0.201089  0.055862\n",
       "7   1.627531  0.079879\n",
       "8  -1.782199 -0.096247\n",
       "9   0.275954 -0.686001\n",
       "10  1.002983 -1.321121\n",
       "11  0.026938  0.725674\n",
       "12  0.776344 -0.702012\n",
       "13  1.122460  0.840422\n",
       "14 -0.075986 -0.653978"
      ]
     },
     "metadata": {},
     "output_type": "display_data"
    }
   ],
   "source": [
    "func_zscore_data = df[['age', 'RT']].transform(zscorer)\n",
    "display(func_zscore_data)"
   ]
  },
  {
   "cell_type": "markdown",
   "id": "f3224f88-d4c3-4272-877d-7d52f7769281",
   "metadata": {
    "slideshow": {
     "slide_type": "subslide"
    }
   },
   "source": [
    "Alternatively, this could be done much more efficiently using a `lambda` function."
   ]
  },
  {
   "cell_type": "code",
   "execution_count": 13,
   "id": "cad74d5e-d0cd-49f0-9c79-8433c625138d",
   "metadata": {
    "slideshow": {
     "slide_type": "fragment"
    }
   },
   "outputs": [
    {
     "data": {
      "text/plain": [
       "True"
      ]
     },
     "execution_count": 13,
     "metadata": {},
     "output_type": "execute_result"
    }
   ],
   "source": [
    "# Apply the lambda\n",
    "lamb_zscore_data = df[['age', 'RT']].transform(lambda x: (x - x.mean())/x.std())\n",
    "\n",
    "# Do you get the same output?\n",
    "(lamb_zscore_data == func_zscore_data).all().all()"
   ]
  },
  {
   "cell_type": "markdown",
   "id": "49a5d3d5-44a9-414c-94a4-731201b6428c",
   "metadata": {
    "slideshow": {
     "slide_type": "subslide"
    }
   },
   "source": [
    "### Flow control - the `if-else` statement\n",
    "There is one more important set of keywords in Python you haven't yet encountered, which is very powerful. The `if-else` statement allows our code to make decisions and do different actions depending on the nature of certain variables. This statement is very useful in functions, where different outputs can be returned.\n"
   ]
  },
  {
   "cell_type": "code",
   "execution_count": 14,
   "id": "aed996dd-720c-448d-a7db-dbb1039b569e",
   "metadata": {
    "slideshow": {
     "slide_type": "fragment"
    }
   },
   "outputs": [
    {
     "name": "stdout",
     "output_type": "stream",
     "text": [
      "Dear Mr Jones\n"
     ]
    }
   ],
   "source": [
    "# Demonstrate if with a simple greeting - this is how auto-generated emails will work\n",
    "surname = ' Jones'\n",
    "sex = 'male'\n",
    "\n",
    "if sex == 'female':\n",
    "    prefix = 'Miss'\n",
    "else:\n",
    "    prefix = 'Mr'\n",
    "\n",
    "salutation = 'Dear ' + prefix + surname\n",
    "print(salutation)"
   ]
  },
  {
   "cell_type": "code",
   "execution_count": 15,
   "id": "61b68fba-fb76-4456-ba46-70168a01889d",
   "metadata": {
    "slideshow": {
     "slide_type": "fragment"
    }
   },
   "outputs": [],
   "source": [
    "# Another simple example\n",
    "val = 10\n",
    "\n",
    "if val > 10:\n",
    "    print('Above 10')\n",
    "\n",
    "# Why no output?"
   ]
  },
  {
   "cell_type": "markdown",
   "id": "56dc416e-7da3-47bd-b352-c7a3aac24495",
   "metadata": {
    "slideshow": {
     "slide_type": "subslide"
    }
   },
   "source": [
    "An `if` statement checks the truth of a conditional statement, and carries out the specified code if the condition is true - 'else' it does the code specified in the 'else' statement. You don't have to have an `else` statement.\n",
    "\n",
    "`if` statements can have complexity added with an `elif` keyword, which means 'else-if' - allowing you to check for multiple conditions."
   ]
  },
  {
   "cell_type": "code",
   "execution_count": 16,
   "id": "718a16ce-e930-435b-80db-c374bf3524ec",
   "metadata": {
    "slideshow": {
     "slide_type": "fragment"
    }
   },
   "outputs": [
    {
     "name": "stdout",
     "output_type": "stream",
     "text": [
      "In 20s\n"
     ]
    }
   ],
   "source": [
    "# Demonstrate elif\n",
    "age = 25\n",
    "\n",
    "if age >= 30:\n",
    "    print('In 30s')\n",
    "    \n",
    "elif age < 30 and age > 20:\n",
    "    print('In 20s')\n",
    "    \n",
    "elif age < 20:\n",
    "    print('In teens')"
   ]
  },
  {
   "cell_type": "markdown",
   "id": "a47b8a08-8f41-497e-8e54-3e36e1ab01f5",
   "metadata": {
    "slideshow": {
     "slide_type": "subslide"
    }
   },
   "source": [
    "Another example with a list:"
   ]
  },
  {
   "cell_type": "code",
   "execution_count": 17,
   "id": "76b235d5-1026-4055-9039-53d5271a341c",
   "metadata": {
    "slideshow": {
     "slide_type": "fragment"
    }
   },
   "outputs": [
    {
     "name": "stdout",
     "output_type": "stream",
     "text": [
      "[23, 921]\n"
     ]
    }
   ],
   "source": [
    "my_list = ['PID', 23, 921]\n",
    "\n",
    "# Check if an item is in a list, then do something with it\n",
    "if 'PID' in my_list:\n",
    "    my_list.remove('PID')\n",
    "else:\n",
    "    print('List is clean')\n",
    "    \n",
    "print(my_list)"
   ]
  },
  {
   "cell_type": "markdown",
   "id": "b07920e4-c7c5-47ab-a900-0fa63ace1e4b",
   "metadata": {
    "slideshow": {
     "slide_type": "subslide"
    }
   },
   "source": [
    "These statements are very powerful in functions, where different outputs can be returned depending on the inputs. In an earlier example, we had to subset a DataFrame to z-score the data, because we knew the function we applied with `.transform()` would break on the column containing strings."
   ]
  },
  {
   "cell_type": "code",
   "execution_count": 18,
   "id": "cef494f3-0d3a-494b-9d1e-9761b7055f74",
   "metadata": {
    "slideshow": {
     "slide_type": "fragment"
    }
   },
   "outputs": [],
   "source": [
    "# Edit the function to cope with strings, by checking the dtype of the column!\n",
    "# Define a function that will take a column and z-score it - value minus mean, divided by SD\n",
    "def zscorer_new(df_column):\n",
    "    \n",
    "    # If its an 'object', meaning has strings\n",
    "    if df_column.dtype == 'O':\n",
    "        return df_column # Give it back in place\n",
    "    \n",
    "    else:\n",
    "        # Compute average and SD - because we will be passing a DataFrame column, can use its methods!\n",
    "        avg = df_column.mean()\n",
    "        sd = df_column.std()\n",
    "\n",
    "        # Subtract mean from each element\n",
    "        centred = df_column - avg\n",
    "\n",
    "        # Divide each element by sd\n",
    "        zscored = centred/sd\n",
    "    \n",
    "        # Return\n",
    "        return zscored"
   ]
  },
  {
   "cell_type": "code",
   "execution_count": 19,
   "id": "fb7aae53-6bfa-48d7-bc64-bb93023150a1",
   "metadata": {
    "slideshow": {
     "slide_type": "subslide"
    }
   },
   "outputs": [
    {
     "data": {
      "text/html": [
       "<div>\n",
       "<style scoped>\n",
       "    .dataframe tbody tr th:only-of-type {\n",
       "        vertical-align: middle;\n",
       "    }\n",
       "\n",
       "    .dataframe tbody tr th {\n",
       "        vertical-align: top;\n",
       "    }\n",
       "\n",
       "    .dataframe thead th {\n",
       "        text-align: right;\n",
       "    }\n",
       "</style>\n",
       "<table border=\"1\" class=\"dataframe\">\n",
       "  <thead>\n",
       "    <tr style=\"text-align: right;\">\n",
       "      <th></th>\n",
       "      <th>gender</th>\n",
       "      <th>age</th>\n",
       "      <th>RT</th>\n",
       "    </tr>\n",
       "  </thead>\n",
       "  <tbody>\n",
       "    <tr>\n",
       "      <th>0</th>\n",
       "      <td>Female</td>\n",
       "      <td>-0.240697</td>\n",
       "      <td>1.833131</td>\n",
       "    </tr>\n",
       "    <tr>\n",
       "      <th>1</th>\n",
       "      <td>Male</td>\n",
       "      <td>-1.045537</td>\n",
       "      <td>-0.803418</td>\n",
       "    </tr>\n",
       "    <tr>\n",
       "      <th>2</th>\n",
       "      <td>Female</td>\n",
       "      <td>-0.535751</td>\n",
       "      <td>0.941828</td>\n",
       "    </tr>\n",
       "    <tr>\n",
       "      <th>3</th>\n",
       "      <td>Male</td>\n",
       "      <td>-0.728388</td>\n",
       "      <td>1.678354</td>\n",
       "    </tr>\n",
       "    <tr>\n",
       "      <th>4</th>\n",
       "      <td>Male</td>\n",
       "      <td>-1.541070</td>\n",
       "      <td>-1.182356</td>\n",
       "    </tr>\n",
       "  </tbody>\n",
       "</table>\n",
       "</div>"
      ],
      "text/plain": [
       "   gender       age        RT\n",
       "0  Female -0.240697  1.833131\n",
       "1    Male -1.045537 -0.803418\n",
       "2  Female -0.535751  0.941828\n",
       "3    Male -0.728388  1.678354\n",
       "4    Male -1.541070 -1.182356"
      ]
     },
     "metadata": {},
     "output_type": "display_data"
    }
   ],
   "source": [
    "# Now transform the DataFrame; no need to subset it\n",
    "full_zscore = df.transform(zscorer_new)\n",
    "display(full_zscore.head())"
   ]
  },
  {
   "cell_type": "markdown",
   "id": "9f5189e2-fd66-4388-bfb9-9e67517078e7",
   "metadata": {
    "slideshow": {
     "slide_type": "slide"
    }
   },
   "source": [
    "#### Close\n",
    "There's a lot to take in there once more, but hopefully you can now see the benefits of working with NumPy and Pandas to get the most of your data.\n",
    "\n",
    "Try the exercises, and don't feel you have to know all of this in one go. Mastering the basics of arrays and the general split-apply-combine approach counts for a large proportion of data analysis."
   ]
  }
 ],
 "metadata": {
  "kernelspec": {
   "display_name": "Python 3 (ipykernel)",
   "language": "python",
   "name": "python3"
  },
  "language_info": {
   "codemirror_mode": {
    "name": "ipython",
    "version": 3
   },
   "file_extension": ".py",
   "mimetype": "text/x-python",
   "name": "python",
   "nbconvert_exporter": "python",
   "pygments_lexer": "ipython3",
   "version": "3.10.4"
  }
 },
 "nbformat": 4,
 "nbformat_minor": 5
}
