{
 "cells": [
  {
   "cell_type": "markdown",
   "metadata": {
    "slideshow": {
     "slide_type": "slide"
    }
   },
   "source": [
    "## (Frequentist) Statistics in Python"
   ]
  },
  {
   "cell_type": "markdown",
   "metadata": {
    "slideshow": {
     "slide_type": "subslide"
    }
   },
   "source": [
    "So far, we've dealt with data processing, handling, and visualisation. These steps are sometimes done 'behind the scenes' for early career researchers, who may be presented with a final dataset and asked to run statistical tests. But this hides a wealth of decision making and understanding of data from you,. There is no substitute for working with data yourself - and once you're done with that, its time to actually do some statistical inference.\n",
    "\n",
    "Python is fully capable of running a range of statistical analyses on data. It is missing perhaps some of the nuanced functionality in statistics that `R` has; but this is the price you pay for using the second-best language for everything. \n",
    "\n",
    "There are two ways of approaching statistics in Python, and the approach will dictated the kinds of packages that are used. But much like our experience of plotting, these two approaches can directly work with one another. \n",
    "\n",
    "The first approach (and the most low-level) is the use of the `scipy` and `statsmodels` packages, which provide a dizzying array of functionality for working statistically - they are very general, suited to statistics across many domains, so may be confusing for psychologists. \n",
    "\n",
    "We will start with another package that aims to make traditional frequentist statistical analysis straightforward, `pingouin`. \n",
    "\n",
    "- **`pingouin` does not come with Anaconda, so you will need to install it. If you are working in a Jupyter notebook, in a fresh cell, you can use a magic command to `pip install` it, like so**:\n",
    "\n",
    "```\n",
    "%pip install pingouin\n",
    "```\n",
    "\n",
    "Check out the documentation of the [`pingouin` package](https://pingouin-stats.org/index.html).\n"
   ]
  },
  {
   "cell_type": "code",
   "execution_count": 1,
   "metadata": {
    "slideshow": {
     "slide_type": "fragment"
    }
   },
   "outputs": [],
   "source": [
    "# Import pingouin, pandas, and seaborn\n",
    "import numpy as np\n",
    "import pandas as pd\n",
    "import pingouin as pg\n",
    "import matplotlib.pyplot as plt\n",
    "import seaborn as sns"
   ]
  },
  {
   "cell_type": "markdown",
   "metadata": {
    "slideshow": {
     "slide_type": "subslide"
    }
   },
   "source": [
    "### A *t*-test in Python\n",
    "The most basic kind of analysis we can run is a T-test comparing two groups of participants on a single dependent variable. We have used the `tips` dataset before for data visualisation, and observed some differences - but we have **not** tested whether those differences are statistically significant. `pingouin` contains functions that allow us to answer this question - `pg.ttest()`."
   ]
  },
  {
   "cell_type": "code",
   "execution_count": 2,
   "metadata": {
    "slideshow": {
     "slide_type": "fragment"
    }
   },
   "outputs": [
    {
     "data": {
      "text/html": [
       "<div>\n",
       "<style scoped>\n",
       "    .dataframe tbody tr th:only-of-type {\n",
       "        vertical-align: middle;\n",
       "    }\n",
       "\n",
       "    .dataframe tbody tr th {\n",
       "        vertical-align: top;\n",
       "    }\n",
       "\n",
       "    .dataframe thead th {\n",
       "        text-align: right;\n",
       "    }\n",
       "</style>\n",
       "<table border=\"1\" class=\"dataframe\">\n",
       "  <thead>\n",
       "    <tr style=\"text-align: right;\">\n",
       "      <th></th>\n",
       "      <th>total_bill</th>\n",
       "      <th>tip</th>\n",
       "      <th>sex</th>\n",
       "      <th>smoker</th>\n",
       "      <th>day</th>\n",
       "      <th>time</th>\n",
       "      <th>size</th>\n",
       "    </tr>\n",
       "  </thead>\n",
       "  <tbody>\n",
       "    <tr>\n",
       "      <th>0</th>\n",
       "      <td>16.99</td>\n",
       "      <td>1.01</td>\n",
       "      <td>Female</td>\n",
       "      <td>No</td>\n",
       "      <td>Sun</td>\n",
       "      <td>Dinner</td>\n",
       "      <td>2</td>\n",
       "    </tr>\n",
       "    <tr>\n",
       "      <th>1</th>\n",
       "      <td>10.34</td>\n",
       "      <td>1.66</td>\n",
       "      <td>Male</td>\n",
       "      <td>No</td>\n",
       "      <td>Sun</td>\n",
       "      <td>Dinner</td>\n",
       "      <td>3</td>\n",
       "    </tr>\n",
       "    <tr>\n",
       "      <th>2</th>\n",
       "      <td>21.01</td>\n",
       "      <td>3.50</td>\n",
       "      <td>Male</td>\n",
       "      <td>No</td>\n",
       "      <td>Sun</td>\n",
       "      <td>Dinner</td>\n",
       "      <td>3</td>\n",
       "    </tr>\n",
       "    <tr>\n",
       "      <th>3</th>\n",
       "      <td>23.68</td>\n",
       "      <td>3.31</td>\n",
       "      <td>Male</td>\n",
       "      <td>No</td>\n",
       "      <td>Sun</td>\n",
       "      <td>Dinner</td>\n",
       "      <td>2</td>\n",
       "    </tr>\n",
       "    <tr>\n",
       "      <th>4</th>\n",
       "      <td>24.59</td>\n",
       "      <td>3.61</td>\n",
       "      <td>Female</td>\n",
       "      <td>No</td>\n",
       "      <td>Sun</td>\n",
       "      <td>Dinner</td>\n",
       "      <td>4</td>\n",
       "    </tr>\n",
       "  </tbody>\n",
       "</table>\n",
       "</div>"
      ],
      "text/plain": [
       "   total_bill   tip     sex smoker  day    time  size\n",
       "0       16.99  1.01  Female     No  Sun  Dinner     2\n",
       "1       10.34  1.66    Male     No  Sun  Dinner     3\n",
       "2       21.01  3.50    Male     No  Sun  Dinner     3\n",
       "3       23.68  3.31    Male     No  Sun  Dinner     2\n",
       "4       24.59  3.61  Female     No  Sun  Dinner     4"
      ]
     },
     "metadata": {},
     "output_type": "display_data"
    }
   ],
   "source": [
    "# First load tips\n",
    "tips = sns.load_dataset('tips')\n",
    "display(tips.head())"
   ]
  },
  {
   "cell_type": "markdown",
   "metadata": {
    "slideshow": {
     "slide_type": "subslide"
    }
   },
   "source": [
    "Do male and female customers differ in the amount of tips they give? Conducting a *t*-test on this is straightforward. We just need to pass the scores of the first group as the first argument to the function, and the scores of the second group as the second. \n",
    "\n",
    "If we look at `tips` we can see our data requires subsetting for that to happen, as it is in long format. "
   ]
  },
  {
   "cell_type": "code",
   "execution_count": 3,
   "metadata": {
    "slideshow": {
     "slide_type": "fragment"
    }
   },
   "outputs": [
    {
     "data": {
      "text/html": [
       "<div>\n",
       "<style scoped>\n",
       "    .dataframe tbody tr th:only-of-type {\n",
       "        vertical-align: middle;\n",
       "    }\n",
       "\n",
       "    .dataframe tbody tr th {\n",
       "        vertical-align: top;\n",
       "    }\n",
       "\n",
       "    .dataframe thead th {\n",
       "        text-align: right;\n",
       "    }\n",
       "</style>\n",
       "<table border=\"1\" class=\"dataframe\">\n",
       "  <thead>\n",
       "    <tr style=\"text-align: right;\">\n",
       "      <th></th>\n",
       "      <th>T</th>\n",
       "      <th>dof</th>\n",
       "      <th>alternative</th>\n",
       "      <th>p-val</th>\n",
       "      <th>CI95%</th>\n",
       "      <th>cohen-d</th>\n",
       "      <th>BF10</th>\n",
       "      <th>power</th>\n",
       "    </tr>\n",
       "  </thead>\n",
       "  <tbody>\n",
       "    <tr>\n",
       "      <th>T-test</th>\n",
       "      <td>-1.489536</td>\n",
       "      <td>215.707021</td>\n",
       "      <td>two-sided</td>\n",
       "      <td>0.137807</td>\n",
       "      <td>[-0.6, 0.08]</td>\n",
       "      <td>0.185494</td>\n",
       "      <td>0.414</td>\n",
       "      <td>0.282179</td>\n",
       "    </tr>\n",
       "  </tbody>\n",
       "</table>\n",
       "</div>"
      ],
      "text/plain": [
       "               T         dof alternative     p-val         CI95%   cohen-d  \\\n",
       "T-test -1.489536  215.707021   two-sided  0.137807  [-0.6, 0.08]  0.185494   \n",
       "\n",
       "         BF10     power  \n",
       "T-test  0.414  0.282179  "
      ]
     },
     "execution_count": 3,
     "metadata": {},
     "output_type": "execute_result"
    }
   ],
   "source": [
    "# Subset the data and store before passing, using loc\n",
    "females = tips.loc[tips['sex'] == 'Female', 'tip']\n",
    "males = tips.loc[tips['sex'] == 'Male', 'tip']\n",
    "\n",
    "# Conduct t test\n",
    "pg.ttest(females, males)"
   ]
  },
  {
   "cell_type": "markdown",
   "metadata": {
    "slideshow": {
     "slide_type": "subslide"
    }
   },
   "source": [
    "`pingouin` returns output in a DataFrame, including the T value, the p-value, and degrees of freedom. It also reports an effect size with Cohen's D, achieved power, and also a Bayes Factor assessing the strength of evidence for the alternative hypothesis - more than enough information about your statistical test for reporting! Here we see a non-significant effect, with lower power."
   ]
  },
  {
   "cell_type": "markdown",
   "metadata": {
    "slideshow": {
     "slide_type": "subslide"
    }
   },
   "source": [
    "### A repeated-measures *t*-test in Python\n",
    "By default, `pg.ttest()` assumes an independent samples test. A repeated measures comparison is achieved by setting the keyword argument `paired` to True. As an example, we could ask whether for each meal, the cost of the meal was higher than the tip - you would hope that this is the case! "
   ]
  },
  {
   "cell_type": "code",
   "execution_count": 4,
   "metadata": {
    "slideshow": {
     "slide_type": "fragment"
    }
   },
   "outputs": [
    {
     "data": {
      "text/html": [
       "<div>\n",
       "<style scoped>\n",
       "    .dataframe tbody tr th:only-of-type {\n",
       "        vertical-align: middle;\n",
       "    }\n",
       "\n",
       "    .dataframe tbody tr th {\n",
       "        vertical-align: top;\n",
       "    }\n",
       "\n",
       "    .dataframe thead th {\n",
       "        text-align: right;\n",
       "    }\n",
       "</style>\n",
       "<table border=\"1\" class=\"dataframe\">\n",
       "  <thead>\n",
       "    <tr style=\"text-align: right;\">\n",
       "      <th></th>\n",
       "      <th>T</th>\n",
       "      <th>dof</th>\n",
       "      <th>alternative</th>\n",
       "      <th>p-val</th>\n",
       "      <th>CI95%</th>\n",
       "      <th>cohen-d</th>\n",
       "      <th>BF10</th>\n",
       "      <th>power</th>\n",
       "    </tr>\n",
       "  </thead>\n",
       "  <tbody>\n",
       "    <tr>\n",
       "      <th>T-test</th>\n",
       "      <td>32.646505</td>\n",
       "      <td>243</td>\n",
       "      <td>two-sided</td>\n",
       "      <td>8.020019e-91</td>\n",
       "      <td>[15.77, 17.8]</td>\n",
       "      <td>2.635205</td>\n",
       "      <td>1.222e+87</td>\n",
       "      <td>1.0</td>\n",
       "    </tr>\n",
       "  </tbody>\n",
       "</table>\n",
       "</div>"
      ],
      "text/plain": [
       "                T  dof alternative         p-val          CI95%   cohen-d  \\\n",
       "T-test  32.646505  243   two-sided  8.020019e-91  [15.77, 17.8]  2.635205   \n",
       "\n",
       "             BF10  power  \n",
       "T-test  1.222e+87    1.0  "
      ]
     },
     "metadata": {},
     "output_type": "display_data"
    }
   ],
   "source": [
    "results = pg.ttest(tips['total_bill'], tips['tip'], paired=True)\n",
    "display(results)"
   ]
  },
  {
   "cell_type": "markdown",
   "metadata": {
    "slideshow": {
     "slide_type": "fragment"
    }
   },
   "source": [
    "A very large difference, as you would expect."
   ]
  },
  {
   "cell_type": "markdown",
   "metadata": {
    "slideshow": {
     "slide_type": "subslide"
    },
    "tags": []
   },
   "source": [
    "### Correlations with Python\n",
    "Computing a correlation between a pair of variable is very straightforward. Simply pass the two variables to the `pg.corr()` function. For example, is there a correlation between the total bill and the tip?"
   ]
  },
  {
   "cell_type": "code",
   "execution_count": 5,
   "metadata": {
    "slideshow": {
     "slide_type": "fragment"
    }
   },
   "outputs": [
    {
     "data": {
      "text/html": [
       "<div>\n",
       "<style scoped>\n",
       "    .dataframe tbody tr th:only-of-type {\n",
       "        vertical-align: middle;\n",
       "    }\n",
       "\n",
       "    .dataframe tbody tr th {\n",
       "        vertical-align: top;\n",
       "    }\n",
       "\n",
       "    .dataframe thead th {\n",
       "        text-align: right;\n",
       "    }\n",
       "</style>\n",
       "<table border=\"1\" class=\"dataframe\">\n",
       "  <thead>\n",
       "    <tr style=\"text-align: right;\">\n",
       "      <th></th>\n",
       "      <th>n</th>\n",
       "      <th>r</th>\n",
       "      <th>CI95%</th>\n",
       "      <th>p-val</th>\n",
       "      <th>BF10</th>\n",
       "      <th>power</th>\n",
       "    </tr>\n",
       "  </thead>\n",
       "  <tbody>\n",
       "    <tr>\n",
       "      <th>pearson</th>\n",
       "      <td>244</td>\n",
       "      <td>0.675734</td>\n",
       "      <td>[0.6, 0.74]</td>\n",
       "      <td>6.692471e-34</td>\n",
       "      <td>4.952e+30</td>\n",
       "      <td>1.0</td>\n",
       "    </tr>\n",
       "  </tbody>\n",
       "</table>\n",
       "</div>"
      ],
      "text/plain": [
       "           n         r        CI95%         p-val       BF10  power\n",
       "pearson  244  0.675734  [0.6, 0.74]  6.692471e-34  4.952e+30    1.0"
      ]
     },
     "metadata": {},
     "output_type": "display_data"
    }
   ],
   "source": [
    "corr_results = pg.corr(tips['total_bill'], tips['tip'])\n",
    "display(corr_results)"
   ]
  },
  {
   "cell_type": "markdown",
   "metadata": {
    "slideshow": {
     "slide_type": "fragment"
    }
   },
   "source": [
    "The output provides a range of information again - the n (of which your degrees of freedom is equal to *n* - 2), the r value itself, a 95% confidence interval around it, the variance explained in r2 (achieved via squaring r), an adjusted r2 (adjusting for the numbers of predictors in the model), the p value, power, and again a Bayes Factor.\n",
    "\n",
    "Its also worth noting that `pingouin` supports partial correlations, repeated measures correlations, and has other convenience functions that make testing correlational hypotheses straightforward."
   ]
  },
  {
   "cell_type": "markdown",
   "metadata": {
    "slideshow": {
     "slide_type": "subslide"
    }
   },
   "source": [
    "### One way ANOVA\n",
    "Things get more complicated once we move past simple tests and correlations, but thankfully `pingouin` makes things simple. Remember that a one way ANOVA examines differences between 3 or more groups on a single dependent variable. This is implemented in the `pg.anova` function. \n",
    "\n",
    "Using the `tips` dataset, we can examine whether there are significant differences between in the amount of tips received across the four different days the study was conducted (Thursday - Sunday)."
   ]
  },
  {
   "cell_type": "code",
   "execution_count": 6,
   "metadata": {
    "slideshow": {
     "slide_type": "fragment"
    }
   },
   "outputs": [
    {
     "data": {
      "text/html": [
       "<div>\n",
       "<style scoped>\n",
       "    .dataframe tbody tr th:only-of-type {\n",
       "        vertical-align: middle;\n",
       "    }\n",
       "\n",
       "    .dataframe tbody tr th {\n",
       "        vertical-align: top;\n",
       "    }\n",
       "\n",
       "    .dataframe thead th {\n",
       "        text-align: right;\n",
       "    }\n",
       "</style>\n",
       "<table border=\"1\" class=\"dataframe\">\n",
       "  <thead>\n",
       "    <tr style=\"text-align: right;\">\n",
       "      <th></th>\n",
       "      <th>Source</th>\n",
       "      <th>SS</th>\n",
       "      <th>DF</th>\n",
       "      <th>MS</th>\n",
       "      <th>F</th>\n",
       "      <th>p-unc</th>\n",
       "      <th>np2</th>\n",
       "    </tr>\n",
       "  </thead>\n",
       "  <tbody>\n",
       "    <tr>\n",
       "      <th>0</th>\n",
       "      <td>day</td>\n",
       "      <td>9.525873</td>\n",
       "      <td>3</td>\n",
       "      <td>3.175291</td>\n",
       "      <td>1.672355</td>\n",
       "      <td>0.173589</td>\n",
       "      <td>0.020476</td>\n",
       "    </tr>\n",
       "    <tr>\n",
       "      <th>1</th>\n",
       "      <td>Within</td>\n",
       "      <td>455.686604</td>\n",
       "      <td>240</td>\n",
       "      <td>1.898694</td>\n",
       "      <td>NaN</td>\n",
       "      <td>NaN</td>\n",
       "      <td>NaN</td>\n",
       "    </tr>\n",
       "  </tbody>\n",
       "</table>\n",
       "</div>"
      ],
      "text/plain": [
       "   Source          SS   DF        MS         F     p-unc       np2\n",
       "0     day    9.525873    3  3.175291  1.672355  0.173589  0.020476\n",
       "1  Within  455.686604  240  1.898694       NaN       NaN       NaN"
      ]
     },
     "metadata": {},
     "output_type": "display_data"
    }
   ],
   "source": [
    "# Conduct a one way ANOVA\n",
    "one_way = pg.anova(data=tips, dv='tip', between='day', detailed=True)\n",
    "display(one_way)"
   ]
  },
  {
   "cell_type": "markdown",
   "metadata": {
    "slideshow": {
     "slide_type": "fragment"
    }
   },
   "source": [
    "You specify the dataset, the dependent variable, and the between-measures (or grouping factor). The `detailed` keyword gives more information back. The output should look familiar from software like SPSS, including df, ms, F, p value, and an effect size of partial eta squared."
   ]
  },
  {
   "cell_type": "markdown",
   "metadata": {
    "slideshow": {
     "slide_type": "subslide"
    }
   },
   "source": [
    "### Two way ANOVA\n",
    "If we want to add an additional factor, that is straightforward - pass a list of columns to the `between` keyword. \n",
    "\n",
    "We can examine the amount of tips given as a consequence of the day, and the sex of the customer."
   ]
  },
  {
   "cell_type": "code",
   "execution_count": 7,
   "metadata": {
    "slideshow": {
     "slide_type": "fragment"
    }
   },
   "outputs": [
    {
     "data": {
      "text/html": [
       "<div>\n",
       "<style scoped>\n",
       "    .dataframe tbody tr th:only-of-type {\n",
       "        vertical-align: middle;\n",
       "    }\n",
       "\n",
       "    .dataframe tbody tr th {\n",
       "        vertical-align: top;\n",
       "    }\n",
       "\n",
       "    .dataframe thead th {\n",
       "        text-align: right;\n",
       "    }\n",
       "</style>\n",
       "<table border=\"1\" class=\"dataframe\">\n",
       "  <thead>\n",
       "    <tr style=\"text-align: right;\">\n",
       "      <th></th>\n",
       "      <th>Source</th>\n",
       "      <th>SS</th>\n",
       "      <th>DF</th>\n",
       "      <th>MS</th>\n",
       "      <th>F</th>\n",
       "      <th>p-unc</th>\n",
       "      <th>np2</th>\n",
       "    </tr>\n",
       "  </thead>\n",
       "  <tbody>\n",
       "    <tr>\n",
       "      <th>0</th>\n",
       "      <td>day</td>\n",
       "      <td>7.446900</td>\n",
       "      <td>3.0</td>\n",
       "      <td>2.482300</td>\n",
       "      <td>1.298061</td>\n",
       "      <td>0.275785</td>\n",
       "      <td>0.016233</td>\n",
       "    </tr>\n",
       "    <tr>\n",
       "      <th>1</th>\n",
       "      <td>sex</td>\n",
       "      <td>1.594561</td>\n",
       "      <td>1.0</td>\n",
       "      <td>1.594561</td>\n",
       "      <td>0.833839</td>\n",
       "      <td>0.362097</td>\n",
       "      <td>0.003521</td>\n",
       "    </tr>\n",
       "    <tr>\n",
       "      <th>2</th>\n",
       "      <td>day * sex</td>\n",
       "      <td>2.785891</td>\n",
       "      <td>3.0</td>\n",
       "      <td>0.928630</td>\n",
       "      <td>0.485606</td>\n",
       "      <td>0.692600</td>\n",
       "      <td>0.006135</td>\n",
       "    </tr>\n",
       "    <tr>\n",
       "      <th>3</th>\n",
       "      <td>Residual</td>\n",
       "      <td>451.306151</td>\n",
       "      <td>236.0</td>\n",
       "      <td>1.912314</td>\n",
       "      <td>NaN</td>\n",
       "      <td>NaN</td>\n",
       "      <td>NaN</td>\n",
       "    </tr>\n",
       "  </tbody>\n",
       "</table>\n",
       "</div>"
      ],
      "text/plain": [
       "      Source          SS     DF        MS         F     p-unc       np2\n",
       "0        day    7.446900    3.0  2.482300  1.298061  0.275785  0.016233\n",
       "1        sex    1.594561    1.0  1.594561  0.833839  0.362097  0.003521\n",
       "2  day * sex    2.785891    3.0  0.928630  0.485606  0.692600  0.006135\n",
       "3   Residual  451.306151  236.0  1.912314       NaN       NaN       NaN"
      ]
     },
     "metadata": {},
     "output_type": "display_data"
    }
   ],
   "source": [
    "# Conduct the two way ANOVA\n",
    "two_way = pg.anova(data=tips, dv='tip', between=['day', 'sex'])\n",
    "display(two_way)"
   ]
  },
  {
   "cell_type": "markdown",
   "metadata": {
    "slideshow": {
     "slide_type": "subslide"
    }
   },
   "source": [
    "### Repeated measures designs - one and two way ANOVAs\n",
    "Handling repeated measures in an ANOVA context is dealt with by the, `pg.rm_anova` function.\n",
    "\n",
    "The `bugs` dataset, where participants rate how much they want to kill an insect based on how frightening and disgusting they perceive it to be, is a good example of fully repeated measures data:"
   ]
  },
  {
   "cell_type": "code",
   "execution_count": 8,
   "metadata": {
    "slideshow": {
     "slide_type": "fragment"
    }
   },
   "outputs": [
    {
     "data": {
      "text/html": [
       "<div>\n",
       "<style scoped>\n",
       "    .dataframe tbody tr th:only-of-type {\n",
       "        vertical-align: middle;\n",
       "    }\n",
       "\n",
       "    .dataframe tbody tr th {\n",
       "        vertical-align: top;\n",
       "    }\n",
       "\n",
       "    .dataframe thead th {\n",
       "        text-align: right;\n",
       "    }\n",
       "</style>\n",
       "<table border=\"1\" class=\"dataframe\">\n",
       "  <thead>\n",
       "    <tr style=\"text-align: right;\">\n",
       "      <th></th>\n",
       "      <th>Subject</th>\n",
       "      <th>Gender</th>\n",
       "      <th>Region</th>\n",
       "      <th>Education</th>\n",
       "      <th>Lo D, Lo F</th>\n",
       "      <th>Lo D, Hi F</th>\n",
       "      <th>Hi D, Lo F</th>\n",
       "      <th>Hi D, Hi F</th>\n",
       "    </tr>\n",
       "  </thead>\n",
       "  <tbody>\n",
       "    <tr>\n",
       "      <th>0</th>\n",
       "      <td>1</td>\n",
       "      <td>Female</td>\n",
       "      <td>North</td>\n",
       "      <td>some</td>\n",
       "      <td>6.0</td>\n",
       "      <td>6.0</td>\n",
       "      <td>9.0</td>\n",
       "      <td>10.0</td>\n",
       "    </tr>\n",
       "    <tr>\n",
       "      <th>1</th>\n",
       "      <td>2</td>\n",
       "      <td>Female</td>\n",
       "      <td>North</td>\n",
       "      <td>advance</td>\n",
       "      <td>10.0</td>\n",
       "      <td>NaN</td>\n",
       "      <td>10.0</td>\n",
       "      <td>10.0</td>\n",
       "    </tr>\n",
       "    <tr>\n",
       "      <th>2</th>\n",
       "      <td>3</td>\n",
       "      <td>Female</td>\n",
       "      <td>Europe</td>\n",
       "      <td>college</td>\n",
       "      <td>5.0</td>\n",
       "      <td>10.0</td>\n",
       "      <td>10.0</td>\n",
       "      <td>10.0</td>\n",
       "    </tr>\n",
       "    <tr>\n",
       "      <th>3</th>\n",
       "      <td>4</td>\n",
       "      <td>Female</td>\n",
       "      <td>North</td>\n",
       "      <td>college</td>\n",
       "      <td>6.0</td>\n",
       "      <td>9.0</td>\n",
       "      <td>6.0</td>\n",
       "      <td>9.0</td>\n",
       "    </tr>\n",
       "    <tr>\n",
       "      <th>4</th>\n",
       "      <td>5</td>\n",
       "      <td>Female</td>\n",
       "      <td>North</td>\n",
       "      <td>some</td>\n",
       "      <td>3.0</td>\n",
       "      <td>6.5</td>\n",
       "      <td>5.5</td>\n",
       "      <td>8.5</td>\n",
       "    </tr>\n",
       "  </tbody>\n",
       "</table>\n",
       "</div>"
      ],
      "text/plain": [
       "   Subject  Gender  Region Education  Lo D, Lo F  Lo D, Hi F  Hi D, Lo F  \\\n",
       "0        1  Female   North      some         6.0         6.0         9.0   \n",
       "1        2  Female   North   advance        10.0         NaN        10.0   \n",
       "2        3  Female  Europe   college         5.0        10.0        10.0   \n",
       "3        4  Female   North   college         6.0         9.0         6.0   \n",
       "4        5  Female   North      some         3.0         6.5         5.5   \n",
       "\n",
       "   Hi D, Hi F  \n",
       "0        10.0  \n",
       "1        10.0  \n",
       "2        10.0  \n",
       "3         9.0  \n",
       "4         8.5  "
      ]
     },
     "metadata": {},
     "output_type": "display_data"
    }
   ],
   "source": [
    "# Read in bugs from the OSF\n",
    "bugs = pd.read_csv('https://osf.io/mrhjn/download')\n",
    "display(bugs.head())"
   ]
  },
  {
   "cell_type": "markdown",
   "metadata": {
    "slideshow": {
     "slide_type": "fragment"
    }
   },
   "source": [
    "Unfortunately, the data is in the wrong format for analysis - remember that repeated measures data often needs to be put into the 'long' format for analysis. The first step is to represent the data correctly."
   ]
  },
  {
   "cell_type": "code",
   "execution_count": 9,
   "metadata": {
    "slideshow": {
     "slide_type": "subslide"
    }
   },
   "outputs": [
    {
     "data": {
      "text/html": [
       "<div>\n",
       "<style scoped>\n",
       "    .dataframe tbody tr th:only-of-type {\n",
       "        vertical-align: middle;\n",
       "    }\n",
       "\n",
       "    .dataframe tbody tr th {\n",
       "        vertical-align: top;\n",
       "    }\n",
       "\n",
       "    .dataframe thead th {\n",
       "        text-align: right;\n",
       "    }\n",
       "</style>\n",
       "<table border=\"1\" class=\"dataframe\">\n",
       "  <thead>\n",
       "    <tr style=\"text-align: right;\">\n",
       "      <th></th>\n",
       "      <th>Subject</th>\n",
       "      <th>Gender</th>\n",
       "      <th>Region</th>\n",
       "      <th>Education</th>\n",
       "      <th>Condition</th>\n",
       "      <th>Rating</th>\n",
       "      <th>Disgust_Level</th>\n",
       "      <th>Fright_Level</th>\n",
       "    </tr>\n",
       "  </thead>\n",
       "  <tbody>\n",
       "    <tr>\n",
       "      <th>0</th>\n",
       "      <td>1</td>\n",
       "      <td>Female</td>\n",
       "      <td>North</td>\n",
       "      <td>some</td>\n",
       "      <td>Lo D, Lo F</td>\n",
       "      <td>6.0</td>\n",
       "      <td>Low</td>\n",
       "      <td>Low</td>\n",
       "    </tr>\n",
       "    <tr>\n",
       "      <th>1</th>\n",
       "      <td>2</td>\n",
       "      <td>Female</td>\n",
       "      <td>North</td>\n",
       "      <td>advance</td>\n",
       "      <td>Lo D, Lo F</td>\n",
       "      <td>10.0</td>\n",
       "      <td>Low</td>\n",
       "      <td>Low</td>\n",
       "    </tr>\n",
       "    <tr>\n",
       "      <th>2</th>\n",
       "      <td>3</td>\n",
       "      <td>Female</td>\n",
       "      <td>Europe</td>\n",
       "      <td>college</td>\n",
       "      <td>Lo D, Lo F</td>\n",
       "      <td>5.0</td>\n",
       "      <td>Low</td>\n",
       "      <td>Low</td>\n",
       "    </tr>\n",
       "    <tr>\n",
       "      <th>3</th>\n",
       "      <td>4</td>\n",
       "      <td>Female</td>\n",
       "      <td>North</td>\n",
       "      <td>college</td>\n",
       "      <td>Lo D, Lo F</td>\n",
       "      <td>6.0</td>\n",
       "      <td>Low</td>\n",
       "      <td>Low</td>\n",
       "    </tr>\n",
       "    <tr>\n",
       "      <th>4</th>\n",
       "      <td>5</td>\n",
       "      <td>Female</td>\n",
       "      <td>North</td>\n",
       "      <td>some</td>\n",
       "      <td>Lo D, Lo F</td>\n",
       "      <td>3.0</td>\n",
       "      <td>Low</td>\n",
       "      <td>Low</td>\n",
       "    </tr>\n",
       "  </tbody>\n",
       "</table>\n",
       "</div>"
      ],
      "text/plain": [
       "   Subject  Gender  Region Education   Condition  Rating Disgust_Level  \\\n",
       "0        1  Female   North      some  Lo D, Lo F     6.0           Low   \n",
       "1        2  Female   North   advance  Lo D, Lo F    10.0           Low   \n",
       "2        3  Female  Europe   college  Lo D, Lo F     5.0           Low   \n",
       "3        4  Female   North   college  Lo D, Lo F     6.0           Low   \n",
       "4        5  Female   North      some  Lo D, Lo F     3.0           Low   \n",
       "\n",
       "  Fright_Level  \n",
       "0          Low  \n",
       "1          Low  \n",
       "2          Low  \n",
       "3          Low  \n",
       "4          Low  "
      ]
     },
     "metadata": {},
     "output_type": "display_data"
    },
    {
     "data": {
      "text/html": [
       "<div>\n",
       "<style scoped>\n",
       "    .dataframe tbody tr th:only-of-type {\n",
       "        vertical-align: middle;\n",
       "    }\n",
       "\n",
       "    .dataframe tbody tr th {\n",
       "        vertical-align: top;\n",
       "    }\n",
       "\n",
       "    .dataframe thead th {\n",
       "        text-align: right;\n",
       "    }\n",
       "</style>\n",
       "<table border=\"1\" class=\"dataframe\">\n",
       "  <thead>\n",
       "    <tr style=\"text-align: right;\">\n",
       "      <th></th>\n",
       "      <th>Subject</th>\n",
       "      <th>Gender</th>\n",
       "      <th>Region</th>\n",
       "      <th>Education</th>\n",
       "      <th>Condition</th>\n",
       "      <th>Rating</th>\n",
       "      <th>Disgust_Level</th>\n",
       "      <th>Fright_Level</th>\n",
       "    </tr>\n",
       "  </thead>\n",
       "  <tbody>\n",
       "    <tr>\n",
       "      <th>367</th>\n",
       "      <td>96</td>\n",
       "      <td>Male</td>\n",
       "      <td>North</td>\n",
       "      <td>high</td>\n",
       "      <td>Hi D, Hi F</td>\n",
       "      <td>10.0</td>\n",
       "      <td>High</td>\n",
       "      <td>High</td>\n",
       "    </tr>\n",
       "    <tr>\n",
       "      <th>368</th>\n",
       "      <td>97</td>\n",
       "      <td>Female</td>\n",
       "      <td>North</td>\n",
       "      <td>NaN</td>\n",
       "      <td>Hi D, Hi F</td>\n",
       "      <td>10.0</td>\n",
       "      <td>High</td>\n",
       "      <td>High</td>\n",
       "    </tr>\n",
       "    <tr>\n",
       "      <th>369</th>\n",
       "      <td>98</td>\n",
       "      <td>Female</td>\n",
       "      <td>North</td>\n",
       "      <td>some</td>\n",
       "      <td>Hi D, Hi F</td>\n",
       "      <td>10.0</td>\n",
       "      <td>High</td>\n",
       "      <td>High</td>\n",
       "    </tr>\n",
       "    <tr>\n",
       "      <th>370</th>\n",
       "      <td>99</td>\n",
       "      <td>Female</td>\n",
       "      <td>North</td>\n",
       "      <td>some</td>\n",
       "      <td>Hi D, Hi F</td>\n",
       "      <td>10.0</td>\n",
       "      <td>High</td>\n",
       "      <td>High</td>\n",
       "    </tr>\n",
       "    <tr>\n",
       "      <th>371</th>\n",
       "      <td>100</td>\n",
       "      <td>Female</td>\n",
       "      <td>Europe</td>\n",
       "      <td>some</td>\n",
       "      <td>Hi D, Hi F</td>\n",
       "      <td>3.0</td>\n",
       "      <td>High</td>\n",
       "      <td>High</td>\n",
       "    </tr>\n",
       "  </tbody>\n",
       "</table>\n",
       "</div>"
      ],
      "text/plain": [
       "     Subject  Gender  Region Education   Condition  Rating Disgust_Level  \\\n",
       "367       96    Male   North      high  Hi D, Hi F    10.0          High   \n",
       "368       97  Female   North       NaN  Hi D, Hi F    10.0          High   \n",
       "369       98  Female   North      some  Hi D, Hi F    10.0          High   \n",
       "370       99  Female   North      some  Hi D, Hi F    10.0          High   \n",
       "371      100  Female  Europe      some  Hi D, Hi F     3.0          High   \n",
       "\n",
       "    Fright_Level  \n",
       "367         High  \n",
       "368         High  \n",
       "369         High  \n",
       "370         High  \n",
       "371         High  "
      ]
     },
     "metadata": {},
     "output_type": "display_data"
    }
   ],
   "source": [
    "# Melt the data\n",
    "bugs_long = bugs.melt(id_vars=['Subject', 'Gender', 'Region', 'Education'],\n",
    "                      value_vars=['Lo D, Lo F', 'Lo D, Hi F', 'Hi D, Lo F', 'Hi D, Hi F'],\n",
    "                      var_name='Condition', value_name='Rating')\n",
    "\n",
    "# Split the condition column into two, so as to have two variables\n",
    "bugs_long[['Disgust_Level', 'Fright_Level']] = bugs_long['Condition'].apply(lambda x: pd.Series(x.split(', ')))      \n",
    "\n",
    "# Finally replace the text values\n",
    "bugs_long.replace({'Disgust_Level': {'Lo D': 'Low', 'Hi D': 'High'}, 'Fright_Level': {'Lo F': 'Low', 'Hi F': 'High'}}, inplace=True)\n",
    "\n",
    "display(bugs_long.head(), bugs_long.tail())"
   ]
  },
  {
   "cell_type": "markdown",
   "metadata": {
    "slideshow": {
     "slide_type": "subslide"
    }
   },
   "source": [
    "The first thing is to apply a simple one way repeated measures ANOVA examining differences between disgust level. Note that for a repeated measures ANOVA, a column denoting the participant number has to be specified."
   ]
  },
  {
   "cell_type": "code",
   "execution_count": 10,
   "metadata": {
    "slideshow": {
     "slide_type": "fragment"
    }
   },
   "outputs": [
    {
     "data": {
      "text/html": [
       "<div>\n",
       "<style scoped>\n",
       "    .dataframe tbody tr th:only-of-type {\n",
       "        vertical-align: middle;\n",
       "    }\n",
       "\n",
       "    .dataframe tbody tr th {\n",
       "        vertical-align: top;\n",
       "    }\n",
       "\n",
       "    .dataframe thead th {\n",
       "        text-align: right;\n",
       "    }\n",
       "</style>\n",
       "<table border=\"1\" class=\"dataframe\">\n",
       "  <thead>\n",
       "    <tr style=\"text-align: right;\">\n",
       "      <th></th>\n",
       "      <th>Source</th>\n",
       "      <th>SS</th>\n",
       "      <th>DF</th>\n",
       "      <th>MS</th>\n",
       "      <th>F</th>\n",
       "      <th>p-unc</th>\n",
       "      <th>np2</th>\n",
       "      <th>eps</th>\n",
       "    </tr>\n",
       "  </thead>\n",
       "  <tbody>\n",
       "    <tr>\n",
       "      <th>0</th>\n",
       "      <td>Disgust_Level</td>\n",
       "      <td>27.485215</td>\n",
       "      <td>1</td>\n",
       "      <td>27.485215</td>\n",
       "      <td>12.043878</td>\n",
       "      <td>0.000793</td>\n",
       "      <td>0.115758</td>\n",
       "      <td>1.0</td>\n",
       "    </tr>\n",
       "    <tr>\n",
       "      <th>1</th>\n",
       "      <td>Error</td>\n",
       "      <td>209.952285</td>\n",
       "      <td>92</td>\n",
       "      <td>2.282090</td>\n",
       "      <td>NaN</td>\n",
       "      <td>NaN</td>\n",
       "      <td>NaN</td>\n",
       "      <td>NaN</td>\n",
       "    </tr>\n",
       "  </tbody>\n",
       "</table>\n",
       "</div>"
      ],
      "text/plain": [
       "          Source          SS  DF         MS          F     p-unc       np2  \\\n",
       "0  Disgust_Level   27.485215   1  27.485215  12.043878  0.000793  0.115758   \n",
       "1          Error  209.952285  92   2.282090        NaN       NaN       NaN   \n",
       "\n",
       "   eps  \n",
       "0  1.0  \n",
       "1  NaN  "
      ]
     },
     "metadata": {},
     "output_type": "display_data"
    }
   ],
   "source": [
    "rma = pg.rm_anova(data=bugs_long, dv='Rating', within='Disgust_Level', subject='Subject', detailed=True)\n",
    "display(rma)"
   ]
  },
  {
   "cell_type": "markdown",
   "metadata": {
    "slideshow": {
     "slide_type": "fragment"
    }
   },
   "source": [
    "This produces some familiar output - numerator and denominator degrees of freedom, mean square, F, p values, effect sizes, and epsilon, and index of sphericity."
   ]
  },
  {
   "cell_type": "markdown",
   "metadata": {
    "slideshow": {
     "slide_type": "subslide"
    }
   },
   "source": [
    "Extending this to the two way case is straightforward - add in more levels to the `within` keyword."
   ]
  },
  {
   "cell_type": "code",
   "execution_count": 11,
   "metadata": {
    "slideshow": {
     "slide_type": "fragment"
    }
   },
   "outputs": [
    {
     "data": {
      "text/html": [
       "<div>\n",
       "<style scoped>\n",
       "    .dataframe tbody tr th:only-of-type {\n",
       "        vertical-align: middle;\n",
       "    }\n",
       "\n",
       "    .dataframe tbody tr th {\n",
       "        vertical-align: top;\n",
       "    }\n",
       "\n",
       "    .dataframe thead th {\n",
       "        text-align: right;\n",
       "    }\n",
       "</style>\n",
       "<table border=\"1\" class=\"dataframe\">\n",
       "  <thead>\n",
       "    <tr style=\"text-align: right;\">\n",
       "      <th></th>\n",
       "      <th>Source</th>\n",
       "      <th>SS</th>\n",
       "      <th>ddof1</th>\n",
       "      <th>ddof2</th>\n",
       "      <th>MS</th>\n",
       "      <th>F</th>\n",
       "      <th>p-unc</th>\n",
       "      <th>p-GG-corr</th>\n",
       "      <th>np2</th>\n",
       "      <th>eps</th>\n",
       "    </tr>\n",
       "  </thead>\n",
       "  <tbody>\n",
       "    <tr>\n",
       "      <th>0</th>\n",
       "      <td>Disgust_Level</td>\n",
       "      <td>48.752841</td>\n",
       "      <td>1</td>\n",
       "      <td>87</td>\n",
       "      <td>48.752841</td>\n",
       "      <td>12.175190</td>\n",
       "      <td>7.623808e-04</td>\n",
       "      <td>7.623808e-04</td>\n",
       "      <td>0.122764</td>\n",
       "      <td>1.0</td>\n",
       "    </tr>\n",
       "    <tr>\n",
       "      <th>1</th>\n",
       "      <td>Fright_Level</td>\n",
       "      <td>177.556818</td>\n",
       "      <td>1</td>\n",
       "      <td>87</td>\n",
       "      <td>177.556818</td>\n",
       "      <td>41.629663</td>\n",
       "      <td>6.011447e-09</td>\n",
       "      <td>6.011447e-09</td>\n",
       "      <td>0.323640</td>\n",
       "      <td>1.0</td>\n",
       "    </tr>\n",
       "    <tr>\n",
       "      <th>2</th>\n",
       "      <td>Disgust_Level * Fright_Level</td>\n",
       "      <td>6.545455</td>\n",
       "      <td>1</td>\n",
       "      <td>87</td>\n",
       "      <td>6.545455</td>\n",
       "      <td>2.152300</td>\n",
       "      <td>1.459622e-01</td>\n",
       "      <td>1.459622e-01</td>\n",
       "      <td>0.024142</td>\n",
       "      <td>1.0</td>\n",
       "    </tr>\n",
       "  </tbody>\n",
       "</table>\n",
       "</div>"
      ],
      "text/plain": [
       "                         Source          SS  ddof1  ddof2          MS  \\\n",
       "0                 Disgust_Level   48.752841      1     87   48.752841   \n",
       "1                  Fright_Level  177.556818      1     87  177.556818   \n",
       "2  Disgust_Level * Fright_Level    6.545455      1     87    6.545455   \n",
       "\n",
       "           F         p-unc     p-GG-corr       np2  eps  \n",
       "0  12.175190  7.623808e-04  7.623808e-04  0.122764  1.0  \n",
       "1  41.629663  6.011447e-09  6.011447e-09  0.323640  1.0  \n",
       "2   2.152300  1.459622e-01  1.459622e-01  0.024142  1.0  "
      ]
     },
     "metadata": {},
     "output_type": "display_data"
    }
   ],
   "source": [
    "rma2 = pg.rm_anova(data=bugs_long, dv='Rating', within=['Disgust_Level', 'Fright_Level'], subject='Subject')\n",
    "display(rma2)"
   ]
  },
  {
   "cell_type": "markdown",
   "metadata": {
    "slideshow": {
     "slide_type": "fragment"
    }
   },
   "source": [
    "This function is capable of removing data with missing values automatically, and provides a similar set of outcomes, including a p value corrected for violations of sphericity."
   ]
  },
  {
   "cell_type": "markdown",
   "metadata": {
    "slideshow": {
     "slide_type": "subslide"
    }
   },
   "source": [
    "### Mixed ANOVA\n",
    "Often, researchers will blend both repeated measures and between-groups variables. For example, how do depressions scores change between time one and time two (a repeated measure) and for people who have received a new drug compared to those who have received placebo (between measures). The `pg.mixed_anova()` function is capable of handling cases where a dataset contains a single repeated measures factor and a single between groups factor. \n",
    "\n",
    "The `exercise` dataset used to illustrate `seaborn` plots in the last chapter has this property - individuals are on a low fat or no fat diet, and their pulse is measured after 5, 10, and 15 minutes of exericse. Are there significant differences or interactions in these variables on heart rate?\n"
   ]
  },
  {
   "cell_type": "code",
   "execution_count": 12,
   "metadata": {
    "slideshow": {
     "slide_type": "fragment"
    }
   },
   "outputs": [
    {
     "data": {
      "text/html": [
       "<div>\n",
       "<style scoped>\n",
       "    .dataframe tbody tr th:only-of-type {\n",
       "        vertical-align: middle;\n",
       "    }\n",
       "\n",
       "    .dataframe tbody tr th {\n",
       "        vertical-align: top;\n",
       "    }\n",
       "\n",
       "    .dataframe thead th {\n",
       "        text-align: right;\n",
       "    }\n",
       "</style>\n",
       "<table border=\"1\" class=\"dataframe\">\n",
       "  <thead>\n",
       "    <tr style=\"text-align: right;\">\n",
       "      <th></th>\n",
       "      <th>Unnamed: 0</th>\n",
       "      <th>id</th>\n",
       "      <th>diet</th>\n",
       "      <th>pulse</th>\n",
       "      <th>time</th>\n",
       "      <th>kind</th>\n",
       "    </tr>\n",
       "  </thead>\n",
       "  <tbody>\n",
       "    <tr>\n",
       "      <th>0</th>\n",
       "      <td>0</td>\n",
       "      <td>1</td>\n",
       "      <td>low fat</td>\n",
       "      <td>85</td>\n",
       "      <td>1 min</td>\n",
       "      <td>rest</td>\n",
       "    </tr>\n",
       "    <tr>\n",
       "      <th>1</th>\n",
       "      <td>1</td>\n",
       "      <td>1</td>\n",
       "      <td>low fat</td>\n",
       "      <td>85</td>\n",
       "      <td>15 min</td>\n",
       "      <td>rest</td>\n",
       "    </tr>\n",
       "    <tr>\n",
       "      <th>2</th>\n",
       "      <td>2</td>\n",
       "      <td>1</td>\n",
       "      <td>low fat</td>\n",
       "      <td>88</td>\n",
       "      <td>30 min</td>\n",
       "      <td>rest</td>\n",
       "    </tr>\n",
       "    <tr>\n",
       "      <th>3</th>\n",
       "      <td>3</td>\n",
       "      <td>2</td>\n",
       "      <td>low fat</td>\n",
       "      <td>90</td>\n",
       "      <td>1 min</td>\n",
       "      <td>rest</td>\n",
       "    </tr>\n",
       "    <tr>\n",
       "      <th>4</th>\n",
       "      <td>4</td>\n",
       "      <td>2</td>\n",
       "      <td>low fat</td>\n",
       "      <td>92</td>\n",
       "      <td>15 min</td>\n",
       "      <td>rest</td>\n",
       "    </tr>\n",
       "  </tbody>\n",
       "</table>\n",
       "</div>"
      ],
      "text/plain": [
       "   Unnamed: 0  id     diet  pulse    time  kind\n",
       "0           0   1  low fat     85   1 min  rest\n",
       "1           1   1  low fat     85  15 min  rest\n",
       "2           2   1  low fat     88  30 min  rest\n",
       "3           3   2  low fat     90   1 min  rest\n",
       "4           4   2  low fat     92  15 min  rest"
      ]
     },
     "metadata": {},
     "output_type": "display_data"
    }
   ],
   "source": [
    "# Load dataset straight from the internet!\n",
    "exercise = pd.read_csv('https://raw.githubusercontent.com/mwaskom/seaborn-data/master/exercise.csv')\n",
    "display(exercise.head())"
   ]
  },
  {
   "cell_type": "code",
   "execution_count": 13,
   "metadata": {
    "slideshow": {
     "slide_type": "subslide"
    }
   },
   "outputs": [
    {
     "data": {
      "text/html": [
       "<div>\n",
       "<style scoped>\n",
       "    .dataframe tbody tr th:only-of-type {\n",
       "        vertical-align: middle;\n",
       "    }\n",
       "\n",
       "    .dataframe tbody tr th {\n",
       "        vertical-align: top;\n",
       "    }\n",
       "\n",
       "    .dataframe thead th {\n",
       "        text-align: right;\n",
       "    }\n",
       "</style>\n",
       "<table border=\"1\" class=\"dataframe\">\n",
       "  <thead>\n",
       "    <tr style=\"text-align: right;\">\n",
       "      <th></th>\n",
       "      <th>Source</th>\n",
       "      <th>SS</th>\n",
       "      <th>DF1</th>\n",
       "      <th>DF2</th>\n",
       "      <th>MS</th>\n",
       "      <th>F</th>\n",
       "      <th>p-unc</th>\n",
       "      <th>p-GG-corr</th>\n",
       "      <th>np2</th>\n",
       "      <th>eps</th>\n",
       "      <th>sphericity</th>\n",
       "      <th>W-spher</th>\n",
       "      <th>p-spher</th>\n",
       "    </tr>\n",
       "  </thead>\n",
       "  <tbody>\n",
       "    <tr>\n",
       "      <th>0</th>\n",
       "      <td>diet</td>\n",
       "      <td>1261.877778</td>\n",
       "      <td>1</td>\n",
       "      <td>28</td>\n",
       "      <td>1261.877778</td>\n",
       "      <td>3.147101</td>\n",
       "      <td>0.086939</td>\n",
       "      <td>NaN</td>\n",
       "      <td>0.101040</td>\n",
       "      <td>NaN</td>\n",
       "      <td>NaN</td>\n",
       "      <td>NaN</td>\n",
       "      <td>NaN</td>\n",
       "    </tr>\n",
       "    <tr>\n",
       "      <th>1</th>\n",
       "      <td>time</td>\n",
       "      <td>2066.600000</td>\n",
       "      <td>2</td>\n",
       "      <td>56</td>\n",
       "      <td>1033.300000</td>\n",
       "      <td>11.807751</td>\n",
       "      <td>0.000053</td>\n",
       "      <td>0.000312</td>\n",
       "      <td>0.296619</td>\n",
       "      <td>0.746425</td>\n",
       "      <td>False</td>\n",
       "      <td>0.660281</td>\n",
       "      <td>0.002994</td>\n",
       "    </tr>\n",
       "    <tr>\n",
       "      <th>2</th>\n",
       "      <td>Interaction</td>\n",
       "      <td>192.822222</td>\n",
       "      <td>2</td>\n",
       "      <td>56</td>\n",
       "      <td>96.411111</td>\n",
       "      <td>1.101711</td>\n",
       "      <td>0.339395</td>\n",
       "      <td>NaN</td>\n",
       "      <td>0.037857</td>\n",
       "      <td>NaN</td>\n",
       "      <td>NaN</td>\n",
       "      <td>NaN</td>\n",
       "      <td>NaN</td>\n",
       "    </tr>\n",
       "  </tbody>\n",
       "</table>\n",
       "</div>"
      ],
      "text/plain": [
       "        Source           SS  DF1  DF2           MS          F     p-unc  \\\n",
       "0         diet  1261.877778    1   28  1261.877778   3.147101  0.086939   \n",
       "1         time  2066.600000    2   56  1033.300000  11.807751  0.000053   \n",
       "2  Interaction   192.822222    2   56    96.411111   1.101711  0.339395   \n",
       "\n",
       "   p-GG-corr       np2       eps sphericity   W-spher   p-spher  \n",
       "0        NaN  0.101040       NaN        NaN       NaN       NaN  \n",
       "1   0.000312  0.296619  0.746425      False  0.660281  0.002994  \n",
       "2        NaN  0.037857       NaN        NaN       NaN       NaN  "
      ]
     },
     "metadata": {},
     "output_type": "display_data"
    }
   ],
   "source": [
    "# Submit to mixed anova - remove_na keyword set to False here\n",
    "mix = pg.mixed_anova(data=exercise, dv='pulse', within='time', between='diet', subject='id')\n",
    "display(mix)"
   ]
  },
  {
   "cell_type": "markdown",
   "metadata": {},
   "source": [
    "The results are a merger of the standard ANOVA and the repeated measures ANOVA, providing sphericity measures for the repeated measures factor. "
   ]
  },
  {
   "cell_type": "markdown",
   "metadata": {
    "slideshow": {
     "slide_type": "subslide"
    }
   },
   "source": [
    "### ANCOVA\n",
    "The final ANOVA design worth discussing is the ANCOVA. The ANCOVA allows for the addition of a *covariate*, a continuous variable that the researcher wasnt to remove the variance of from the model before examining differences between the groups. This is handled by the `pg.ancova` function. \n",
    "\n",
    "Currently, the function supports only between group designs, and not repeated measures. \n",
    "\n",
    "As a simple example, we can compare whether males and females offer different tip amounts *after controlling for the total cost of the bill*. "
   ]
  },
  {
   "cell_type": "code",
   "execution_count": 14,
   "metadata": {
    "slideshow": {
     "slide_type": "fragment"
    }
   },
   "outputs": [
    {
     "data": {
      "text/html": [
       "<div>\n",
       "<style scoped>\n",
       "    .dataframe tbody tr th:only-of-type {\n",
       "        vertical-align: middle;\n",
       "    }\n",
       "\n",
       "    .dataframe tbody tr th {\n",
       "        vertical-align: top;\n",
       "    }\n",
       "\n",
       "    .dataframe thead th {\n",
       "        text-align: right;\n",
       "    }\n",
       "</style>\n",
       "<table border=\"1\" class=\"dataframe\">\n",
       "  <thead>\n",
       "    <tr style=\"text-align: right;\">\n",
       "      <th></th>\n",
       "      <th>Source</th>\n",
       "      <th>SS</th>\n",
       "      <th>DF</th>\n",
       "      <th>F</th>\n",
       "      <th>p-unc</th>\n",
       "      <th>np2</th>\n",
       "    </tr>\n",
       "  </thead>\n",
       "  <tbody>\n",
       "    <tr>\n",
       "      <th>0</th>\n",
       "      <td>sex</td>\n",
       "      <td>0.038803</td>\n",
       "      <td>1</td>\n",
       "      <td>0.036999</td>\n",
       "      <td>8.476290e-01</td>\n",
       "      <td>0.000153</td>\n",
       "    </tr>\n",
       "    <tr>\n",
       "      <th>1</th>\n",
       "      <td>total_bill</td>\n",
       "      <td>208.789002</td>\n",
       "      <td>1</td>\n",
       "      <td>199.082735</td>\n",
       "      <td>2.332173e-33</td>\n",
       "      <td>0.452376</td>\n",
       "    </tr>\n",
       "    <tr>\n",
       "      <th>2</th>\n",
       "      <td>Residual</td>\n",
       "      <td>252.749941</td>\n",
       "      <td>241</td>\n",
       "      <td>NaN</td>\n",
       "      <td>NaN</td>\n",
       "      <td>NaN</td>\n",
       "    </tr>\n",
       "  </tbody>\n",
       "</table>\n",
       "</div>"
      ],
      "text/plain": [
       "       Source          SS   DF           F         p-unc       np2\n",
       "0         sex    0.038803    1    0.036999  8.476290e-01  0.000153\n",
       "1  total_bill  208.789002    1  199.082735  2.332173e-33  0.452376\n",
       "2    Residual  252.749941  241         NaN           NaN       NaN"
      ]
     },
     "execution_count": 14,
     "metadata": {},
     "output_type": "execute_result"
    }
   ],
   "source": [
    "# ANCOVA example\n",
    "pg.ancova(data=tips, dv='tip', between='sex', covar='total_bill')"
   ]
  },
  {
   "cell_type": "markdown",
   "metadata": {
    "slideshow": {
     "slide_type": "fragment"
    }
   },
   "source": [
    "Additional covariates can be specified as a list."
   ]
  },
  {
   "cell_type": "markdown",
   "metadata": {
    "slideshow": {
     "slide_type": "subslide"
    }
   },
   "source": [
    "### Post hoc multiple comparisons\n",
    "Now you know how to do any kind of research design under the sun with ANOVA in Python, the next step is to explore the follow up tests. After all, while ANOVA tells you there are significant differences, it offers no information on what those are driven by.\n",
    "\n",
    "`pingouin` offers a range of follow up tests to explore your data, but the focus here is on `pg.pairwise_ttests`, which computes t-tests between all pairwise differences of each variable level in your data. \n",
    "\n",
    "Let's take a look at a dataset with an interaction. In the `exercise` dataset, there is an interaction between `diet` and the `kind` of exercise: "
   ]
  },
  {
   "cell_type": "code",
   "execution_count": 15,
   "metadata": {
    "slideshow": {
     "slide_type": "subslide"
    }
   },
   "outputs": [
    {
     "data": {
      "text/html": [
       "<div>\n",
       "<style scoped>\n",
       "    .dataframe tbody tr th:only-of-type {\n",
       "        vertical-align: middle;\n",
       "    }\n",
       "\n",
       "    .dataframe tbody tr th {\n",
       "        vertical-align: top;\n",
       "    }\n",
       "\n",
       "    .dataframe thead th {\n",
       "        text-align: right;\n",
       "    }\n",
       "</style>\n",
       "<table border=\"1\" class=\"dataframe\">\n",
       "  <thead>\n",
       "    <tr style=\"text-align: right;\">\n",
       "      <th></th>\n",
       "      <th>Source</th>\n",
       "      <th>SS</th>\n",
       "      <th>DF</th>\n",
       "      <th>MS</th>\n",
       "      <th>F</th>\n",
       "      <th>p-unc</th>\n",
       "      <th>np2</th>\n",
       "    </tr>\n",
       "  </thead>\n",
       "  <tbody>\n",
       "    <tr>\n",
       "      <th>0</th>\n",
       "      <td>kind</td>\n",
       "      <td>8326.066667</td>\n",
       "      <td>2</td>\n",
       "      <td>4163.033333</td>\n",
       "      <td>37.824471</td>\n",
       "      <td>1.935335e-12</td>\n",
       "      <td>0.473846</td>\n",
       "    </tr>\n",
       "    <tr>\n",
       "      <th>1</th>\n",
       "      <td>diet</td>\n",
       "      <td>1261.877778</td>\n",
       "      <td>1</td>\n",
       "      <td>1261.877778</td>\n",
       "      <td>11.465164</td>\n",
       "      <td>1.080516e-03</td>\n",
       "      <td>0.120098</td>\n",
       "    </tr>\n",
       "    <tr>\n",
       "      <th>2</th>\n",
       "      <td>kind * diet</td>\n",
       "      <td>815.755556</td>\n",
       "      <td>2</td>\n",
       "      <td>407.877778</td>\n",
       "      <td>3.705894</td>\n",
       "      <td>2.868384e-02</td>\n",
       "      <td>0.081081</td>\n",
       "    </tr>\n",
       "    <tr>\n",
       "      <th>3</th>\n",
       "      <td>Residual</td>\n",
       "      <td>9245.200000</td>\n",
       "      <td>84</td>\n",
       "      <td>110.061905</td>\n",
       "      <td>NaN</td>\n",
       "      <td>NaN</td>\n",
       "      <td>NaN</td>\n",
       "    </tr>\n",
       "  </tbody>\n",
       "</table>\n",
       "</div>"
      ],
      "text/plain": [
       "        Source           SS  DF           MS          F         p-unc  \\\n",
       "0         kind  8326.066667   2  4163.033333  37.824471  1.935335e-12   \n",
       "1         diet  1261.877778   1  1261.877778  11.465164  1.080516e-03   \n",
       "2  kind * diet   815.755556   2   407.877778   3.705894  2.868384e-02   \n",
       "3     Residual  9245.200000  84   110.061905        NaN           NaN   \n",
       "\n",
       "        np2  \n",
       "0  0.473846  \n",
       "1  0.120098  \n",
       "2  0.081081  \n",
       "3       NaN  "
      ]
     },
     "metadata": {},
     "output_type": "display_data"
    }
   ],
   "source": [
    "# Examine interaction in exercise\n",
    "interaction = pg.anova(data=exercise, dv='pulse', between=['kind', 'diet'], detailed=True)\n",
    "display(interaction)"
   ]
  },
  {
   "cell_type": "markdown",
   "metadata": {
    "slideshow": {
     "slide_type": "fragment"
    }
   },
   "source": [
    "We can see the interaction is significant. How to follow this up with `pingouin` and see what is causing it? We use `pg.pairwise_ttests` like so:"
   ]
  },
  {
   "cell_type": "code",
   "execution_count": 16,
   "metadata": {
    "slideshow": {
     "slide_type": "subslide"
    }
   },
   "outputs": [
    {
     "data": {
      "text/html": [
       "<div>\n",
       "<style scoped>\n",
       "    .dataframe tbody tr th:only-of-type {\n",
       "        vertical-align: middle;\n",
       "    }\n",
       "\n",
       "    .dataframe tbody tr th {\n",
       "        vertical-align: top;\n",
       "    }\n",
       "\n",
       "    .dataframe thead th {\n",
       "        text-align: right;\n",
       "    }\n",
       "</style>\n",
       "<table border=\"1\" class=\"dataframe\">\n",
       "  <thead>\n",
       "    <tr style=\"text-align: right;\">\n",
       "      <th></th>\n",
       "      <th>Contrast</th>\n",
       "      <th>kind</th>\n",
       "      <th>A</th>\n",
       "      <th>B</th>\n",
       "      <th>Paired</th>\n",
       "      <th>Parametric</th>\n",
       "      <th>T</th>\n",
       "      <th>dof</th>\n",
       "      <th>alternative</th>\n",
       "      <th>p-unc</th>\n",
       "      <th>BF10</th>\n",
       "      <th>hedges</th>\n",
       "    </tr>\n",
       "  </thead>\n",
       "  <tbody>\n",
       "    <tr>\n",
       "      <th>0</th>\n",
       "      <td>kind</td>\n",
       "      <td>-</td>\n",
       "      <td>rest</td>\n",
       "      <td>running</td>\n",
       "      <td>False</td>\n",
       "      <td>True</td>\n",
       "      <td>-6.561162</td>\n",
       "      <td>58.0</td>\n",
       "      <td>two-sided</td>\n",
       "      <td>1.593561e-08</td>\n",
       "      <td>5.95e+05</td>\n",
       "      <td>-1.672084</td>\n",
       "    </tr>\n",
       "    <tr>\n",
       "      <th>1</th>\n",
       "      <td>kind</td>\n",
       "      <td>-</td>\n",
       "      <td>rest</td>\n",
       "      <td>walking</td>\n",
       "      <td>False</td>\n",
       "      <td>True</td>\n",
       "      <td>-2.674622</td>\n",
       "      <td>58.0</td>\n",
       "      <td>two-sided</td>\n",
       "      <td>9.704606e-03</td>\n",
       "      <td>4.824</td>\n",
       "      <td>-0.681616</td>\n",
       "    </tr>\n",
       "    <tr>\n",
       "      <th>2</th>\n",
       "      <td>kind</td>\n",
       "      <td>-</td>\n",
       "      <td>running</td>\n",
       "      <td>walking</td>\n",
       "      <td>False</td>\n",
       "      <td>True</td>\n",
       "      <td>5.183378</td>\n",
       "      <td>58.0</td>\n",
       "      <td>two-sided</td>\n",
       "      <td>2.881236e-06</td>\n",
       "      <td>5136.555</td>\n",
       "      <td>1.320961</td>\n",
       "    </tr>\n",
       "    <tr>\n",
       "      <th>3</th>\n",
       "      <td>diet</td>\n",
       "      <td>-</td>\n",
       "      <td>low fat</td>\n",
       "      <td>no fat</td>\n",
       "      <td>False</td>\n",
       "      <td>True</td>\n",
       "      <td>-2.457504</td>\n",
       "      <td>88.0</td>\n",
       "      <td>two-sided</td>\n",
       "      <td>1.595161e-02</td>\n",
       "      <td>3.0</td>\n",
       "      <td>-0.513659</td>\n",
       "    </tr>\n",
       "    <tr>\n",
       "      <th>4</th>\n",
       "      <td>kind * diet</td>\n",
       "      <td>rest</td>\n",
       "      <td>low fat</td>\n",
       "      <td>no fat</td>\n",
       "      <td>False</td>\n",
       "      <td>True</td>\n",
       "      <td>-1.434339</td>\n",
       "      <td>28.0</td>\n",
       "      <td>two-sided</td>\n",
       "      <td>1.625505e-01</td>\n",
       "      <td>0.742</td>\n",
       "      <td>-0.509591</td>\n",
       "    </tr>\n",
       "    <tr>\n",
       "      <th>5</th>\n",
       "      <td>kind * diet</td>\n",
       "      <td>running</td>\n",
       "      <td>low fat</td>\n",
       "      <td>no fat</td>\n",
       "      <td>False</td>\n",
       "      <td>True</td>\n",
       "      <td>-2.754828</td>\n",
       "      <td>28.0</td>\n",
       "      <td>two-sided</td>\n",
       "      <td>1.020405e-02</td>\n",
       "      <td>5.01</td>\n",
       "      <td>-0.978734</td>\n",
       "    </tr>\n",
       "    <tr>\n",
       "      <th>6</th>\n",
       "      <td>kind * diet</td>\n",
       "      <td>walking</td>\n",
       "      <td>low fat</td>\n",
       "      <td>no fat</td>\n",
       "      <td>False</td>\n",
       "      <td>True</td>\n",
       "      <td>-1.425097</td>\n",
       "      <td>28.0</td>\n",
       "      <td>two-sided</td>\n",
       "      <td>1.651816e-01</td>\n",
       "      <td>0.735</td>\n",
       "      <td>-0.506308</td>\n",
       "    </tr>\n",
       "  </tbody>\n",
       "</table>\n",
       "</div>"
      ],
      "text/plain": [
       "      Contrast     kind        A        B Paired  Parametric         T   dof  \\\n",
       "0         kind        -     rest  running  False        True -6.561162  58.0   \n",
       "1         kind        -     rest  walking  False        True -2.674622  58.0   \n",
       "2         kind        -  running  walking  False        True  5.183378  58.0   \n",
       "3         diet        -  low fat   no fat  False        True -2.457504  88.0   \n",
       "4  kind * diet     rest  low fat   no fat  False        True -1.434339  28.0   \n",
       "5  kind * diet  running  low fat   no fat  False        True -2.754828  28.0   \n",
       "6  kind * diet  walking  low fat   no fat  False        True -1.425097  28.0   \n",
       "\n",
       "  alternative         p-unc      BF10    hedges  \n",
       "0   two-sided  1.593561e-08  5.95e+05 -1.672084  \n",
       "1   two-sided  9.704606e-03     4.824 -0.681616  \n",
       "2   two-sided  2.881236e-06  5136.555  1.320961  \n",
       "3   two-sided  1.595161e-02       3.0 -0.513659  \n",
       "4   two-sided  1.625505e-01     0.742 -0.509591  \n",
       "5   two-sided  1.020405e-02      5.01 -0.978734  \n",
       "6   two-sided  1.651816e-01     0.735 -0.506308  "
      ]
     },
     "metadata": {},
     "output_type": "display_data"
    }
   ],
   "source": [
    "# Follow up interaction using comparisons at all levels\n",
    "comparisons = pg.pairwise_ttests(data=exercise, dv='pulse', between=['kind', 'diet'])\n",
    "display(comparisons)"
   ]
  },
  {
   "cell_type": "markdown",
   "metadata": {
    "slideshow": {
     "slide_type": "subslide"
    }
   },
   "source": [
    "We can change the keyword arguments of `effsize` and `padjust` to control the returned effect sizes and type of adjustment done, respectively - sometimes you need to adjust your alpha level for lots of tests:"
   ]
  },
  {
   "cell_type": "code",
   "execution_count": 17,
   "metadata": {
    "slideshow": {
     "slide_type": "fragment"
    }
   },
   "outputs": [
    {
     "data": {
      "text/html": [
       "<div>\n",
       "<style scoped>\n",
       "    .dataframe tbody tr th:only-of-type {\n",
       "        vertical-align: middle;\n",
       "    }\n",
       "\n",
       "    .dataframe tbody tr th {\n",
       "        vertical-align: top;\n",
       "    }\n",
       "\n",
       "    .dataframe thead th {\n",
       "        text-align: right;\n",
       "    }\n",
       "</style>\n",
       "<table border=\"1\" class=\"dataframe\">\n",
       "  <thead>\n",
       "    <tr style=\"text-align: right;\">\n",
       "      <th></th>\n",
       "      <th>Contrast</th>\n",
       "      <th>kind</th>\n",
       "      <th>A</th>\n",
       "      <th>B</th>\n",
       "      <th>Paired</th>\n",
       "      <th>Parametric</th>\n",
       "      <th>T</th>\n",
       "      <th>dof</th>\n",
       "      <th>alternative</th>\n",
       "      <th>p-unc</th>\n",
       "      <th>p-corr</th>\n",
       "      <th>p-adjust</th>\n",
       "      <th>BF10</th>\n",
       "      <th>cohen</th>\n",
       "    </tr>\n",
       "  </thead>\n",
       "  <tbody>\n",
       "    <tr>\n",
       "      <th>0</th>\n",
       "      <td>kind</td>\n",
       "      <td>-</td>\n",
       "      <td>rest</td>\n",
       "      <td>running</td>\n",
       "      <td>False</td>\n",
       "      <td>True</td>\n",
       "      <td>-6.561162</td>\n",
       "      <td>58.0</td>\n",
       "      <td>two-sided</td>\n",
       "      <td>1.593561e-08</td>\n",
       "      <td>4.780682e-08</td>\n",
       "      <td>bonf</td>\n",
       "      <td>5.95e+05</td>\n",
       "      <td>-1.694085</td>\n",
       "    </tr>\n",
       "    <tr>\n",
       "      <th>1</th>\n",
       "      <td>kind</td>\n",
       "      <td>-</td>\n",
       "      <td>rest</td>\n",
       "      <td>walking</td>\n",
       "      <td>False</td>\n",
       "      <td>True</td>\n",
       "      <td>-2.674622</td>\n",
       "      <td>58.0</td>\n",
       "      <td>two-sided</td>\n",
       "      <td>9.704606e-03</td>\n",
       "      <td>2.911382e-02</td>\n",
       "      <td>bonf</td>\n",
       "      <td>4.824</td>\n",
       "      <td>-0.690584</td>\n",
       "    </tr>\n",
       "    <tr>\n",
       "      <th>2</th>\n",
       "      <td>kind</td>\n",
       "      <td>-</td>\n",
       "      <td>running</td>\n",
       "      <td>walking</td>\n",
       "      <td>False</td>\n",
       "      <td>True</td>\n",
       "      <td>5.183378</td>\n",
       "      <td>58.0</td>\n",
       "      <td>two-sided</td>\n",
       "      <td>2.881236e-06</td>\n",
       "      <td>8.643708e-06</td>\n",
       "      <td>bonf</td>\n",
       "      <td>5136.555</td>\n",
       "      <td>1.338343</td>\n",
       "    </tr>\n",
       "    <tr>\n",
       "      <th>3</th>\n",
       "      <td>diet</td>\n",
       "      <td>-</td>\n",
       "      <td>low fat</td>\n",
       "      <td>no fat</td>\n",
       "      <td>False</td>\n",
       "      <td>True</td>\n",
       "      <td>-2.457504</td>\n",
       "      <td>88.0</td>\n",
       "      <td>two-sided</td>\n",
       "      <td>1.595161e-02</td>\n",
       "      <td>NaN</td>\n",
       "      <td>NaN</td>\n",
       "      <td>3.0</td>\n",
       "      <td>-0.518087</td>\n",
       "    </tr>\n",
       "    <tr>\n",
       "      <th>4</th>\n",
       "      <td>kind * diet</td>\n",
       "      <td>rest</td>\n",
       "      <td>low fat</td>\n",
       "      <td>no fat</td>\n",
       "      <td>False</td>\n",
       "      <td>True</td>\n",
       "      <td>-1.434339</td>\n",
       "      <td>28.0</td>\n",
       "      <td>two-sided</td>\n",
       "      <td>1.625505e-01</td>\n",
       "      <td>4.876516e-01</td>\n",
       "      <td>bonf</td>\n",
       "      <td>0.742</td>\n",
       "      <td>-0.523747</td>\n",
       "    </tr>\n",
       "    <tr>\n",
       "      <th>5</th>\n",
       "      <td>kind * diet</td>\n",
       "      <td>running</td>\n",
       "      <td>low fat</td>\n",
       "      <td>no fat</td>\n",
       "      <td>False</td>\n",
       "      <td>True</td>\n",
       "      <td>-2.754828</td>\n",
       "      <td>28.0</td>\n",
       "      <td>two-sided</td>\n",
       "      <td>1.020405e-02</td>\n",
       "      <td>3.061214e-02</td>\n",
       "      <td>bonf</td>\n",
       "      <td>5.01</td>\n",
       "      <td>-1.005921</td>\n",
       "    </tr>\n",
       "    <tr>\n",
       "      <th>6</th>\n",
       "      <td>kind * diet</td>\n",
       "      <td>walking</td>\n",
       "      <td>low fat</td>\n",
       "      <td>no fat</td>\n",
       "      <td>False</td>\n",
       "      <td>True</td>\n",
       "      <td>-1.425097</td>\n",
       "      <td>28.0</td>\n",
       "      <td>two-sided</td>\n",
       "      <td>1.651816e-01</td>\n",
       "      <td>4.955448e-01</td>\n",
       "      <td>bonf</td>\n",
       "      <td>0.735</td>\n",
       "      <td>-0.520372</td>\n",
       "    </tr>\n",
       "  </tbody>\n",
       "</table>\n",
       "</div>"
      ],
      "text/plain": [
       "      Contrast     kind        A        B Paired  Parametric         T   dof  \\\n",
       "0         kind        -     rest  running  False        True -6.561162  58.0   \n",
       "1         kind        -     rest  walking  False        True -2.674622  58.0   \n",
       "2         kind        -  running  walking  False        True  5.183378  58.0   \n",
       "3         diet        -  low fat   no fat  False        True -2.457504  88.0   \n",
       "4  kind * diet     rest  low fat   no fat  False        True -1.434339  28.0   \n",
       "5  kind * diet  running  low fat   no fat  False        True -2.754828  28.0   \n",
       "6  kind * diet  walking  low fat   no fat  False        True -1.425097  28.0   \n",
       "\n",
       "  alternative         p-unc        p-corr p-adjust      BF10     cohen  \n",
       "0   two-sided  1.593561e-08  4.780682e-08     bonf  5.95e+05 -1.694085  \n",
       "1   two-sided  9.704606e-03  2.911382e-02     bonf     4.824 -0.690584  \n",
       "2   two-sided  2.881236e-06  8.643708e-06     bonf  5136.555  1.338343  \n",
       "3   two-sided  1.595161e-02           NaN      NaN       3.0 -0.518087  \n",
       "4   two-sided  1.625505e-01  4.876516e-01     bonf     0.742 -0.523747  \n",
       "5   two-sided  1.020405e-02  3.061214e-02     bonf      5.01 -1.005921  \n",
       "6   two-sided  1.651816e-01  4.955448e-01     bonf     0.735 -0.520372  "
      ]
     },
     "metadata": {},
     "output_type": "display_data"
    }
   ],
   "source": [
    "# More flexible use of function\n",
    "pairs_bonf_cohen = pg.pairwise_ttests(data=exercise, dv='pulse', between=['kind', 'diet'], \n",
    "                                      padjust='bonf', effsize='cohen')\n",
    "\n",
    "display(pairs_bonf_cohen)"
   ]
  },
  {
   "cell_type": "markdown",
   "metadata": {
    "slideshow": {
     "slide_type": "subslide"
    }
   },
   "source": [
    "There are lots of additional flexible ways the function works - it can handle the case of one way and two ANOVAs and mixed ANOVAs, just by specifying what variables should be `between` and `within`. Remember to choose the appropriate level of adjustment and effect size that suits your needs - but with this function, you can explore interactions in sufficient detail."
   ]
  },
  {
   "cell_type": "markdown",
   "metadata": {
    "slideshow": {
     "slide_type": "subslide"
    }
   },
   "source": [
    "### Linear regression\n",
    "The final statistical test that is common in psychology is linear regression, where a continuous outcome variable (such as age, or height) is predicted by other continuous variables (e.g. weight). Regression is among the most flexible of all analysis types - in fact, ANOVA is just a special case of regression. \n",
    "\n",
    "Linear regression is handled by the `pg.linear_regression()` function. It returns somewhat different output than the ANOVA function, containing information regarding the beta values of the regression (how much the dependent variable changes if the associated predictor increases by one unit), their p-values, and some information about the overall model fit.\n",
    "\n",
    "In the following example, we attempt to build a linear model to predict the amount of loss suffered by an insurance company in a given car crash, based on the insurance premium of the driver, their alcohol consumption, and their speed at the time of the crash. This data is stored in the `car_crashes` dataset of `seaborn`."
   ]
  },
  {
   "cell_type": "code",
   "execution_count": 18,
   "metadata": {
    "slideshow": {
     "slide_type": "subslide"
    }
   },
   "outputs": [
    {
     "data": {
      "text/html": [
       "<div>\n",
       "<style scoped>\n",
       "    .dataframe tbody tr th:only-of-type {\n",
       "        vertical-align: middle;\n",
       "    }\n",
       "\n",
       "    .dataframe tbody tr th {\n",
       "        vertical-align: top;\n",
       "    }\n",
       "\n",
       "    .dataframe thead th {\n",
       "        text-align: right;\n",
       "    }\n",
       "</style>\n",
       "<table border=\"1\" class=\"dataframe\">\n",
       "  <thead>\n",
       "    <tr style=\"text-align: right;\">\n",
       "      <th></th>\n",
       "      <th>total</th>\n",
       "      <th>speeding</th>\n",
       "      <th>alcohol</th>\n",
       "      <th>not_distracted</th>\n",
       "      <th>no_previous</th>\n",
       "      <th>ins_premium</th>\n",
       "      <th>ins_losses</th>\n",
       "      <th>abbrev</th>\n",
       "    </tr>\n",
       "  </thead>\n",
       "  <tbody>\n",
       "    <tr>\n",
       "      <th>0</th>\n",
       "      <td>18.8</td>\n",
       "      <td>7.332</td>\n",
       "      <td>5.640</td>\n",
       "      <td>18.048</td>\n",
       "      <td>15.040</td>\n",
       "      <td>784.55</td>\n",
       "      <td>145.08</td>\n",
       "      <td>AL</td>\n",
       "    </tr>\n",
       "    <tr>\n",
       "      <th>1</th>\n",
       "      <td>18.1</td>\n",
       "      <td>7.421</td>\n",
       "      <td>4.525</td>\n",
       "      <td>16.290</td>\n",
       "      <td>17.014</td>\n",
       "      <td>1053.48</td>\n",
       "      <td>133.93</td>\n",
       "      <td>AK</td>\n",
       "    </tr>\n",
       "    <tr>\n",
       "      <th>2</th>\n",
       "      <td>18.6</td>\n",
       "      <td>6.510</td>\n",
       "      <td>5.208</td>\n",
       "      <td>15.624</td>\n",
       "      <td>17.856</td>\n",
       "      <td>899.47</td>\n",
       "      <td>110.35</td>\n",
       "      <td>AZ</td>\n",
       "    </tr>\n",
       "    <tr>\n",
       "      <th>3</th>\n",
       "      <td>22.4</td>\n",
       "      <td>4.032</td>\n",
       "      <td>5.824</td>\n",
       "      <td>21.056</td>\n",
       "      <td>21.280</td>\n",
       "      <td>827.34</td>\n",
       "      <td>142.39</td>\n",
       "      <td>AR</td>\n",
       "    </tr>\n",
       "    <tr>\n",
       "      <th>4</th>\n",
       "      <td>12.0</td>\n",
       "      <td>4.200</td>\n",
       "      <td>3.360</td>\n",
       "      <td>10.920</td>\n",
       "      <td>10.680</td>\n",
       "      <td>878.41</td>\n",
       "      <td>165.63</td>\n",
       "      <td>CA</td>\n",
       "    </tr>\n",
       "  </tbody>\n",
       "</table>\n",
       "</div>"
      ],
      "text/plain": [
       "   total  speeding  alcohol  not_distracted  no_previous  ins_premium  \\\n",
       "0   18.8     7.332    5.640          18.048       15.040       784.55   \n",
       "1   18.1     7.421    4.525          16.290       17.014      1053.48   \n",
       "2   18.6     6.510    5.208          15.624       17.856       899.47   \n",
       "3   22.4     4.032    5.824          21.056       21.280       827.34   \n",
       "4   12.0     4.200    3.360          10.920       10.680       878.41   \n",
       "\n",
       "   ins_losses abbrev  \n",
       "0      145.08     AL  \n",
       "1      133.93     AK  \n",
       "2      110.35     AZ  \n",
       "3      142.39     AR  \n",
       "4      165.63     CA  "
      ]
     },
     "metadata": {},
     "output_type": "display_data"
    }
   ],
   "source": [
    "# Load dataset\n",
    "crash = sns.load_dataset('car_crashes')\n",
    "display(crash.head())"
   ]
  },
  {
   "cell_type": "code",
   "execution_count": 19,
   "metadata": {
    "slideshow": {
     "slide_type": "subslide"
    }
   },
   "outputs": [
    {
     "data": {
      "text/html": [
       "<div>\n",
       "<style scoped>\n",
       "    .dataframe tbody tr th:only-of-type {\n",
       "        vertical-align: middle;\n",
       "    }\n",
       "\n",
       "    .dataframe tbody tr th {\n",
       "        vertical-align: top;\n",
       "    }\n",
       "\n",
       "    .dataframe thead th {\n",
       "        text-align: right;\n",
       "    }\n",
       "</style>\n",
       "<table border=\"1\" class=\"dataframe\">\n",
       "  <thead>\n",
       "    <tr style=\"text-align: right;\">\n",
       "      <th></th>\n",
       "      <th>names</th>\n",
       "      <th>coef</th>\n",
       "      <th>se</th>\n",
       "      <th>T</th>\n",
       "      <th>pval</th>\n",
       "      <th>r2</th>\n",
       "      <th>adj_r2</th>\n",
       "      <th>CI[2.5%]</th>\n",
       "      <th>CI[97.5%]</th>\n",
       "    </tr>\n",
       "  </thead>\n",
       "  <tbody>\n",
       "    <tr>\n",
       "      <th>0</th>\n",
       "      <td>Intercept</td>\n",
       "      <td>58.321239</td>\n",
       "      <td>17.891849</td>\n",
       "      <td>3.259654</td>\n",
       "      <td>0.002078</td>\n",
       "      <td>0.388636</td>\n",
       "      <td>0.349613</td>\n",
       "      <td>22.327480</td>\n",
       "      <td>94.314997</td>\n",
       "    </tr>\n",
       "    <tr>\n",
       "      <th>1</th>\n",
       "      <td>speeding</td>\n",
       "      <td>-0.297846</td>\n",
       "      <td>1.892755</td>\n",
       "      <td>-0.157361</td>\n",
       "      <td>0.875634</td>\n",
       "      <td>0.388636</td>\n",
       "      <td>0.349613</td>\n",
       "      <td>-4.105578</td>\n",
       "      <td>3.509885</td>\n",
       "    </tr>\n",
       "    <tr>\n",
       "      <th>2</th>\n",
       "      <td>alcohol</td>\n",
       "      <td>0.142754</td>\n",
       "      <td>2.234772</td>\n",
       "      <td>0.063878</td>\n",
       "      <td>0.949338</td>\n",
       "      <td>0.388636</td>\n",
       "      <td>0.349613</td>\n",
       "      <td>-4.353028</td>\n",
       "      <td>4.638535</td>\n",
       "    </tr>\n",
       "    <tr>\n",
       "      <th>3</th>\n",
       "      <td>ins_premium</td>\n",
       "      <td>0.086772</td>\n",
       "      <td>0.016143</td>\n",
       "      <td>5.375042</td>\n",
       "      <td>0.000002</td>\n",
       "      <td>0.388636</td>\n",
       "      <td>0.349613</td>\n",
       "      <td>0.054295</td>\n",
       "      <td>0.119248</td>\n",
       "    </tr>\n",
       "  </tbody>\n",
       "</table>\n",
       "</div>"
      ],
      "text/plain": [
       "         names       coef         se         T      pval        r2    adj_r2  \\\n",
       "0    Intercept  58.321239  17.891849  3.259654  0.002078  0.388636  0.349613   \n",
       "1     speeding  -0.297846   1.892755 -0.157361  0.875634  0.388636  0.349613   \n",
       "2      alcohol   0.142754   2.234772  0.063878  0.949338  0.388636  0.349613   \n",
       "3  ins_premium   0.086772   0.016143  5.375042  0.000002  0.388636  0.349613   \n",
       "\n",
       "    CI[2.5%]  CI[97.5%]  \n",
       "0  22.327480  94.314997  \n",
       "1  -4.105578   3.509885  \n",
       "2  -4.353028   4.638535  \n",
       "3   0.054295   0.119248  "
      ]
     },
     "metadata": {},
     "output_type": "display_data"
    }
   ],
   "source": [
    "# Perform linear regression\n",
    "lin_reg = pg.linear_regression(crash[['speeding', 'alcohol', 'ins_premium']], crash['ins_losses'])\n",
    "display(lin_reg)"
   ]
  },
  {
   "cell_type": "markdown",
   "metadata": {
    "slideshow": {
     "slide_type": "fragment"
    }
   },
   "source": [
    "Unlike SPSS, there is no overall model fit returned by `pingouin`. However, each predictor is returned with an associated coefficient and p value, and t value. The overall $R^2$ of the model is also returned. By default the function will add an intercept to the model via the `add_intercept` keyword - if you centre your variables by subtracting the mean from each (easily achieved in Pandas!) then you should set that to False."
   ]
  },
  {
   "cell_type": "markdown",
   "metadata": {},
   "source": [
    "### Power Analysis\n",
    "Power - the probability that a statistical test tell you there is a result when there *is indeed a result*, can be calculated in a closed-form way (i.e. without the use of simulations) for some basic tests. `pingouin` has some great functionality for this. For example, calculating the sample size needed for a correlation of .10, an alpha of .025, and power of .90, is easy:"
   ]
  },
  {
   "cell_type": "code",
   "execution_count": 20,
   "metadata": {},
   "outputs": [
    {
     "data": {
      "text/plain": [
       "1235.0573893376597"
      ]
     },
     "execution_count": 20,
     "metadata": {},
     "output_type": "execute_result"
    }
   ],
   "source": [
    "# Correlation power\n",
    "pg.power_corr(r=.10, alpha=.025, power=.90)"
   ]
  },
  {
   "cell_type": "markdown",
   "metadata": {},
   "source": [
    "Ouch. \n",
    "\n",
    "There are a number of other power functions, as well as effect size estimator functions that can convert existing effect sizes (e.g. Cohen's d) into others, or compute effect sizes from summary statistics in published papers (such as *t* or *F* values).\n",
    "\n",
    "### Reliability and beyond\n",
    "There is also the capability to estimate statistics of measurement reliability, such as the intra-class correlation or Cronbach's alpha. Intraclass correlation is shown below, using the `wine` dataset from `pingouin`:"
   ]
  },
  {
   "cell_type": "code",
   "execution_count": 21,
   "metadata": {},
   "outputs": [
    {
     "data": {
      "text/html": [
       "<div>\n",
       "<style scoped>\n",
       "    .dataframe tbody tr th:only-of-type {\n",
       "        vertical-align: middle;\n",
       "    }\n",
       "\n",
       "    .dataframe tbody tr th {\n",
       "        vertical-align: top;\n",
       "    }\n",
       "\n",
       "    .dataframe thead th {\n",
       "        text-align: right;\n",
       "    }\n",
       "</style>\n",
       "<table border=\"1\" class=\"dataframe\">\n",
       "  <thead>\n",
       "    <tr style=\"text-align: right;\">\n",
       "      <th></th>\n",
       "      <th>Wine</th>\n",
       "      <th>Judge</th>\n",
       "      <th>Scores</th>\n",
       "    </tr>\n",
       "  </thead>\n",
       "  <tbody>\n",
       "    <tr>\n",
       "      <th>0</th>\n",
       "      <td>1</td>\n",
       "      <td>A</td>\n",
       "      <td>1</td>\n",
       "    </tr>\n",
       "    <tr>\n",
       "      <th>1</th>\n",
       "      <td>2</td>\n",
       "      <td>A</td>\n",
       "      <td>1</td>\n",
       "    </tr>\n",
       "    <tr>\n",
       "      <th>2</th>\n",
       "      <td>3</td>\n",
       "      <td>A</td>\n",
       "      <td>3</td>\n",
       "    </tr>\n",
       "    <tr>\n",
       "      <th>3</th>\n",
       "      <td>4</td>\n",
       "      <td>A</td>\n",
       "      <td>6</td>\n",
       "    </tr>\n",
       "    <tr>\n",
       "      <th>4</th>\n",
       "      <td>5</td>\n",
       "      <td>A</td>\n",
       "      <td>6</td>\n",
       "    </tr>\n",
       "  </tbody>\n",
       "</table>\n",
       "</div>"
      ],
      "text/plain": [
       "   Wine Judge  Scores\n",
       "0     1     A       1\n",
       "1     2     A       1\n",
       "2     3     A       3\n",
       "3     4     A       6\n",
       "4     5     A       6"
      ]
     },
     "metadata": {},
     "output_type": "display_data"
    },
    {
     "data": {
      "text/html": [
       "<div>\n",
       "<style scoped>\n",
       "    .dataframe tbody tr th:only-of-type {\n",
       "        vertical-align: middle;\n",
       "    }\n",
       "\n",
       "    .dataframe tbody tr th {\n",
       "        vertical-align: top;\n",
       "    }\n",
       "\n",
       "    .dataframe thead th {\n",
       "        text-align: right;\n",
       "    }\n",
       "</style>\n",
       "<table border=\"1\" class=\"dataframe\">\n",
       "  <thead>\n",
       "    <tr style=\"text-align: right;\">\n",
       "      <th></th>\n",
       "      <th>Type</th>\n",
       "      <th>Description</th>\n",
       "      <th>ICC</th>\n",
       "      <th>F</th>\n",
       "      <th>df1</th>\n",
       "      <th>df2</th>\n",
       "      <th>pval</th>\n",
       "      <th>CI95%</th>\n",
       "    </tr>\n",
       "  </thead>\n",
       "  <tbody>\n",
       "    <tr>\n",
       "      <th>0</th>\n",
       "      <td>ICC1</td>\n",
       "      <td>Single raters absolute</td>\n",
       "      <td>0.727521</td>\n",
       "      <td>11.680026</td>\n",
       "      <td>7</td>\n",
       "      <td>24</td>\n",
       "      <td>0.000002</td>\n",
       "      <td>[0.43, 0.93]</td>\n",
       "    </tr>\n",
       "    <tr>\n",
       "      <th>1</th>\n",
       "      <td>ICC2</td>\n",
       "      <td>Single random raters</td>\n",
       "      <td>0.727689</td>\n",
       "      <td>11.786693</td>\n",
       "      <td>7</td>\n",
       "      <td>21</td>\n",
       "      <td>0.000005</td>\n",
       "      <td>[0.43, 0.93]</td>\n",
       "    </tr>\n",
       "    <tr>\n",
       "      <th>2</th>\n",
       "      <td>ICC3</td>\n",
       "      <td>Single fixed raters</td>\n",
       "      <td>0.729487</td>\n",
       "      <td>11.786693</td>\n",
       "      <td>7</td>\n",
       "      <td>21</td>\n",
       "      <td>0.000005</td>\n",
       "      <td>[0.43, 0.93]</td>\n",
       "    </tr>\n",
       "    <tr>\n",
       "      <th>3</th>\n",
       "      <td>ICC1k</td>\n",
       "      <td>Average raters absolute</td>\n",
       "      <td>0.914384</td>\n",
       "      <td>11.680026</td>\n",
       "      <td>7</td>\n",
       "      <td>24</td>\n",
       "      <td>0.000002</td>\n",
       "      <td>[0.75, 0.98]</td>\n",
       "    </tr>\n",
       "    <tr>\n",
       "      <th>4</th>\n",
       "      <td>ICC2k</td>\n",
       "      <td>Average random raters</td>\n",
       "      <td>0.914450</td>\n",
       "      <td>11.786693</td>\n",
       "      <td>7</td>\n",
       "      <td>21</td>\n",
       "      <td>0.000005</td>\n",
       "      <td>[0.75, 0.98]</td>\n",
       "    </tr>\n",
       "    <tr>\n",
       "      <th>5</th>\n",
       "      <td>ICC3k</td>\n",
       "      <td>Average fixed raters</td>\n",
       "      <td>0.915159</td>\n",
       "      <td>11.786693</td>\n",
       "      <td>7</td>\n",
       "      <td>21</td>\n",
       "      <td>0.000005</td>\n",
       "      <td>[0.75, 0.98]</td>\n",
       "    </tr>\n",
       "  </tbody>\n",
       "</table>\n",
       "</div>"
      ],
      "text/plain": [
       "    Type              Description       ICC          F  df1  df2      pval  \\\n",
       "0   ICC1   Single raters absolute  0.727521  11.680026    7   24  0.000002   \n",
       "1   ICC2     Single random raters  0.727689  11.786693    7   21  0.000005   \n",
       "2   ICC3      Single fixed raters  0.729487  11.786693    7   21  0.000005   \n",
       "3  ICC1k  Average raters absolute  0.914384  11.680026    7   24  0.000002   \n",
       "4  ICC2k    Average random raters  0.914450  11.786693    7   21  0.000005   \n",
       "5  ICC3k     Average fixed raters  0.915159  11.786693    7   21  0.000005   \n",
       "\n",
       "          CI95%  \n",
       "0  [0.43, 0.93]  \n",
       "1  [0.43, 0.93]  \n",
       "2  [0.43, 0.93]  \n",
       "3  [0.75, 0.98]  \n",
       "4  [0.75, 0.98]  \n",
       "5  [0.75, 0.98]  "
      ]
     },
     "execution_count": 21,
     "metadata": {},
     "output_type": "execute_result"
    }
   ],
   "source": [
    "# Read wine from pingouin\n",
    "wine = pg.read_dataset('icc')\n",
    "display(wine.head())\n",
    "\n",
    "# Compute intra-class correlation within judges on their wine scores\n",
    "pg.intraclass_corr(data=wine, targets='Wine', \n",
    "                   raters='Judge',\n",
    "                   ratings='Scores')"
   ]
  },
  {
   "cell_type": "markdown",
   "metadata": {},
   "source": [
    "In most cases, classical statistical techniques are handled exceptionally well in `pingouin`, and there is a huge range of functionality of more advanced tasks (power, repeated measures correlations, etc), and even statistical plotting functions. However, when things are limited, there are other options..."
   ]
  }
 ],
 "metadata": {
  "celltoolbar": "Slideshow",
  "kernelspec": {
   "display_name": "Python 3 (ipykernel)",
   "language": "python",
   "name": "python3"
  },
  "language_info": {
   "codemirror_mode": {
    "name": "ipython",
    "version": 3
   },
   "file_extension": ".py",
   "mimetype": "text/x-python",
   "name": "python",
   "nbconvert_exporter": "python",
   "pygments_lexer": "ipython3",
   "version": "3.10.4"
  }
 },
 "nbformat": 4,
 "nbformat_minor": 4
}
