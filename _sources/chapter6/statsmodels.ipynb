{
 "cells": [
  {
   "cell_type": "markdown",
   "id": "acb0329b-c7ca-4bfe-979f-9bd7c448def2",
   "metadata": {
    "slideshow": {
     "slide_type": "slide"
    }
   },
   "source": [
    "## Statistics with `statsmodels` and `scipy.stats`\n",
    "\n",
    "Python has two mature and powerful packages for statistical inference that are general in nature - `scipy` and `statsmodels`. In fact, `pingouin` relies pretty much entirely on these packages for behind-the-scenes computation. Nothing beats diving into the details, so this section will take a close look at these packages.\n",
    "\n",
    "- `statsmodels` allows users to fit a wide range of general and generalized linear models, random effects models, general additive models, and more. Often, one can fit these models using a \"formula\" style syntax that is inspired by `R`. As your statistical knowledge and comfort grows, you will want to progress to using this module as it is fully flexible - for example, it can estimate ordinal or Poisson regression models, which `pingouin` cannot. I find I use `statsmodels` daily.\n",
    "\n",
    "- `scipy`, and in particular its `.stats` submodule, contain a range of useful statistical functions like `zscore`, `pearsonr`, and many more, as well as carrying a range of statistical distributions that allow you to estimate the probability of data in a clean and straightforward way. \n",
    "\n",
    "We will examine `statsmodels` in some detail here, in particular the workhorse of statistical inference - **ordinary least squares**, which is heavily used in psychology and beyond to estimate linear models."
   ]
  },
  {
   "cell_type": "markdown",
   "id": "06c57dca-65f8-4d3d-8b80-fc58769adfb9",
   "metadata": {
    "slideshow": {
     "slide_type": "subslide"
    }
   },
   "source": [
    "### statsmodels - introduction to ordinary least squares and the formula interface\n",
    "Ordinary least squares fits a line to data - a so-called *linear model*. The slope and intercepts of those lines can be use to make inferences about the relationship between variables.\n",
    "\n",
    "`statsmodels` allows you to specify those relationships with a **formula string**. The formula interface to `statsmodels` is imported as `smf`. An example will make things clearer, using the `crash` dataset from the previous example. Lets load up the usual packages in addition to `statsmodels`."
   ]
  },
  {
   "cell_type": "code",
   "execution_count": 1,
   "id": "d3cb628a-a64a-42f3-88ff-4122a5a9399f",
   "metadata": {},
   "outputs": [],
   "source": [
    "import numpy as np\n",
    "import pandas as pd\n",
    "import pingouin as pg\n",
    "import matplotlib.pyplot as plt\n",
    "import seaborn as sns\n",
    "import statsmodels.formula.api as smf # the formula interface of statsmodels\n",
    "\n",
    "crash = sns.load_dataset('car_crashes')"
   ]
  },
  {
   "cell_type": "code",
   "execution_count": 2,
   "id": "1e563ab7-600c-43a3-b33f-1ab31a1ff241",
   "metadata": {
    "slideshow": {
     "slide_type": "subslide"
    }
   },
   "outputs": [],
   "source": [
    "# Lets say we want to predict ins_losses from speeding, alcohol, and ins_premium\n",
    "formula = 'ins_losses ~ 1 + speeding + alcohol + ins_premium'"
   ]
  },
  {
   "cell_type": "markdown",
   "id": "e65092cf-8c76-49fa-be75-c31bf0c57715",
   "metadata": {
    "slideshow": {
     "slide_type": "fragment"
    }
   },
   "source": [
    "This formula specifies that we predicting `ins_losses` from the additive model of `speeding`, `alcohol`, and `ins_premium` variables. Starting the formula a '1 +' simply means to compute a intercept. To build this model, we first need to pass it to the `ols` class from `statsmodels` and give it the associated data, and store it in a variable. Then, we need to call the `.fit()` method on this model - this will actually carry out the maths behind regression. Its easy to do this in one step. Once done, we can access the `.summary()` method and look at the model. `statsmodels` produces an in-depth output that contains all the data we need for analysis - particularly the coefficients, $R^2$, $F$ values, and degrees of freedom."
   ]
  },
  {
   "cell_type": "code",
   "execution_count": 3,
   "id": "eebf81b4-2e8c-414c-a75d-a1741e739402",
   "metadata": {
    "slideshow": {
     "slide_type": "subslide"
    }
   },
   "outputs": [
    {
     "data": {
      "text/html": [
       "<table class=\"simpletable\">\n",
       "<caption>OLS Regression Results</caption>\n",
       "<tr>\n",
       "  <th>Dep. Variable:</th>       <td>ins_losses</td>    <th>  R-squared:         </th> <td>   0.389</td>\n",
       "</tr>\n",
       "<tr>\n",
       "  <th>Model:</th>                   <td>OLS</td>       <th>  Adj. R-squared:    </th> <td>   0.350</td>\n",
       "</tr>\n",
       "<tr>\n",
       "  <th>Method:</th>             <td>Least Squares</td>  <th>  F-statistic:       </th> <td>   9.959</td>\n",
       "</tr>\n",
       "<tr>\n",
       "  <th>Date:</th>             <td>Thu, 23 Jun 2022</td> <th>  Prob (F-statistic):</th> <td>3.40e-05</td>\n",
       "</tr>\n",
       "<tr>\n",
       "  <th>Time:</th>                 <td>01:07:26</td>     <th>  Log-Likelihood:    </th> <td> -223.14</td>\n",
       "</tr>\n",
       "<tr>\n",
       "  <th>No. Observations:</th>      <td>    51</td>      <th>  AIC:               </th> <td>   454.3</td>\n",
       "</tr>\n",
       "<tr>\n",
       "  <th>Df Residuals:</th>          <td>    47</td>      <th>  BIC:               </th> <td>   462.0</td>\n",
       "</tr>\n",
       "<tr>\n",
       "  <th>Df Model:</th>              <td>     3</td>      <th>                     </th>     <td> </td>   \n",
       "</tr>\n",
       "<tr>\n",
       "  <th>Covariance Type:</th>      <td>nonrobust</td>    <th>                     </th>     <td> </td>   \n",
       "</tr>\n",
       "</table>\n",
       "<table class=\"simpletable\">\n",
       "<tr>\n",
       "       <td></td>          <th>coef</th>     <th>std err</th>      <th>t</th>      <th>P>|t|</th>  <th>[0.025</th>    <th>0.975]</th>  \n",
       "</tr>\n",
       "<tr>\n",
       "  <th>Intercept</th>   <td>   58.3212</td> <td>   17.892</td> <td>    3.260</td> <td> 0.002</td> <td>   22.327</td> <td>   94.315</td>\n",
       "</tr>\n",
       "<tr>\n",
       "  <th>speeding</th>    <td>   -0.2978</td> <td>    1.893</td> <td>   -0.157</td> <td> 0.876</td> <td>   -4.106</td> <td>    3.510</td>\n",
       "</tr>\n",
       "<tr>\n",
       "  <th>alcohol</th>     <td>    0.1428</td> <td>    2.235</td> <td>    0.064</td> <td> 0.949</td> <td>   -4.353</td> <td>    4.639</td>\n",
       "</tr>\n",
       "<tr>\n",
       "  <th>ins_premium</th> <td>    0.0868</td> <td>    0.016</td> <td>    5.375</td> <td> 0.000</td> <td>    0.054</td> <td>    0.119</td>\n",
       "</tr>\n",
       "</table>\n",
       "<table class=\"simpletable\">\n",
       "<tr>\n",
       "  <th>Omnibus:</th>       <td> 0.929</td> <th>  Durbin-Watson:     </th> <td>   2.253</td>\n",
       "</tr>\n",
       "<tr>\n",
       "  <th>Prob(Omnibus):</th> <td> 0.629</td> <th>  Jarque-Bera (JB):  </th> <td>   0.953</td>\n",
       "</tr>\n",
       "<tr>\n",
       "  <th>Skew:</th>          <td> 0.297</td> <th>  Prob(JB):          </th> <td>   0.621</td>\n",
       "</tr>\n",
       "<tr>\n",
       "  <th>Kurtosis:</th>      <td> 2.689</td> <th>  Cond. No.          </th> <td>5.78e+03</td>\n",
       "</tr>\n",
       "</table><br/><br/>Notes:<br/>[1] Standard Errors assume that the covariance matrix of the errors is correctly specified.<br/>[2] The condition number is large, 5.78e+03. This might indicate that there are<br/>strong multicollinearity or other numerical problems."
      ],
      "text/plain": [
       "<class 'statsmodels.iolib.summary.Summary'>\n",
       "\"\"\"\n",
       "                            OLS Regression Results                            \n",
       "==============================================================================\n",
       "Dep. Variable:             ins_losses   R-squared:                       0.389\n",
       "Model:                            OLS   Adj. R-squared:                  0.350\n",
       "Method:                 Least Squares   F-statistic:                     9.959\n",
       "Date:                Thu, 23 Jun 2022   Prob (F-statistic):           3.40e-05\n",
       "Time:                        01:07:26   Log-Likelihood:                -223.14\n",
       "No. Observations:                  51   AIC:                             454.3\n",
       "Df Residuals:                      47   BIC:                             462.0\n",
       "Df Model:                           3                                         \n",
       "Covariance Type:            nonrobust                                         \n",
       "===============================================================================\n",
       "                  coef    std err          t      P>|t|      [0.025      0.975]\n",
       "-------------------------------------------------------------------------------\n",
       "Intercept      58.3212     17.892      3.260      0.002      22.327      94.315\n",
       "speeding       -0.2978      1.893     -0.157      0.876      -4.106       3.510\n",
       "alcohol         0.1428      2.235      0.064      0.949      -4.353       4.639\n",
       "ins_premium     0.0868      0.016      5.375      0.000       0.054       0.119\n",
       "==============================================================================\n",
       "Omnibus:                        0.929   Durbin-Watson:                   2.253\n",
       "Prob(Omnibus):                  0.629   Jarque-Bera (JB):                0.953\n",
       "Skew:                           0.297   Prob(JB):                        0.621\n",
       "Kurtosis:                       2.689   Cond. No.                     5.78e+03\n",
       "==============================================================================\n",
       "\n",
       "Notes:\n",
       "[1] Standard Errors assume that the covariance matrix of the errors is correctly specified.\n",
       "[2] The condition number is large, 5.78e+03. This might indicate that there are\n",
       "strong multicollinearity or other numerical problems.\n",
       "\"\"\""
      ]
     },
     "execution_count": 3,
     "metadata": {},
     "output_type": "execute_result"
    }
   ],
   "source": [
    "# Build a model and fit it at the same time.\n",
    "model = smf.ols(formula, data=crash).fit()\n",
    "\n",
    "# Examine the results\n",
    "model.summary()"
   ]
  },
  {
   "cell_type": "markdown",
   "id": "d8c4f236-c971-4b01-bf5d-d28d0580f89e",
   "metadata": {
    "slideshow": {
     "slide_type": "fragment"
    }
   },
   "source": [
    "`statsmodels` produces an in-depth output that contains all the data we need for analysis - particularly the coefficients, $R^2$, $F$ values, and degrees of freedom, as well as other kinds of model fit such as $AIC$ - Akaike's Information Criterion, as well as $BIC$, the Bayesian Information Criterion."
   ]
  },
  {
   "cell_type": "markdown",
   "id": "1492188b-fb86-42dc-a5b2-392c5932f302",
   "metadata": {},
   "source": [
    "#### The `ResultsWrapper` object\n",
    "A fitted regression model, like the `model` variable above, is a special type of object from `statsmodels` called a `ResultsWrapper`:"
   ]
  },
  {
   "cell_type": "code",
   "execution_count": 4,
   "id": "c5ec68ab-ee78-4fae-b595-ce871529bf1f",
   "metadata": {},
   "outputs": [
    {
     "data": {
      "text/plain": [
       "statsmodels.regression.linear_model.RegressionResultsWrapper"
      ]
     },
     "execution_count": 4,
     "metadata": {},
     "output_type": "execute_result"
    }
   ],
   "source": [
    "type(model)"
   ]
  },
  {
   "cell_type": "markdown",
   "id": "e1be0749-f429-4e94-a577-7d194410a905",
   "metadata": {},
   "source": [
    "This object has a range of extremely useful attributes. For example, it contains the `.fittedvalues` and `.resid` attributes, which are the predicted values, and residuals (observed - predicted), respectively. Both are stored as `pandas` `Series` objects (one-dimensional DataFrames)."
   ]
  },
  {
   "cell_type": "code",
   "execution_count": 5,
   "id": "8b3c37a0-d26a-4062-b05b-499297bcaa0b",
   "metadata": {},
   "outputs": [
    {
     "data": {
      "text/plain": [
       "0    125.019442\n",
       "1    148.169326\n",
       "2    135.174427\n",
       "3    129.741571\n",
       "4    133.771227\n",
       "dtype: float64"
      ]
     },
     "metadata": {},
     "output_type": "display_data"
    },
    {
     "data": {
      "text/plain": [
       "0    20.060558\n",
       "1   -14.239326\n",
       "2   -24.824427\n",
       "3    12.648429\n",
       "4    31.858773\n",
       "dtype: float64"
      ]
     },
     "metadata": {},
     "output_type": "display_data"
    }
   ],
   "source": [
    "# Get predicted\n",
    "display(model.fittedvalues.head())\n",
    "\n",
    "# Get errors\n",
    "display(model.resid.head())"
   ]
  },
  {
   "cell_type": "markdown",
   "id": "024be90a-fe06-4a15-afc0-bab00e04b24c",
   "metadata": {},
   "source": [
    "This makes it very easy to check model assumptions graphically:"
   ]
  },
  {
   "cell_type": "code",
   "execution_count": 6,
   "id": "7b5a4c42-b3a4-431a-be81-58e7d8dc8ac2",
   "metadata": {},
   "outputs": [
    {
     "data": {
      "text/plain": [
       "<matplotlib.lines.Line2D at 0x134701d80>"
      ]
     },
     "execution_count": 6,
     "metadata": {},
     "output_type": "execute_result"
    },
    {
     "data": {
      "image/png": "[encoded data removed]",
      "text/plain": [
       "<Figure size 432x288 with 1 Axes>"
      ]
     },
     "metadata": {
      "needs_background": "light"
     },
     "output_type": "display_data"
    }
   ],
   "source": [
    "# Check residual plot of errors against predictions\n",
    "plot = sns.scatterplot(x=model.fittedvalues, y=model.resid)\n",
    "plot.axhline(0)"
   ]
  },
  {
   "cell_type": "markdown",
   "id": "53619b9a-057b-4e54-b63b-cd93fe90246e",
   "metadata": {},
   "source": [
    "The `ResultsWrapper` contains a range of other useful attributes and methods, including robust covariances and tests for linear parameter contrasts. For example, we can test whether the `alcohol` coefficient is different from .10, and whether the `ins_premium` and `alcohol` coefficients are significantly different, using the `.t_test` method, as well as a formula string describing our tests:"
   ]
  },
  {
   "cell_type": "code",
   "execution_count": 7,
   "id": "9f43a0f9-9e25-49a8-b44a-bf4160274ae2",
   "metadata": {},
   "outputs": [
    {
     "data": {
      "text/plain": [
       "<class 'statsmodels.stats.contrast.ContrastResults'>\n",
       "                             Test for Constraints                             \n",
       "==============================================================================\n",
       "                 coef    std err          t      P>|t|      [0.025      0.975]\n",
       "------------------------------------------------------------------------------\n",
       "c0            -0.0560      2.232     -0.025      0.980      -4.547       4.435\n",
       "c1             0.1428      2.235      0.019      0.985      -4.353       4.639\n",
       "=============================================================================="
      ]
     },
     "execution_count": 7,
     "metadata": {},
     "output_type": "execute_result"
    }
   ],
   "source": [
    "model.t_test('ins_premium = alcohol, alcohol = .10')"
   ]
  },
  {
   "cell_type": "markdown",
   "id": "254d692a-a368-4440-873a-633a79f8b207",
   "metadata": {},
   "source": [
    "#### Prediction Objects"
   ]
  },
  {
   "cell_type": "markdown",
   "id": "08817fff-7bac-422d-997c-7efe5737f592",
   "metadata": {},
   "source": [
    "The `ResultsWrapper` object also has a very helpful method named `.get_prediction`. This allows for inference on either the fitted data (call the method without any arguments) or on new, held out data (pass the DataFrame with the data to the method). \n",
    "\n",
    "The method returns a `PredictionResults` object, which contains the predicted values as well as their uncertainty in terms of the confidence intervals around both the average prediction and the prediction interval (where new observed values may fall). \n",
    "\n",
    "The `PredictionResults` object has a *further* method, `.summary_frame`, which will return the data in a DataFrame. Let's get the predictions of the insurance losses we modelled above, for the in-sample data:"
   ]
  },
  {
   "cell_type": "code",
   "execution_count": 8,
   "id": "5aeaa96c-9246-431c-8533-5a5d5d0d9ac2",
   "metadata": {},
   "outputs": [
    {
     "data": {
      "text/html": [
       "<div>\n",
       "<style scoped>\n",
       "    .dataframe tbody tr th:only-of-type {\n",
       "        vertical-align: middle;\n",
       "    }\n",
       "\n",
       "    .dataframe tbody tr th {\n",
       "        vertical-align: top;\n",
       "    }\n",
       "\n",
       "    .dataframe thead th {\n",
       "        text-align: right;\n",
       "    }\n",
       "</style>\n",
       "<table border=\"1\" class=\"dataframe\">\n",
       "  <thead>\n",
       "    <tr style=\"text-align: right;\">\n",
       "      <th></th>\n",
       "      <th>mean</th>\n",
       "      <th>mean_se</th>\n",
       "      <th>mean_ci_lower</th>\n",
       "      <th>mean_ci_upper</th>\n",
       "      <th>obs_ci_lower</th>\n",
       "      <th>obs_ci_upper</th>\n",
       "    </tr>\n",
       "  </thead>\n",
       "  <tbody>\n",
       "    <tr>\n",
       "      <th>0</th>\n",
       "      <td>125.019442</td>\n",
       "      <td>4.779806</td>\n",
       "      <td>115.403713</td>\n",
       "      <td>134.635170</td>\n",
       "      <td>83.594182</td>\n",
       "      <td>166.444702</td>\n",
       "    </tr>\n",
       "    <tr>\n",
       "      <th>1</th>\n",
       "      <td>148.169326</td>\n",
       "      <td>6.308884</td>\n",
       "      <td>135.477489</td>\n",
       "      <td>160.861163</td>\n",
       "      <td>105.923940</td>\n",
       "      <td>190.414712</td>\n",
       "    </tr>\n",
       "    <tr>\n",
       "      <th>2</th>\n",
       "      <td>135.174427</td>\n",
       "      <td>3.722046</td>\n",
       "      <td>127.686636</td>\n",
       "      <td>142.662218</td>\n",
       "      <td>94.190809</td>\n",
       "      <td>176.158045</td>\n",
       "    </tr>\n",
       "    <tr>\n",
       "      <th>3</th>\n",
       "      <td>129.741571</td>\n",
       "      <td>4.563009</td>\n",
       "      <td>120.561981</td>\n",
       "      <td>138.921161</td>\n",
       "      <td>88.415371</td>\n",
       "      <td>171.067771</td>\n",
       "    </tr>\n",
       "    <tr>\n",
       "      <th>4</th>\n",
       "      <td>133.771227</td>\n",
       "      <td>3.879437</td>\n",
       "      <td>125.966807</td>\n",
       "      <td>141.575648</td>\n",
       "      <td>92.728580</td>\n",
       "      <td>174.813875</td>\n",
       "    </tr>\n",
       "  </tbody>\n",
       "</table>\n",
       "</div>"
      ],
      "text/plain": [
       "         mean   mean_se  mean_ci_lower  mean_ci_upper  obs_ci_lower  \\\n",
       "0  125.019442  4.779806     115.403713     134.635170     83.594182   \n",
       "1  148.169326  6.308884     135.477489     160.861163    105.923940   \n",
       "2  135.174427  3.722046     127.686636     142.662218     94.190809   \n",
       "3  129.741571  4.563009     120.561981     138.921161     88.415371   \n",
       "4  133.771227  3.879437     125.966807     141.575648     92.728580   \n",
       "\n",
       "   obs_ci_upper  \n",
       "0    166.444702  \n",
       "1    190.414712  \n",
       "2    176.158045  \n",
       "3    171.067771  \n",
       "4    174.813875  "
      ]
     },
     "metadata": {},
     "output_type": "display_data"
    }
   ],
   "source": [
    "# Get the in-sample predictions\n",
    "in_sample_predictions = model.get_prediction().summary_frame()\n",
    "display(in_sample_predictions.head())"
   ]
  },
  {
   "cell_type": "markdown",
   "id": "587cef2f-209f-40bd-aa46-b345e01705cc",
   "metadata": {},
   "source": [
    "There is a row for each observation. The `mean` column represents the prediction, and is identical to the `.fittedvalues` data. The `mean_se` is an estimate of the standard error of each prediction, and the `ci` columns represent the confidence interval around the mean. The `obs_ci` represents something different, the interval for within which new data points would be expected to fall (*not* the average).\n",
    "\n",
    "#### Marginal predictions or counterfactuals\n",
    "Lets take this a step further and explore the elegance of modelling for examining statistical relationships. We can explore the **marginal predictions** of variables by \"holding constant\" others, and use the tools we've seen above to get some uncertainty around this. Imagine that we are interested in the relationship between insurance premiums and insurance losses in accidents, while we account for speeding and alcohol. `ins_premium` was our only significant predictor in our model above (check `model.summary()` for a refresher), and we can examine what this looks like.\n",
    "\n",
    "To do this, we need to take our fitted model and have it predict a 'counterfactual' world, where insurance premium varies but alcohol and speeding are held at some particular value. This 'particular value' can be anything we want, but it is typically the mean of a predictor variable. Below, we will ask the model to predict the insurance loss for the observed insurance premium data, but we will fix alcohol and speeding to be at their mean. Doing so with `pandas` is easy:\n"
   ]
  },
  {
   "cell_type": "code",
   "execution_count": 9,
   "id": "bbdfb436-605c-4469-8aff-54b82807b56f",
   "metadata": {},
   "outputs": [
    {
     "data": {
      "text/html": [
       "<div>\n",
       "<style scoped>\n",
       "    .dataframe tbody tr th:only-of-type {\n",
       "        vertical-align: middle;\n",
       "    }\n",
       "\n",
       "    .dataframe tbody tr th {\n",
       "        vertical-align: top;\n",
       "    }\n",
       "\n",
       "    .dataframe thead th {\n",
       "        text-align: right;\n",
       "    }\n",
       "</style>\n",
       "<table border=\"1\" class=\"dataframe\">\n",
       "  <thead>\n",
       "    <tr style=\"text-align: right;\">\n",
       "      <th></th>\n",
       "      <th>ins_losses</th>\n",
       "      <th>ins_premium</th>\n",
       "      <th>alcohol</th>\n",
       "      <th>speeding</th>\n",
       "    </tr>\n",
       "  </thead>\n",
       "  <tbody>\n",
       "    <tr>\n",
       "      <th>0</th>\n",
       "      <td>145.08</td>\n",
       "      <td>784.55</td>\n",
       "      <td>4.886784</td>\n",
       "      <td>4.998196</td>\n",
       "    </tr>\n",
       "    <tr>\n",
       "      <th>1</th>\n",
       "      <td>133.93</td>\n",
       "      <td>1053.48</td>\n",
       "      <td>4.886784</td>\n",
       "      <td>4.998196</td>\n",
       "    </tr>\n",
       "    <tr>\n",
       "      <th>2</th>\n",
       "      <td>110.35</td>\n",
       "      <td>899.47</td>\n",
       "      <td>4.886784</td>\n",
       "      <td>4.998196</td>\n",
       "    </tr>\n",
       "    <tr>\n",
       "      <th>3</th>\n",
       "      <td>142.39</td>\n",
       "      <td>827.34</td>\n",
       "      <td>4.886784</td>\n",
       "      <td>4.998196</td>\n",
       "    </tr>\n",
       "    <tr>\n",
       "      <th>4</th>\n",
       "      <td>165.63</td>\n",
       "      <td>878.41</td>\n",
       "      <td>4.886784</td>\n",
       "      <td>4.998196</td>\n",
       "    </tr>\n",
       "  </tbody>\n",
       "</table>\n",
       "</div>"
      ],
      "text/plain": [
       "   ins_losses  ins_premium   alcohol  speeding\n",
       "0      145.08       784.55  4.886784  4.998196\n",
       "1      133.93      1053.48  4.886784  4.998196\n",
       "2      110.35       899.47  4.886784  4.998196\n",
       "3      142.39       827.34  4.886784  4.998196\n",
       "4      165.63       878.41  4.886784  4.998196"
      ]
     },
     "execution_count": 9,
     "metadata": {},
     "output_type": "execute_result"
    }
   ],
   "source": [
    "# Make a 'new' dataset to predict:\n",
    "new_data = (crash\n",
    "            .filter(items=['ins_losses', 'ins_premium']) # gets the existing data columns\n",
    "            .assign(alcohol = crash['alcohol'].mean(),\n",
    "                    speeding = crash['speeding'].mean())\n",
    "           )\n",
    "\n",
    "new_data.head()"
   ]
  },
  {
   "cell_type": "markdown",
   "id": "b2986bbb-99fe-44ff-8338-56617cb69c77",
   "metadata": {},
   "source": [
    "So we have a new dataset with the same insurance loss and insurance premium as before, but now we're imagining a world in which all the accidents took place where alcohol use was average, and speeding was also average. Note that these column names here **must** reflect the original column names used in the model fitting stage, or it will not work.\n",
    "\n",
    "We next pass this data to the `get_prediction` method, and we immediately call the `summary_frame` method to get the predictions formatted nicely:"
   ]
  },
  {
   "cell_type": "code",
   "execution_count": 10,
   "id": "53614908-2ef7-431e-bcc7-ee0d5f741623",
   "metadata": {},
   "outputs": [
    {
     "data": {
      "text/html": [
       "<div>\n",
       "<style scoped>\n",
       "    .dataframe tbody tr th:only-of-type {\n",
       "        vertical-align: middle;\n",
       "    }\n",
       "\n",
       "    .dataframe tbody tr th {\n",
       "        vertical-align: top;\n",
       "    }\n",
       "\n",
       "    .dataframe thead th {\n",
       "        text-align: right;\n",
       "    }\n",
       "</style>\n",
       "<table border=\"1\" class=\"dataframe\">\n",
       "  <thead>\n",
       "    <tr style=\"text-align: right;\">\n",
       "      <th></th>\n",
       "      <th>mean</th>\n",
       "      <th>mean_se</th>\n",
       "      <th>mean_ci_lower</th>\n",
       "      <th>mean_ci_upper</th>\n",
       "      <th>obs_ci_lower</th>\n",
       "      <th>obs_ci_upper</th>\n",
       "    </tr>\n",
       "  </thead>\n",
       "  <tbody>\n",
       "    <tr>\n",
       "      <th>0</th>\n",
       "      <td>125.607033</td>\n",
       "      <td>3.255652</td>\n",
       "      <td>119.057505</td>\n",
       "      <td>132.156561</td>\n",
       "      <td>84.784414</td>\n",
       "      <td>166.429652</td>\n",
       "    </tr>\n",
       "    <tr>\n",
       "      <th>1</th>\n",
       "      <td>148.942596</td>\n",
       "      <td>3.884950</td>\n",
       "      <td>141.127084</td>\n",
       "      <td>156.758108</td>\n",
       "      <td>107.897838</td>\n",
       "      <td>189.987353</td>\n",
       "    </tr>\n",
       "    <tr>\n",
       "      <th>2</th>\n",
       "      <td>135.578858</td>\n",
       "      <td>2.811930</td>\n",
       "      <td>129.921984</td>\n",
       "      <td>141.235732</td>\n",
       "      <td>94.889914</td>\n",
       "      <td>176.267801</td>\n",
       "    </tr>\n",
       "    <tr>\n",
       "      <th>3</th>\n",
       "      <td>129.320002</td>\n",
       "      <td>2.965204</td>\n",
       "      <td>123.354781</td>\n",
       "      <td>135.285222</td>\n",
       "      <td>88.587045</td>\n",
       "      <td>170.052959</td>\n",
       "    </tr>\n",
       "    <tr>\n",
       "      <th>4</th>\n",
       "      <td>133.751442</td>\n",
       "      <td>2.808058</td>\n",
       "      <td>128.102357</td>\n",
       "      <td>139.400526</td>\n",
       "      <td>93.063580</td>\n",
       "      <td>174.439303</td>\n",
       "    </tr>\n",
       "  </tbody>\n",
       "</table>\n",
       "</div>"
      ],
      "text/plain": [
       "         mean   mean_se  mean_ci_lower  mean_ci_upper  obs_ci_lower  \\\n",
       "0  125.607033  3.255652     119.057505     132.156561     84.784414   \n",
       "1  148.942596  3.884950     141.127084     156.758108    107.897838   \n",
       "2  135.578858  2.811930     129.921984     141.235732     94.889914   \n",
       "3  129.320002  2.965204     123.354781     135.285222     88.587045   \n",
       "4  133.751442  2.808058     128.102357     139.400526     93.063580   \n",
       "\n",
       "   obs_ci_upper  \n",
       "0    166.429652  \n",
       "1    189.987353  \n",
       "2    176.267801  \n",
       "3    170.052959  \n",
       "4    174.439303  "
      ]
     },
     "execution_count": 10,
     "metadata": {},
     "output_type": "execute_result"
    }
   ],
   "source": [
    "# Get new predictions\n",
    "new_predictions = model.get_prediction(new_data).summary_frame()\n",
    "new_predictions.head()"
   ]
  },
  {
   "cell_type": "markdown",
   "id": "a9915747-e7f4-4782-b5b3-f9ed9c6b5fb9",
   "metadata": {},
   "source": [
    "It would be great to plot this data, but one tricky extra step is that plotting is made easier by sorting the predictions by the predictor of interest. One way to do this is to join everything into one dataset (the new data and the predictions) and plot *that*, like so:"
   ]
  },
  {
   "cell_type": "code",
   "execution_count": 11,
   "id": "3ac4f76c-c118-468f-8eb8-f4f84ebcee49",
   "metadata": {},
   "outputs": [],
   "source": [
    "# Join data together\n",
    "new_predictions = pd.merge(left=new_data, right=new_predictions,\n",
    "                           left_index=True, right_index=True).sort_values(by='ins_premium')"
   ]
  },
  {
   "cell_type": "code",
   "execution_count": 12,
   "id": "8e137c02-8392-4ea2-a579-33eb3433a659",
   "metadata": {},
   "outputs": [
    {
     "data": {
      "image/png": "[encoded data removed]",
      "text/plain": [
       "<Figure size 720x720 with 1 Axes>"
      ]
     },
     "metadata": {
      "needs_background": "light"
     },
     "output_type": "display_data"
    }
   ],
   "source": [
    "# Use context manager\n",
    "with sns.plotting_context('talk'):\n",
    "    \n",
    "    fig, ax = plt.subplots(1, 1, figsize=(10, 10))\n",
    "    sns.despine(fig)\n",
    "    \n",
    "    # Seaborn lineplot to show the relationship\n",
    "    sns.lineplot(x=new_predictions['ins_premium'], \n",
    "                 y=new_predictions['mean'], \n",
    "                 linestyle='dashed',\n",
    "                 linewidth=4,\n",
    "                 color='black',\n",
    "                 ax=ax)\n",
    "    \n",
    "    # Fill between is an axis method that shades an area between two Y and one X dataset\n",
    "    ax.fill_between(new_predictions['ins_premium'], \n",
    "                    new_predictions['mean_ci_lower'], \n",
    "                    new_predictions['mean_ci_upper'], \n",
    "                    alpha=.1, \n",
    "                    color='red', \n",
    "                    label='Mean CI')\n",
    "    \n",
    "    ax.fill_between(new_predictions['ins_premium'], \n",
    "                    new_predictions['obs_ci_lower'], \n",
    "                    new_predictions['obs_ci_upper'], \n",
    "                    alpha=.1, \n",
    "                    color='blue', \n",
    "                    label='Prediction CI')\n",
    "    \n",
    "    ax.legend() # show legend\n",
    "    ax.set(ylabel='Predicted Insurance Loss $', xlabel='Insurance Premium $') # Set labels"
   ]
  },
  {
   "cell_type": "markdown",
   "id": "f6684074-3da5-4764-a6b3-a669bddc5a16",
   "metadata": {},
   "source": [
    "There is a positive relationship here - accounting for speeding and alcohol, accidents with higher premiums result in greater losses. There is some greater uncertainty about the *mean* of this relationship at the extreme ends of the `ins_premium` variable; but its quite focused. The prediction intervals on the other hand are much wider - the model implies that, for example, an accident with a $900 premium (and, don't forget - average speeding and average alcohol use!) could lose anywhere between ~95 and ~170. "
   ]
  }
 ],
 "metadata": {
  "kernelspec": {
   "display_name": "Python 3 (ipykernel)",
   "language": "python",
   "name": "python3"
  },
  "language_info": {
   "codemirror_mode": {
    "name": "ipython",
    "version": 3
   },
   "file_extension": ".py",
   "mimetype": "text/x-python",
   "name": "python",
   "nbconvert_exporter": "python",
   "pygments_lexer": "ipython3",
   "version": "3.10.4"
  }
 },
 "nbformat": 4,
 "nbformat_minor": 5
}
