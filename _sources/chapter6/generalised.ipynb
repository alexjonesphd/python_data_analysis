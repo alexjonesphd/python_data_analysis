{
 "cells": [
  {
   "cell_type": "code",
   "execution_count": 1,
   "id": "41b43709-e874-4f2d-8b7e-53f69b2efe8c",
   "metadata": {
    "tags": []
   },
   "outputs": [],
   "source": [
    "# Imports\n",
    "import numpy as np\n",
    "import pandas as pd\n",
    "import seaborn as sns\n",
    "import matplotlib.pyplot as plt\n",
    "import statsmodels.formula.api as smf"
   ]
  },
  {
   "cell_type": "markdown",
   "id": "95ca4489-22b6-4171-8f1a-9d8ce3bef39a",
   "metadata": {},
   "source": [
    "## Generalised Linear Models\n",
    "`statsmodels` is far more than a linear regression powerhouse. It is also capable of fitting a range of *generalised* linear models, that allow users to fit models to non-normal data, such as binary, count, hierarchical models, and generalised estimating equations. We will explore some of these using the in-built datasets from `statsmodels`. These are located under the **non-formula** import of the package, which exposes a far wider range of functions outside of the nice formula interface we have seen so far."
   ]
  },
  {
   "cell_type": "code",
   "execution_count": 2,
   "id": "1dda81e4-a5e6-490f-a5b2-461b05fd17fc",
   "metadata": {},
   "outputs": [],
   "source": [
    "# Import general statsmodels\n",
    "import statsmodels.api as sm # traditional alias"
   ]
  },
  {
   "cell_type": "markdown",
   "id": "9fe49191-0e95-430b-9410-5c19102912dd",
   "metadata": {},
   "source": [
    "### Logistic Regression\n",
    "We will first explore the use of logistic regression, which allows for the modelling of binary data - such as whether a trial was correct/incorrect, a participant was male/female, and so on. For this example we will use the [RAND Health Insurance Experiment data](http://www.rand.org/health/projects/hie.html) which contains a set of variables related to health insurance claims that have been used to investigate key questions in health insurance. The variables are:\n",
    "\n",
    "- `mdvis` - Number of outpatient visits to an MD\n",
    "- `lncoins` - ln(coinsurance + 1), 0 <= coninsurance <= 10\n",
    "- `idp` - 1 if individual deductible plan, 0 otherwise\n",
    "- `lpi` - ln(max(1, annual participation incentive payment)\n",
    "- `fmde` - 0 if idp = 1; ln(max(1, MDE/(0.01 coinsurance))) otherwise\n",
    "- `physlm` - 1 if the person has a physical limitation\n",
    "- `disea` - number of chronic disease\n",
    "- `hlthg` - 1 if self-rated health is good\n",
    "- `hlthf` - 1 if self-rated health is fair\n",
    "- `hlthp` - 1 if self-rated health is poor\n",
    "\n",
    "We will attempt a simple logistic regression model, predicting whether someone has an individual deductible plan, `idp` (coded as 1 if yes, and zero if no) from a few predictors - number of chronic diseases `disea`, number of outpatient visits `mdvis`, and coinsurance, the amount that has to be paid if a claim is made, `lncoins`. \n",
    "\n",
    "To fit logistic regression models, we can use the `logit` function from the formula `smf` interface, and specify our model with a formula string. But first we load the data (with a slightly unusual syntax) from the non-formula interface:"
   ]
  },
  {
   "cell_type": "code",
   "execution_count": 3,
   "id": "46796305-8c43-457f-946f-0a504d93aeb9",
   "metadata": {},
   "outputs": [
    {
     "name": "stdout",
     "output_type": "stream",
     "text": [
      "Optimization terminated successfully.\n",
      "         Current function value: 0.537159\n",
      "         Iterations 6\n"
     ]
    },
    {
     "data": {
      "text/html": [
       "<table class=\"simpletable\">\n",
       "<caption>Logit Regression Results</caption>\n",
       "<tr>\n",
       "  <th>Dep. Variable:</th>          <td>idp</td>       <th>  No. Observations:  </th>  <td> 20190</td> \n",
       "</tr>\n",
       "<tr>\n",
       "  <th>Model:</th>                 <td>Logit</td>      <th>  Df Residuals:      </th>  <td> 20186</td> \n",
       "</tr>\n",
       "<tr>\n",
       "  <th>Method:</th>                 <td>MLE</td>       <th>  Df Model:          </th>  <td>     3</td> \n",
       "</tr>\n",
       "<tr>\n",
       "  <th>Date:</th>            <td>Sat, 09 Jul 2022</td> <th>  Pseudo R-squ.:     </th>  <td>0.06261</td>\n",
       "</tr>\n",
       "<tr>\n",
       "  <th>Time:</th>                <td>11:52:29</td>     <th>  Log-Likelihood:    </th> <td> -10845.</td>\n",
       "</tr>\n",
       "<tr>\n",
       "  <th>converged:</th>             <td>True</td>       <th>  LL-Null:           </th> <td> -11570.</td>\n",
       "</tr>\n",
       "<tr>\n",
       "  <th>Covariance Type:</th>     <td>nonrobust</td>    <th>  LLR p-value:       </th>  <td> 0.000</td> \n",
       "</tr>\n",
       "</table>\n",
       "<table class=\"simpletable\">\n",
       "<tr>\n",
       "      <td></td>         <th>coef</th>     <th>std err</th>      <th>z</th>      <th>P>|z|</th>  <th>[0.025</th>    <th>0.975]</th>  \n",
       "</tr>\n",
       "<tr>\n",
       "  <th>Intercept</th> <td>   -0.5700</td> <td>    0.034</td> <td>  -16.585</td> <td> 0.000</td> <td>   -0.637</td> <td>   -0.503</td>\n",
       "</tr>\n",
       "<tr>\n",
       "  <th>disea</th>     <td>    0.0122</td> <td>    0.003</td> <td>    4.865</td> <td> 0.000</td> <td>    0.007</td> <td>    0.017</td>\n",
       "</tr>\n",
       "<tr>\n",
       "  <th>mdvis</th>     <td>   -0.0495</td> <td>    0.005</td> <td>  -10.399</td> <td> 0.000</td> <td>   -0.059</td> <td>   -0.040</td>\n",
       "</tr>\n",
       "<tr>\n",
       "  <th>lncoins</th>   <td>   -0.3259</td> <td>    0.009</td> <td>  -34.907</td> <td> 0.000</td> <td>   -0.344</td> <td>   -0.308</td>\n",
       "</tr>\n",
       "</table>"
      ],
      "text/plain": [
       "<class 'statsmodels.iolib.summary.Summary'>\n",
       "\"\"\"\n",
       "                           Logit Regression Results                           \n",
       "==============================================================================\n",
       "Dep. Variable:                    idp   No. Observations:                20190\n",
       "Model:                          Logit   Df Residuals:                    20186\n",
       "Method:                           MLE   Df Model:                            3\n",
       "Date:                Sat, 09 Jul 2022   Pseudo R-squ.:                 0.06261\n",
       "Time:                        11:52:29   Log-Likelihood:                -10845.\n",
       "converged:                       True   LL-Null:                       -11570.\n",
       "Covariance Type:            nonrobust   LLR p-value:                     0.000\n",
       "==============================================================================\n",
       "                 coef    std err          z      P>|z|      [0.025      0.975]\n",
       "------------------------------------------------------------------------------\n",
       "Intercept     -0.5700      0.034    -16.585      0.000      -0.637      -0.503\n",
       "disea          0.0122      0.003      4.865      0.000       0.007       0.017\n",
       "mdvis         -0.0495      0.005    -10.399      0.000      -0.059      -0.040\n",
       "lncoins       -0.3259      0.009    -34.907      0.000      -0.344      -0.308\n",
       "==============================================================================\n",
       "\"\"\""
      ]
     },
     "execution_count": 3,
     "metadata": {},
     "output_type": "execute_result"
    }
   ],
   "source": [
    "# Load RAND data\n",
    "rand = sm.datasets.randhie.load_pandas().data\n",
    "\n",
    "# Fit the model\n",
    "logistic_results = smf.logit('idp ~ disea + mdvis + lncoins', data=rand).fit()\n",
    "\n",
    "# Examine the results\n",
    "logistic_results.summary()"
   ]
  },
  {
   "cell_type": "markdown",
   "id": "377a17cd-c7e3-407d-a48b-2744b445fa4d",
   "metadata": {},
   "source": [
    "Success! But what does all this mean? Logistic regression isn't as easy to interpret as ordinary least squares, where a single unit increase in the predictor is associated with a coefficient-value change in the outcome. Logistic regression actually models the *probability* of a positive/yes/one response in the outcome variable, but does so using the **logistic function**, which maps probability space, which is zero to one, to an infinite continuous space of positive and negative. \n",
    "\n",
    "The way it does this is by converting probabilities to odds, and then taking the logarithm of the odds - the log-odds. All coefficients in logistic regression represent the change in the log-odds of the outcome with a one-unit increase of the predictor. \n",
    "\n",
    "Let's try to clear this up by looking at the model. The `mdvis` predictor shows a significant, negative relationship with the outcome on the log-odds scale. We have no idea what this means outside of that when the number of visits go up, the probability of having a deductible plan goes down. But if we *exponentiate* the coefficient, we undo the logarithm and get the odds back, which are somewhat more interpretable. `numpy` can help us here!"
   ]
  },
  {
   "cell_type": "code",
   "execution_count": 4,
   "id": "400c4cae-c101-4758-8215-90f8dccf868a",
   "metadata": {},
   "outputs": [
    {
     "data": {
      "text/plain": [
       "Intercept    0.565516\n",
       "disea        1.012295\n",
       "mdvis        0.951673\n",
       "lncoins      0.721882\n",
       "dtype: float64"
      ]
     },
     "execution_count": 4,
     "metadata": {},
     "output_type": "execute_result"
    }
   ],
   "source": [
    "# Use numpy to exponentiate the coefficients\n",
    "# numpy has an .exp function\n",
    "# the coefficients are stored in the .params model attribute\n",
    "odds = np.exp(logistic_results.params)\n",
    "odds"
   ]
  },
  {
   "cell_type": "markdown",
   "id": "aec1d233-0133-4146-947d-05a7c46e616d",
   "metadata": {},
   "source": [
    "This is somewhat more interpretable. As the number of medical visits increases by one, the odds of having an individual deductible plan change by 0.95% (or indeed decrease by 5%). \n",
    "\n",
    "Unlike ordinary least squares, understanding a logistic regression model involves working closely with the predictions. We saw how to get those from an `ols` object above, but logistic regression is a different beast. While it does have a `.fittedvalues` attribute, it represents the predictions on the log-odds scale. To get at our predictions, we can do two things:\n",
    "\n",
    "- Apply the reverse transformation using `scipy.special.expit` on the `.fittedvalues` attribute. This is the inverse-log-odds transform (sometimes known as the inverse logit) and will return the probabilities of a positive response.\n",
    "- Use the `.predict` method of the fitted model to give the probabilites already back-transformed.\n",
    "\n",
    "The latter doesn't invovle an extra import but we will show both:"
   ]
  },
  {
   "cell_type": "code",
   "execution_count": 5,
   "id": "7a8686cf-dd13-4a4e-b950-5adf61ea0f0f",
   "metadata": {},
   "outputs": [
    {
     "data": {
      "text/plain": [
       "True"
      ]
     },
     "execution_count": 5,
     "metadata": {},
     "output_type": "execute_result"
    }
   ],
   "source": [
    "# import scipy function\n",
    "from scipy.special import expit\n",
    "expit_results = expit(logistic_results.fittedvalues)\n",
    "\n",
    "# Use prediction\n",
    "logistic_predictions = logistic_results.predict() # a no-argument call predicts the data the model was fitted on\n",
    "\n",
    "# Are these the same?\n",
    "np.all(expit_results == logistic_predictions)"
   ]
  },
  {
   "cell_type": "markdown",
   "id": "b7b7f50a-5ad2-4e71-90b5-d675b503ffec",
   "metadata": {},
   "source": [
    "These are equivalent operations. Let's work with the `logistic_predictions` data, and add it directly to the `rand` data."
   ]
  },
  {
   "cell_type": "code",
   "execution_count": 6,
   "id": "c112e695-5a1b-4007-bf43-0709f930b177",
   "metadata": {},
   "outputs": [
    {
     "data": {
      "text/html": [
       "<div>\n",
       "<style scoped>\n",
       "    .dataframe tbody tr th:only-of-type {\n",
       "        vertical-align: middle;\n",
       "    }\n",
       "\n",
       "    .dataframe tbody tr th {\n",
       "        vertical-align: top;\n",
       "    }\n",
       "\n",
       "    .dataframe thead th {\n",
       "        text-align: right;\n",
       "    }\n",
       "</style>\n",
       "<table border=\"1\" class=\"dataframe\">\n",
       "  <thead>\n",
       "    <tr style=\"text-align: right;\">\n",
       "      <th></th>\n",
       "      <th>mdvis</th>\n",
       "      <th>lncoins</th>\n",
       "      <th>idp</th>\n",
       "      <th>lpi</th>\n",
       "      <th>fmde</th>\n",
       "      <th>physlm</th>\n",
       "      <th>disea</th>\n",
       "      <th>hlthg</th>\n",
       "      <th>hlthf</th>\n",
       "      <th>hlthp</th>\n",
       "      <th>predictions</th>\n",
       "    </tr>\n",
       "  </thead>\n",
       "  <tbody>\n",
       "    <tr>\n",
       "      <th>0</th>\n",
       "      <td>0</td>\n",
       "      <td>4.61512</td>\n",
       "      <td>1</td>\n",
       "      <td>6.907755</td>\n",
       "      <td>0.0</td>\n",
       "      <td>0.0</td>\n",
       "      <td>13.73189</td>\n",
       "      <td>1</td>\n",
       "      <td>0</td>\n",
       "      <td>0</td>\n",
       "      <td>0.129403</td>\n",
       "    </tr>\n",
       "    <tr>\n",
       "      <th>1</th>\n",
       "      <td>2</td>\n",
       "      <td>4.61512</td>\n",
       "      <td>1</td>\n",
       "      <td>6.907755</td>\n",
       "      <td>0.0</td>\n",
       "      <td>0.0</td>\n",
       "      <td>13.73189</td>\n",
       "      <td>1</td>\n",
       "      <td>0</td>\n",
       "      <td>0</td>\n",
       "      <td>0.118646</td>\n",
       "    </tr>\n",
       "    <tr>\n",
       "      <th>2</th>\n",
       "      <td>0</td>\n",
       "      <td>4.61512</td>\n",
       "      <td>1</td>\n",
       "      <td>6.907755</td>\n",
       "      <td>0.0</td>\n",
       "      <td>0.0</td>\n",
       "      <td>13.73189</td>\n",
       "      <td>1</td>\n",
       "      <td>0</td>\n",
       "      <td>0</td>\n",
       "      <td>0.129403</td>\n",
       "    </tr>\n",
       "    <tr>\n",
       "      <th>3</th>\n",
       "      <td>0</td>\n",
       "      <td>4.61512</td>\n",
       "      <td>1</td>\n",
       "      <td>6.907755</td>\n",
       "      <td>0.0</td>\n",
       "      <td>0.0</td>\n",
       "      <td>13.73189</td>\n",
       "      <td>1</td>\n",
       "      <td>0</td>\n",
       "      <td>0</td>\n",
       "      <td>0.129403</td>\n",
       "    </tr>\n",
       "    <tr>\n",
       "      <th>4</th>\n",
       "      <td>0</td>\n",
       "      <td>4.61512</td>\n",
       "      <td>1</td>\n",
       "      <td>6.907755</td>\n",
       "      <td>0.0</td>\n",
       "      <td>0.0</td>\n",
       "      <td>13.73189</td>\n",
       "      <td>1</td>\n",
       "      <td>0</td>\n",
       "      <td>0</td>\n",
       "      <td>0.129403</td>\n",
       "    </tr>\n",
       "  </tbody>\n",
       "</table>\n",
       "</div>"
      ],
      "text/plain": [
       "   mdvis  lncoins  idp       lpi  fmde  physlm     disea  hlthg  hlthf  hlthp  \\\n",
       "0      0  4.61512    1  6.907755   0.0     0.0  13.73189      1      0      0   \n",
       "1      2  4.61512    1  6.907755   0.0     0.0  13.73189      1      0      0   \n",
       "2      0  4.61512    1  6.907755   0.0     0.0  13.73189      1      0      0   \n",
       "3      0  4.61512    1  6.907755   0.0     0.0  13.73189      1      0      0   \n",
       "4      0  4.61512    1  6.907755   0.0     0.0  13.73189      1      0      0   \n",
       "\n",
       "   predictions  \n",
       "0     0.129403  \n",
       "1     0.118646  \n",
       "2     0.129403  \n",
       "3     0.129403  \n",
       "4     0.129403  "
      ]
     },
     "metadata": {},
     "output_type": "display_data"
    }
   ],
   "source": [
    "# add a column\n",
    "rand['predictions'] = logistic_results.predict()\n",
    "\n",
    "display(rand.head())"
   ]
  },
  {
   "cell_type": "markdown",
   "id": "ca6c85b6-f87c-4dc7-bcff-1f415fb0ec35",
   "metadata": {},
   "source": [
    "Our model has given us the predictions of whether someone has an individual deductible plan. If you're not used to logistic regression it may be a surprise that you get probabilities back and not zeros and ones, which is what you have in the observed data. Its actually entirely up to *you* how you interpret those probabilities and to map them onto the observed data, but its tradition that we assume the outcome variable is a $Bernoulli$ distributed variable (stats speak for functioning like a coin toss with heads-tails outcomes, which we want to know the probability of heads). We can actually convert the probabilities into zeros and ones with a simple boolean operation, sometimes known as thresholding:"
   ]
  },
  {
   "cell_type": "code",
   "execution_count": 7,
   "id": "09c3d4a5-03c9-4990-a6b2-417e5a511a89",
   "metadata": {},
   "outputs": [
    {
     "data": {
      "text/html": [
       "<div>\n",
       "<style scoped>\n",
       "    .dataframe tbody tr th:only-of-type {\n",
       "        vertical-align: middle;\n",
       "    }\n",
       "\n",
       "    .dataframe tbody tr th {\n",
       "        vertical-align: top;\n",
       "    }\n",
       "\n",
       "    .dataframe thead th {\n",
       "        text-align: right;\n",
       "    }\n",
       "</style>\n",
       "<table border=\"1\" class=\"dataframe\">\n",
       "  <thead>\n",
       "    <tr style=\"text-align: right;\">\n",
       "      <th></th>\n",
       "      <th>mdvis</th>\n",
       "      <th>lncoins</th>\n",
       "      <th>idp</th>\n",
       "      <th>lpi</th>\n",
       "      <th>fmde</th>\n",
       "      <th>physlm</th>\n",
       "      <th>disea</th>\n",
       "      <th>hlthg</th>\n",
       "      <th>hlthf</th>\n",
       "      <th>hlthp</th>\n",
       "      <th>predictions</th>\n",
       "      <th>predicted_idp</th>\n",
       "    </tr>\n",
       "  </thead>\n",
       "  <tbody>\n",
       "    <tr>\n",
       "      <th>0</th>\n",
       "      <td>0</td>\n",
       "      <td>4.61512</td>\n",
       "      <td>1</td>\n",
       "      <td>6.907755</td>\n",
       "      <td>0.0</td>\n",
       "      <td>0.0</td>\n",
       "      <td>13.73189</td>\n",
       "      <td>1</td>\n",
       "      <td>0</td>\n",
       "      <td>0</td>\n",
       "      <td>0.129403</td>\n",
       "      <td>0</td>\n",
       "    </tr>\n",
       "    <tr>\n",
       "      <th>1</th>\n",
       "      <td>2</td>\n",
       "      <td>4.61512</td>\n",
       "      <td>1</td>\n",
       "      <td>6.907755</td>\n",
       "      <td>0.0</td>\n",
       "      <td>0.0</td>\n",
       "      <td>13.73189</td>\n",
       "      <td>1</td>\n",
       "      <td>0</td>\n",
       "      <td>0</td>\n",
       "      <td>0.118646</td>\n",
       "      <td>0</td>\n",
       "    </tr>\n",
       "    <tr>\n",
       "      <th>2</th>\n",
       "      <td>0</td>\n",
       "      <td>4.61512</td>\n",
       "      <td>1</td>\n",
       "      <td>6.907755</td>\n",
       "      <td>0.0</td>\n",
       "      <td>0.0</td>\n",
       "      <td>13.73189</td>\n",
       "      <td>1</td>\n",
       "      <td>0</td>\n",
       "      <td>0</td>\n",
       "      <td>0.129403</td>\n",
       "      <td>0</td>\n",
       "    </tr>\n",
       "    <tr>\n",
       "      <th>3</th>\n",
       "      <td>0</td>\n",
       "      <td>4.61512</td>\n",
       "      <td>1</td>\n",
       "      <td>6.907755</td>\n",
       "      <td>0.0</td>\n",
       "      <td>0.0</td>\n",
       "      <td>13.73189</td>\n",
       "      <td>1</td>\n",
       "      <td>0</td>\n",
       "      <td>0</td>\n",
       "      <td>0.129403</td>\n",
       "      <td>0</td>\n",
       "    </tr>\n",
       "    <tr>\n",
       "      <th>4</th>\n",
       "      <td>0</td>\n",
       "      <td>4.61512</td>\n",
       "      <td>1</td>\n",
       "      <td>6.907755</td>\n",
       "      <td>0.0</td>\n",
       "      <td>0.0</td>\n",
       "      <td>13.73189</td>\n",
       "      <td>1</td>\n",
       "      <td>0</td>\n",
       "      <td>0</td>\n",
       "      <td>0.129403</td>\n",
       "      <td>0</td>\n",
       "    </tr>\n",
       "  </tbody>\n",
       "</table>\n",
       "</div>"
      ],
      "text/plain": [
       "   mdvis  lncoins  idp       lpi  fmde  physlm     disea  hlthg  hlthf  hlthp  \\\n",
       "0      0  4.61512    1  6.907755   0.0     0.0  13.73189      1      0      0   \n",
       "1      2  4.61512    1  6.907755   0.0     0.0  13.73189      1      0      0   \n",
       "2      0  4.61512    1  6.907755   0.0     0.0  13.73189      1      0      0   \n",
       "3      0  4.61512    1  6.907755   0.0     0.0  13.73189      1      0      0   \n",
       "4      0  4.61512    1  6.907755   0.0     0.0  13.73189      1      0      0   \n",
       "\n",
       "   predictions  predicted_idp  \n",
       "0     0.129403              0  \n",
       "1     0.118646              0  \n",
       "2     0.129403              0  \n",
       "3     0.129403              0  \n",
       "4     0.129403              0  "
      ]
     },
     "execution_count": 7,
     "metadata": {},
     "output_type": "execute_result"
    }
   ],
   "source": [
    "# add zeros/ones\n",
    "rand['predicted_idp'] = np.where(rand['predictions'] <= .50, 0, 1)\n",
    "\n",
    "rand.head()"
   ]
  },
  {
   "cell_type": "markdown",
   "id": "15b34527-9fdb-423e-a692-4a416f3621d2",
   "metadata": {},
   "source": [
    "We can now examine how well the model did in terms of its predictions, by computing the terrifyingly named *confusion matrix*. All this represents is how our model did - for example, when a datapoint *did* have an individual deductible, how many times did the model say it did? What about the reverse - did it say no when it should have said no? \n",
    "\n",
    "Evaluating the performance of logistic regression models is an entire sub-field of statistics in and of itself. You will sometime see terms like precision, recall, accuracy, true positive rate, false positive rate, and many, many more floating around. All of these refer to - basically - is whether the model is saying 'yes' when it should and 'no' when it should, and there are many variations along that theme. Personally I find this the most confusing part of statistical practice and find myself always referring to [this diagram](https://en.wikipedia.org/wiki/Template:Diagnostic_testing_diagram) when working here - I am sure you will too!\n",
    "\n",
    "Let's use the `pd.crosstab` function to build the confusion matrix, which takes two columns of 1/0 responses and counts the values:"
   ]
  },
  {
   "cell_type": "code",
   "execution_count": 8,
   "id": "13bcf1e8-0b2c-451b-b5ae-f1a70f34b151",
   "metadata": {},
   "outputs": [
    {
     "data": {
      "text/html": [
       "<div>\n",
       "<style scoped>\n",
       "    .dataframe tbody tr th:only-of-type {\n",
       "        vertical-align: middle;\n",
       "    }\n",
       "\n",
       "    .dataframe tbody tr th {\n",
       "        vertical-align: top;\n",
       "    }\n",
       "\n",
       "    .dataframe thead th {\n",
       "        text-align: right;\n",
       "    }\n",
       "</style>\n",
       "<table border=\"1\" class=\"dataframe\">\n",
       "  <thead>\n",
       "    <tr style=\"text-align: right;\">\n",
       "      <th>predicted_idp</th>\n",
       "      <th>0</th>\n",
       "      <th>1</th>\n",
       "      <th>All</th>\n",
       "    </tr>\n",
       "    <tr>\n",
       "      <th>idp</th>\n",
       "      <th></th>\n",
       "      <th></th>\n",
       "      <th></th>\n",
       "    </tr>\n",
       "  </thead>\n",
       "  <tbody>\n",
       "    <tr>\n",
       "      <th>0</th>\n",
       "      <td>14939</td>\n",
       "      <td>2</td>\n",
       "      <td>14941</td>\n",
       "    </tr>\n",
       "    <tr>\n",
       "      <th>1</th>\n",
       "      <td>5249</td>\n",
       "      <td>0</td>\n",
       "      <td>5249</td>\n",
       "    </tr>\n",
       "    <tr>\n",
       "      <th>All</th>\n",
       "      <td>20188</td>\n",
       "      <td>2</td>\n",
       "      <td>20190</td>\n",
       "    </tr>\n",
       "  </tbody>\n",
       "</table>\n",
       "</div>"
      ],
      "text/plain": [
       "predicted_idp      0  1    All\n",
       "idp                           \n",
       "0              14939  2  14941\n",
       "1               5249  0   5249\n",
       "All            20188  2  20190"
      ]
     },
     "metadata": {},
     "output_type": "display_data"
    },
    {
     "data": {
      "text/html": [
       "<div>\n",
       "<style scoped>\n",
       "    .dataframe tbody tr th:only-of-type {\n",
       "        vertical-align: middle;\n",
       "    }\n",
       "\n",
       "    .dataframe tbody tr th {\n",
       "        vertical-align: top;\n",
       "    }\n",
       "\n",
       "    .dataframe thead th {\n",
       "        text-align: right;\n",
       "    }\n",
       "</style>\n",
       "<table border=\"1\" class=\"dataframe\">\n",
       "  <thead>\n",
       "    <tr style=\"text-align: right;\">\n",
       "      <th>predicted_idp</th>\n",
       "      <th>0</th>\n",
       "      <th>1</th>\n",
       "      <th>All</th>\n",
       "    </tr>\n",
       "    <tr>\n",
       "      <th>idp</th>\n",
       "      <th></th>\n",
       "      <th></th>\n",
       "      <th></th>\n",
       "    </tr>\n",
       "  </thead>\n",
       "  <tbody>\n",
       "    <tr>\n",
       "      <th>0</th>\n",
       "      <td>0.739921</td>\n",
       "      <td>0.000099</td>\n",
       "      <td>0.74002</td>\n",
       "    </tr>\n",
       "    <tr>\n",
       "      <th>1</th>\n",
       "      <td>0.259980</td>\n",
       "      <td>0.000000</td>\n",
       "      <td>0.25998</td>\n",
       "    </tr>\n",
       "    <tr>\n",
       "      <th>All</th>\n",
       "      <td>0.999901</td>\n",
       "      <td>0.000099</td>\n",
       "      <td>1.00000</td>\n",
       "    </tr>\n",
       "  </tbody>\n",
       "</table>\n",
       "</div>"
      ],
      "text/plain": [
       "predicted_idp         0         1      All\n",
       "idp                                       \n",
       "0              0.739921  0.000099  0.74002\n",
       "1              0.259980  0.000000  0.25998\n",
       "All            0.999901  0.000099  1.00000"
      ]
     },
     "metadata": {},
     "output_type": "display_data"
    }
   ],
   "source": [
    "# Crosstabs can be normalised or not, depending on the use of the `normalize` keyword\n",
    "confused1 = pd.crosstab(rand['idp'], rand['predicted_idp'], margins=True, normalize=False)\n",
    "confused2 = pd.crosstab(rand['idp'], rand['predicted_idp'], margins=True, normalize=True)\n",
    "display(confused1, confused2)"
   ]
  },
  {
   "cell_type": "markdown",
   "id": "c4feeb88-8ab2-4bf7-9f9d-3b485511ad03",
   "metadata": {},
   "source": [
    "What this hopefully highlights is that, despite obtaining significant coefficients, the predictions of the model here were pretty poor - in fact, our model barely made a positive prediction! Only 2 cases (both wrong, ironically) were predicted as positive. \n",
    "\n",
    "Classification is a surprisingly difficult area of statistics - be sure to look beyond model fit and p-values. "
   ]
  },
  {
   "cell_type": "markdown",
   "id": "66b27b0b-7e6e-43c6-ae03-73bb36506537",
   "metadata": {},
   "source": [
    "### Probit regression"
   ]
  },
  {
   "cell_type": "markdown",
   "id": "a78d57c1-968e-48e7-b33f-199752fe71b0",
   "metadata": {},
   "source": [
    "If the above discussion of log-odds, odds, conversions to probability via `expit` and the like was confusing, do not worry. That's because it is. Fortunately, this is statistics, and there's always another way to think about things. Another type of model that can deal with binary data is known as **probit** regression. In some ways, this is more easily interpretable, but not everyone agrees. Which approach you use is a matter of taste as both logistic regression and probit regression will offer similar levels of predictive power and conclusions - its just their interpretation that is different. \n",
    "\n",
    "So how does probit regression work? It assumes that the binary data we've observed is a manifestation of an unseen, *latent* variable, and that variable is normally distributed. The aim of probit regression is thus to predict the latent, normal variable by using something akin to ordinary least squares. Getting a latent variable is all well and good, but we need some probabilities. Those are obtained by using the **cumulative distribution function** (cdf) of a standard (mean zero, standard deviation one) normal distribution. The cdf simply tells us, given an input value, the percentage of the normal distribution that is less than the input value. For example, the very peak of a standard normal distribution is at zero - there is a 50% probability a value from a standard normal is less than zero! Let's confirm that using `scipy.stats.norm` and its `.cdf` method:"
   ]
  },
  {
   "cell_type": "code",
   "execution_count": 9,
   "id": "027cdf76-e7e4-44f2-b43b-7ead8a17973f",
   "metadata": {},
   "outputs": [
    {
     "name": "stdout",
     "output_type": "stream",
     "text": [
      "0.5\n"
     ]
    }
   ],
   "source": [
    "# Import scipy.stats.norm and make a distribution\n",
    "from scipy.stats import norm\n",
    "standard_normal = norm(0, 1)\n",
    "\n",
    "# What is the CDF of 0? That is, what's the probability a value from a standard normal is less than zero?\n",
    "print(standard_normal.cdf(0))"
   ]
  },
  {
   "cell_type": "markdown",
   "id": "f731b672-c302-4120-b801-0ec120380fba",
   "metadata": {},
   "source": [
    "A visualisation can help explain the CDF of the normal distribution, with a few candidate values. The code for the plot is a little tricky, but feel free to examine:"
   ]
  },
  {
   "cell_type": "code",
   "execution_count": 10,
   "id": "def51ebd-0284-4a9a-95fc-27af3c75e089",
   "metadata": {
    "tags": [
     "hide-input"
    ]
   },
   "outputs": [
    {
     "data": {
      "image/png": "[encoded data removed]",
      "text/plain": [
       "<Figure size 1440x720 with 4 Axes>"
      ]
     },
     "metadata": {
      "needs_background": "light"
     },
     "output_type": "display_data"
    }
   ],
   "source": [
    "# Show different CDFs\n",
    "cdfs = [-1.96, -1, 1, 1.96]\n",
    "\n",
    "with sns.plotting_context('poster'):\n",
    "    \n",
    "    # Make figure\n",
    "    fig, axes = plt.subplots(2, 2, figsize=(20, 10), gridspec_kw={'wspace': 0.05, 'hspace': 0.4})\n",
    "    sns.despine(fig, left=True)\n",
    "    \n",
    "    # Zip axes and cdfs and plot them\n",
    "    for ax, cdf in zip(axes.ravel(), cdfs):\n",
    "        \n",
    "        # Plot the density function\n",
    "        ax.plot(x := np.linspace(-3, 3, 100), y := standard_normal.pdf(x), linestyle='-', color='black', linewidth=3)\n",
    "        \n",
    "        # Get CDF\n",
    "        cudf = standard_normal.cdf(x)\n",
    "        ax.fill_between(x, y, where=(cudf < standard_normal.cdf(cdf)), color='black', alpha=.2)\n",
    "        \n",
    "        # Tidy up\n",
    "        p = standard_normal.cdf(cdf) * 100\n",
    "        ax.set(yticklabels=[], yticks=[])\n",
    "        ax.set_title(f'CDF evaluated at {cdf}\\n{p:.2f}% of values smaller than {cdf}')\n"
   ]
  },
  {
   "cell_type": "markdown",
   "id": "c775c5d1-d61d-40b1-ab15-dc99616ecd13",
   "metadata": {},
   "source": [
    "The shaded areas above represent the probability that a value from the distribution is less than the evaluated value. So for example, only 2.5% of samples are smaller than -1.96 in a standard normal. Its this property that allows probit regression to offer probabilities that allow for the classification of binary observations. Lets see how this is done below, which is traditionally simple at this point - we will refit the logistic regression model above using probit regression:"
   ]
  },
  {
   "cell_type": "code",
   "execution_count": 11,
   "id": "43c5e700-2539-4ba9-9965-20760d19dd56",
   "metadata": {},
   "outputs": [
    {
     "name": "stdout",
     "output_type": "stream",
     "text": [
      "Optimization terminated successfully.\n",
      "         Current function value: 0.538534\n",
      "         Iterations 5\n"
     ]
    },
    {
     "data": {
      "text/html": [
       "<table class=\"simpletable\">\n",
       "<caption>Probit Regression Results</caption>\n",
       "<tr>\n",
       "  <th>Dep. Variable:</th>          <td>idp</td>       <th>  No. Observations:  </th>   <td> 20190</td>  \n",
       "</tr>\n",
       "<tr>\n",
       "  <th>Model:</th>                <td>Probit</td>      <th>  Df Residuals:      </th>   <td> 20186</td>  \n",
       "</tr>\n",
       "<tr>\n",
       "  <th>Method:</th>                 <td>MLE</td>       <th>  Df Model:          </th>   <td>     3</td>  \n",
       "</tr>\n",
       "<tr>\n",
       "  <th>Date:</th>            <td>Sat, 09 Jul 2022</td> <th>  Pseudo R-squ.:     </th>   <td>0.06021</td> \n",
       "</tr>\n",
       "<tr>\n",
       "  <th>Time:</th>                <td>11:52:30</td>     <th>  Log-Likelihood:    </th>  <td> -10873.</td> \n",
       "</tr>\n",
       "<tr>\n",
       "  <th>converged:</th>             <td>True</td>       <th>  LL-Null:           </th>  <td> -11570.</td> \n",
       "</tr>\n",
       "<tr>\n",
       "  <th>Covariance Type:</th>     <td>nonrobust</td>    <th>  LLR p-value:       </th> <td>8.895e-302</td>\n",
       "</tr>\n",
       "</table>\n",
       "<table class=\"simpletable\">\n",
       "<tr>\n",
       "      <td></td>         <th>coef</th>     <th>std err</th>      <th>z</th>      <th>P>|z|</th>  <th>[0.025</th>    <th>0.975]</th>  \n",
       "</tr>\n",
       "<tr>\n",
       "  <th>Intercept</th> <td>   -0.3798</td> <td>    0.020</td> <td>  -18.608</td> <td> 0.000</td> <td>   -0.420</td> <td>   -0.340</td>\n",
       "</tr>\n",
       "<tr>\n",
       "  <th>disea</th>     <td>    0.0077</td> <td>    0.001</td> <td>    5.225</td> <td> 0.000</td> <td>    0.005</td> <td>    0.011</td>\n",
       "</tr>\n",
       "<tr>\n",
       "  <th>mdvis</th>     <td>   -0.0253</td> <td>    0.002</td> <td>  -10.188</td> <td> 0.000</td> <td>   -0.030</td> <td>   -0.020</td>\n",
       "</tr>\n",
       "<tr>\n",
       "  <th>lncoins</th>   <td>   -0.1813</td> <td>    0.005</td> <td>  -35.678</td> <td> 0.000</td> <td>   -0.191</td> <td>   -0.171</td>\n",
       "</tr>\n",
       "</table>"
      ],
      "text/plain": [
       "<class 'statsmodels.iolib.summary.Summary'>\n",
       "\"\"\"\n",
       "                          Probit Regression Results                           \n",
       "==============================================================================\n",
       "Dep. Variable:                    idp   No. Observations:                20190\n",
       "Model:                         Probit   Df Residuals:                    20186\n",
       "Method:                           MLE   Df Model:                            3\n",
       "Date:                Sat, 09 Jul 2022   Pseudo R-squ.:                 0.06021\n",
       "Time:                        11:52:30   Log-Likelihood:                -10873.\n",
       "converged:                       True   LL-Null:                       -11570.\n",
       "Covariance Type:            nonrobust   LLR p-value:                8.895e-302\n",
       "==============================================================================\n",
       "                 coef    std err          z      P>|z|      [0.025      0.975]\n",
       "------------------------------------------------------------------------------\n",
       "Intercept     -0.3798      0.020    -18.608      0.000      -0.420      -0.340\n",
       "disea          0.0077      0.001      5.225      0.000       0.005       0.011\n",
       "mdvis         -0.0253      0.002    -10.188      0.000      -0.030      -0.020\n",
       "lncoins       -0.1813      0.005    -35.678      0.000      -0.191      -0.171\n",
       "==============================================================================\n",
       "\"\"\""
      ]
     },
     "execution_count": 11,
     "metadata": {},
     "output_type": "execute_result"
    }
   ],
   "source": [
    "# Use probit\n",
    "probit_results = smf.probit('idp ~ disea + mdvis + lncoins', data=rand).fit()\n",
    "\n",
    "# Probit summary\n",
    "probit_results.summary()\n"
   ]
  },
  {
   "cell_type": "markdown",
   "id": "1c0f006a-1874-4c78-910c-bf7df626d9d8",
   "metadata": {},
   "source": [
    "Contrasting that with the `logistic_results` object, things will look very similar in terms of significance and direction of effects. However, how we interpret the coefficents is different. We no longer think of changes in log-odds here, but the change in the value of the unobserved, latent variable that gave rise to our binary observations, in much the same way one interprets ordinary least squares regression. Whether this is easier is a matter of taste; but you can actually scale probit coefficients by about 1.6 to get the log-odds given by a logistic regression - try it with the parameters above for the probit and logistic regressions!\n",
    "\n",
    "Finally, we can examine the predictions of the probit model using the `.fittedvalues` attribute as before:\n"
   ]
  },
  {
   "cell_type": "code",
   "execution_count": 12,
   "id": "3361d2ab-a6a6-4904-9065-56c63ce81b76",
   "metadata": {},
   "outputs": [
    {
     "data": {
      "text/plain": [
       "0   -1.110182\n",
       "1   -1.160742\n",
       "2   -1.110182\n",
       "3   -1.110182\n",
       "4   -1.110182\n",
       "dtype: float64"
      ]
     },
     "metadata": {},
     "output_type": "display_data"
    }
   ],
   "source": [
    "# View first 5 fitted values\n",
    "display(probit_results.fittedvalues.head(5))"
   ]
  },
  {
   "cell_type": "markdown",
   "id": "5adda88c-3176-405c-b9cf-9a873f40e662",
   "metadata": {},
   "source": [
    "These are not probabilities - these are the predictions of the latent normal variable. To get the probabilities, we can either use the `.predict` method which will convert it for us, or, we can take these fitted values and put them into a standard normal cumulative density function to get the probability of values being smaller than the given value:"
   ]
  },
  {
   "cell_type": "code",
   "execution_count": 13,
   "id": "c65fb7d3-60cc-4e89-935c-091dc76790de",
   "metadata": {},
   "outputs": [
    {
     "data": {
      "text/plain": [
       "array([0.13346028, 0.12287333, 0.13346028, ..., 0.1376718 , 0.1376718 ,\n",
       "       0.14910515])"
      ]
     },
     "execution_count": 13,
     "metadata": {},
     "output_type": "execute_result"
    }
   ],
   "source": [
    "# Use norm.cdf\n",
    "norm(0, 1).cdf(probit_results.fittedvalues)"
   ]
  },
  {
   "cell_type": "markdown",
   "id": "cbffe51f-8a58-47bd-8f70-89e1fd3074e6",
   "metadata": {},
   "source": [
    "And there they are - those probabilities can now be interpreted as the probability an observed binary outcome is zero or one. Traditionally the cutoff is set at .50 like in logistic regression; but this is something a researcher needs to define in advance. Confusion matrices and so on can be computed in the usual way."
   ]
  },
  {
   "cell_type": "markdown",
   "id": "70a9a423-8c5f-4b16-9b00-8bc7a65150b2",
   "metadata": {},
   "source": [
    "### Ordered Probit Regression\n",
    "When you have binary data, logistic or probit regression are great tools to have, albeit with different philosophies. There is a particular class of problem, however, that the *latent variable* approach of probit regression has great clarity for. In psychology, many studies use Likert (\"lick-ert\") scales to collect behavioural responses. Participants may rate how much they agree with a statement or have a preference for a particular stimulus on a scale from 1-7 or -3 to +3, or many other variants. \n",
    "\n",
    "Traditionally, this data is analysed with ordinary least squares. But a moment's reflection illustrates this could be misguided. Participants are forced to response on whole, *ordered* numbers, but the spacing between those numbers may not be consistent - there's no way to say that a 3 and a 4 on a 7-point scale have the same intrinsic difference as a 6 and a 7. If you're predicting values its also worth making sure the predictions resemble the data, which ordinary least squares *won't* give you. Indeed, there is a lot of work from the last few years illustrating the issues with predicting ordinal data using ordinary least squares. \n",
    "\n",
    "We will investigate the use of **ordinal regression** here, which is capable of solving the above problem. There are many ways to fit a model to ordinal data, but the one we'll discuss here is a direct continuation of **probit regression**, sometimes called *ordered probit regression*. The extension is very natural. In probit regression with binary data, we used the cumulative density function of a normal distribution to get probabilities that a datapoint belongs to either class. In ordered probit regression, in addition to estimating the coefficients, we estimate a series of **cutpoints** that carve up the cumulative density function into sections. The model then predicts the latent variable, and we use the cumulative density function to get a probability. Then, we see which *region* of the distribution the probability falls into. Lets see an example."
   ]
  },
  {
   "cell_type": "code",
   "execution_count": 14,
   "id": "df11bcbe-77be-452b-9c87-6aec0431e8d4",
   "metadata": {
    "tags": [
     "hide-input"
    ]
   },
   "outputs": [
    {
     "data": {
      "image/png": "[encoded data removed]",
      "text/plain": [
       "<Figure size 1440x720 with 2 Axes>"
      ]
     },
     "metadata": {
      "needs_background": "light"
     },
     "output_type": "display_data"
    }
   ],
   "source": [
    "with sns.plotting_context('poster'):\n",
    "    \n",
    "    # Make figure\n",
    "    fig, (count, ax) = plt.subplots(1, 2, figsize=(20, 10))\n",
    "    sns.despine(ax=ax, left=True)\n",
    "    sns.despine(ax=count)\n",
    "    ax.set(yticklabels=[], yticks=[])\n",
    "    \n",
    "    # Plot pdf\n",
    "    ax.plot(x := np.linspace(-4, 4, 100), y := standard_normal.pdf(x), linestyle='-', color='black', linewidth=3)\n",
    "    \n",
    "    # Get a few cutpoints\n",
    "    cutpoints = [-0.75, 0.1, 1.5]\n",
    "    \n",
    "    # Add scatter + shading\n",
    "    ax.scatter(cutpoints, standard_normal.pdf(cutpoints), s=500, color='black')\n",
    "    for c, alpha in zip(cutpoints, [.5, .4, .3]):\n",
    "        ax.fill_between(x, y, where=(standard_normal.cdf(x) < standard_normal.cdf(c)), \n",
    "                        color='black', alpha=alpha)\n",
    "        \n",
    "    # Get ordinal data\n",
    "    ordinal = np.digitize(norm(0, 1).rvs(1000), bins=cutpoints) + 1\n",
    "    \n",
    "    # Plot ordinal\n",
    "    sns.countplot(x=ordinal, ax=count, palette='Greys_r', edgecolor='black')\n",
    "    \n",
    "    \n"
   ]
  },
  {
   "cell_type": "markdown",
   "id": "2101dce5-4e3f-43ec-b54e-5ee9f4975f5d",
   "metadata": {},
   "source": [
    "In this imaginary dataset, we have a 1,000 data points where responses have been recorded on a scale of 1-4. The figure on the left represents the counts of the observed responses - e.g., 3 is the most common, 4 the least, and so on. The right figure shows the standard normal distribution with three points along the curve, and shaded regions.  The points represent the **cutpoints**, which highlight where a response changes from a 1 to a 2, and so on. The shaded regions represent the areas of the cumulative density function - the greater the shaded area, the more probable a response is. Its clear the lighter shaded region in the 0 - 1.5 area is tied with a greater probability of a response, and indeed '3' is the most common response. \n",
    "\n",
    "In this example, we *know* the cutpoints. As such, we can work out the probability regions via subtraction, and see which probability regions are associated with a response. \n",
    "- For the '1' responses, the CDF up to a cutpoint of -0.75 will give the probability.\n",
    "- For the '2' responses, the CDF up to -0.75 *subtracted* from the cutpoint at 0.1 will give the probability.\n",
    "- For the '3' responses, the CDF up to 0.1 *subtracted* from the cutpoint at 1.5 will give the probability.\n",
    "- For the '4' responses, 1 - the CDF up to 1.5 will give the final probability. \n",
    "\n",
    "Let's compute these using the `standard_normal` object."
   ]
  },
  {
   "cell_type": "code",
   "execution_count": 15,
   "id": "7f225b18-d231-4947-8bd9-388503ff7b2f",
   "metadata": {},
   "outputs": [
    {
     "name": "stdout",
     "output_type": "stream",
     "text": [
      "[0.23 0.31 0.39 0.07]\n"
     ]
    }
   ],
   "source": [
    "# Known cuts\n",
    "known_cutpoints = [-0.75, 0.1, 1.5]\n",
    "cut1 = standard_normal.cdf(known_cutpoints[0])\n",
    "cut2 = standard_normal.cdf(known_cutpoints[1]) - standard_normal.cdf(cutpoints[0])\n",
    "cut3 = standard_normal.cdf(known_cutpoints[2]) - standard_normal.cdf(cutpoints[1])\n",
    "cut4 = 1 - standard_normal.cdf(known_cutpoints[2])\n",
    "\n",
    "pr = np.array([cut1, cut2, cut3, cut4]).round(2)\n",
    "\n",
    "print(pr)"
   ]
  },
  {
   "cell_type": "markdown",
   "id": "ad369c2d-11bd-44e7-b193-c27151e5ddf2",
   "metadata": {},
   "source": [
    "The probabilities map cleanly onto the actual observed data. \n",
    "\n",
    "OK - that's the latent variable model of ordinal, probit regression. How can we estimate this in Python, and how can we interpret it? We will fit an ordered probit model below, using the [Affairs dataset](https://www.statsmodels.org/stable/datasets/generated/fair.html), which contains data on marital satisfaction (rated on a 1-5 scale), with other variables such as age, years married, and number of children. There are a few more, but we will focus on the latter two."
   ]
  },
  {
   "cell_type": "code",
   "execution_count": 16,
   "id": "8b3ffd0b-faa3-44cf-9850-ed278218350d",
   "metadata": {},
   "outputs": [
    {
     "data": {
      "text/html": [
       "<div>\n",
       "<style scoped>\n",
       "    .dataframe tbody tr th:only-of-type {\n",
       "        vertical-align: middle;\n",
       "    }\n",
       "\n",
       "    .dataframe tbody tr th {\n",
       "        vertical-align: top;\n",
       "    }\n",
       "\n",
       "    .dataframe thead th {\n",
       "        text-align: right;\n",
       "    }\n",
       "</style>\n",
       "<table border=\"1\" class=\"dataframe\">\n",
       "  <thead>\n",
       "    <tr style=\"text-align: right;\">\n",
       "      <th></th>\n",
       "      <th>rate_marriage</th>\n",
       "      <th>age</th>\n",
       "      <th>yrs_married</th>\n",
       "      <th>children</th>\n",
       "      <th>religious</th>\n",
       "      <th>educ</th>\n",
       "      <th>occupation</th>\n",
       "      <th>occupation_husb</th>\n",
       "      <th>affairs</th>\n",
       "    </tr>\n",
       "  </thead>\n",
       "  <tbody>\n",
       "    <tr>\n",
       "      <th>0</th>\n",
       "      <td>3.0</td>\n",
       "      <td>32.0</td>\n",
       "      <td>9.0</td>\n",
       "      <td>3.0</td>\n",
       "      <td>3.0</td>\n",
       "      <td>17.0</td>\n",
       "      <td>2.0</td>\n",
       "      <td>5.0</td>\n",
       "      <td>0.111111</td>\n",
       "    </tr>\n",
       "    <tr>\n",
       "      <th>1</th>\n",
       "      <td>3.0</td>\n",
       "      <td>27.0</td>\n",
       "      <td>13.0</td>\n",
       "      <td>3.0</td>\n",
       "      <td>1.0</td>\n",
       "      <td>14.0</td>\n",
       "      <td>3.0</td>\n",
       "      <td>4.0</td>\n",
       "      <td>3.230769</td>\n",
       "    </tr>\n",
       "    <tr>\n",
       "      <th>2</th>\n",
       "      <td>4.0</td>\n",
       "      <td>22.0</td>\n",
       "      <td>2.5</td>\n",
       "      <td>0.0</td>\n",
       "      <td>1.0</td>\n",
       "      <td>16.0</td>\n",
       "      <td>3.0</td>\n",
       "      <td>5.0</td>\n",
       "      <td>1.400000</td>\n",
       "    </tr>\n",
       "    <tr>\n",
       "      <th>3</th>\n",
       "      <td>4.0</td>\n",
       "      <td>37.0</td>\n",
       "      <td>16.5</td>\n",
       "      <td>4.0</td>\n",
       "      <td>3.0</td>\n",
       "      <td>16.0</td>\n",
       "      <td>5.0</td>\n",
       "      <td>5.0</td>\n",
       "      <td>0.727273</td>\n",
       "    </tr>\n",
       "    <tr>\n",
       "      <th>4</th>\n",
       "      <td>5.0</td>\n",
       "      <td>27.0</td>\n",
       "      <td>9.0</td>\n",
       "      <td>1.0</td>\n",
       "      <td>1.0</td>\n",
       "      <td>14.0</td>\n",
       "      <td>3.0</td>\n",
       "      <td>4.0</td>\n",
       "      <td>4.666666</td>\n",
       "    </tr>\n",
       "  </tbody>\n",
       "</table>\n",
       "</div>"
      ],
      "text/plain": [
       "   rate_marriage   age  yrs_married  children  religious  educ  occupation  \\\n",
       "0            3.0  32.0          9.0       3.0        3.0  17.0         2.0   \n",
       "1            3.0  27.0         13.0       3.0        1.0  14.0         3.0   \n",
       "2            4.0  22.0          2.5       0.0        1.0  16.0         3.0   \n",
       "3            4.0  37.0         16.5       4.0        3.0  16.0         5.0   \n",
       "4            5.0  27.0          9.0       1.0        1.0  14.0         3.0   \n",
       "\n",
       "   occupation_husb   affairs  \n",
       "0              5.0  0.111111  \n",
       "1              4.0  3.230769  \n",
       "2              5.0  1.400000  \n",
       "3              5.0  0.727273  \n",
       "4              4.0  4.666666  "
      ]
     },
     "execution_count": 16,
     "metadata": {},
     "output_type": "execute_result"
    }
   ],
   "source": [
    "# Load the dataset\n",
    "affairs = sm.datasets.fair.load().data\n",
    "affairs.head()"
   ]
  },
  {
   "cell_type": "markdown",
   "id": "023bc6db-064f-4f71-99b0-d2eb814f5eeb",
   "metadata": {},
   "source": [
    "We will try to predict `rate_marriage` from `yrs_married` and number of `children`. But first, we need to set the `rate_marriage` variable as an ordered category, which we do with pandas `pd.Categorical` function:"
   ]
  },
  {
   "cell_type": "code",
   "execution_count": 17,
   "id": "946d91d2-4462-4e36-8287-33210f4321ce",
   "metadata": {},
   "outputs": [
    {
     "data": {
      "text/html": [
       "<div>\n",
       "<style scoped>\n",
       "    .dataframe tbody tr th:only-of-type {\n",
       "        vertical-align: middle;\n",
       "    }\n",
       "\n",
       "    .dataframe tbody tr th {\n",
       "        vertical-align: top;\n",
       "    }\n",
       "\n",
       "    .dataframe thead th {\n",
       "        text-align: right;\n",
       "    }\n",
       "</style>\n",
       "<table border=\"1\" class=\"dataframe\">\n",
       "  <thead>\n",
       "    <tr style=\"text-align: right;\">\n",
       "      <th></th>\n",
       "      <th>rate_marriage</th>\n",
       "      <th>age</th>\n",
       "      <th>yrs_married</th>\n",
       "      <th>children</th>\n",
       "      <th>religious</th>\n",
       "      <th>educ</th>\n",
       "      <th>occupation</th>\n",
       "      <th>occupation_husb</th>\n",
       "      <th>affairs</th>\n",
       "      <th>marriage_category</th>\n",
       "    </tr>\n",
       "  </thead>\n",
       "  <tbody>\n",
       "    <tr>\n",
       "      <th>0</th>\n",
       "      <td>3.0</td>\n",
       "      <td>32.0</td>\n",
       "      <td>9.0</td>\n",
       "      <td>3.0</td>\n",
       "      <td>3.0</td>\n",
       "      <td>17.0</td>\n",
       "      <td>2.0</td>\n",
       "      <td>5.0</td>\n",
       "      <td>0.111111</td>\n",
       "      <td>3</td>\n",
       "    </tr>\n",
       "    <tr>\n",
       "      <th>1</th>\n",
       "      <td>3.0</td>\n",
       "      <td>27.0</td>\n",
       "      <td>13.0</td>\n",
       "      <td>3.0</td>\n",
       "      <td>1.0</td>\n",
       "      <td>14.0</td>\n",
       "      <td>3.0</td>\n",
       "      <td>4.0</td>\n",
       "      <td>3.230769</td>\n",
       "      <td>3</td>\n",
       "    </tr>\n",
       "    <tr>\n",
       "      <th>2</th>\n",
       "      <td>4.0</td>\n",
       "      <td>22.0</td>\n",
       "      <td>2.5</td>\n",
       "      <td>0.0</td>\n",
       "      <td>1.0</td>\n",
       "      <td>16.0</td>\n",
       "      <td>3.0</td>\n",
       "      <td>5.0</td>\n",
       "      <td>1.400000</td>\n",
       "      <td>4</td>\n",
       "    </tr>\n",
       "    <tr>\n",
       "      <th>3</th>\n",
       "      <td>4.0</td>\n",
       "      <td>37.0</td>\n",
       "      <td>16.5</td>\n",
       "      <td>4.0</td>\n",
       "      <td>3.0</td>\n",
       "      <td>16.0</td>\n",
       "      <td>5.0</td>\n",
       "      <td>5.0</td>\n",
       "      <td>0.727273</td>\n",
       "      <td>4</td>\n",
       "    </tr>\n",
       "    <tr>\n",
       "      <th>4</th>\n",
       "      <td>5.0</td>\n",
       "      <td>27.0</td>\n",
       "      <td>9.0</td>\n",
       "      <td>1.0</td>\n",
       "      <td>1.0</td>\n",
       "      <td>14.0</td>\n",
       "      <td>3.0</td>\n",
       "      <td>4.0</td>\n",
       "      <td>4.666666</td>\n",
       "      <td>5</td>\n",
       "    </tr>\n",
       "  </tbody>\n",
       "</table>\n",
       "</div>"
      ],
      "text/plain": [
       "   rate_marriage   age  yrs_married  children  religious  educ  occupation  \\\n",
       "0            3.0  32.0          9.0       3.0        3.0  17.0         2.0   \n",
       "1            3.0  27.0         13.0       3.0        1.0  14.0         3.0   \n",
       "2            4.0  22.0          2.5       0.0        1.0  16.0         3.0   \n",
       "3            4.0  37.0         16.5       4.0        3.0  16.0         5.0   \n",
       "4            5.0  27.0          9.0       1.0        1.0  14.0         3.0   \n",
       "\n",
       "   occupation_husb   affairs marriage_category  \n",
       "0              5.0  0.111111                 3  \n",
       "1              4.0  3.230769                 3  \n",
       "2              5.0  1.400000                 4  \n",
       "3              5.0  0.727273                 4  \n",
       "4              4.0  4.666666                 5  "
      ]
     },
     "execution_count": 17,
     "metadata": {},
     "output_type": "execute_result"
    }
   ],
   "source": [
    "# Convert to categorical\n",
    "affairs['marriage_category'] = pd.Categorical(affairs['rate_marriage'], categories=[1, 2, 3, 4, 5], ordered=True)\n",
    "affairs.head()"
   ]
  },
  {
   "cell_type": "markdown",
   "id": "f204acb1-27d2-4842-a166-a197646e98a3",
   "metadata": {},
   "source": [
    "OK, this looks perfect. Fitting the model is somewhat more involved as ordinal regression isn't under the usual `statsmodels.formula.api`. We import it from the `miscmodels.ordinal_model` namespace, like so:"
   ]
  },
  {
   "cell_type": "code",
   "execution_count": 18,
   "id": "0bf1b360-f55d-4286-9569-82a672f20168",
   "metadata": {},
   "outputs": [],
   "source": [
    "# Import ordinal model\n",
    "from statsmodels.miscmodels.ordinal_model import OrderedModel"
   ]
  },
  {
   "cell_type": "markdown",
   "id": "b7e67f98-b2b5-49ed-97a7-c719ac2e785a",
   "metadata": {},
   "source": [
    "We also can't fit this directly with a formula as we have done above. Instead, we use the `from_formula` attribute and fit it as normal, specifying the `distr` keyword as 'probit'."
   ]
  },
  {
   "cell_type": "code",
   "execution_count": 19,
   "id": "e2ee92b0-cd97-4209-9327-fe1e0423a082",
   "metadata": {},
   "outputs": [
    {
     "name": "stdout",
     "output_type": "stream",
     "text": [
      "Optimization terminated successfully.\n",
      "         Current function value: 1.236414\n",
      "         Iterations: 267\n",
      "         Function evaluations: 426\n"
     ]
    },
    {
     "data": {
      "text/html": [
       "<table class=\"simpletable\">\n",
       "<caption>OrderedModel Results</caption>\n",
       "<tr>\n",
       "  <th>Dep. Variable:</th>     <td>marriage_category</td> <th>  Log-Likelihood:    </th> <td> -7871.0</td> \n",
       "</tr>\n",
       "<tr>\n",
       "  <th>Model:</th>               <td>OrderedModel</td>    <th>  AIC:               </th> <td>1.575e+04</td>\n",
       "</tr>\n",
       "<tr>\n",
       "  <th>Method:</th>           <td>Maximum Likelihood</td> <th>  BIC:               </th> <td>1.579e+04</td>\n",
       "</tr>\n",
       "<tr>\n",
       "  <th>Date:</th>              <td>Sat, 09 Jul 2022</td>  <th>                     </th>     <td> </td>    \n",
       "</tr>\n",
       "<tr>\n",
       "  <th>Time:</th>                  <td>11:52:32</td>      <th>                     </th>     <td> </td>    \n",
       "</tr>\n",
       "<tr>\n",
       "  <th>No. Observations:</th>       <td>  6366</td>       <th>                     </th>     <td> </td>    \n",
       "</tr>\n",
       "<tr>\n",
       "  <th>Df Residuals:</th>           <td>  6360</td>       <th>                     </th>     <td> </td>    \n",
       "</tr>\n",
       "<tr>\n",
       "  <th>Df Model:</th>               <td>     6</td>       <th>                     </th>     <td> </td>    \n",
       "</tr>\n",
       "</table>\n",
       "<table class=\"simpletable\">\n",
       "<tr>\n",
       "       <td></td>          <th>coef</th>     <th>std err</th>      <th>z</th>      <th>P>|z|</th>  <th>[0.025</th>    <th>0.975]</th>  \n",
       "</tr>\n",
       "<tr>\n",
       "  <th>yrs_married</th> <td>   -0.0103</td> <td>    0.003</td> <td>   -3.470</td> <td> 0.001</td> <td>   -0.016</td> <td>   -0.004</td>\n",
       "</tr>\n",
       "<tr>\n",
       "  <th>children</th>    <td>   -0.0558</td> <td>    0.015</td> <td>   -3.714</td> <td> 0.000</td> <td>   -0.085</td> <td>   -0.026</td>\n",
       "</tr>\n",
       "<tr>\n",
       "  <th>1/2</th>         <td>   -2.3552</td> <td>    0.045</td> <td>  -52.493</td> <td> 0.000</td> <td>   -2.443</td> <td>   -2.267</td>\n",
       "</tr>\n",
       "<tr>\n",
       "  <th>2/3</th>         <td>   -0.3653</td> <td>    0.052</td> <td>   -6.967</td> <td> 0.000</td> <td>   -0.468</td> <td>   -0.263</td>\n",
       "</tr>\n",
       "<tr>\n",
       "  <th>3/4</th>         <td>   -0.3110</td> <td>    0.029</td> <td>  -10.625</td> <td> 0.000</td> <td>   -0.368</td> <td>   -0.254</td>\n",
       "</tr>\n",
       "<tr>\n",
       "  <th>4/5</th>         <td>   -0.0420</td> <td>    0.018</td> <td>   -2.304</td> <td> 0.021</td> <td>   -0.078</td> <td>   -0.006</td>\n",
       "</tr>\n",
       "</table>"
      ],
      "text/plain": [
       "<class 'statsmodels.iolib.summary.Summary'>\n",
       "\"\"\"\n",
       "                             OrderedModel Results                             \n",
       "==============================================================================\n",
       "Dep. Variable:      marriage_category   Log-Likelihood:                -7871.0\n",
       "Model:                   OrderedModel   AIC:                         1.575e+04\n",
       "Method:            Maximum Likelihood   BIC:                         1.579e+04\n",
       "Date:                Sat, 09 Jul 2022                                         \n",
       "Time:                        11:52:32                                         \n",
       "No. Observations:                6366                                         \n",
       "Df Residuals:                    6360                                         \n",
       "Df Model:                           6                                         \n",
       "===============================================================================\n",
       "                  coef    std err          z      P>|z|      [0.025      0.975]\n",
       "-------------------------------------------------------------------------------\n",
       "yrs_married    -0.0103      0.003     -3.470      0.001      -0.016      -0.004\n",
       "children       -0.0558      0.015     -3.714      0.000      -0.085      -0.026\n",
       "1/2            -2.3552      0.045    -52.493      0.000      -2.443      -2.267\n",
       "2/3            -0.3653      0.052     -6.967      0.000      -0.468      -0.263\n",
       "3/4            -0.3110      0.029    -10.625      0.000      -0.368      -0.254\n",
       "4/5            -0.0420      0.018     -2.304      0.021      -0.078      -0.006\n",
       "===============================================================================\n",
       "\"\"\""
      ]
     },
     "execution_count": 19,
     "metadata": {},
     "output_type": "execute_result"
    }
   ],
   "source": [
    "# Fit the model\n",
    "ordered_probit = OrderedModel.from_formula('marriage_category ~ yrs_married + children', \n",
    "                                           data=affairs, distr='probit')\n",
    "\n",
    "# Fit the model\n",
    "ordered_results = ordered_probit.fit()\n",
    "\n",
    "# Show summary\n",
    "ordered_results.summary()"
   ]
  },
  {
   "cell_type": "markdown",
   "id": "52fabf1f-f49a-42b6-a3bf-3dc2b021a34c",
   "metadata": {},
   "source": [
    "We get two coefficients for the predictors, but notice here we also get interesting extra rows - `1/2`, `2/3`, `3/4`, `4/5`. These represent the cutpoints - where responses *switch* from one to another. The coefficients are interpreted in much the same way as probit regression - one unit increases in the predictor are associated with a coefficient-value change in the latent variable. Somewhat frustratingly, the cutpoints are given on a different scale to the underlying latent variable. Fortunately, we can convert them using the models `.transform_threshold_params`. Let's take a look:"
   ]
  },
  {
   "cell_type": "code",
   "execution_count": 20,
   "id": "d7026e44-6424-451d-96a8-2853fddd7f85",
   "metadata": {},
   "outputs": [
    {
     "data": {
      "text/plain": [
       "array([       -inf, -2.35518476, -1.661222  , -0.92852619,  0.03032953,\n",
       "               inf])"
      ]
     },
     "execution_count": 20,
     "metadata": {},
     "output_type": "execute_result"
    }
   ],
   "source": [
    "# Transform the cutpoints\n",
    "n_cuts = 4\n",
    "ordered_probit.transform_threshold_params(ordered_results.params[-n_cuts:])"
   ]
  },
  {
   "cell_type": "markdown",
   "id": "befd1012-aae9-44b1-b2c5-c5114c4cfd2c",
   "metadata": {},
   "source": [
    "Those cutpoints show where along the distribution the switchpoints are. How to recover the predictions of an ordinal model? There is no `.fittedvalues` attribute here, but if we examine the `.predict()` output of the model, we will see something interesting:"
   ]
  },
  {
   "cell_type": "code",
   "execution_count": 21,
   "id": "e7fa7445-ad68-4f97-a833-07a1a99a6064",
   "metadata": {},
   "outputs": [
    {
     "data": {
      "text/plain": [
       "array([[0.01806795, 0.06247448, 0.17128938, 0.3623057 , 0.3858625 ],\n",
       "       [0.01997206, 0.06688539, 0.17825335, 0.36463794, 0.37025126],\n",
       "       [0.00991585, 0.04105062, 0.13233409, 0.33902752, 0.47767191],\n",
       "       ...,\n",
       "       [0.00991585, 0.04105062, 0.13233409, 0.33902752, 0.47767191],\n",
       "       [0.01261749, 0.04869801, 0.14733056, 0.35007508, 0.44127886],\n",
       "       [0.00991585, 0.04105062, 0.13233409, 0.33902752, 0.47767191]])"
      ]
     },
     "execution_count": 21,
     "metadata": {},
     "output_type": "execute_result"
    }
   ],
   "source": [
    "# Use the model to predict\n",
    "ordered_results.predict()"
   ]
  },
  {
   "cell_type": "markdown",
   "id": "6dd3a610-4a88-4ae2-8d9f-06e1866f0936",
   "metadata": {},
   "source": [
    "This array represents the probability that each observation (the rows) belongs to each bin along the sliced up distribution (each column). For example, the first column would be the probability the response to marital satisfaction is '1'. To recover actual points, we simply take the maximum, which is perhaps clearer in a pandas dataframe:"
   ]
  },
  {
   "cell_type": "code",
   "execution_count": 22,
   "id": "3e7ede4b-11d4-438d-b887-bc55cc05773a",
   "metadata": {},
   "outputs": [
    {
     "data": {
      "text/plain": [
       "0       5\n",
       "1       5\n",
       "2       5\n",
       "3       4\n",
       "4       5\n",
       "       ..\n",
       "6361    5\n",
       "6362    5\n",
       "6363    5\n",
       "6364    5\n",
       "6365    5\n",
       "Length: 6366, dtype: int64"
      ]
     },
     "execution_count": 22,
     "metadata": {},
     "output_type": "execute_result"
    }
   ],
   "source": [
    "# Set up ordinal predictions\n",
    "ordinal_predictions = pd.DataFrame(ordered_results.predict(),\n",
    "                                   columns=affairs['marriage_category'].cat.categories)\n",
    "\n",
    "# Show the predictions\n",
    "ordinal_predictions.idxmax(axis='columns')"
   ]
  },
  {
   "cell_type": "markdown",
   "id": "5d4c8d6b-e0d0-46ae-bb2c-bb7527526377",
   "metadata": {},
   "source": [
    "These can then be compared with the observed data using confusion-matrix based approaches. "
   ]
  },
  {
   "cell_type": "markdown",
   "id": "6736c93f-191e-43c0-ab0a-a643100ce65d",
   "metadata": {},
   "source": [
    "### Poisson or Negative Binomial models"
   ]
  },
  {
   "cell_type": "markdown",
   "id": "20843f9a-ce2b-44a0-bf4a-e297ffac9289",
   "metadata": {},
   "source": [
    "Though not encountered too often in psychological science, data that are distributed as counts are popular across other fields and are becoming more popular in behavioural research. Count data represent data that are coded as whole numbers (integers) that start at zero and have no upper limit. Normal regression models like ordinary least squares may make negative count predictions, or fractional predictions, which make little sense (what does it mean to have, say, negative counts of a behaviour?).\n",
    "\n",
    "Fortunately, count data can be modelled relatively simply with either a $Poisson$ or $Negative Binomial$ regression. These models are named after the distributions of the same name which describe the probability of count data. The Poisson is a straightforward single-parameter distribution that describes distributions of counts. The single parameter is sometimes called the 'rate', and it represents the average of all the count data in a Poisson distribution. So while the Poisson distribution produces whole-integer values, its parameter can be a continuous (positive!) value. \n",
    "\n",
    "The negative binomial is traditionally used to describe the probability of observing a number of failures before a single success - e.g. how many times must I roll a dice *before* I get a 3? The number of 'fails' (roll != 3) would be modelled by the negative binomial. \n",
    "\n",
    "Sometimes, the single-parameter Poisson does a good enough job in regression contexts. However sometimes we encounter a phenomenon called *over-dispersion*, which is where the variability of the counts exceeds the average tendency. Fortunately, the negative binomial can be used instead, as it allows for a second parameter to incorporate the variability. \n",
    "\n",
    "If this sounds too technical, don't worry - it really is. The details are not vital; what we need to focus on is if we are dealing with count data, we can start with the Poisson model, check for this overdispersion, and if it appears, switch to the negative binomial."
   ]
  },
  {
   "cell_type": "markdown",
   "id": "6795b5d1-67a2-4d7c-8308-e9d0b0dbe727",
   "metadata": {},
   "source": [
    "#### Poisson Regression"
   ]
  },
  {
   "cell_type": "markdown",
   "id": "2e0b65de-7831-4763-8f47-f3b4beb319e8",
   "metadata": {},
   "source": [
    "Using the `rand` data, we could think of a different research question, asking whether the number of medical visits `mdvis` (a count variable!) is influenced by the coinsurance payment `lncoins`, as well as the number of chronic diseases, `disea`. Doing this in `statsmodels` is very easy - same idea as before; get the formula ready and use the `Poisson` function!"
   ]
  },
  {
   "cell_type": "code",
   "execution_count": 23,
   "id": "3bc65c7c-ef19-4493-8fca-f0d9bfb47c92",
   "metadata": {},
   "outputs": [
    {
     "name": "stdout",
     "output_type": "stream",
     "text": [
      "Optimization terminated successfully.\n",
      "         Current function value: 3.141408\n",
      "         Iterations 5\n"
     ]
    },
    {
     "data": {
      "text/html": [
       "<table class=\"simpletable\">\n",
       "<caption>Poisson Regression Results</caption>\n",
       "<tr>\n",
       "  <th>Dep. Variable:</th>         <td>mdvis</td>      <th>  No. Observations:  </th>  <td> 20190</td> \n",
       "</tr>\n",
       "<tr>\n",
       "  <th>Model:</th>                <td>Poisson</td>     <th>  Df Residuals:      </th>  <td> 20187</td> \n",
       "</tr>\n",
       "<tr>\n",
       "  <th>Method:</th>                 <td>MLE</td>       <th>  Df Model:          </th>  <td>     2</td> \n",
       "</tr>\n",
       "<tr>\n",
       "  <th>Date:</th>            <td>Sat, 09 Jul 2022</td> <th>  Pseudo R-squ.:     </th>  <td>0.04835</td>\n",
       "</tr>\n",
       "<tr>\n",
       "  <th>Time:</th>                <td>11:52:32</td>     <th>  Log-Likelihood:    </th> <td> -63425.</td>\n",
       "</tr>\n",
       "<tr>\n",
       "  <th>converged:</th>             <td>True</td>       <th>  LL-Null:           </th> <td> -66647.</td>\n",
       "</tr>\n",
       "<tr>\n",
       "  <th>Covariance Type:</th>     <td>nonrobust</td>    <th>  LLR p-value:       </th>  <td> 0.000</td> \n",
       "</tr>\n",
       "</table>\n",
       "<table class=\"simpletable\">\n",
       "<tr>\n",
       "      <td></td>         <th>coef</th>     <th>std err</th>      <th>z</th>      <th>P>|z|</th>  <th>[0.025</th>    <th>0.975]</th>  \n",
       "</tr>\n",
       "<tr>\n",
       "  <th>Intercept</th> <td>    0.6474</td> <td>    0.009</td> <td>   75.120</td> <td> 0.000</td> <td>    0.630</td> <td>    0.664</td>\n",
       "</tr>\n",
       "<tr>\n",
       "  <th>lncoins</th>   <td>   -0.0597</td> <td>    0.002</td> <td>  -27.788</td> <td> 0.000</td> <td>   -0.064</td> <td>   -0.055</td>\n",
       "</tr>\n",
       "<tr>\n",
       "  <th>disea</th>     <td>    0.0409</td> <td>    0.001</td> <td>   81.383</td> <td> 0.000</td> <td>    0.040</td> <td>    0.042</td>\n",
       "</tr>\n",
       "</table>"
      ],
      "text/plain": [
       "<class 'statsmodels.iolib.summary.Summary'>\n",
       "\"\"\"\n",
       "                          Poisson Regression Results                          \n",
       "==============================================================================\n",
       "Dep. Variable:                  mdvis   No. Observations:                20190\n",
       "Model:                        Poisson   Df Residuals:                    20187\n",
       "Method:                           MLE   Df Model:                            2\n",
       "Date:                Sat, 09 Jul 2022   Pseudo R-squ.:                 0.04835\n",
       "Time:                        11:52:32   Log-Likelihood:                -63425.\n",
       "converged:                       True   LL-Null:                       -66647.\n",
       "Covariance Type:            nonrobust   LLR p-value:                     0.000\n",
       "==============================================================================\n",
       "                 coef    std err          z      P>|z|      [0.025      0.975]\n",
       "------------------------------------------------------------------------------\n",
       "Intercept      0.6474      0.009     75.120      0.000       0.630       0.664\n",
       "lncoins       -0.0597      0.002    -27.788      0.000      -0.064      -0.055\n",
       "disea          0.0409      0.001     81.383      0.000       0.040       0.042\n",
       "==============================================================================\n",
       "\"\"\""
      ]
     },
     "execution_count": 23,
     "metadata": {},
     "output_type": "execute_result"
    }
   ],
   "source": [
    "# Fit a Poisson regression\n",
    "poisson_results = smf.poisson('mdvis ~ lncoins + disea', data=rand).fit()\n",
    "\n",
    "# Summarise\n",
    "poisson_results.summary()"
   ]
  },
  {
   "cell_type": "markdown",
   "id": "264683c0-e8f0-435a-9254-6117d827895c",
   "metadata": {},
   "source": [
    "Great, some results! What do these mean again? \n",
    "\n",
    "Like logistic regression, Poisson regression uses a special kind of function to transform the outcome variable in order to model it. It uses a log-transform, which means the coefficients are on the log-scale. That is, as the predictor increases, the log-count of the variable increases by one. As before we can exponentiate these:"
   ]
  },
  {
   "cell_type": "code",
   "execution_count": 24,
   "id": "2af147c0-b397-4084-821b-1f9c2d405974",
   "metadata": {},
   "outputs": [
    {
     "data": {
      "text/plain": [
       "Intercept    1.910517\n",
       "lncoins      0.942055\n",
       "disea        1.041777\n",
       "dtype: float64"
      ]
     },
     "metadata": {},
     "output_type": "display_data"
    }
   ],
   "source": [
    "# Exponentiate\n",
    "display(np.exp(poisson_results.params))"
   ]
  },
  {
   "cell_type": "markdown",
   "id": "ee97af27-a1eb-4df0-9be9-e4b570d163be",
   "metadata": {},
   "source": [
    "That is somewhat clearer - as the number of diseases increases, so does the count of doctors visits. And, as the premium goes up, the number of visits go down. This makes sense, the pricier it is to get healthcare, the less likely you are to go. \n",
    "\n",
    "As with other kinds of generalized linear models, its often easier to work with the predictions directly to draw some conclusions. If we call the `.predict` method on fitted Poisson regression model, we will get the predictions back with no transformations needed. If you want to verify its correct you can exponentiate the `.fittedvalues` attribute and you will get the same results!"
   ]
  },
  {
   "cell_type": "code",
   "execution_count": 25,
   "id": "e4f8b174-0d5e-494d-a980-01e9b3e1a956",
   "metadata": {},
   "outputs": [
    {
     "data": {
      "text/html": [
       "<div>\n",
       "<style scoped>\n",
       "    .dataframe tbody tr th:only-of-type {\n",
       "        vertical-align: middle;\n",
       "    }\n",
       "\n",
       "    .dataframe tbody tr th {\n",
       "        vertical-align: top;\n",
       "    }\n",
       "\n",
       "    .dataframe thead th {\n",
       "        text-align: right;\n",
       "    }\n",
       "</style>\n",
       "<table border=\"1\" class=\"dataframe\">\n",
       "  <thead>\n",
       "    <tr style=\"text-align: right;\">\n",
       "      <th></th>\n",
       "      <th>mdvis</th>\n",
       "      <th>lncoins</th>\n",
       "      <th>idp</th>\n",
       "      <th>lpi</th>\n",
       "      <th>fmde</th>\n",
       "      <th>physlm</th>\n",
       "      <th>disea</th>\n",
       "      <th>hlthg</th>\n",
       "      <th>hlthf</th>\n",
       "      <th>hlthp</th>\n",
       "      <th>predictions</th>\n",
       "      <th>predicted_idp</th>\n",
       "      <th>predicted_mdvis</th>\n",
       "    </tr>\n",
       "  </thead>\n",
       "  <tbody>\n",
       "    <tr>\n",
       "      <th>0</th>\n",
       "      <td>0</td>\n",
       "      <td>4.61512</td>\n",
       "      <td>1</td>\n",
       "      <td>6.907755</td>\n",
       "      <td>0.0</td>\n",
       "      <td>0.0</td>\n",
       "      <td>13.73189</td>\n",
       "      <td>1</td>\n",
       "      <td>0</td>\n",
       "      <td>0</td>\n",
       "      <td>0.129403</td>\n",
       "      <td>0</td>\n",
       "      <td>2.544425</td>\n",
       "    </tr>\n",
       "    <tr>\n",
       "      <th>1</th>\n",
       "      <td>2</td>\n",
       "      <td>4.61512</td>\n",
       "      <td>1</td>\n",
       "      <td>6.907755</td>\n",
       "      <td>0.0</td>\n",
       "      <td>0.0</td>\n",
       "      <td>13.73189</td>\n",
       "      <td>1</td>\n",
       "      <td>0</td>\n",
       "      <td>0</td>\n",
       "      <td>0.118646</td>\n",
       "      <td>0</td>\n",
       "      <td>2.544425</td>\n",
       "    </tr>\n",
       "    <tr>\n",
       "      <th>2</th>\n",
       "      <td>0</td>\n",
       "      <td>4.61512</td>\n",
       "      <td>1</td>\n",
       "      <td>6.907755</td>\n",
       "      <td>0.0</td>\n",
       "      <td>0.0</td>\n",
       "      <td>13.73189</td>\n",
       "      <td>1</td>\n",
       "      <td>0</td>\n",
       "      <td>0</td>\n",
       "      <td>0.129403</td>\n",
       "      <td>0</td>\n",
       "      <td>2.544425</td>\n",
       "    </tr>\n",
       "    <tr>\n",
       "      <th>3</th>\n",
       "      <td>0</td>\n",
       "      <td>4.61512</td>\n",
       "      <td>1</td>\n",
       "      <td>6.907755</td>\n",
       "      <td>0.0</td>\n",
       "      <td>0.0</td>\n",
       "      <td>13.73189</td>\n",
       "      <td>1</td>\n",
       "      <td>0</td>\n",
       "      <td>0</td>\n",
       "      <td>0.129403</td>\n",
       "      <td>0</td>\n",
       "      <td>2.544425</td>\n",
       "    </tr>\n",
       "    <tr>\n",
       "      <th>4</th>\n",
       "      <td>0</td>\n",
       "      <td>4.61512</td>\n",
       "      <td>1</td>\n",
       "      <td>6.907755</td>\n",
       "      <td>0.0</td>\n",
       "      <td>0.0</td>\n",
       "      <td>13.73189</td>\n",
       "      <td>1</td>\n",
       "      <td>0</td>\n",
       "      <td>0</td>\n",
       "      <td>0.129403</td>\n",
       "      <td>0</td>\n",
       "      <td>2.544425</td>\n",
       "    </tr>\n",
       "  </tbody>\n",
       "</table>\n",
       "</div>"
      ],
      "text/plain": [
       "   mdvis  lncoins  idp       lpi  fmde  physlm     disea  hlthg  hlthf  hlthp  \\\n",
       "0      0  4.61512    1  6.907755   0.0     0.0  13.73189      1      0      0   \n",
       "1      2  4.61512    1  6.907755   0.0     0.0  13.73189      1      0      0   \n",
       "2      0  4.61512    1  6.907755   0.0     0.0  13.73189      1      0      0   \n",
       "3      0  4.61512    1  6.907755   0.0     0.0  13.73189      1      0      0   \n",
       "4      0  4.61512    1  6.907755   0.0     0.0  13.73189      1      0      0   \n",
       "\n",
       "   predictions  predicted_idp  predicted_mdvis  \n",
       "0     0.129403              0         2.544425  \n",
       "1     0.118646              0         2.544425  \n",
       "2     0.129403              0         2.544425  \n",
       "3     0.129403              0         2.544425  \n",
       "4     0.129403              0         2.544425  "
      ]
     },
     "metadata": {},
     "output_type": "display_data"
    }
   ],
   "source": [
    "# Call predict and store the predictions in the rand dataframe\n",
    "rand['predicted_mdvis'] = poisson_results.predict()\n",
    "\n",
    "display(rand.head())"
   ]
  },
  {
   "cell_type": "markdown",
   "id": "4f303d29-69ef-4538-95e9-179b4358d4ec",
   "metadata": {},
   "source": [
    "Something unusual is going on. The predicted values are floating numbers, *not* count data. Whats happening here? Much like with ordinary least squares and logistic regression, Poisson regression is predicting the *expected* value of the observed data point - essentially, what the average value of that data point would be, given its values on the predictors. So what we are really looking at here is the parameter or 'rate' of the distribution that the data point came from!\n",
    "\n",
    "We can expand our fishing adventures by using an alternative function in the results object of a Poisson regression, `.predict_prob`. This function takes the predicted rate (our `predicted_mdvis` variable above, and it does something quite clever:\n",
    "\n",
    "- It takes all the whole numbers from zero the maximum count value observed in the data.\n",
    "- For each datapoint, it takes the predicted rate, and builds a *probability mass function* from a Poisson distribution with *that* rate. What's a probability mass function?! Its just the probability of seeing a specific count value, given a particular Poisson 'rate'. \n",
    "- It returns all of those probabilities to us, and we can see what has the highest value - the most probable count value of our data.\n",
    "\n",
    "This is going to be a little tricky to unpack, so lets do this step by step in the order above."
   ]
  },
  {
   "cell_type": "code",
   "execution_count": 26,
   "id": "55589953-9fea-4118-8908-71f38aa531b8",
   "metadata": {},
   "outputs": [
    {
     "data": {
      "text/html": [
       "<div>\n",
       "<style scoped>\n",
       "    .dataframe tbody tr th:only-of-type {\n",
       "        vertical-align: middle;\n",
       "    }\n",
       "\n",
       "    .dataframe tbody tr th {\n",
       "        vertical-align: top;\n",
       "    }\n",
       "\n",
       "    .dataframe thead th {\n",
       "        text-align: right;\n",
       "    }\n",
       "</style>\n",
       "<table border=\"1\" class=\"dataframe\">\n",
       "  <thead>\n",
       "    <tr style=\"text-align: right;\">\n",
       "      <th></th>\n",
       "      <th>0</th>\n",
       "      <th>1</th>\n",
       "      <th>2</th>\n",
       "      <th>3</th>\n",
       "      <th>4</th>\n",
       "      <th>5</th>\n",
       "      <th>6</th>\n",
       "      <th>7</th>\n",
       "      <th>8</th>\n",
       "      <th>9</th>\n",
       "      <th>...</th>\n",
       "      <th>68</th>\n",
       "      <th>69</th>\n",
       "      <th>70</th>\n",
       "      <th>71</th>\n",
       "      <th>72</th>\n",
       "      <th>73</th>\n",
       "      <th>74</th>\n",
       "      <th>75</th>\n",
       "      <th>76</th>\n",
       "      <th>77</th>\n",
       "    </tr>\n",
       "  </thead>\n",
       "  <tbody>\n",
       "    <tr>\n",
       "      <th>0</th>\n",
       "      <td>0.078518</td>\n",
       "      <td>0.199784</td>\n",
       "      <td>0.254167</td>\n",
       "      <td>0.21557</td>\n",
       "      <td>0.137125</td>\n",
       "      <td>0.069781</td>\n",
       "      <td>0.029592</td>\n",
       "      <td>0.010756</td>\n",
       "      <td>0.003421</td>\n",
       "      <td>0.000967</td>\n",
       "      <td>...</td>\n",
       "      <td>1.203950e-70</td>\n",
       "      <td>4.439651e-72</td>\n",
       "      <td>1.613766e-73</td>\n",
       "      <td>5.783247e-75</td>\n",
       "      <td>2.043755e-76</td>\n",
       "      <td>7.123537e-78</td>\n",
       "      <td>2.449365e-79</td>\n",
       "      <td>8.309635e-81</td>\n",
       "      <td>2.782006e-82</td>\n",
       "      <td>9.192993e-84</td>\n",
       "    </tr>\n",
       "    <tr>\n",
       "      <th>1</th>\n",
       "      <td>0.078518</td>\n",
       "      <td>0.199784</td>\n",
       "      <td>0.254167</td>\n",
       "      <td>0.21557</td>\n",
       "      <td>0.137125</td>\n",
       "      <td>0.069781</td>\n",
       "      <td>0.029592</td>\n",
       "      <td>0.010756</td>\n",
       "      <td>0.003421</td>\n",
       "      <td>0.000967</td>\n",
       "      <td>...</td>\n",
       "      <td>1.203950e-70</td>\n",
       "      <td>4.439651e-72</td>\n",
       "      <td>1.613766e-73</td>\n",
       "      <td>5.783247e-75</td>\n",
       "      <td>2.043755e-76</td>\n",
       "      <td>7.123537e-78</td>\n",
       "      <td>2.449365e-79</td>\n",
       "      <td>8.309635e-81</td>\n",
       "      <td>2.782006e-82</td>\n",
       "      <td>9.192993e-84</td>\n",
       "    </tr>\n",
       "  </tbody>\n",
       "</table>\n",
       "<p>2 rows × 78 columns</p>\n",
       "</div>"
      ],
      "text/plain": [
       "         0         1         2        3         4         5         6   \\\n",
       "0  0.078518  0.199784  0.254167  0.21557  0.137125  0.069781  0.029592   \n",
       "1  0.078518  0.199784  0.254167  0.21557  0.137125  0.069781  0.029592   \n",
       "\n",
       "         7         8         9   ...            68            69  \\\n",
       "0  0.010756  0.003421  0.000967  ...  1.203950e-70  4.439651e-72   \n",
       "1  0.010756  0.003421  0.000967  ...  1.203950e-70  4.439651e-72   \n",
       "\n",
       "             70            71            72            73            74  \\\n",
       "0  1.613766e-73  5.783247e-75  2.043755e-76  7.123537e-78  2.449365e-79   \n",
       "1  1.613766e-73  5.783247e-75  2.043755e-76  7.123537e-78  2.449365e-79   \n",
       "\n",
       "             75            76            77  \n",
       "0  8.309635e-81  2.782006e-82  9.192993e-84  \n",
       "1  8.309635e-81  2.782006e-82  9.192993e-84  \n",
       "\n",
       "[2 rows x 78 columns]"
      ]
     },
     "metadata": {},
     "output_type": "display_data"
    }
   ],
   "source": [
    "# Build a set of values from zero to the maximum observed in our data\n",
    "# We add one because of Pythons 'up to but don't include' rule - see chapter 1!\n",
    "counts = np.arange(0, max(rand['mdvis'] + 1))\n",
    "\n",
    "# Get the probability mass of each datapoint, given the predicted rate!\n",
    "probability_mass = poisson_results.predict_prob()\n",
    "\n",
    "# Put these in a dataframe\n",
    "prob_mass_df = pd.DataFrame(probability_mass, columns=counts)\n",
    "display(prob_mass_df.head(2))"
   ]
  },
  {
   "cell_type": "markdown",
   "id": "1a8c1c2d-94b6-489c-a9cb-9044d961984b",
   "metadata": {},
   "source": [
    "OK! Only two datapoints are shown but we have the probability that the datapoint is the count shown in the DataFrame header, given the predicted rate. If we want to collapse this into a single number, all we need to is take index with the maximum value (i.e. , for row one, what is the column with the highest probability?)\n",
    "\n",
    "`pandas` can help here, with the `.idxmax` method."
   ]
  },
  {
   "cell_type": "code",
   "execution_count": 27,
   "id": "088b458c-0689-4f65-93cd-a96bad864547",
   "metadata": {},
   "outputs": [
    {
     "data": {
      "text/html": [
       "<div>\n",
       "<style scoped>\n",
       "    .dataframe tbody tr th:only-of-type {\n",
       "        vertical-align: middle;\n",
       "    }\n",
       "\n",
       "    .dataframe tbody tr th {\n",
       "        vertical-align: top;\n",
       "    }\n",
       "\n",
       "    .dataframe thead th {\n",
       "        text-align: right;\n",
       "    }\n",
       "</style>\n",
       "<table border=\"1\" class=\"dataframe\">\n",
       "  <thead>\n",
       "    <tr style=\"text-align: right;\">\n",
       "      <th></th>\n",
       "      <th>mdvis</th>\n",
       "      <th>lncoins</th>\n",
       "      <th>idp</th>\n",
       "      <th>lpi</th>\n",
       "      <th>fmde</th>\n",
       "      <th>physlm</th>\n",
       "      <th>disea</th>\n",
       "      <th>hlthg</th>\n",
       "      <th>hlthf</th>\n",
       "      <th>hlthp</th>\n",
       "      <th>predictions</th>\n",
       "      <th>predicted_idp</th>\n",
       "      <th>predicted_mdvis</th>\n",
       "      <th>predicted_count_mdvis</th>\n",
       "    </tr>\n",
       "  </thead>\n",
       "  <tbody>\n",
       "    <tr>\n",
       "      <th>0</th>\n",
       "      <td>0</td>\n",
       "      <td>4.61512</td>\n",
       "      <td>1</td>\n",
       "      <td>6.907755</td>\n",
       "      <td>0.0</td>\n",
       "      <td>0.0</td>\n",
       "      <td>13.73189</td>\n",
       "      <td>1</td>\n",
       "      <td>0</td>\n",
       "      <td>0</td>\n",
       "      <td>0.129403</td>\n",
       "      <td>0</td>\n",
       "      <td>2.544425</td>\n",
       "      <td>2</td>\n",
       "    </tr>\n",
       "    <tr>\n",
       "      <th>1</th>\n",
       "      <td>2</td>\n",
       "      <td>4.61512</td>\n",
       "      <td>1</td>\n",
       "      <td>6.907755</td>\n",
       "      <td>0.0</td>\n",
       "      <td>0.0</td>\n",
       "      <td>13.73189</td>\n",
       "      <td>1</td>\n",
       "      <td>0</td>\n",
       "      <td>0</td>\n",
       "      <td>0.118646</td>\n",
       "      <td>0</td>\n",
       "      <td>2.544425</td>\n",
       "      <td>2</td>\n",
       "    </tr>\n",
       "    <tr>\n",
       "      <th>2</th>\n",
       "      <td>0</td>\n",
       "      <td>4.61512</td>\n",
       "      <td>1</td>\n",
       "      <td>6.907755</td>\n",
       "      <td>0.0</td>\n",
       "      <td>0.0</td>\n",
       "      <td>13.73189</td>\n",
       "      <td>1</td>\n",
       "      <td>0</td>\n",
       "      <td>0</td>\n",
       "      <td>0.129403</td>\n",
       "      <td>0</td>\n",
       "      <td>2.544425</td>\n",
       "      <td>2</td>\n",
       "    </tr>\n",
       "    <tr>\n",
       "      <th>3</th>\n",
       "      <td>0</td>\n",
       "      <td>4.61512</td>\n",
       "      <td>1</td>\n",
       "      <td>6.907755</td>\n",
       "      <td>0.0</td>\n",
       "      <td>0.0</td>\n",
       "      <td>13.73189</td>\n",
       "      <td>1</td>\n",
       "      <td>0</td>\n",
       "      <td>0</td>\n",
       "      <td>0.129403</td>\n",
       "      <td>0</td>\n",
       "      <td>2.544425</td>\n",
       "      <td>2</td>\n",
       "    </tr>\n",
       "    <tr>\n",
       "      <th>4</th>\n",
       "      <td>0</td>\n",
       "      <td>4.61512</td>\n",
       "      <td>1</td>\n",
       "      <td>6.907755</td>\n",
       "      <td>0.0</td>\n",
       "      <td>0.0</td>\n",
       "      <td>13.73189</td>\n",
       "      <td>1</td>\n",
       "      <td>0</td>\n",
       "      <td>0</td>\n",
       "      <td>0.129403</td>\n",
       "      <td>0</td>\n",
       "      <td>2.544425</td>\n",
       "      <td>2</td>\n",
       "    </tr>\n",
       "  </tbody>\n",
       "</table>\n",
       "</div>"
      ],
      "text/plain": [
       "   mdvis  lncoins  idp       lpi  fmde  physlm     disea  hlthg  hlthf  hlthp  \\\n",
       "0      0  4.61512    1  6.907755   0.0     0.0  13.73189      1      0      0   \n",
       "1      2  4.61512    1  6.907755   0.0     0.0  13.73189      1      0      0   \n",
       "2      0  4.61512    1  6.907755   0.0     0.0  13.73189      1      0      0   \n",
       "3      0  4.61512    1  6.907755   0.0     0.0  13.73189      1      0      0   \n",
       "4      0  4.61512    1  6.907755   0.0     0.0  13.73189      1      0      0   \n",
       "\n",
       "   predictions  predicted_idp  predicted_mdvis  predicted_count_mdvis  \n",
       "0     0.129403              0         2.544425                      2  \n",
       "1     0.118646              0         2.544425                      2  \n",
       "2     0.129403              0         2.544425                      2  \n",
       "3     0.129403              0         2.544425                      2  \n",
       "4     0.129403              0         2.544425                      2  "
      ]
     },
     "metadata": {},
     "output_type": "display_data"
    }
   ],
   "source": [
    "# Assign this back to the rand data\n",
    "rand['predicted_count_mdvis'] = prob_mass_df.idxmax(axis='columns')\n",
    "\n",
    "display(rand.head())"
   ]
  },
  {
   "cell_type": "markdown",
   "id": "ac0f12c5-8d9b-4689-a5cc-93ece3ec6770",
   "metadata": {},
   "source": [
    "OK, now we have predicted counts! What does that look like?"
   ]
  },
  {
   "cell_type": "code",
   "execution_count": 28,
   "id": "86221ec8-3ad9-45e5-940b-03b528b8444a",
   "metadata": {},
   "outputs": [
    {
     "data": {
      "text/plain": [
       "<AxesSubplot:xlabel='predicted_count_mdvis', ylabel='mdvis'>"
      ]
     },
     "execution_count": 28,
     "metadata": {},
     "output_type": "execute_result"
    },
    {
     "data": {
      "image/png": "[encoded data removed]",
      "text/plain": [
       "<Figure size 432x288 with 1 Axes>"
      ]
     },
     "metadata": {
      "needs_background": "light"
     },
     "output_type": "display_data"
    }
   ],
   "source": [
    "sns.scatterplot(y=rand['mdvis'], x=rand['predicted_count_mdvis'])"
   ]
  },
  {
   "cell_type": "markdown",
   "id": "1fb93b98-519b-4df7-b5c1-4323e0c8d3f0",
   "metadata": {},
   "source": [
    "Not great, sadly. The model is really under-predicting - the observed data goes from 0 to 77, but the predictions only top 20. Is our data over-dispersed? We can check this, but it involves a little manual calculation - nothing too bad, though. First we take the models *Pearson residuals*, square them, and sum them. Then we divide this by the residual degrees of freedom of the model. If the result is greater than 1, we have evidence of overdispersion and should switch our modelling strategy.\n"
   ]
  },
  {
   "cell_type": "code",
   "execution_count": 29,
   "id": "c8a3e336-dee2-42a0-af84-56531f24f961",
   "metadata": {},
   "outputs": [
    {
     "name": "stdout",
     "output_type": "stream",
     "text": [
      "6.437470502281646 True\n"
     ]
    }
   ],
   "source": [
    "# Compute overdispersion\n",
    "od = (poisson_results.resid_pearson ** 2 ).sum() / poisson_results.df_resid\n",
    "\n",
    "print(od, od > 1)"
   ]
  },
  {
   "cell_type": "markdown",
   "id": "e265bb6d-27a9-4b44-87c3-78a2fe273e82",
   "metadata": {},
   "source": [
    "That might explain our not-so-good predictions."
   ]
  },
  {
   "cell_type": "markdown",
   "id": "dac2a4f9-401a-4354-b70a-d1ab3ec20a8a",
   "metadata": {},
   "source": [
    "#### Negative Binomial Regression\n",
    "Fitting a negative binomial regression at this point should be intuitive - we simply set up the formula, and pass it directly to the `negativebinomial` function:"
   ]
  },
  {
   "cell_type": "code",
   "execution_count": 30,
   "id": "f884c502-99a0-4627-9240-2a5659f9dda2",
   "metadata": {},
   "outputs": [
    {
     "name": "stdout",
     "output_type": "stream",
     "text": [
      "Optimization terminated successfully.\n",
      "         Current function value: 2.159078\n",
      "         Iterations: 13\n",
      "         Function evaluations: 16\n",
      "         Gradient evaluations: 16\n"
     ]
    },
    {
     "data": {
      "text/html": [
       "<table class=\"simpletable\">\n",
       "<caption>NegativeBinomial Regression Results</caption>\n",
       "<tr>\n",
       "  <th>Dep. Variable:</th>         <td>mdvis</td>      <th>  No. Observations:  </th>   <td> 20190</td>  \n",
       "</tr>\n",
       "<tr>\n",
       "  <th>Model:</th>           <td>NegativeBinomial</td> <th>  Df Residuals:      </th>   <td> 20187</td>  \n",
       "</tr>\n",
       "<tr>\n",
       "  <th>Method:</th>                 <td>MLE</td>       <th>  Df Model:          </th>   <td>     2</td>  \n",
       "</tr>\n",
       "<tr>\n",
       "  <th>Date:</th>            <td>Sat, 09 Jul 2022</td> <th>  Pseudo R-squ.:     </th>   <td>0.01374</td> \n",
       "</tr>\n",
       "<tr>\n",
       "  <th>Time:</th>                <td>11:52:33</td>     <th>  Log-Likelihood:    </th>  <td> -43592.</td> \n",
       "</tr>\n",
       "<tr>\n",
       "  <th>converged:</th>             <td>True</td>       <th>  LL-Null:           </th>  <td> -44199.</td> \n",
       "</tr>\n",
       "<tr>\n",
       "  <th>Covariance Type:</th>     <td>nonrobust</td>    <th>  LLR p-value:       </th> <td>1.480e-264</td>\n",
       "</tr>\n",
       "</table>\n",
       "<table class=\"simpletable\">\n",
       "<tr>\n",
       "      <td></td>         <th>coef</th>     <th>std err</th>      <th>z</th>      <th>P>|z|</th>  <th>[0.025</th>    <th>0.975]</th>  \n",
       "</tr>\n",
       "<tr>\n",
       "  <th>Intercept</th> <td>    0.6264</td> <td>    0.020</td> <td>   31.766</td> <td> 0.000</td> <td>    0.588</td> <td>    0.665</td>\n",
       "</tr>\n",
       "<tr>\n",
       "  <th>lncoins</th>   <td>   -0.0633</td> <td>    0.005</td> <td>  -13.482</td> <td> 0.000</td> <td>   -0.072</td> <td>   -0.054</td>\n",
       "</tr>\n",
       "<tr>\n",
       "  <th>disea</th>     <td>    0.0431</td> <td>    0.001</td> <td>   31.612</td> <td> 0.000</td> <td>    0.040</td> <td>    0.046</td>\n",
       "</tr>\n",
       "<tr>\n",
       "  <th>alpha</th>     <td>    1.3365</td> <td>    0.019</td> <td>   70.288</td> <td> 0.000</td> <td>    1.299</td> <td>    1.374</td>\n",
       "</tr>\n",
       "</table>"
      ],
      "text/plain": [
       "<class 'statsmodels.iolib.summary.Summary'>\n",
       "\"\"\"\n",
       "                     NegativeBinomial Regression Results                      \n",
       "==============================================================================\n",
       "Dep. Variable:                  mdvis   No. Observations:                20190\n",
       "Model:               NegativeBinomial   Df Residuals:                    20187\n",
       "Method:                           MLE   Df Model:                            2\n",
       "Date:                Sat, 09 Jul 2022   Pseudo R-squ.:                 0.01374\n",
       "Time:                        11:52:33   Log-Likelihood:                -43592.\n",
       "converged:                       True   LL-Null:                       -44199.\n",
       "Covariance Type:            nonrobust   LLR p-value:                1.480e-264\n",
       "==============================================================================\n",
       "                 coef    std err          z      P>|z|      [0.025      0.975]\n",
       "------------------------------------------------------------------------------\n",
       "Intercept      0.6264      0.020     31.766      0.000       0.588       0.665\n",
       "lncoins       -0.0633      0.005    -13.482      0.000      -0.072      -0.054\n",
       "disea          0.0431      0.001     31.612      0.000       0.040       0.046\n",
       "alpha          1.3365      0.019     70.288      0.000       1.299       1.374\n",
       "==============================================================================\n",
       "\"\"\""
      ]
     },
     "execution_count": 30,
     "metadata": {},
     "output_type": "execute_result"
    }
   ],
   "source": [
    "# Fit the model \n",
    "negbinom_results = smf.negativebinomial('mdvis ~ lncoins + disea', data=rand).fit()\n",
    "\n",
    "# Get summary\n",
    "negbinom_results.summary()"
   ]
  },
  {
   "cell_type": "markdown",
   "id": "616ebb45-151f-4ed2-87bf-9e5f8eafa3df",
   "metadata": {},
   "source": [
    "The interpretation of the coefficients is much the same as the Poisson regression case, with the estimates representing the change in the log-counts of the outcome variable with a one-unit change in the predictor variable. Exponentiating them casts them on an odds scale. \n",
    "\n",
    "You may notice the model seems to have an extra estimate - `alpha` - that also has a significance test associated with it. This is the **overdispersion parameter**. Recall that the Poisson distribution has a single parameter, the 'rate', or average. If the counts vary a lot, the Poisson will find it difficult to model the variability with a single parameter. The negative binomial distribution has a similar rate or average, but also has an additional parameter, alpha, which controls the variability of the counts. The model tests whether this value is significantly different from zero, which seems to be the case here. It's another way of examining over-dispersion! Interestingly, if this parameter equals zero, the model is mathematically equivalent to a Poisson regression."
   ]
  }
 ],
 "metadata": {
  "kernelspec": {
   "display_name": "Python 3 (ipykernel)",
   "language": "python",
   "name": "python3"
  },
  "language_info": {
   "codemirror_mode": {
    "name": "ipython",
    "version": 3
   },
   "file_extension": ".py",
   "mimetype": "text/x-python",
   "name": "python",
   "nbconvert_exporter": "python",
   "pygments_lexer": "ipython3",
   "version": "3.10.4"
  }
 },
 "nbformat": 4,
 "nbformat_minor": 5
}
