{
 "cells": [
  {
   "cell_type": "code",
   "execution_count": 1,
   "id": "41b43709-e874-4f2d-8b7e-53f69b2efe8c",
   "metadata": {
    "tags": []
   },
   "outputs": [],
   "source": [
    "# Imports\n",
    "import numpy as np\n",
    "import pandas as pd\n",
    "import seaborn as sns\n",
    "import matplotlib.pyplot as plt\n",
    "import statsmodels.formula.api as smf"
   ]
  },
  {
   "cell_type": "markdown",
   "id": "95ca4489-22b6-4171-8f1a-9d8ce3bef39a",
   "metadata": {},
   "source": [
    "## Generalised Linear Models\n",
    "`statsmodels` is far more than a linear regression powerhouse. It is also capable of fitting a range of *generalised* linear models, that allow users to fit models to non-normal data, such as binary, count, hierarchical models, and generalised estimating equations. We will explore some of these using the in-built datasets from `statsmodels`. These are located under the **non-formula** import of the package, which exposes a far wider range of functions outside of the nice formula interface we have seen so far."
   ]
  },
  {
   "cell_type": "code",
   "execution_count": 2,
   "id": "1dda81e4-a5e6-490f-a5b2-461b05fd17fc",
   "metadata": {},
   "outputs": [],
   "source": [
    "# Import general statsmodels\n",
    "import statsmodels.api as sm # traditional alias"
   ]
  },
  {
   "cell_type": "markdown",
   "id": "9fe49191-0e95-430b-9410-5c19102912dd",
   "metadata": {},
   "source": [
    "### Logistic Regression\n",
    "We will first explore the use of logistic regression, which allows for the modelling of binary data - such as whether a trial was correct/incorrect, a participant was male/female, and so on. For this example we will use the [RAND Health Insurance Experiment data](http://www.rand.org/health/projects/hie.html) which contains a set of variables related to health insurance claims that have been used to investigate key questions in health insurance. The variables are:\n",
    "\n",
    "- `mdvis` - Number of outpatient visits to an MD\n",
    "- `lncoins` - ln(coinsurance + 1), 0 <= coninsurance <= 10\n",
    "- `idp` - 1 if individual deductible plan, 0 otherwise\n",
    "- `lpi` - ln(max(1, annual participation incentive payment)\n",
    "- `fmde` - 0 if idp = 1; ln(max(1, MDE/(0.01 coinsurance))) otherwise\n",
    "- `physlm` - 1 if the person has a physical limitation\n",
    "- `disea` - number of chronic disease\n",
    "- `hlthg` - 1 if self-rated health is good\n",
    "- `hlthf` - 1 if self-rated health is fair\n",
    "- `hlthp` - 1 if self-rated health is poor\n",
    "\n",
    "We will attempt a simple logistic regression model, predicting whether someone has an individual deductible plan, `idp` (coded as 1 if yes, and zero if no) from a few predictors - number of chronic diseases `disea`, number of outpatient visits `mdvis`, and coinsurance, the amount that has to be paid if a claim is made, `lncoins`. \n",
    "\n",
    "To fit logistic regression models, we can use the `logit` function from the formula `smf` interface, and specify our model with a formula string. But first we load the data (with a slightly unusual syntax) from the non-formula interface:"
   ]
  },
  {
   "cell_type": "code",
   "execution_count": 3,
   "id": "46796305-8c43-457f-946f-0a504d93aeb9",
   "metadata": {},
   "outputs": [
    {
     "name": "stdout",
     "output_type": "stream",
     "text": [
      "Optimization terminated successfully.\n",
      "         Current function value: 0.537159\n",
      "         Iterations 6\n"
     ]
    },
    {
     "data": {
      "text/html": [
       "<table class=\"simpletable\">\n",
       "<caption>Logit Regression Results</caption>\n",
       "<tr>\n",
       "  <th>Dep. Variable:</th>          <td>idp</td>       <th>  No. Observations:  </th>  <td> 20190</td> \n",
       "</tr>\n",
       "<tr>\n",
       "  <th>Model:</th>                 <td>Logit</td>      <th>  Df Residuals:      </th>  <td> 20186</td> \n",
       "</tr>\n",
       "<tr>\n",
       "  <th>Method:</th>                 <td>MLE</td>       <th>  Df Model:          </th>  <td>     3</td> \n",
       "</tr>\n",
       "<tr>\n",
       "  <th>Date:</th>            <td>Thu, 23 Jun 2022</td> <th>  Pseudo R-squ.:     </th>  <td>0.06261</td>\n",
       "</tr>\n",
       "<tr>\n",
       "  <th>Time:</th>                <td>09:14:49</td>     <th>  Log-Likelihood:    </th> <td> -10845.</td>\n",
       "</tr>\n",
       "<tr>\n",
       "  <th>converged:</th>             <td>True</td>       <th>  LL-Null:           </th> <td> -11570.</td>\n",
       "</tr>\n",
       "<tr>\n",
       "  <th>Covariance Type:</th>     <td>nonrobust</td>    <th>  LLR p-value:       </th>  <td> 0.000</td> \n",
       "</tr>\n",
       "</table>\n",
       "<table class=\"simpletable\">\n",
       "<tr>\n",
       "      <td></td>         <th>coef</th>     <th>std err</th>      <th>z</th>      <th>P>|z|</th>  <th>[0.025</th>    <th>0.975]</th>  \n",
       "</tr>\n",
       "<tr>\n",
       "  <th>Intercept</th> <td>   -0.5700</td> <td>    0.034</td> <td>  -16.585</td> <td> 0.000</td> <td>   -0.637</td> <td>   -0.503</td>\n",
       "</tr>\n",
       "<tr>\n",
       "  <th>disea</th>     <td>    0.0122</td> <td>    0.003</td> <td>    4.865</td> <td> 0.000</td> <td>    0.007</td> <td>    0.017</td>\n",
       "</tr>\n",
       "<tr>\n",
       "  <th>mdvis</th>     <td>   -0.0495</td> <td>    0.005</td> <td>  -10.399</td> <td> 0.000</td> <td>   -0.059</td> <td>   -0.040</td>\n",
       "</tr>\n",
       "<tr>\n",
       "  <th>lncoins</th>   <td>   -0.3259</td> <td>    0.009</td> <td>  -34.907</td> <td> 0.000</td> <td>   -0.344</td> <td>   -0.308</td>\n",
       "</tr>\n",
       "</table>"
      ],
      "text/plain": [
       "<class 'statsmodels.iolib.summary.Summary'>\n",
       "\"\"\"\n",
       "                           Logit Regression Results                           \n",
       "==============================================================================\n",
       "Dep. Variable:                    idp   No. Observations:                20190\n",
       "Model:                          Logit   Df Residuals:                    20186\n",
       "Method:                           MLE   Df Model:                            3\n",
       "Date:                Thu, 23 Jun 2022   Pseudo R-squ.:                 0.06261\n",
       "Time:                        09:14:49   Log-Likelihood:                -10845.\n",
       "converged:                       True   LL-Null:                       -11570.\n",
       "Covariance Type:            nonrobust   LLR p-value:                     0.000\n",
       "==============================================================================\n",
       "                 coef    std err          z      P>|z|      [0.025      0.975]\n",
       "------------------------------------------------------------------------------\n",
       "Intercept     -0.5700      0.034    -16.585      0.000      -0.637      -0.503\n",
       "disea          0.0122      0.003      4.865      0.000       0.007       0.017\n",
       "mdvis         -0.0495      0.005    -10.399      0.000      -0.059      -0.040\n",
       "lncoins       -0.3259      0.009    -34.907      0.000      -0.344      -0.308\n",
       "==============================================================================\n",
       "\"\"\""
      ]
     },
     "execution_count": 3,
     "metadata": {},
     "output_type": "execute_result"
    }
   ],
   "source": [
    "# Load RAND data\n",
    "rand = sm.datasets.randhie.load_pandas().data\n",
    "\n",
    "# Fit the model\n",
    "logistic_results = smf.logit('idp ~ disea + mdvis + lncoins', data=rand).fit()\n",
    "\n",
    "# Examine the results\n",
    "logistic_results.summary()"
   ]
  },
  {
   "cell_type": "markdown",
   "id": "377a17cd-c7e3-407d-a48b-2744b445fa4d",
   "metadata": {},
   "source": [
    "Success! But what does all this mean? Logistic regression isn't as easy to interpret as ordinary least squares, where a single unit increase in the predictor is associated with a coefficient-value change in the outcome. Logistic regression actually models the *probability* of a positive/yes/one response in the outcome variable, but does so using the **logistic function**, which maps probability space, which is zero to one, to an infinite continuous space of positive and negative. \n",
    "\n",
    "The way it does this is by converting probabilities to odds, and then taking the logarithm of the odds - the log-odds. All coefficients in logistic regression represent the change in the log-odds of the outcome with a one-unit increase of the predictor. \n",
    "\n",
    "Let's try to clear this up by looking at the model. The `mdvis` predictor shows a significant, negative relationship with the outcome on the log-odds scale. We have no idea what this means outside of that when the number of visits go up, the probability of having a deductible plan goes down. But if we *exponentiate* the coefficient, we undo the logarithm and get the odds back, which are somewhat more interpretable. `numpy` can help us here!"
   ]
  },
  {
   "cell_type": "code",
   "execution_count": 4,
   "id": "400c4cae-c101-4758-8215-90f8dccf868a",
   "metadata": {},
   "outputs": [
    {
     "data": {
      "text/plain": [
       "Intercept    0.565516\n",
       "disea        1.012295\n",
       "mdvis        0.951673\n",
       "lncoins      0.721882\n",
       "dtype: float64"
      ]
     },
     "execution_count": 4,
     "metadata": {},
     "output_type": "execute_result"
    }
   ],
   "source": [
    "# Use numpy to exponentiate the coefficients\n",
    "# numpy has an .exp function\n",
    "# the coefficients are stored in the .params model attribute\n",
    "odds = np.exp(logistic_results.params)\n",
    "odds"
   ]
  },
  {
   "cell_type": "markdown",
   "id": "aec1d233-0133-4146-947d-05a7c46e616d",
   "metadata": {},
   "source": [
    "This is somewhat more interpretable. As the number of medical visits increases by one, the odds of having an individual deductible plan change by 0.95% (or indeed decrease by 5%). \n",
    "\n",
    "Unlike ordinary least squares, understanding a logistic regression model involves working closely with the predictions. We saw how to get those from an `ols` object above, but logistic regression is a different beast. While it does have a `.fittedvalues` attribute, it represents the predictions on the log-odds scale. To get at our predictions, we can do two things:\n",
    "\n",
    "- Apply the reverse transformation using `scipy.special.expit` on the `.fittedvalues` attribute. This is the inverse-log-odds transform (sometimes known as the inverse logit) and will return the probabilities of a positive response.\n",
    "- Use the `.predict` method of the fitted model to give the probabilites already back-transformed.\n",
    "\n",
    "The latter doesn't invovle an extra import but we will show both:"
   ]
  },
  {
   "cell_type": "code",
   "execution_count": 5,
   "id": "7a8686cf-dd13-4a4e-b950-5adf61ea0f0f",
   "metadata": {},
   "outputs": [
    {
     "data": {
      "text/plain": [
       "True"
      ]
     },
     "execution_count": 5,
     "metadata": {},
     "output_type": "execute_result"
    }
   ],
   "source": [
    "# import scipy function\n",
    "from scipy.special import expit\n",
    "expit_results = expit(logistic_results.fittedvalues)\n",
    "\n",
    "# Use prediction\n",
    "logistic_predictions = logistic_results.predict() # a no-argument call predicts the data the model was fitted on\n",
    "\n",
    "# Are these the same?\n",
    "np.all(expit_results == logistic_predictions)"
   ]
  },
  {
   "cell_type": "markdown",
   "id": "b7b7f50a-5ad2-4e71-90b5-d675b503ffec",
   "metadata": {},
   "source": [
    "These are equivalent operations. Let's work with the `logistic_predictions` data, and add it directly to the `rand` data."
   ]
  },
  {
   "cell_type": "code",
   "execution_count": 6,
   "id": "c112e695-5a1b-4007-bf43-0709f930b177",
   "metadata": {},
   "outputs": [
    {
     "data": {
      "text/html": [
       "<div>\n",
       "<style scoped>\n",
       "    .dataframe tbody tr th:only-of-type {\n",
       "        vertical-align: middle;\n",
       "    }\n",
       "\n",
       "    .dataframe tbody tr th {\n",
       "        vertical-align: top;\n",
       "    }\n",
       "\n",
       "    .dataframe thead th {\n",
       "        text-align: right;\n",
       "    }\n",
       "</style>\n",
       "<table border=\"1\" class=\"dataframe\">\n",
       "  <thead>\n",
       "    <tr style=\"text-align: right;\">\n",
       "      <th></th>\n",
       "      <th>mdvis</th>\n",
       "      <th>lncoins</th>\n",
       "      <th>idp</th>\n",
       "      <th>lpi</th>\n",
       "      <th>fmde</th>\n",
       "      <th>physlm</th>\n",
       "      <th>disea</th>\n",
       "      <th>hlthg</th>\n",
       "      <th>hlthf</th>\n",
       "      <th>hlthp</th>\n",
       "      <th>predictions</th>\n",
       "    </tr>\n",
       "  </thead>\n",
       "  <tbody>\n",
       "    <tr>\n",
       "      <th>0</th>\n",
       "      <td>0</td>\n",
       "      <td>4.61512</td>\n",
       "      <td>1</td>\n",
       "      <td>6.907755</td>\n",
       "      <td>0.0</td>\n",
       "      <td>0.0</td>\n",
       "      <td>13.73189</td>\n",
       "      <td>1</td>\n",
       "      <td>0</td>\n",
       "      <td>0</td>\n",
       "      <td>0.129403</td>\n",
       "    </tr>\n",
       "    <tr>\n",
       "      <th>1</th>\n",
       "      <td>2</td>\n",
       "      <td>4.61512</td>\n",
       "      <td>1</td>\n",
       "      <td>6.907755</td>\n",
       "      <td>0.0</td>\n",
       "      <td>0.0</td>\n",
       "      <td>13.73189</td>\n",
       "      <td>1</td>\n",
       "      <td>0</td>\n",
       "      <td>0</td>\n",
       "      <td>0.118646</td>\n",
       "    </tr>\n",
       "    <tr>\n",
       "      <th>2</th>\n",
       "      <td>0</td>\n",
       "      <td>4.61512</td>\n",
       "      <td>1</td>\n",
       "      <td>6.907755</td>\n",
       "      <td>0.0</td>\n",
       "      <td>0.0</td>\n",
       "      <td>13.73189</td>\n",
       "      <td>1</td>\n",
       "      <td>0</td>\n",
       "      <td>0</td>\n",
       "      <td>0.129403</td>\n",
       "    </tr>\n",
       "    <tr>\n",
       "      <th>3</th>\n",
       "      <td>0</td>\n",
       "      <td>4.61512</td>\n",
       "      <td>1</td>\n",
       "      <td>6.907755</td>\n",
       "      <td>0.0</td>\n",
       "      <td>0.0</td>\n",
       "      <td>13.73189</td>\n",
       "      <td>1</td>\n",
       "      <td>0</td>\n",
       "      <td>0</td>\n",
       "      <td>0.129403</td>\n",
       "    </tr>\n",
       "    <tr>\n",
       "      <th>4</th>\n",
       "      <td>0</td>\n",
       "      <td>4.61512</td>\n",
       "      <td>1</td>\n",
       "      <td>6.907755</td>\n",
       "      <td>0.0</td>\n",
       "      <td>0.0</td>\n",
       "      <td>13.73189</td>\n",
       "      <td>1</td>\n",
       "      <td>0</td>\n",
       "      <td>0</td>\n",
       "      <td>0.129403</td>\n",
       "    </tr>\n",
       "  </tbody>\n",
       "</table>\n",
       "</div>"
      ],
      "text/plain": [
       "   mdvis  lncoins  idp       lpi  fmde  physlm     disea  hlthg  hlthf  hlthp  \\\n",
       "0      0  4.61512    1  6.907755   0.0     0.0  13.73189      1      0      0   \n",
       "1      2  4.61512    1  6.907755   0.0     0.0  13.73189      1      0      0   \n",
       "2      0  4.61512    1  6.907755   0.0     0.0  13.73189      1      0      0   \n",
       "3      0  4.61512    1  6.907755   0.0     0.0  13.73189      1      0      0   \n",
       "4      0  4.61512    1  6.907755   0.0     0.0  13.73189      1      0      0   \n",
       "\n",
       "   predictions  \n",
       "0     0.129403  \n",
       "1     0.118646  \n",
       "2     0.129403  \n",
       "3     0.129403  \n",
       "4     0.129403  "
      ]
     },
     "metadata": {},
     "output_type": "display_data"
    }
   ],
   "source": [
    "# add a column\n",
    "rand['predictions'] = logistic_results.predict()\n",
    "\n",
    "display(rand.head())"
   ]
  },
  {
   "cell_type": "markdown",
   "id": "ca6c85b6-f87c-4dc7-bcff-1f415fb0ec35",
   "metadata": {},
   "source": [
    "Our model has given us the predictions of whether someone has an individual deductible plan. If you're not used to logistic regression it may be a surprise that you get probabilities back and not zeros and ones, which is what you have in the observed data. Its actually entirely up to *you* how you interpret those probabilities and to map them onto the observed data, but its tradition that we assume the outcome variable is a $Bernoulli$ distributed variable (stats speak for its a coin toss with 50/50 heads-tails outcomes). So, we can actually convert the probabilities into zeros and ones with a simple boolean operation:"
   ]
  },
  {
   "cell_type": "code",
   "execution_count": 7,
   "id": "09c3d4a5-03c9-4990-a6b2-417e5a511a89",
   "metadata": {},
   "outputs": [
    {
     "data": {
      "text/html": [
       "<div>\n",
       "<style scoped>\n",
       "    .dataframe tbody tr th:only-of-type {\n",
       "        vertical-align: middle;\n",
       "    }\n",
       "\n",
       "    .dataframe tbody tr th {\n",
       "        vertical-align: top;\n",
       "    }\n",
       "\n",
       "    .dataframe thead th {\n",
       "        text-align: right;\n",
       "    }\n",
       "</style>\n",
       "<table border=\"1\" class=\"dataframe\">\n",
       "  <thead>\n",
       "    <tr style=\"text-align: right;\">\n",
       "      <th></th>\n",
       "      <th>mdvis</th>\n",
       "      <th>lncoins</th>\n",
       "      <th>idp</th>\n",
       "      <th>lpi</th>\n",
       "      <th>fmde</th>\n",
       "      <th>physlm</th>\n",
       "      <th>disea</th>\n",
       "      <th>hlthg</th>\n",
       "      <th>hlthf</th>\n",
       "      <th>hlthp</th>\n",
       "      <th>predictions</th>\n",
       "      <th>predicted_idp</th>\n",
       "    </tr>\n",
       "  </thead>\n",
       "  <tbody>\n",
       "    <tr>\n",
       "      <th>0</th>\n",
       "      <td>0</td>\n",
       "      <td>4.61512</td>\n",
       "      <td>1</td>\n",
       "      <td>6.907755</td>\n",
       "      <td>0.0</td>\n",
       "      <td>0.0</td>\n",
       "      <td>13.73189</td>\n",
       "      <td>1</td>\n",
       "      <td>0</td>\n",
       "      <td>0</td>\n",
       "      <td>0.129403</td>\n",
       "      <td>0</td>\n",
       "    </tr>\n",
       "    <tr>\n",
       "      <th>1</th>\n",
       "      <td>2</td>\n",
       "      <td>4.61512</td>\n",
       "      <td>1</td>\n",
       "      <td>6.907755</td>\n",
       "      <td>0.0</td>\n",
       "      <td>0.0</td>\n",
       "      <td>13.73189</td>\n",
       "      <td>1</td>\n",
       "      <td>0</td>\n",
       "      <td>0</td>\n",
       "      <td>0.118646</td>\n",
       "      <td>0</td>\n",
       "    </tr>\n",
       "    <tr>\n",
       "      <th>2</th>\n",
       "      <td>0</td>\n",
       "      <td>4.61512</td>\n",
       "      <td>1</td>\n",
       "      <td>6.907755</td>\n",
       "      <td>0.0</td>\n",
       "      <td>0.0</td>\n",
       "      <td>13.73189</td>\n",
       "      <td>1</td>\n",
       "      <td>0</td>\n",
       "      <td>0</td>\n",
       "      <td>0.129403</td>\n",
       "      <td>0</td>\n",
       "    </tr>\n",
       "    <tr>\n",
       "      <th>3</th>\n",
       "      <td>0</td>\n",
       "      <td>4.61512</td>\n",
       "      <td>1</td>\n",
       "      <td>6.907755</td>\n",
       "      <td>0.0</td>\n",
       "      <td>0.0</td>\n",
       "      <td>13.73189</td>\n",
       "      <td>1</td>\n",
       "      <td>0</td>\n",
       "      <td>0</td>\n",
       "      <td>0.129403</td>\n",
       "      <td>0</td>\n",
       "    </tr>\n",
       "    <tr>\n",
       "      <th>4</th>\n",
       "      <td>0</td>\n",
       "      <td>4.61512</td>\n",
       "      <td>1</td>\n",
       "      <td>6.907755</td>\n",
       "      <td>0.0</td>\n",
       "      <td>0.0</td>\n",
       "      <td>13.73189</td>\n",
       "      <td>1</td>\n",
       "      <td>0</td>\n",
       "      <td>0</td>\n",
       "      <td>0.129403</td>\n",
       "      <td>0</td>\n",
       "    </tr>\n",
       "  </tbody>\n",
       "</table>\n",
       "</div>"
      ],
      "text/plain": [
       "   mdvis  lncoins  idp       lpi  fmde  physlm     disea  hlthg  hlthf  hlthp  \\\n",
       "0      0  4.61512    1  6.907755   0.0     0.0  13.73189      1      0      0   \n",
       "1      2  4.61512    1  6.907755   0.0     0.0  13.73189      1      0      0   \n",
       "2      0  4.61512    1  6.907755   0.0     0.0  13.73189      1      0      0   \n",
       "3      0  4.61512    1  6.907755   0.0     0.0  13.73189      1      0      0   \n",
       "4      0  4.61512    1  6.907755   0.0     0.0  13.73189      1      0      0   \n",
       "\n",
       "   predictions  predicted_idp  \n",
       "0     0.129403              0  \n",
       "1     0.118646              0  \n",
       "2     0.129403              0  \n",
       "3     0.129403              0  \n",
       "4     0.129403              0  "
      ]
     },
     "execution_count": 7,
     "metadata": {},
     "output_type": "execute_result"
    }
   ],
   "source": [
    "# add zeros/ones\n",
    "rand['predicted_idp'] = np.where(rand['predictions'] <= .50, 0, 1)\n",
    "\n",
    "rand.head()"
   ]
  },
  {
   "cell_type": "markdown",
   "id": "15b34527-9fdb-423e-a692-4a416f3621d2",
   "metadata": {},
   "source": [
    "We can now examine how well the model did in terms of its predictions, by computing the terrifyingly named *confusion matrix*. All this represents is how our model did - for example, when a datapoint *did* have an individual deductible, how many times did the model say it did? What about the reverse - did it say no when it should have said no? \n",
    "\n",
    "Evaluating the performance of logistic regression models is an entire sub-field of statistics in and of itself. You will sometime see terms like precision, recall, accuracy, true positive rate, false positive rate, and many, many more floating around. All of these refer to - basically - is whether the model is saying 'yes' when it should and 'no' when it should, and there are many variations along that theme. Personally I find this the most confusing part of statistical practice and find myself always referring to [this diagram](https://en.wikipedia.org/wiki/Template:Diagnostic_testing_diagram) when working here - I am sure you will too!\n",
    "\n",
    "Let's use the `pd.crosstab` function to build the confusion matrix, which takes two columns of 1/0 responses and counts the values:"
   ]
  },
  {
   "cell_type": "code",
   "execution_count": 8,
   "id": "13bcf1e8-0b2c-451b-b5ae-f1a70f34b151",
   "metadata": {},
   "outputs": [
    {
     "data": {
      "text/html": [
       "<div>\n",
       "<style scoped>\n",
       "    .dataframe tbody tr th:only-of-type {\n",
       "        vertical-align: middle;\n",
       "    }\n",
       "\n",
       "    .dataframe tbody tr th {\n",
       "        vertical-align: top;\n",
       "    }\n",
       "\n",
       "    .dataframe thead th {\n",
       "        text-align: right;\n",
       "    }\n",
       "</style>\n",
       "<table border=\"1\" class=\"dataframe\">\n",
       "  <thead>\n",
       "    <tr style=\"text-align: right;\">\n",
       "      <th>predicted_idp</th>\n",
       "      <th>0</th>\n",
       "      <th>1</th>\n",
       "      <th>All</th>\n",
       "    </tr>\n",
       "    <tr>\n",
       "      <th>idp</th>\n",
       "      <th></th>\n",
       "      <th></th>\n",
       "      <th></th>\n",
       "    </tr>\n",
       "  </thead>\n",
       "  <tbody>\n",
       "    <tr>\n",
       "      <th>0</th>\n",
       "      <td>14939</td>\n",
       "      <td>2</td>\n",
       "      <td>14941</td>\n",
       "    </tr>\n",
       "    <tr>\n",
       "      <th>1</th>\n",
       "      <td>5249</td>\n",
       "      <td>0</td>\n",
       "      <td>5249</td>\n",
       "    </tr>\n",
       "    <tr>\n",
       "      <th>All</th>\n",
       "      <td>20188</td>\n",
       "      <td>2</td>\n",
       "      <td>20190</td>\n",
       "    </tr>\n",
       "  </tbody>\n",
       "</table>\n",
       "</div>"
      ],
      "text/plain": [
       "predicted_idp      0  1    All\n",
       "idp                           \n",
       "0              14939  2  14941\n",
       "1               5249  0   5249\n",
       "All            20188  2  20190"
      ]
     },
     "metadata": {},
     "output_type": "display_data"
    },
    {
     "data": {
      "text/html": [
       "<div>\n",
       "<style scoped>\n",
       "    .dataframe tbody tr th:only-of-type {\n",
       "        vertical-align: middle;\n",
       "    }\n",
       "\n",
       "    .dataframe tbody tr th {\n",
       "        vertical-align: top;\n",
       "    }\n",
       "\n",
       "    .dataframe thead th {\n",
       "        text-align: right;\n",
       "    }\n",
       "</style>\n",
       "<table border=\"1\" class=\"dataframe\">\n",
       "  <thead>\n",
       "    <tr style=\"text-align: right;\">\n",
       "      <th>predicted_idp</th>\n",
       "      <th>0</th>\n",
       "      <th>1</th>\n",
       "      <th>All</th>\n",
       "    </tr>\n",
       "    <tr>\n",
       "      <th>idp</th>\n",
       "      <th></th>\n",
       "      <th></th>\n",
       "      <th></th>\n",
       "    </tr>\n",
       "  </thead>\n",
       "  <tbody>\n",
       "    <tr>\n",
       "      <th>0</th>\n",
       "      <td>0.739921</td>\n",
       "      <td>0.000099</td>\n",
       "      <td>0.74002</td>\n",
       "    </tr>\n",
       "    <tr>\n",
       "      <th>1</th>\n",
       "      <td>0.259980</td>\n",
       "      <td>0.000000</td>\n",
       "      <td>0.25998</td>\n",
       "    </tr>\n",
       "    <tr>\n",
       "      <th>All</th>\n",
       "      <td>0.999901</td>\n",
       "      <td>0.000099</td>\n",
       "      <td>1.00000</td>\n",
       "    </tr>\n",
       "  </tbody>\n",
       "</table>\n",
       "</div>"
      ],
      "text/plain": [
       "predicted_idp         0         1      All\n",
       "idp                                       \n",
       "0              0.739921  0.000099  0.74002\n",
       "1              0.259980  0.000000  0.25998\n",
       "All            0.999901  0.000099  1.00000"
      ]
     },
     "metadata": {},
     "output_type": "display_data"
    }
   ],
   "source": [
    "# Crosstabs can be normalised or not, depending on the use of the `normalize` keyword\n",
    "confused1 = pd.crosstab(rand['idp'], rand['predicted_idp'], margins=True, normalize=False)\n",
    "confused2 = pd.crosstab(rand['idp'], rand['predicted_idp'], margins=True, normalize=True)\n",
    "display(confused1, confused2)"
   ]
  },
  {
   "cell_type": "markdown",
   "id": "c4feeb88-8ab2-4bf7-9f9d-3b485511ad03",
   "metadata": {},
   "source": [
    "What this hopefully highlights is that, despite obtaining significant coefficients, the predictions of the model here were pretty poor - in fact, our model barely made a positive prediction! Only 2 cases (both wrong, ironically) were predicted as positive. This would be a good time to revise the model and include extra predictors. \n",
    "\n",
    "Classification is a surprisingly difficult area of statistics - be sure to look beyond model fit and p-values. "
   ]
  },
  {
   "cell_type": "markdown",
   "id": "6736c93f-191e-43c0-ab0a-a643100ce65d",
   "metadata": {},
   "source": [
    "### Poisson or Negative Binomial models"
   ]
  },
  {
   "cell_type": "markdown",
   "id": "20843f9a-ce2b-44a0-bf4a-e297ffac9289",
   "metadata": {},
   "source": [
    "Though not encountered too often in psychological science, data that are distributed as counts are popular across other fields and are becoming more popular in research. Count data represent data that are coded as whole numbers (integers) that start at zero and have no upper limit. Normal regression models like ordinary least squares may make negative count predictions, or fractional predictions, which make little sense (what does it mean to have, say, negative counts of a behaviour, or 2.31201 instance of a behaviour?).\n",
    "\n",
    "Fortunately, count data can be modelled relatively simply with either a $Poisson$ or $Negative Binomial$ regression. These models are named after the distributions of the same name which describe the probability of count data. The Poisson is a straightforward single-parameter distribution that describes distributions of counts. The single parameter is sometimes called the 'rate', and it represents the average of all the count data in a Poisson distribution. So while the Poisson distribution produces whole-integer values, its parameter can be a continuous (positive!) value. \n",
    "\n",
    "The negative binomial is traditionally used to describe the probability of observing a number of failures before a single success - e.g. how many times must I roll a dice *before* I get a 3? The number of 'fails' (roll != 3) would be modelled by the negative binomial. \n",
    "\n",
    "Sometimes, the single-parameter Poisson does a good enough job in regression contexts. However sometimes we encounter a phenomenon called *over-dispersion*, which is where the variability of the counts exceeds the average tendency. Fortunately, the negative binomial can be used instead, as it allows for a second parameter to incorporate the variability. \n",
    "\n",
    "If this sounds too technical, don't worry - it really is. The details are not vital; what we need to focus on is if we are dealing with count data, we can start with the Poisson model, check for this overdispersion, and if it appears, switch to the negative binomial."
   ]
  },
  {
   "cell_type": "markdown",
   "id": "6795b5d1-67a2-4d7c-8308-e9d0b0dbe727",
   "metadata": {},
   "source": [
    "#### Poisson Regression"
   ]
  },
  {
   "cell_type": "markdown",
   "id": "2e0b65de-7831-4763-8f47-f3b4beb319e8",
   "metadata": {},
   "source": [
    "Using the `rand` data, we could think of a different research question, asking whether the number of medical visits `mdvis` (a count variable!) is influenced by the coinsurance payment `lncoins`, as well as the number of chronic diseases, `disea`. Doing this in `statsmodels` is very easy - same idea as before; get the formula ready and use the `Poisson` function!"
   ]
  },
  {
   "cell_type": "code",
   "execution_count": 9,
   "id": "3bc65c7c-ef19-4493-8fca-f0d9bfb47c92",
   "metadata": {},
   "outputs": [
    {
     "name": "stdout",
     "output_type": "stream",
     "text": [
      "Optimization terminated successfully.\n",
      "         Current function value: 3.141408\n",
      "         Iterations 5\n"
     ]
    },
    {
     "data": {
      "text/html": [
       "<table class=\"simpletable\">\n",
       "<caption>Poisson Regression Results</caption>\n",
       "<tr>\n",
       "  <th>Dep. Variable:</th>         <td>mdvis</td>      <th>  No. Observations:  </th>  <td> 20190</td> \n",
       "</tr>\n",
       "<tr>\n",
       "  <th>Model:</th>                <td>Poisson</td>     <th>  Df Residuals:      </th>  <td> 20187</td> \n",
       "</tr>\n",
       "<tr>\n",
       "  <th>Method:</th>                 <td>MLE</td>       <th>  Df Model:          </th>  <td>     2</td> \n",
       "</tr>\n",
       "<tr>\n",
       "  <th>Date:</th>            <td>Thu, 23 Jun 2022</td> <th>  Pseudo R-squ.:     </th>  <td>0.04835</td>\n",
       "</tr>\n",
       "<tr>\n",
       "  <th>Time:</th>                <td>09:14:49</td>     <th>  Log-Likelihood:    </th> <td> -63425.</td>\n",
       "</tr>\n",
       "<tr>\n",
       "  <th>converged:</th>             <td>True</td>       <th>  LL-Null:           </th> <td> -66647.</td>\n",
       "</tr>\n",
       "<tr>\n",
       "  <th>Covariance Type:</th>     <td>nonrobust</td>    <th>  LLR p-value:       </th>  <td> 0.000</td> \n",
       "</tr>\n",
       "</table>\n",
       "<table class=\"simpletable\">\n",
       "<tr>\n",
       "      <td></td>         <th>coef</th>     <th>std err</th>      <th>z</th>      <th>P>|z|</th>  <th>[0.025</th>    <th>0.975]</th>  \n",
       "</tr>\n",
       "<tr>\n",
       "  <th>Intercept</th> <td>    0.6474</td> <td>    0.009</td> <td>   75.120</td> <td> 0.000</td> <td>    0.630</td> <td>    0.664</td>\n",
       "</tr>\n",
       "<tr>\n",
       "  <th>lncoins</th>   <td>   -0.0597</td> <td>    0.002</td> <td>  -27.788</td> <td> 0.000</td> <td>   -0.064</td> <td>   -0.055</td>\n",
       "</tr>\n",
       "<tr>\n",
       "  <th>disea</th>     <td>    0.0409</td> <td>    0.001</td> <td>   81.383</td> <td> 0.000</td> <td>    0.040</td> <td>    0.042</td>\n",
       "</tr>\n",
       "</table>"
      ],
      "text/plain": [
       "<class 'statsmodels.iolib.summary.Summary'>\n",
       "\"\"\"\n",
       "                          Poisson Regression Results                          \n",
       "==============================================================================\n",
       "Dep. Variable:                  mdvis   No. Observations:                20190\n",
       "Model:                        Poisson   Df Residuals:                    20187\n",
       "Method:                           MLE   Df Model:                            2\n",
       "Date:                Thu, 23 Jun 2022   Pseudo R-squ.:                 0.04835\n",
       "Time:                        09:14:49   Log-Likelihood:                -63425.\n",
       "converged:                       True   LL-Null:                       -66647.\n",
       "Covariance Type:            nonrobust   LLR p-value:                     0.000\n",
       "==============================================================================\n",
       "                 coef    std err          z      P>|z|      [0.025      0.975]\n",
       "------------------------------------------------------------------------------\n",
       "Intercept      0.6474      0.009     75.120      0.000       0.630       0.664\n",
       "lncoins       -0.0597      0.002    -27.788      0.000      -0.064      -0.055\n",
       "disea          0.0409      0.001     81.383      0.000       0.040       0.042\n",
       "==============================================================================\n",
       "\"\"\""
      ]
     },
     "execution_count": 9,
     "metadata": {},
     "output_type": "execute_result"
    }
   ],
   "source": [
    "# Fit a Poisson regression\n",
    "poisson_results = smf.poisson('mdvis ~ lncoins + disea', data=rand).fit()\n",
    "\n",
    "# Summarise\n",
    "poisson_results.summary()"
   ]
  },
  {
   "cell_type": "markdown",
   "id": "264683c0-e8f0-435a-9254-6117d827895c",
   "metadata": {},
   "source": [
    "Great, some results! What do these mean again? \n",
    "\n",
    "Like logistic regression, Poisson regression uses a special kind of function to transform the outcome variable in order to model it. It uses a log-transform, which means the coefficients are on the log-scale. That is, as the predictor increases, the log-count of the variable increases by one. As before we can exponentiate these:"
   ]
  },
  {
   "cell_type": "code",
   "execution_count": 10,
   "id": "2af147c0-b397-4084-821b-1f9c2d405974",
   "metadata": {},
   "outputs": [
    {
     "data": {
      "text/plain": [
       "Intercept    1.910517\n",
       "lncoins      0.942055\n",
       "disea        1.041777\n",
       "dtype: float64"
      ]
     },
     "metadata": {},
     "output_type": "display_data"
    }
   ],
   "source": [
    "# Exponentiate\n",
    "display(np.exp(poisson_results.params))"
   ]
  },
  {
   "cell_type": "markdown",
   "id": "ee97af27-a1eb-4df0-9be9-e4b570d163be",
   "metadata": {},
   "source": [
    "That is somewhat clearer - as the number of diseases increases, so does the count of doctors visits. And, as the premium goes up, the number of visits go down. This makes sense, the pricier it is to get healthcare, the less likely you are to go. \n",
    "\n",
    "As with other kinds of generalized linear models, its often easier to work with the predictions directly to draw some conclusions. If we call the `.predict` method on fitted Poisson regression model, we will get the predictions back with no transformations needed. If you want to verify its correct you can exponentiate the `.fittedvalues` attribute and you will get the same results!"
   ]
  },
  {
   "cell_type": "code",
   "execution_count": 11,
   "id": "e4f8b174-0d5e-494d-a980-01e9b3e1a956",
   "metadata": {},
   "outputs": [
    {
     "data": {
      "text/html": [
       "<div>\n",
       "<style scoped>\n",
       "    .dataframe tbody tr th:only-of-type {\n",
       "        vertical-align: middle;\n",
       "    }\n",
       "\n",
       "    .dataframe tbody tr th {\n",
       "        vertical-align: top;\n",
       "    }\n",
       "\n",
       "    .dataframe thead th {\n",
       "        text-align: right;\n",
       "    }\n",
       "</style>\n",
       "<table border=\"1\" class=\"dataframe\">\n",
       "  <thead>\n",
       "    <tr style=\"text-align: right;\">\n",
       "      <th></th>\n",
       "      <th>mdvis</th>\n",
       "      <th>lncoins</th>\n",
       "      <th>idp</th>\n",
       "      <th>lpi</th>\n",
       "      <th>fmde</th>\n",
       "      <th>physlm</th>\n",
       "      <th>disea</th>\n",
       "      <th>hlthg</th>\n",
       "      <th>hlthf</th>\n",
       "      <th>hlthp</th>\n",
       "      <th>predictions</th>\n",
       "      <th>predicted_idp</th>\n",
       "      <th>predicted_mdvis</th>\n",
       "    </tr>\n",
       "  </thead>\n",
       "  <tbody>\n",
       "    <tr>\n",
       "      <th>0</th>\n",
       "      <td>0</td>\n",
       "      <td>4.61512</td>\n",
       "      <td>1</td>\n",
       "      <td>6.907755</td>\n",
       "      <td>0.0</td>\n",
       "      <td>0.0</td>\n",
       "      <td>13.73189</td>\n",
       "      <td>1</td>\n",
       "      <td>0</td>\n",
       "      <td>0</td>\n",
       "      <td>0.129403</td>\n",
       "      <td>0</td>\n",
       "      <td>2.544425</td>\n",
       "    </tr>\n",
       "    <tr>\n",
       "      <th>1</th>\n",
       "      <td>2</td>\n",
       "      <td>4.61512</td>\n",
       "      <td>1</td>\n",
       "      <td>6.907755</td>\n",
       "      <td>0.0</td>\n",
       "      <td>0.0</td>\n",
       "      <td>13.73189</td>\n",
       "      <td>1</td>\n",
       "      <td>0</td>\n",
       "      <td>0</td>\n",
       "      <td>0.118646</td>\n",
       "      <td>0</td>\n",
       "      <td>2.544425</td>\n",
       "    </tr>\n",
       "    <tr>\n",
       "      <th>2</th>\n",
       "      <td>0</td>\n",
       "      <td>4.61512</td>\n",
       "      <td>1</td>\n",
       "      <td>6.907755</td>\n",
       "      <td>0.0</td>\n",
       "      <td>0.0</td>\n",
       "      <td>13.73189</td>\n",
       "      <td>1</td>\n",
       "      <td>0</td>\n",
       "      <td>0</td>\n",
       "      <td>0.129403</td>\n",
       "      <td>0</td>\n",
       "      <td>2.544425</td>\n",
       "    </tr>\n",
       "    <tr>\n",
       "      <th>3</th>\n",
       "      <td>0</td>\n",
       "      <td>4.61512</td>\n",
       "      <td>1</td>\n",
       "      <td>6.907755</td>\n",
       "      <td>0.0</td>\n",
       "      <td>0.0</td>\n",
       "      <td>13.73189</td>\n",
       "      <td>1</td>\n",
       "      <td>0</td>\n",
       "      <td>0</td>\n",
       "      <td>0.129403</td>\n",
       "      <td>0</td>\n",
       "      <td>2.544425</td>\n",
       "    </tr>\n",
       "    <tr>\n",
       "      <th>4</th>\n",
       "      <td>0</td>\n",
       "      <td>4.61512</td>\n",
       "      <td>1</td>\n",
       "      <td>6.907755</td>\n",
       "      <td>0.0</td>\n",
       "      <td>0.0</td>\n",
       "      <td>13.73189</td>\n",
       "      <td>1</td>\n",
       "      <td>0</td>\n",
       "      <td>0</td>\n",
       "      <td>0.129403</td>\n",
       "      <td>0</td>\n",
       "      <td>2.544425</td>\n",
       "    </tr>\n",
       "  </tbody>\n",
       "</table>\n",
       "</div>"
      ],
      "text/plain": [
       "   mdvis  lncoins  idp       lpi  fmde  physlm     disea  hlthg  hlthf  hlthp  \\\n",
       "0      0  4.61512    1  6.907755   0.0     0.0  13.73189      1      0      0   \n",
       "1      2  4.61512    1  6.907755   0.0     0.0  13.73189      1      0      0   \n",
       "2      0  4.61512    1  6.907755   0.0     0.0  13.73189      1      0      0   \n",
       "3      0  4.61512    1  6.907755   0.0     0.0  13.73189      1      0      0   \n",
       "4      0  4.61512    1  6.907755   0.0     0.0  13.73189      1      0      0   \n",
       "\n",
       "   predictions  predicted_idp  predicted_mdvis  \n",
       "0     0.129403              0         2.544425  \n",
       "1     0.118646              0         2.544425  \n",
       "2     0.129403              0         2.544425  \n",
       "3     0.129403              0         2.544425  \n",
       "4     0.129403              0         2.544425  "
      ]
     },
     "metadata": {},
     "output_type": "display_data"
    }
   ],
   "source": [
    "# Call predict and store the predictions in the rand dataframe\n",
    "rand['predicted_mdvis'] = poisson_results.predict()\n",
    "\n",
    "display(rand.head())"
   ]
  },
  {
   "cell_type": "markdown",
   "id": "4f303d29-69ef-4538-95e9-179b4358d4ec",
   "metadata": {},
   "source": [
    "Something unusual is going on. The predicted values are floating numbers, *not* count data. Whats happening here? Much like with ordinary least squares and logistic regression, Poisson regression is predicting the *expected* value of the observed data point - essentially, what the average value of that data point would be, given its values on the predictors. So what we are really looking at here is the parameter or 'rate' of the distribution that the data point came from!\n",
    "\n",
    "We can expand our fishing adventures by using an alternative function in the results object of a Poisson regression, `.predict_prob`. This function takes the predicted rate (our `predicted_mdvis` variable above, and it does something quite clever:\n",
    "\n",
    "- It takes all the whole numbers from zero the maximum count value observed in the data.\n",
    "- For each datapoint, it takes the predicted rate, and builds a *probability mass function* from a Poisson distribution with *that* rate. What's a probability mass function?! Its just the probability of seeing a specific count value, given a particular Poisson 'rate'. \n",
    "- It returns all of those probabilities to us, and we can see what has the highest value - the most probable count value of our data.\n",
    "\n",
    "This is going to be a little tricky to unpack, so lets do this step by step in the order above."
   ]
  },
  {
   "cell_type": "code",
   "execution_count": 12,
   "id": "55589953-9fea-4118-8908-71f38aa531b8",
   "metadata": {},
   "outputs": [
    {
     "data": {
      "text/html": [
       "<div>\n",
       "<style scoped>\n",
       "    .dataframe tbody tr th:only-of-type {\n",
       "        vertical-align: middle;\n",
       "    }\n",
       "\n",
       "    .dataframe tbody tr th {\n",
       "        vertical-align: top;\n",
       "    }\n",
       "\n",
       "    .dataframe thead th {\n",
       "        text-align: right;\n",
       "    }\n",
       "</style>\n",
       "<table border=\"1\" class=\"dataframe\">\n",
       "  <thead>\n",
       "    <tr style=\"text-align: right;\">\n",
       "      <th></th>\n",
       "      <th>0</th>\n",
       "      <th>1</th>\n",
       "      <th>2</th>\n",
       "      <th>3</th>\n",
       "      <th>4</th>\n",
       "      <th>5</th>\n",
       "      <th>6</th>\n",
       "      <th>7</th>\n",
       "      <th>8</th>\n",
       "      <th>9</th>\n",
       "      <th>...</th>\n",
       "      <th>68</th>\n",
       "      <th>69</th>\n",
       "      <th>70</th>\n",
       "      <th>71</th>\n",
       "      <th>72</th>\n",
       "      <th>73</th>\n",
       "      <th>74</th>\n",
       "      <th>75</th>\n",
       "      <th>76</th>\n",
       "      <th>77</th>\n",
       "    </tr>\n",
       "  </thead>\n",
       "  <tbody>\n",
       "    <tr>\n",
       "      <th>0</th>\n",
       "      <td>0.078518</td>\n",
       "      <td>0.199784</td>\n",
       "      <td>0.254167</td>\n",
       "      <td>0.21557</td>\n",
       "      <td>0.137125</td>\n",
       "      <td>0.069781</td>\n",
       "      <td>0.029592</td>\n",
       "      <td>0.010756</td>\n",
       "      <td>0.003421</td>\n",
       "      <td>0.000967</td>\n",
       "      <td>...</td>\n",
       "      <td>1.203950e-70</td>\n",
       "      <td>4.439651e-72</td>\n",
       "      <td>1.613766e-73</td>\n",
       "      <td>5.783247e-75</td>\n",
       "      <td>2.043755e-76</td>\n",
       "      <td>7.123537e-78</td>\n",
       "      <td>2.449365e-79</td>\n",
       "      <td>8.309635e-81</td>\n",
       "      <td>2.782006e-82</td>\n",
       "      <td>9.192993e-84</td>\n",
       "    </tr>\n",
       "    <tr>\n",
       "      <th>1</th>\n",
       "      <td>0.078518</td>\n",
       "      <td>0.199784</td>\n",
       "      <td>0.254167</td>\n",
       "      <td>0.21557</td>\n",
       "      <td>0.137125</td>\n",
       "      <td>0.069781</td>\n",
       "      <td>0.029592</td>\n",
       "      <td>0.010756</td>\n",
       "      <td>0.003421</td>\n",
       "      <td>0.000967</td>\n",
       "      <td>...</td>\n",
       "      <td>1.203950e-70</td>\n",
       "      <td>4.439651e-72</td>\n",
       "      <td>1.613766e-73</td>\n",
       "      <td>5.783247e-75</td>\n",
       "      <td>2.043755e-76</td>\n",
       "      <td>7.123537e-78</td>\n",
       "      <td>2.449365e-79</td>\n",
       "      <td>8.309635e-81</td>\n",
       "      <td>2.782006e-82</td>\n",
       "      <td>9.192993e-84</td>\n",
       "    </tr>\n",
       "  </tbody>\n",
       "</table>\n",
       "<p>2 rows × 78 columns</p>\n",
       "</div>"
      ],
      "text/plain": [
       "         0         1         2        3         4         5         6   \\\n",
       "0  0.078518  0.199784  0.254167  0.21557  0.137125  0.069781  0.029592   \n",
       "1  0.078518  0.199784  0.254167  0.21557  0.137125  0.069781  0.029592   \n",
       "\n",
       "         7         8         9   ...            68            69  \\\n",
       "0  0.010756  0.003421  0.000967  ...  1.203950e-70  4.439651e-72   \n",
       "1  0.010756  0.003421  0.000967  ...  1.203950e-70  4.439651e-72   \n",
       "\n",
       "             70            71            72            73            74  \\\n",
       "0  1.613766e-73  5.783247e-75  2.043755e-76  7.123537e-78  2.449365e-79   \n",
       "1  1.613766e-73  5.783247e-75  2.043755e-76  7.123537e-78  2.449365e-79   \n",
       "\n",
       "             75            76            77  \n",
       "0  8.309635e-81  2.782006e-82  9.192993e-84  \n",
       "1  8.309635e-81  2.782006e-82  9.192993e-84  \n",
       "\n",
       "[2 rows x 78 columns]"
      ]
     },
     "metadata": {},
     "output_type": "display_data"
    }
   ],
   "source": [
    "# Build a set of values from zero to the maximum observed in our data\n",
    "# We add one because of Pythons 'up to but don't include' rule - see chapter 1!\n",
    "counts = np.arange(0, max(rand['mdvis'] + 1))\n",
    "\n",
    "# Get the probability mass of each datapoint, given the predicted rate!\n",
    "probability_mass = poisson_results.predict_prob()\n",
    "\n",
    "# Put these in a dataframe\n",
    "prob_mass_df = pd.DataFrame(probability_mass, columns=counts)\n",
    "display(prob_mass_df.head(2))"
   ]
  },
  {
   "cell_type": "markdown",
   "id": "1a8c1c2d-94b6-489c-a9cb-9044d961984b",
   "metadata": {},
   "source": [
    "OK! Only two datapoints are shown but we have the probability that the datapoint is the count shown in the DataFrame header, given the predicted rate. If we want to collapse this into a single number, all we need to is take index with the maximum value (i.e. , for row one, what is the column with the highest probability?)\n",
    "\n",
    "`pandas` can help here, with the `.idxmax` method."
   ]
  },
  {
   "cell_type": "code",
   "execution_count": 13,
   "id": "088b458c-0689-4f65-93cd-a96bad864547",
   "metadata": {},
   "outputs": [
    {
     "data": {
      "text/html": [
       "<div>\n",
       "<style scoped>\n",
       "    .dataframe tbody tr th:only-of-type {\n",
       "        vertical-align: middle;\n",
       "    }\n",
       "\n",
       "    .dataframe tbody tr th {\n",
       "        vertical-align: top;\n",
       "    }\n",
       "\n",
       "    .dataframe thead th {\n",
       "        text-align: right;\n",
       "    }\n",
       "</style>\n",
       "<table border=\"1\" class=\"dataframe\">\n",
       "  <thead>\n",
       "    <tr style=\"text-align: right;\">\n",
       "      <th></th>\n",
       "      <th>mdvis</th>\n",
       "      <th>lncoins</th>\n",
       "      <th>idp</th>\n",
       "      <th>lpi</th>\n",
       "      <th>fmde</th>\n",
       "      <th>physlm</th>\n",
       "      <th>disea</th>\n",
       "      <th>hlthg</th>\n",
       "      <th>hlthf</th>\n",
       "      <th>hlthp</th>\n",
       "      <th>predictions</th>\n",
       "      <th>predicted_idp</th>\n",
       "      <th>predicted_mdvis</th>\n",
       "      <th>predicted_count_mdvis</th>\n",
       "    </tr>\n",
       "  </thead>\n",
       "  <tbody>\n",
       "    <tr>\n",
       "      <th>0</th>\n",
       "      <td>0</td>\n",
       "      <td>4.61512</td>\n",
       "      <td>1</td>\n",
       "      <td>6.907755</td>\n",
       "      <td>0.0</td>\n",
       "      <td>0.0</td>\n",
       "      <td>13.73189</td>\n",
       "      <td>1</td>\n",
       "      <td>0</td>\n",
       "      <td>0</td>\n",
       "      <td>0.129403</td>\n",
       "      <td>0</td>\n",
       "      <td>2.544425</td>\n",
       "      <td>2</td>\n",
       "    </tr>\n",
       "    <tr>\n",
       "      <th>1</th>\n",
       "      <td>2</td>\n",
       "      <td>4.61512</td>\n",
       "      <td>1</td>\n",
       "      <td>6.907755</td>\n",
       "      <td>0.0</td>\n",
       "      <td>0.0</td>\n",
       "      <td>13.73189</td>\n",
       "      <td>1</td>\n",
       "      <td>0</td>\n",
       "      <td>0</td>\n",
       "      <td>0.118646</td>\n",
       "      <td>0</td>\n",
       "      <td>2.544425</td>\n",
       "      <td>2</td>\n",
       "    </tr>\n",
       "    <tr>\n",
       "      <th>2</th>\n",
       "      <td>0</td>\n",
       "      <td>4.61512</td>\n",
       "      <td>1</td>\n",
       "      <td>6.907755</td>\n",
       "      <td>0.0</td>\n",
       "      <td>0.0</td>\n",
       "      <td>13.73189</td>\n",
       "      <td>1</td>\n",
       "      <td>0</td>\n",
       "      <td>0</td>\n",
       "      <td>0.129403</td>\n",
       "      <td>0</td>\n",
       "      <td>2.544425</td>\n",
       "      <td>2</td>\n",
       "    </tr>\n",
       "    <tr>\n",
       "      <th>3</th>\n",
       "      <td>0</td>\n",
       "      <td>4.61512</td>\n",
       "      <td>1</td>\n",
       "      <td>6.907755</td>\n",
       "      <td>0.0</td>\n",
       "      <td>0.0</td>\n",
       "      <td>13.73189</td>\n",
       "      <td>1</td>\n",
       "      <td>0</td>\n",
       "      <td>0</td>\n",
       "      <td>0.129403</td>\n",
       "      <td>0</td>\n",
       "      <td>2.544425</td>\n",
       "      <td>2</td>\n",
       "    </tr>\n",
       "    <tr>\n",
       "      <th>4</th>\n",
       "      <td>0</td>\n",
       "      <td>4.61512</td>\n",
       "      <td>1</td>\n",
       "      <td>6.907755</td>\n",
       "      <td>0.0</td>\n",
       "      <td>0.0</td>\n",
       "      <td>13.73189</td>\n",
       "      <td>1</td>\n",
       "      <td>0</td>\n",
       "      <td>0</td>\n",
       "      <td>0.129403</td>\n",
       "      <td>0</td>\n",
       "      <td>2.544425</td>\n",
       "      <td>2</td>\n",
       "    </tr>\n",
       "  </tbody>\n",
       "</table>\n",
       "</div>"
      ],
      "text/plain": [
       "   mdvis  lncoins  idp       lpi  fmde  physlm     disea  hlthg  hlthf  hlthp  \\\n",
       "0      0  4.61512    1  6.907755   0.0     0.0  13.73189      1      0      0   \n",
       "1      2  4.61512    1  6.907755   0.0     0.0  13.73189      1      0      0   \n",
       "2      0  4.61512    1  6.907755   0.0     0.0  13.73189      1      0      0   \n",
       "3      0  4.61512    1  6.907755   0.0     0.0  13.73189      1      0      0   \n",
       "4      0  4.61512    1  6.907755   0.0     0.0  13.73189      1      0      0   \n",
       "\n",
       "   predictions  predicted_idp  predicted_mdvis  predicted_count_mdvis  \n",
       "0     0.129403              0         2.544425                      2  \n",
       "1     0.118646              0         2.544425                      2  \n",
       "2     0.129403              0         2.544425                      2  \n",
       "3     0.129403              0         2.544425                      2  \n",
       "4     0.129403              0         2.544425                      2  "
      ]
     },
     "metadata": {},
     "output_type": "display_data"
    }
   ],
   "source": [
    "# Assign this back to the rand data\n",
    "rand['predicted_count_mdvis'] = prob_mass_df.idxmax(axis='columns')\n",
    "\n",
    "display(rand.head())"
   ]
  },
  {
   "cell_type": "markdown",
   "id": "ac0f12c5-8d9b-4689-a5cc-93ece3ec6770",
   "metadata": {},
   "source": [
    "OK, now we have predicted counts! What does that look like?"
   ]
  },
  {
   "cell_type": "code",
   "execution_count": 14,
   "id": "86221ec8-3ad9-45e5-940b-03b528b8444a",
   "metadata": {},
   "outputs": [
    {
     "data": {
      "text/plain": [
       "<AxesSubplot:xlabel='predicted_count_mdvis', ylabel='mdvis'>"
      ]
     },
     "execution_count": 14,
     "metadata": {},
     "output_type": "execute_result"
    },
    {
     "data": {
      "image/png": "[encoded data removed]",
      "text/plain": [
       "<Figure size 432x288 with 1 Axes>"
      ]
     },
     "metadata": {
      "needs_background": "light"
     },
     "output_type": "display_data"
    }
   ],
   "source": [
    "sns.scatterplot(y=rand['mdvis'], x=rand['predicted_count_mdvis'])"
   ]
  },
  {
   "cell_type": "markdown",
   "id": "1fb93b98-519b-4df7-b5c1-4323e0c8d3f0",
   "metadata": {},
   "source": [
    "Not great, sadly. The model is really under-predicting - the observed data goes from 0 to 77, but the predictions only top 20. Is our data over-dispersed? We can check this, but it involves a little manual calculation - nothing too bad, though. First we take the models *Pearson residuals*, square them, and sum them. Then we divide this by the residual degrees of freedom of the model. If the result is greater than 1, we have evidence of overdispersion and should switch our modelling strategy.\n"
   ]
  },
  {
   "cell_type": "code",
   "execution_count": 15,
   "id": "c8a3e336-dee2-42a0-af84-56531f24f961",
   "metadata": {},
   "outputs": [
    {
     "name": "stdout",
     "output_type": "stream",
     "text": [
      "6.437470502281646 True\n"
     ]
    }
   ],
   "source": [
    "# Compute overdispersion\n",
    "od = (poisson_results.resid_pearson ** 2 ).sum() / poisson_results.df_resid\n",
    "\n",
    "print(od, od > 1)"
   ]
  },
  {
   "cell_type": "markdown",
   "id": "e265bb6d-27a9-4b44-87c3-78a2fe273e82",
   "metadata": {},
   "source": [
    "That might explain our not-so-good predictions."
   ]
  },
  {
   "cell_type": "markdown",
   "id": "dac2a4f9-401a-4354-b70a-d1ab3ec20a8a",
   "metadata": {},
   "source": [
    "#### Negative Binomial Regression\n",
    "Fitting a negative binomial regression at this point should be intuitive - we simply set up the formula, and pass it directly to the `negativebinomial` function:"
   ]
  },
  {
   "cell_type": "code",
   "execution_count": 16,
   "id": "f884c502-99a0-4627-9240-2a5659f9dda2",
   "metadata": {},
   "outputs": [
    {
     "name": "stdout",
     "output_type": "stream",
     "text": [
      "Optimization terminated successfully.\n",
      "         Current function value: 2.159078\n",
      "         Iterations: 13\n",
      "         Function evaluations: 16\n",
      "         Gradient evaluations: 16\n"
     ]
    },
    {
     "data": {
      "text/html": [
       "<table class=\"simpletable\">\n",
       "<caption>NegativeBinomial Regression Results</caption>\n",
       "<tr>\n",
       "  <th>Dep. Variable:</th>         <td>mdvis</td>      <th>  No. Observations:  </th>   <td> 20190</td>  \n",
       "</tr>\n",
       "<tr>\n",
       "  <th>Model:</th>           <td>NegativeBinomial</td> <th>  Df Residuals:      </th>   <td> 20187</td>  \n",
       "</tr>\n",
       "<tr>\n",
       "  <th>Method:</th>                 <td>MLE</td>       <th>  Df Model:          </th>   <td>     2</td>  \n",
       "</tr>\n",
       "<tr>\n",
       "  <th>Date:</th>            <td>Thu, 23 Jun 2022</td> <th>  Pseudo R-squ.:     </th>   <td>0.01374</td> \n",
       "</tr>\n",
       "<tr>\n",
       "  <th>Time:</th>                <td>09:14:50</td>     <th>  Log-Likelihood:    </th>  <td> -43592.</td> \n",
       "</tr>\n",
       "<tr>\n",
       "  <th>converged:</th>             <td>True</td>       <th>  LL-Null:           </th>  <td> -44199.</td> \n",
       "</tr>\n",
       "<tr>\n",
       "  <th>Covariance Type:</th>     <td>nonrobust</td>    <th>  LLR p-value:       </th> <td>1.480e-264</td>\n",
       "</tr>\n",
       "</table>\n",
       "<table class=\"simpletable\">\n",
       "<tr>\n",
       "      <td></td>         <th>coef</th>     <th>std err</th>      <th>z</th>      <th>P>|z|</th>  <th>[0.025</th>    <th>0.975]</th>  \n",
       "</tr>\n",
       "<tr>\n",
       "  <th>Intercept</th> <td>    0.6264</td> <td>    0.020</td> <td>   31.766</td> <td> 0.000</td> <td>    0.588</td> <td>    0.665</td>\n",
       "</tr>\n",
       "<tr>\n",
       "  <th>lncoins</th>   <td>   -0.0633</td> <td>    0.005</td> <td>  -13.482</td> <td> 0.000</td> <td>   -0.072</td> <td>   -0.054</td>\n",
       "</tr>\n",
       "<tr>\n",
       "  <th>disea</th>     <td>    0.0431</td> <td>    0.001</td> <td>   31.612</td> <td> 0.000</td> <td>    0.040</td> <td>    0.046</td>\n",
       "</tr>\n",
       "<tr>\n",
       "  <th>alpha</th>     <td>    1.3365</td> <td>    0.019</td> <td>   70.288</td> <td> 0.000</td> <td>    1.299</td> <td>    1.374</td>\n",
       "</tr>\n",
       "</table>"
      ],
      "text/plain": [
       "<class 'statsmodels.iolib.summary.Summary'>\n",
       "\"\"\"\n",
       "                     NegativeBinomial Regression Results                      \n",
       "==============================================================================\n",
       "Dep. Variable:                  mdvis   No. Observations:                20190\n",
       "Model:               NegativeBinomial   Df Residuals:                    20187\n",
       "Method:                           MLE   Df Model:                            2\n",
       "Date:                Thu, 23 Jun 2022   Pseudo R-squ.:                 0.01374\n",
       "Time:                        09:14:50   Log-Likelihood:                -43592.\n",
       "converged:                       True   LL-Null:                       -44199.\n",
       "Covariance Type:            nonrobust   LLR p-value:                1.480e-264\n",
       "==============================================================================\n",
       "                 coef    std err          z      P>|z|      [0.025      0.975]\n",
       "------------------------------------------------------------------------------\n",
       "Intercept      0.6264      0.020     31.766      0.000       0.588       0.665\n",
       "lncoins       -0.0633      0.005    -13.482      0.000      -0.072      -0.054\n",
       "disea          0.0431      0.001     31.612      0.000       0.040       0.046\n",
       "alpha          1.3365      0.019     70.288      0.000       1.299       1.374\n",
       "==============================================================================\n",
       "\"\"\""
      ]
     },
     "execution_count": 16,
     "metadata": {},
     "output_type": "execute_result"
    }
   ],
   "source": [
    "# Fit the model \n",
    "negbinom_results = smf.negativebinomial('mdvis ~ lncoins + disea', data=rand).fit()\n",
    "\n",
    "# Get summary\n",
    "negbinom_results.summary()"
   ]
  },
  {
   "cell_type": "markdown",
   "id": "616ebb45-151f-4ed2-87bf-9e5f8eafa3df",
   "metadata": {},
   "source": [
    "The interpretation of the coefficients is much the same as the Poisson regression case, with the estimates representing the change in the log-counts of the outcome variable with a one-unit change in the predictor variable. Exponentiating them casts them on an odds scale. \n",
    "\n",
    "You may notice the model seems to have an extra estimate - `alpha` - that also has a significance test associated with it. This is the **overdispersion parameter**. Recall that the Poisson distribution has a single parameter, the 'rate', or average. If the counts vary a lot, the Poisson will find it difficult to model the variability with a single parameter. The negative binomial distribution has a similar rate or average, but also has an additional parameter, alpha, which controls the variability of the counts. The model tests whether this value is significantly different from zero, which seems to be the case here. It's another way of examining over-dispersion! Interestingly, if this parameter equals zero, the model is mathematically equivalent to a Poisson regression."
   ]
  }
 ],
 "metadata": {
  "kernelspec": {
   "display_name": "Python 3 (ipykernel)",
   "language": "python",
   "name": "python3"
  },
  "language_info": {
   "codemirror_mode": {
    "name": "ipython",
    "version": 3
   },
   "file_extension": ".py",
   "mimetype": "text/x-python",
   "name": "python",
   "nbconvert_exporter": "python",
   "pygments_lexer": "ipython3",
   "version": "3.10.4"
  }
 },
 "nbformat": 4,
 "nbformat_minor": 5
}
